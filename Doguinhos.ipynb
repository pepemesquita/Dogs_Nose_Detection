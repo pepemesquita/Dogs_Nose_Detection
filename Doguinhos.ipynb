{
  "nbformat": 4,
  "nbformat_minor": 0,
  "metadata": {
    "colab": {
      "provenance": [],
      "gpuType": "T4",
      "mount_file_id": "1op1RYuoSNKyFaY8NDPpVx2KkuJIx99hP",
      "authorship_tag": "ABX9TyO7mzWho4ujQ3IuZxxjEzE+"
    },
    "kernelspec": {
      "name": "python3",
      "display_name": "Python 3"
    },
    "language_info": {
      "name": "python"
    },
    "accelerator": "GPU"
  },
  "cells": [
    {
      "cell_type": "markdown",
      "source": [
        "#Presets"
      ],
      "metadata": {
        "id": "MK4PMQ47U-3X"
      }
    },
    {
      "cell_type": "code",
      "source": [
        "from google.colab import drive\n",
        "drive.mount('/content/drive')"
      ],
      "metadata": {
        "colab": {
          "base_uri": "https://localhost:8080/"
        },
        "id": "SjmZnHOvg36A",
        "outputId": "6dd1ce6c-5495-4ddb-f0c5-c77b812c7cab"
      },
      "execution_count": null,
      "outputs": [
        {
          "output_type": "stream",
          "name": "stdout",
          "text": [
            "Drive already mounted at /content/drive; to attempt to forcibly remount, call drive.mount(\"/content/drive\", force_remount=True).\n"
          ]
        }
      ]
    },
    {
      "cell_type": "code",
      "source": [
        "import os\n",
        "HOME = os.getcwd()\n",
        "print(HOME)"
      ],
      "metadata": {
        "colab": {
          "base_uri": "https://localhost:8080/"
        },
        "id": "99MZE_YcUsxQ",
        "outputId": "1cc0f9bd-67aa-47bc-8bca-7d52a66dd549"
      },
      "execution_count": null,
      "outputs": [
        {
          "output_type": "stream",
          "name": "stdout",
          "text": [
            "/content\n"
          ]
        }
      ]
    },
    {
      "cell_type": "markdown",
      "source": [
        "#Installing YOLO"
      ],
      "metadata": {
        "id": "_ztG47tcU8KM"
      }
    },
    {
      "cell_type": "code",
      "execution_count": null,
      "metadata": {
        "id": "Z69uFsV9Rwgg",
        "colab": {
          "base_uri": "https://localhost:8080/"
        },
        "outputId": "671c97d1-f734-4a59-8c9f-64bb320b7cfe"
      },
      "outputs": [
        {
          "output_type": "stream",
          "name": "stdout",
          "text": [
            "Traceback (most recent call last):\n",
            "  File \"/usr/local/bin/yolo\", line 8, in <module>\n",
            "    sys.exit(entrypoint())\n",
            "  File \"/usr/local/lib/python3.10/dist-packages/ultralytics/cfg/__init__.py\", line 772, in entrypoint\n",
            "    raise ValueError(f\"Invalid 'mode={mode}'. Valid modes are {MODES}.\\n{CLI_HELP_MSG}\")\n",
            "ValueError: Invalid 'mode=<module 'ultralytics.utils.checks' from '/usr/local/lib/python3.10/dist-packages/ultralytics/utils/checks.py'>'. Valid modes are {'val', 'export', 'train', 'benchmark', 'track', 'predict'}.\n",
            "\n",
            "    Arguments received: ['yolo', 'mode=checks']. Ultralytics 'yolo' commands use the following syntax:\n",
            "\n",
            "        yolo TASK MODE ARGS\n",
            "\n",
            "        Where   TASK (optional) is one of {'classify', 'segment', 'obb', 'detect', 'pose'}\n",
            "                MODE (required) is one of {'val', 'export', 'train', 'benchmark', 'track', 'predict'}\n",
            "                ARGS (optional) are any number of custom 'arg=value' pairs like 'imgsz=320' that override defaults.\n",
            "                    See all ARGS at https://docs.ultralytics.com/usage/cfg or with 'yolo cfg'\n",
            "\n",
            "    1. Train a detection model for 10 epochs with an initial learning_rate of 0.01\n",
            "        yolo train data=coco8.yaml model=yolo11n.pt epochs=10 lr0=0.01\n",
            "\n",
            "    2. Predict a YouTube video using a pretrained segmentation model at image size 320:\n",
            "        yolo predict model=yolo11n-seg.pt source='https://youtu.be/LNwODJXcvt4' imgsz=320\n",
            "\n",
            "    3. Val a pretrained detection model at batch-size 1 and image size 640:\n",
            "        yolo val model=yolo11n.pt data=coco8.yaml batch=1 imgsz=640\n",
            "\n",
            "    4. Export a YOLO11n classification model to ONNX format at image size 224 by 128 (no TASK required)\n",
            "        yolo export model=yolo11n-cls.pt format=onnx imgsz=224,128\n",
            "\n",
            "    5. Explore your datasets using semantic search and SQL with a simple GUI powered by Ultralytics Explorer API\n",
            "        yolo explorer data=data.yaml model=yolo11n.pt\n",
            "    \n",
            "    6. Streamlit real-time webcam inference GUI\n",
            "        yolo streamlit-predict\n",
            "        \n",
            "    7. Run special commands:\n",
            "        yolo help\n",
            "        yolo checks\n",
            "        yolo version\n",
            "        yolo settings\n",
            "        yolo copy-cfg\n",
            "        yolo cfg\n",
            "\n",
            "    Docs: https://docs.ultralytics.com\n",
            "    Community: https://community.ultralytics.com\n",
            "    GitHub: https://github.com/ultralytics/ultralytics\n",
            "    \n"
          ]
        }
      ],
      "source": [
        "!pip install ultralytics --quiet\n",
        "from ultralytics import YOLO\n",
        "from IPython import display\n",
        "display.clear_output()\n",
        "!yolo mode=checks"
      ]
    },
    {
      "cell_type": "code",
      "source": [
        "!pip install roboflow\n",
        "\n",
        "from roboflow import Roboflow\n",
        "rf = Roboflow(api_key=\"E9W74UAjkzu80gP7a8q4\")\n",
        "project = rf.workspace(\"school-2bcb4\").project(\"dog-nose-0geek\")\n",
        "version = project.version(1)\n",
        "dataset = version.download(\"yolov11\")\n"
      ],
      "metadata": {
        "colab": {
          "base_uri": "https://localhost:8080/"
        },
        "id": "ew2M3Gz1ax4E",
        "outputId": "1fcbc9a3-1598-489f-855a-d59f79b40bd8"
      },
      "execution_count": null,
      "outputs": [
        {
          "output_type": "stream",
          "name": "stdout",
          "text": [
            "Collecting roboflow\n",
            "  Using cached roboflow-1.1.47-py3-none-any.whl.metadata (9.7 kB)\n",
            "Requirement already satisfied: certifi in /usr/local/lib/python3.10/dist-packages (from roboflow) (2024.8.30)\n",
            "Collecting idna==3.7 (from roboflow)\n",
            "  Using cached idna-3.7-py3-none-any.whl.metadata (9.9 kB)\n",
            "Requirement already satisfied: cycler in /usr/local/lib/python3.10/dist-packages (from roboflow) (0.12.1)\n",
            "Requirement already satisfied: kiwisolver>=1.3.1 in /usr/local/lib/python3.10/dist-packages (from roboflow) (1.4.7)\n",
            "Requirement already satisfied: matplotlib in /usr/local/lib/python3.10/dist-packages (from roboflow) (3.7.1)\n",
            "Requirement already satisfied: numpy>=1.18.5 in /usr/local/lib/python3.10/dist-packages (from roboflow) (1.26.4)\n",
            "Requirement already satisfied: opencv-python-headless==4.10.0.84 in /usr/local/lib/python3.10/dist-packages (from roboflow) (4.10.0.84)\n",
            "Requirement already satisfied: Pillow>=7.1.2 in /usr/local/lib/python3.10/dist-packages (from roboflow) (10.4.0)\n",
            "Requirement already satisfied: python-dateutil in /usr/local/lib/python3.10/dist-packages (from roboflow) (2.8.2)\n",
            "Collecting python-dotenv (from roboflow)\n",
            "  Using cached python_dotenv-1.0.1-py3-none-any.whl.metadata (23 kB)\n",
            "Requirement already satisfied: requests in /usr/local/lib/python3.10/dist-packages (from roboflow) (2.32.3)\n",
            "Requirement already satisfied: six in /usr/local/lib/python3.10/dist-packages (from roboflow) (1.16.0)\n",
            "Requirement already satisfied: urllib3>=1.26.6 in /usr/local/lib/python3.10/dist-packages (from roboflow) (2.2.3)\n",
            "Requirement already satisfied: tqdm>=4.41.0 in /usr/local/lib/python3.10/dist-packages (from roboflow) (4.66.5)\n",
            "Requirement already satisfied: PyYAML>=5.3.1 in /usr/local/lib/python3.10/dist-packages (from roboflow) (6.0.2)\n",
            "Collecting requests-toolbelt (from roboflow)\n",
            "  Using cached requests_toolbelt-1.0.0-py2.py3-none-any.whl.metadata (14 kB)\n",
            "Collecting filetype (from roboflow)\n",
            "  Using cached filetype-1.2.0-py2.py3-none-any.whl.metadata (6.5 kB)\n",
            "Requirement already satisfied: contourpy>=1.0.1 in /usr/local/lib/python3.10/dist-packages (from matplotlib->roboflow) (1.3.0)\n",
            "Requirement already satisfied: fonttools>=4.22.0 in /usr/local/lib/python3.10/dist-packages (from matplotlib->roboflow) (4.54.1)\n",
            "Requirement already satisfied: packaging>=20.0 in /usr/local/lib/python3.10/dist-packages (from matplotlib->roboflow) (24.1)\n",
            "Requirement already satisfied: pyparsing>=2.3.1 in /usr/local/lib/python3.10/dist-packages (from matplotlib->roboflow) (3.1.4)\n",
            "Requirement already satisfied: charset-normalizer<4,>=2 in /usr/local/lib/python3.10/dist-packages (from requests->roboflow) (3.3.2)\n",
            "Using cached roboflow-1.1.47-py3-none-any.whl (80 kB)\n",
            "Using cached idna-3.7-py3-none-any.whl (66 kB)\n",
            "Using cached filetype-1.2.0-py2.py3-none-any.whl (19 kB)\n",
            "Using cached python_dotenv-1.0.1-py3-none-any.whl (19 kB)\n",
            "Using cached requests_toolbelt-1.0.0-py2.py3-none-any.whl (54 kB)\n",
            "Installing collected packages: filetype, python-dotenv, idna, requests-toolbelt, roboflow\n",
            "  Attempting uninstall: idna\n",
            "    Found existing installation: idna 3.10\n",
            "    Uninstalling idna-3.10:\n",
            "      Successfully uninstalled idna-3.10\n",
            "Successfully installed filetype-1.2.0 idna-3.7 python-dotenv-1.0.1 requests-toolbelt-1.0.0 roboflow-1.1.47\n",
            "loading Roboflow workspace...\n",
            "loading Roboflow project...\n"
          ]
        },
        {
          "output_type": "stream",
          "name": "stderr",
          "text": [
            "Downloading Dataset Version Zip in dog-nose-1 to yolov11:: 100%|██████████| 74875/74875 [00:02<00:00, 26756.59it/s]"
          ]
        },
        {
          "output_type": "stream",
          "name": "stdout",
          "text": [
            "\n"
          ]
        },
        {
          "output_type": "stream",
          "name": "stderr",
          "text": [
            "\n",
            "Extracting Dataset Version Zip to dog-nose-1 in yolov11:: 100%|██████████| 3294/3294 [00:01<00:00, 2339.10it/s]\n"
          ]
        }
      ]
    },
    {
      "cell_type": "code",
      "source": [
        "model = YOLO('yolo11n.pt')  # load a pretrained model (recommended for training)\n",
        "\n",
        "# Train the model\n",
        "results = model.train(data='/content/dog-nose-1/data.yaml', epochs=85)"
      ],
      "metadata": {
        "id": "2KMHgecdsl83",
        "colab": {
          "base_uri": "https://localhost:8080/"
        },
        "outputId": "bcdd674a-df10-407f-b7f4-48b6a0bf4868"
      },
      "execution_count": null,
      "outputs": [
        {
          "metadata": {
            "tags": null
          },
          "name": "stdout",
          "output_type": "stream",
          "text": [
            "Downloading https://github.com/ultralytics/assets/releases/download/v8.3.0/yolo11n.pt to 'yolo11n.pt'...\n"
          ]
        },
        {
          "metadata": {
            "tags": null
          },
          "name": "stderr",
          "output_type": "stream",
          "text": [
            "100%|██████████| 5.35M/5.35M [00:00<00:00, 180MB/s]\n"
          ]
        },
        {
          "metadata": {
            "tags": null
          },
          "name": "stdout",
          "output_type": "stream",
          "text": [
            "Ultralytics 8.3.5 🚀 Python-3.10.12 torch-2.4.1+cu121 CUDA:0 (Tesla T4, 15102MiB)\n",
            "\u001b[34m\u001b[1mengine/trainer: \u001b[0mtask=detect, mode=train, model=yolo11n.pt, data=/content/dog-nose-1/data.yaml, epochs=85, time=None, patience=100, batch=16, imgsz=640, save=True, save_period=-1, cache=False, device=None, workers=8, project=None, name=train, exist_ok=False, pretrained=True, optimizer=auto, verbose=True, seed=0, deterministic=True, single_cls=False, rect=False, cos_lr=False, close_mosaic=10, resume=False, amp=True, fraction=1.0, profile=False, freeze=None, multi_scale=False, overlap_mask=True, mask_ratio=4, dropout=0.0, val=True, split=val, save_json=False, save_hybrid=False, conf=None, iou=0.7, max_det=300, half=False, dnn=False, plots=True, source=None, vid_stride=1, stream_buffer=False, visualize=False, augment=False, agnostic_nms=False, classes=None, retina_masks=False, embed=None, show=False, save_frames=False, save_txt=False, save_conf=False, save_crop=False, show_labels=True, show_conf=True, show_boxes=True, line_width=None, format=torchscript, keras=False, optimize=False, int8=False, dynamic=False, simplify=True, opset=None, workspace=4, nms=False, lr0=0.01, lrf=0.01, momentum=0.937, weight_decay=0.0005, warmup_epochs=3.0, warmup_momentum=0.8, warmup_bias_lr=0.1, box=7.5, cls=0.5, dfl=1.5, pose=12.0, kobj=1.0, label_smoothing=0.0, nbs=64, hsv_h=0.015, hsv_s=0.7, hsv_v=0.4, degrees=0.0, translate=0.1, scale=0.5, shear=0.0, perspective=0.0, flipud=0.0, fliplr=0.5, bgr=0.0, mosaic=1.0, mixup=0.0, copy_paste=0.0, copy_paste_mode=flip, auto_augment=randaugment, erasing=0.4, crop_fraction=1.0, cfg=None, tracker=botsort.yaml, save_dir=runs/detect/train\n",
            "Downloading https://ultralytics.com/assets/Arial.ttf to '/root/.config/Ultralytics/Arial.ttf'...\n"
          ]
        },
        {
          "metadata": {
            "tags": null
          },
          "name": "stderr",
          "output_type": "stream",
          "text": [
            "100%|██████████| 755k/755k [00:00<00:00, 63.8MB/s]\n"
          ]
        },
        {
          "metadata": {
            "tags": null
          },
          "name": "stdout",
          "output_type": "stream",
          "text": [
            "Overriding model.yaml nc=80 with nc=1\n",
            "\n",
            "                   from  n    params  module                                       arguments                     \n",
            "  0                  -1  1       464  ultralytics.nn.modules.conv.Conv             [3, 16, 3, 2]                 \n",
            "  1                  -1  1      4672  ultralytics.nn.modules.conv.Conv             [16, 32, 3, 2]                \n",
            "  2                  -1  1      6640  ultralytics.nn.modules.block.C3k2            [32, 64, 1, False, 0.25]      \n",
            "  3                  -1  1     36992  ultralytics.nn.modules.conv.Conv             [64, 64, 3, 2]                \n",
            "  4                  -1  1     26080  ultralytics.nn.modules.block.C3k2            [64, 128, 1, False, 0.25]     \n",
            "  5                  -1  1    147712  ultralytics.nn.modules.conv.Conv             [128, 128, 3, 2]              \n",
            "  6                  -1  1     87040  ultralytics.nn.modules.block.C3k2            [128, 128, 1, True]           \n",
            "  7                  -1  1    295424  ultralytics.nn.modules.conv.Conv             [128, 256, 3, 2]              \n",
            "  8                  -1  1    346112  ultralytics.nn.modules.block.C3k2            [256, 256, 1, True]           \n",
            "  9                  -1  1    164608  ultralytics.nn.modules.block.SPPF            [256, 256, 5]                 \n",
            " 10                  -1  1    249728  ultralytics.nn.modules.block.C2PSA           [256, 256, 1]                 \n",
            " 11                  -1  1         0  torch.nn.modules.upsampling.Upsample         [None, 2, 'nearest']          \n",
            " 12             [-1, 6]  1         0  ultralytics.nn.modules.conv.Concat           [1]                           \n",
            " 13                  -1  1    111296  ultralytics.nn.modules.block.C3k2            [384, 128, 1, False]          \n",
            " 14                  -1  1         0  torch.nn.modules.upsampling.Upsample         [None, 2, 'nearest']          \n",
            " 15             [-1, 4]  1         0  ultralytics.nn.modules.conv.Concat           [1]                           \n",
            " 16                  -1  1     32096  ultralytics.nn.modules.block.C3k2            [256, 64, 1, False]           \n",
            " 17                  -1  1     36992  ultralytics.nn.modules.conv.Conv             [64, 64, 3, 2]                \n",
            " 18            [-1, 13]  1         0  ultralytics.nn.modules.conv.Concat           [1]                           \n",
            " 19                  -1  1     86720  ultralytics.nn.modules.block.C3k2            [192, 128, 1, False]          \n",
            " 20                  -1  1    147712  ultralytics.nn.modules.conv.Conv             [128, 128, 3, 2]              \n",
            " 21            [-1, 10]  1         0  ultralytics.nn.modules.conv.Concat           [1]                           \n",
            " 22                  -1  1    378880  ultralytics.nn.modules.block.C3k2            [384, 256, 1, True]           \n",
            " 23        [16, 19, 22]  1    430867  ultralytics.nn.modules.head.Detect           [1, [64, 128, 256]]           \n",
            "YOLO11n summary: 319 layers, 2,590,035 parameters, 2,590,019 gradients, 6.4 GFLOPs\n",
            "\n",
            "Transferred 448/499 items from pretrained weights\n",
            "\u001b[34m\u001b[1mTensorBoard: \u001b[0mStart with 'tensorboard --logdir runs/detect/train', view at http://localhost:6006/\n",
            "Freezing layer 'model.23.dfl.conv.weight'\n",
            "\u001b[34m\u001b[1mAMP: \u001b[0mrunning Automatic Mixed Precision (AMP) checks with YOLO11n...\n",
            "\u001b[34m\u001b[1mAMP: \u001b[0mchecks passed ✅\n"
          ]
        },
        {
          "metadata": {
            "tags": null
          },
          "name": "stderr",
          "output_type": "stream",
          "text": [
            "\u001b[34m\u001b[1mtrain: \u001b[0mScanning /content/dog-nose-1/train/labels... 1500 images, 0 backgrounds, 0 corrupt: 100%|██████████| 1500/1500 [00:00<00:00, 1562.13it/s]"
          ]
        },
        {
          "metadata": {
            "tags": null
          },
          "name": "stdout",
          "output_type": "stream",
          "text": [
            "\u001b[34m\u001b[1mtrain: \u001b[0mNew cache created: /content/dog-nose-1/train/labels.cache\n"
          ]
        },
        {
          "metadata": {
            "tags": null
          },
          "name": "stderr",
          "output_type": "stream",
          "text": [
            "\n"
          ]
        },
        {
          "metadata": {
            "tags": null
          },
          "name": "stdout",
          "output_type": "stream",
          "text": [
            "\u001b[34m\u001b[1malbumentations: \u001b[0mBlur(p=0.01, blur_limit=(3, 7)), MedianBlur(p=0.01, blur_limit=(3, 7)), ToGray(p=0.01, num_output_channels=3, method='weighted_average'), CLAHE(p=0.01, clip_limit=(1, 4.0), tile_grid_size=(8, 8))\n"
          ]
        },
        {
          "metadata": {
            "tags": null
          },
          "name": "stderr",
          "output_type": "stream",
          "text": [
            "A new version of Albumentations is available: 1.4.17 (you have 1.4.15). Upgrade using: pip install -U albumentations. To disable automatic update checks, set the environment variable NO_ALBUMENTATIONS_UPDATE to 1.\n",
            "\u001b[34m\u001b[1mval: \u001b[0mScanning /content/dog-nose-1/valid/labels... 140 images, 0 backgrounds, 0 corrupt: 100%|██████████| 140/140 [00:00<00:00, 1526.68it/s]"
          ]
        },
        {
          "metadata": {
            "tags": null
          },
          "name": "stdout",
          "output_type": "stream",
          "text": [
            "\u001b[34m\u001b[1mval: \u001b[0mNew cache created: /content/dog-nose-1/valid/labels.cache\n"
          ]
        },
        {
          "metadata": {
            "tags": null
          },
          "name": "stderr",
          "output_type": "stream",
          "text": [
            "\n"
          ]
        },
        {
          "metadata": {
            "tags": null
          },
          "name": "stdout",
          "output_type": "stream",
          "text": [
            "Plotting labels to runs/detect/train/labels.jpg... \n",
            "\u001b[34m\u001b[1moptimizer:\u001b[0m 'optimizer=auto' found, ignoring 'lr0=0.01' and 'momentum=0.937' and determining best 'optimizer', 'lr0' and 'momentum' automatically... \n",
            "\u001b[34m\u001b[1moptimizer:\u001b[0m AdamW(lr=0.002, momentum=0.9) with parameter groups 81 weight(decay=0.0), 88 weight(decay=0.0005), 87 bias(decay=0.0)\n",
            "\u001b[34m\u001b[1mTensorBoard: \u001b[0mmodel graph visualization added ✅\n",
            "Image sizes 640 train, 640 val\n",
            "Using 2 dataloader workers\n",
            "Logging results to \u001b[1mruns/detect/train\u001b[0m\n",
            "Starting training for 85 epochs...\n",
            "\n",
            "      Epoch    GPU_mem   box_loss   cls_loss   dfl_loss  Instances       Size\n"
          ]
        },
        {
          "metadata": {
            "tags": null
          },
          "name": "stderr",
          "output_type": "stream",
          "text": [
            "       1/85      2.46G      1.973      3.554      1.761         23        640: 100%|██████████| 94/94 [00:34<00:00,  2.71it/s]\n",
            "                 Class     Images  Instances      Box(P          R      mAP50  mAP50-95): 100%|██████████| 5/5 [00:03<00:00,  1.57it/s]"
          ]
        },
        {
          "metadata": {
            "tags": null
          },
          "name": "stdout",
          "output_type": "stream",
          "text": [
            "                   all        140        143      0.858     0.0847      0.268      0.108\n"
          ]
        },
        {
          "metadata": {
            "tags": null
          },
          "name": "stderr",
          "output_type": "stream",
          "text": [
            "\n"
          ]
        },
        {
          "metadata": {
            "tags": null
          },
          "name": "stdout",
          "output_type": "stream",
          "text": [
            "\n",
            "      Epoch    GPU_mem   box_loss   cls_loss   dfl_loss  Instances       Size\n"
          ]
        },
        {
          "metadata": {
            "tags": null
          },
          "name": "stderr",
          "output_type": "stream",
          "text": [
            "       2/85      2.37G      1.907      2.663        1.7         20        640: 100%|██████████| 94/94 [00:33<00:00,  2.77it/s]\n",
            "                 Class     Images  Instances      Box(P          R      mAP50  mAP50-95): 100%|██████████| 5/5 [00:01<00:00,  3.13it/s]"
          ]
        },
        {
          "metadata": {
            "tags": null
          },
          "name": "stdout",
          "output_type": "stream",
          "text": [
            "                   all        140        143      0.442      0.364      0.371      0.153\n"
          ]
        },
        {
          "metadata": {
            "tags": null
          },
          "name": "stderr",
          "output_type": "stream",
          "text": [
            "\n"
          ]
        },
        {
          "metadata": {
            "tags": null
          },
          "name": "stdout",
          "output_type": "stream",
          "text": [
            "\n",
            "      Epoch    GPU_mem   box_loss   cls_loss   dfl_loss  Instances       Size\n"
          ]
        },
        {
          "metadata": {
            "tags": null
          },
          "name": "stderr",
          "output_type": "stream",
          "text": [
            "       3/85      2.35G      1.847       2.26      1.666         19        640: 100%|██████████| 94/94 [00:31<00:00,  3.02it/s]\n",
            "                 Class     Images  Instances      Box(P          R      mAP50  mAP50-95): 100%|██████████| 5/5 [00:02<00:00,  1.97it/s]"
          ]
        },
        {
          "metadata": {
            "tags": null
          },
          "name": "stdout",
          "output_type": "stream",
          "text": [
            "                   all        140        143      0.381       0.28      0.205     0.0777\n"
          ]
        },
        {
          "metadata": {
            "tags": null
          },
          "name": "stderr",
          "output_type": "stream",
          "text": [
            "\n"
          ]
        },
        {
          "metadata": {
            "tags": null
          },
          "name": "stdout",
          "output_type": "stream",
          "text": [
            "\n",
            "      Epoch    GPU_mem   box_loss   cls_loss   dfl_loss  Instances       Size\n"
          ]
        },
        {
          "metadata": {
            "tags": null
          },
          "name": "stderr",
          "output_type": "stream",
          "text": [
            "       4/85      2.35G       1.83      2.021      1.681         21        640: 100%|██████████| 94/94 [00:30<00:00,  3.09it/s]\n",
            "                 Class     Images  Instances      Box(P          R      mAP50  mAP50-95): 100%|██████████| 5/5 [00:02<00:00,  2.23it/s]"
          ]
        },
        {
          "metadata": {
            "tags": null
          },
          "name": "stdout",
          "output_type": "stream",
          "text": [
            "                   all        140        143      0.312      0.175      0.128     0.0455\n"
          ]
        },
        {
          "metadata": {
            "tags": null
          },
          "name": "stderr",
          "output_type": "stream",
          "text": [
            "\n"
          ]
        },
        {
          "metadata": {
            "tags": null
          },
          "name": "stdout",
          "output_type": "stream",
          "text": [
            "\n",
            "      Epoch    GPU_mem   box_loss   cls_loss   dfl_loss  Instances       Size\n"
          ]
        },
        {
          "metadata": {
            "tags": null
          },
          "name": "stderr",
          "output_type": "stream",
          "text": [
            "       5/85      2.35G      1.785      1.908      1.659         20        640: 100%|██████████| 94/94 [00:30<00:00,  3.05it/s]\n",
            "                 Class     Images  Instances      Box(P          R      mAP50  mAP50-95): 100%|██████████| 5/5 [00:01<00:00,  3.59it/s]"
          ]
        },
        {
          "metadata": {
            "tags": null
          },
          "name": "stdout",
          "output_type": "stream",
          "text": [
            "                   all        140        143      0.466      0.469      0.455      0.193\n"
          ]
        },
        {
          "metadata": {
            "tags": null
          },
          "name": "stderr",
          "output_type": "stream",
          "text": [
            "\n"
          ]
        },
        {
          "metadata": {
            "tags": null
          },
          "name": "stdout",
          "output_type": "stream",
          "text": [
            "\n",
            "      Epoch    GPU_mem   box_loss   cls_loss   dfl_loss  Instances       Size\n"
          ]
        },
        {
          "metadata": {
            "tags": null
          },
          "name": "stderr",
          "output_type": "stream",
          "text": [
            "       6/85      2.35G      1.755      1.797      1.629         23        640: 100%|██████████| 94/94 [00:32<00:00,  2.88it/s]\n",
            "                 Class     Images  Instances      Box(P          R      mAP50  mAP50-95): 100%|██████████| 5/5 [00:01<00:00,  3.78it/s]"
          ]
        },
        {
          "metadata": {
            "tags": null
          },
          "name": "stdout",
          "output_type": "stream",
          "text": [
            "                   all        140        143        0.6      0.455      0.493      0.235\n"
          ]
        },
        {
          "metadata": {
            "tags": null
          },
          "name": "stderr",
          "output_type": "stream",
          "text": [
            "\n"
          ]
        },
        {
          "metadata": {
            "tags": null
          },
          "name": "stdout",
          "output_type": "stream",
          "text": [
            "\n",
            "      Epoch    GPU_mem   box_loss   cls_loss   dfl_loss  Instances       Size\n"
          ]
        },
        {
          "metadata": {
            "tags": null
          },
          "name": "stderr",
          "output_type": "stream",
          "text": [
            "       7/85      2.35G      1.684      1.676      1.586         16        640: 100%|██████████| 94/94 [00:32<00:00,  2.93it/s]\n",
            "                 Class     Images  Instances      Box(P          R      mAP50  mAP50-95): 100%|██████████| 5/5 [00:01<00:00,  4.04it/s]"
          ]
        },
        {
          "metadata": {
            "tags": null
          },
          "name": "stdout",
          "output_type": "stream",
          "text": [
            "                   all        140        143      0.679      0.587      0.672      0.317\n"
          ]
        },
        {
          "metadata": {
            "tags": null
          },
          "name": "stderr",
          "output_type": "stream",
          "text": [
            "\n"
          ]
        },
        {
          "metadata": {
            "tags": null
          },
          "name": "stdout",
          "output_type": "stream",
          "text": [
            "\n",
            "      Epoch    GPU_mem   box_loss   cls_loss   dfl_loss  Instances       Size\n"
          ]
        },
        {
          "metadata": {
            "tags": null
          },
          "name": "stderr",
          "output_type": "stream",
          "text": [
            "       8/85      2.37G      1.741      1.678      1.596         20        640: 100%|██████████| 94/94 [00:32<00:00,  2.88it/s]\n",
            "                 Class     Images  Instances      Box(P          R      mAP50  mAP50-95): 100%|██████████| 5/5 [00:01<00:00,  3.94it/s]"
          ]
        },
        {
          "metadata": {
            "tags": null
          },
          "name": "stdout",
          "output_type": "stream",
          "text": [
            "                   all        140        143      0.546      0.378      0.407      0.176\n"
          ]
        },
        {
          "metadata": {
            "tags": null
          },
          "name": "stderr",
          "output_type": "stream",
          "text": [
            "\n"
          ]
        },
        {
          "metadata": {
            "tags": null
          },
          "name": "stdout",
          "output_type": "stream",
          "text": [
            "\n",
            "      Epoch    GPU_mem   box_loss   cls_loss   dfl_loss  Instances       Size\n"
          ]
        },
        {
          "metadata": {
            "tags": null
          },
          "name": "stderr",
          "output_type": "stream",
          "text": [
            "       9/85      2.35G      1.709      1.603      1.585         25        640: 100%|██████████| 94/94 [00:31<00:00,  2.94it/s]\n",
            "                 Class     Images  Instances      Box(P          R      mAP50  mAP50-95): 100%|██████████| 5/5 [00:02<00:00,  1.87it/s]"
          ]
        },
        {
          "metadata": {
            "tags": null
          },
          "name": "stdout",
          "output_type": "stream",
          "text": [
            "                   all        140        143      0.803      0.628      0.728      0.389\n"
          ]
        },
        {
          "metadata": {
            "tags": null
          },
          "name": "stderr",
          "output_type": "stream",
          "text": [
            "\n"
          ]
        },
        {
          "metadata": {
            "tags": null
          },
          "name": "stdout",
          "output_type": "stream",
          "text": [
            "\n",
            "      Epoch    GPU_mem   box_loss   cls_loss   dfl_loss  Instances       Size\n"
          ]
        },
        {
          "metadata": {
            "tags": null
          },
          "name": "stderr",
          "output_type": "stream",
          "text": [
            "      10/85      2.35G      1.665      1.545      1.554         29        640: 100%|██████████| 94/94 [00:29<00:00,  3.15it/s]\n",
            "                 Class     Images  Instances      Box(P          R      mAP50  mAP50-95): 100%|██████████| 5/5 [00:02<00:00,  2.30it/s]"
          ]
        },
        {
          "metadata": {
            "tags": null
          },
          "name": "stdout",
          "output_type": "stream",
          "text": [
            "                   all        140        143      0.756      0.627      0.679      0.296\n"
          ]
        },
        {
          "metadata": {
            "tags": null
          },
          "name": "stderr",
          "output_type": "stream",
          "text": [
            "\n"
          ]
        },
        {
          "metadata": {
            "tags": null
          },
          "name": "stdout",
          "output_type": "stream",
          "text": [
            "\n",
            "      Epoch    GPU_mem   box_loss   cls_loss   dfl_loss  Instances       Size\n"
          ]
        },
        {
          "metadata": {
            "tags": null
          },
          "name": "stderr",
          "output_type": "stream",
          "text": [
            "      11/85      2.35G      1.633      1.467      1.547         22        640: 100%|██████████| 94/94 [00:32<00:00,  2.94it/s]\n",
            "                 Class     Images  Instances      Box(P          R      mAP50  mAP50-95): 100%|██████████| 5/5 [00:01<00:00,  3.96it/s]"
          ]
        },
        {
          "metadata": {
            "tags": null
          },
          "name": "stdout",
          "output_type": "stream",
          "text": [
            "                   all        140        143      0.775      0.628      0.738      0.364\n"
          ]
        },
        {
          "metadata": {
            "tags": null
          },
          "name": "stderr",
          "output_type": "stream",
          "text": [
            "\n"
          ]
        },
        {
          "metadata": {
            "tags": null
          },
          "name": "stdout",
          "output_type": "stream",
          "text": [
            "\n",
            "      Epoch    GPU_mem   box_loss   cls_loss   dfl_loss  Instances       Size\n"
          ]
        },
        {
          "metadata": {
            "tags": null
          },
          "name": "stderr",
          "output_type": "stream",
          "text": [
            "      12/85      2.35G      1.636      1.424      1.528         15        640: 100%|██████████| 94/94 [00:32<00:00,  2.91it/s]\n",
            "                 Class     Images  Instances      Box(P          R      mAP50  mAP50-95): 100%|██████████| 5/5 [00:01<00:00,  3.70it/s]"
          ]
        },
        {
          "metadata": {
            "tags": null
          },
          "name": "stdout",
          "output_type": "stream",
          "text": [
            "                   all        140        143      0.923      0.666      0.762      0.424\n"
          ]
        },
        {
          "metadata": {
            "tags": null
          },
          "name": "stderr",
          "output_type": "stream",
          "text": [
            "\n"
          ]
        },
        {
          "metadata": {
            "tags": null
          },
          "name": "stdout",
          "output_type": "stream",
          "text": [
            "\n",
            "      Epoch    GPU_mem   box_loss   cls_loss   dfl_loss  Instances       Size\n"
          ]
        },
        {
          "metadata": {
            "tags": null
          },
          "name": "stderr",
          "output_type": "stream",
          "text": [
            "      13/85      2.35G      1.629      1.414      1.531         16        640: 100%|██████████| 94/94 [00:34<00:00,  2.76it/s]\n",
            "                 Class     Images  Instances      Box(P          R      mAP50  mAP50-95): 100%|██████████| 5/5 [00:01<00:00,  4.17it/s]"
          ]
        },
        {
          "metadata": {
            "tags": null
          },
          "name": "stdout",
          "output_type": "stream",
          "text": [
            "                   all        140        143      0.862       0.65       0.76       0.44\n"
          ]
        },
        {
          "metadata": {
            "tags": null
          },
          "name": "stderr",
          "output_type": "stream",
          "text": [
            "\n"
          ]
        },
        {
          "metadata": {
            "tags": null
          },
          "name": "stdout",
          "output_type": "stream",
          "text": [
            "\n",
            "      Epoch    GPU_mem   box_loss   cls_loss   dfl_loss  Instances       Size\n"
          ]
        },
        {
          "metadata": {
            "tags": null
          },
          "name": "stderr",
          "output_type": "stream",
          "text": [
            "      14/85      2.35G      1.609      1.376      1.516         17        640: 100%|██████████| 94/94 [00:33<00:00,  2.82it/s]\n",
            "                 Class     Images  Instances      Box(P          R      mAP50  mAP50-95): 100%|██████████| 5/5 [00:01<00:00,  4.08it/s]"
          ]
        },
        {
          "metadata": {
            "tags": null
          },
          "name": "stdout",
          "output_type": "stream",
          "text": [
            "                   all        140        143      0.831      0.671      0.787      0.422\n"
          ]
        },
        {
          "metadata": {
            "tags": null
          },
          "name": "stderr",
          "output_type": "stream",
          "text": [
            "\n"
          ]
        },
        {
          "metadata": {
            "tags": null
          },
          "name": "stdout",
          "output_type": "stream",
          "text": [
            "\n",
            "      Epoch    GPU_mem   box_loss   cls_loss   dfl_loss  Instances       Size\n"
          ]
        },
        {
          "metadata": {
            "tags": null
          },
          "name": "stderr",
          "output_type": "stream",
          "text": [
            "      15/85      2.35G      1.613      1.384      1.516         21        640: 100%|██████████| 94/94 [00:33<00:00,  2.79it/s]\n",
            "                 Class     Images  Instances      Box(P          R      mAP50  mAP50-95): 100%|██████████| 5/5 [00:01<00:00,  3.64it/s]"
          ]
        },
        {
          "metadata": {
            "tags": null
          },
          "name": "stdout",
          "output_type": "stream",
          "text": [
            "                   all        140        143      0.777      0.706      0.771      0.405\n"
          ]
        },
        {
          "metadata": {
            "tags": null
          },
          "name": "stderr",
          "output_type": "stream",
          "text": [
            "\n"
          ]
        },
        {
          "metadata": {
            "tags": null
          },
          "name": "stdout",
          "output_type": "stream",
          "text": [
            "\n",
            "      Epoch    GPU_mem   box_loss   cls_loss   dfl_loss  Instances       Size\n"
          ]
        },
        {
          "metadata": {
            "tags": null
          },
          "name": "stderr",
          "output_type": "stream",
          "text": [
            "      16/85      2.35G        1.6      1.372      1.506         16        640: 100%|██████████| 94/94 [00:31<00:00,  3.03it/s]\n",
            "                 Class     Images  Instances      Box(P          R      mAP50  mAP50-95): 100%|██████████| 5/5 [00:02<00:00,  2.01it/s]"
          ]
        },
        {
          "metadata": {
            "tags": null
          },
          "name": "stdout",
          "output_type": "stream",
          "text": [
            "                   all        140        143      0.913      0.657      0.783      0.414\n"
          ]
        },
        {
          "metadata": {
            "tags": null
          },
          "name": "stderr",
          "output_type": "stream",
          "text": [
            "\n"
          ]
        },
        {
          "metadata": {
            "tags": null
          },
          "name": "stdout",
          "output_type": "stream",
          "text": [
            "\n",
            "      Epoch    GPU_mem   box_loss   cls_loss   dfl_loss  Instances       Size\n"
          ]
        },
        {
          "metadata": {
            "tags": null
          },
          "name": "stderr",
          "output_type": "stream",
          "text": [
            "      17/85      2.35G      1.574      1.304      1.489         22        640: 100%|██████████| 94/94 [00:30<00:00,  3.09it/s]\n",
            "                 Class     Images  Instances      Box(P          R      mAP50  mAP50-95): 100%|██████████| 5/5 [00:02<00:00,  2.40it/s]"
          ]
        },
        {
          "metadata": {
            "tags": null
          },
          "name": "stdout",
          "output_type": "stream",
          "text": [
            "                   all        140        143      0.907      0.682      0.802      0.445\n"
          ]
        },
        {
          "metadata": {
            "tags": null
          },
          "name": "stderr",
          "output_type": "stream",
          "text": [
            "\n"
          ]
        },
        {
          "metadata": {
            "tags": null
          },
          "name": "stdout",
          "output_type": "stream",
          "text": [
            "\n",
            "      Epoch    GPU_mem   box_loss   cls_loss   dfl_loss  Instances       Size\n"
          ]
        },
        {
          "metadata": {
            "tags": null
          },
          "name": "stderr",
          "output_type": "stream",
          "text": [
            "      18/85      2.35G       1.57      1.275      1.486         22        640: 100%|██████████| 94/94 [00:31<00:00,  2.98it/s]\n",
            "                 Class     Images  Instances      Box(P          R      mAP50  mAP50-95): 100%|██████████| 5/5 [00:01<00:00,  3.94it/s]"
          ]
        },
        {
          "metadata": {
            "tags": null
          },
          "name": "stdout",
          "output_type": "stream",
          "text": [
            "                   all        140        143      0.884      0.706      0.813      0.448\n"
          ]
        },
        {
          "metadata": {
            "tags": null
          },
          "name": "stderr",
          "output_type": "stream",
          "text": [
            "\n"
          ]
        },
        {
          "metadata": {
            "tags": null
          },
          "name": "stdout",
          "output_type": "stream",
          "text": [
            "\n",
            "      Epoch    GPU_mem   box_loss   cls_loss   dfl_loss  Instances       Size\n"
          ]
        },
        {
          "metadata": {
            "tags": null
          },
          "name": "stderr",
          "output_type": "stream",
          "text": [
            "      19/85      2.35G      1.572      1.265      1.492         11        640: 100%|██████████| 94/94 [00:32<00:00,  2.89it/s]\n",
            "                 Class     Images  Instances      Box(P          R      mAP50  mAP50-95): 100%|██████████| 5/5 [00:01<00:00,  4.75it/s]"
          ]
        },
        {
          "metadata": {
            "tags": null
          },
          "name": "stdout",
          "output_type": "stream",
          "text": [
            "                   all        140        143      0.851       0.76      0.822      0.425\n"
          ]
        },
        {
          "metadata": {
            "tags": null
          },
          "name": "stderr",
          "output_type": "stream",
          "text": [
            "\n"
          ]
        },
        {
          "metadata": {
            "tags": null
          },
          "name": "stdout",
          "output_type": "stream",
          "text": [
            "\n",
            "      Epoch    GPU_mem   box_loss   cls_loss   dfl_loss  Instances       Size\n"
          ]
        },
        {
          "metadata": {
            "tags": null
          },
          "name": "stderr",
          "output_type": "stream",
          "text": [
            "      20/85      2.35G      1.527      1.187      1.463         11        640: 100%|██████████| 94/94 [00:33<00:00,  2.83it/s]\n",
            "                 Class     Images  Instances      Box(P          R      mAP50  mAP50-95): 100%|██████████| 5/5 [00:01<00:00,  3.55it/s]"
          ]
        },
        {
          "metadata": {
            "tags": null
          },
          "name": "stdout",
          "output_type": "stream",
          "text": [
            "                   all        140        143      0.885      0.696      0.804      0.374\n"
          ]
        },
        {
          "metadata": {
            "tags": null
          },
          "name": "stderr",
          "output_type": "stream",
          "text": [
            "\n"
          ]
        },
        {
          "metadata": {
            "tags": null
          },
          "name": "stdout",
          "output_type": "stream",
          "text": [
            "\n",
            "      Epoch    GPU_mem   box_loss   cls_loss   dfl_loss  Instances       Size\n"
          ]
        },
        {
          "metadata": {
            "tags": null
          },
          "name": "stderr",
          "output_type": "stream",
          "text": [
            "      21/85      2.35G      1.543      1.214      1.478         16        640: 100%|██████████| 94/94 [00:33<00:00,  2.83it/s]\n",
            "                 Class     Images  Instances      Box(P          R      mAP50  mAP50-95): 100%|██████████| 5/5 [00:01<00:00,  3.71it/s]"
          ]
        },
        {
          "metadata": {
            "tags": null
          },
          "name": "stdout",
          "output_type": "stream",
          "text": [
            "                   all        140        143      0.874       0.72      0.811      0.439\n"
          ]
        },
        {
          "metadata": {
            "tags": null
          },
          "name": "stderr",
          "output_type": "stream",
          "text": [
            "\n"
          ]
        },
        {
          "metadata": {
            "tags": null
          },
          "name": "stdout",
          "output_type": "stream",
          "text": [
            "\n",
            "      Epoch    GPU_mem   box_loss   cls_loss   dfl_loss  Instances       Size\n"
          ]
        },
        {
          "metadata": {
            "tags": null
          },
          "name": "stderr",
          "output_type": "stream",
          "text": [
            "      22/85      2.35G      1.545      1.201      1.462         20        640: 100%|██████████| 94/94 [00:32<00:00,  2.88it/s]\n",
            "                 Class     Images  Instances      Box(P          R      mAP50  mAP50-95): 100%|██████████| 5/5 [00:01<00:00,  3.58it/s]"
          ]
        },
        {
          "metadata": {
            "tags": null
          },
          "name": "stdout",
          "output_type": "stream",
          "text": [
            "                   all        140        143      0.874      0.755      0.816       0.42\n"
          ]
        },
        {
          "metadata": {
            "tags": null
          },
          "name": "stderr",
          "output_type": "stream",
          "text": [
            "\n"
          ]
        },
        {
          "metadata": {
            "tags": null
          },
          "name": "stdout",
          "output_type": "stream",
          "text": [
            "\n",
            "      Epoch    GPU_mem   box_loss   cls_loss   dfl_loss  Instances       Size\n"
          ]
        },
        {
          "metadata": {
            "tags": null
          },
          "name": "stderr",
          "output_type": "stream",
          "text": [
            "      23/85      2.35G      1.509      1.166      1.443         17        640: 100%|██████████| 94/94 [00:32<00:00,  2.90it/s]\n",
            "                 Class     Images  Instances      Box(P          R      mAP50  mAP50-95): 100%|██████████| 5/5 [00:02<00:00,  2.15it/s]"
          ]
        },
        {
          "metadata": {
            "tags": null
          },
          "name": "stdout",
          "output_type": "stream",
          "text": [
            "                   all        140        143      0.944      0.711      0.818      0.451\n"
          ]
        },
        {
          "metadata": {
            "tags": null
          },
          "name": "stderr",
          "output_type": "stream",
          "text": [
            "\n"
          ]
        },
        {
          "metadata": {
            "tags": null
          },
          "name": "stdout",
          "output_type": "stream",
          "text": [
            "\n",
            "      Epoch    GPU_mem   box_loss   cls_loss   dfl_loss  Instances       Size\n"
          ]
        },
        {
          "metadata": {
            "tags": null
          },
          "name": "stderr",
          "output_type": "stream",
          "text": [
            "      24/85      2.35G      1.506      1.153      1.444         14        640: 100%|██████████| 94/94 [00:29<00:00,  3.16it/s]\n",
            "                 Class     Images  Instances      Box(P          R      mAP50  mAP50-95): 100%|██████████| 5/5 [00:02<00:00,  2.01it/s]\n"
          ]
        },
        {
          "metadata": {
            "tags": null
          },
          "name": "stdout",
          "output_type": "stream",
          "text": [
            "                   all        140        143      0.918      0.706      0.815      0.442\n",
            "\n",
            "      Epoch    GPU_mem   box_loss   cls_loss   dfl_loss  Instances       Size\n"
          ]
        },
        {
          "metadata": {
            "tags": null
          },
          "name": "stderr",
          "output_type": "stream",
          "text": [
            "      25/85      2.35G      1.473      1.096      1.418         19        640: 100%|██████████| 94/94 [00:30<00:00,  3.05it/s]\n",
            "                 Class     Images  Instances      Box(P          R      mAP50  mAP50-95): 100%|██████████| 5/5 [00:01<00:00,  3.99it/s]"
          ]
        },
        {
          "metadata": {
            "tags": null
          },
          "name": "stdout",
          "output_type": "stream",
          "text": [
            "                   all        140        143      0.819      0.696       0.76       0.38\n"
          ]
        },
        {
          "metadata": {
            "tags": null
          },
          "name": "stderr",
          "output_type": "stream",
          "text": [
            "\n"
          ]
        },
        {
          "metadata": {
            "tags": null
          },
          "name": "stdout",
          "output_type": "stream",
          "text": [
            "\n",
            "      Epoch    GPU_mem   box_loss   cls_loss   dfl_loss  Instances       Size\n"
          ]
        },
        {
          "metadata": {
            "tags": null
          },
          "name": "stderr",
          "output_type": "stream",
          "text": [
            "      26/85      2.35G      1.496      1.122      1.439         15        640: 100%|██████████| 94/94 [00:31<00:00,  2.96it/s]\n",
            "                 Class     Images  Instances      Box(P          R      mAP50  mAP50-95): 100%|██████████| 5/5 [00:01<00:00,  4.04it/s]"
          ]
        },
        {
          "metadata": {
            "tags": null
          },
          "name": "stdout",
          "output_type": "stream",
          "text": [
            "                   all        140        143      0.879      0.763      0.835      0.472\n"
          ]
        },
        {
          "metadata": {
            "tags": null
          },
          "name": "stderr",
          "output_type": "stream",
          "text": [
            "\n"
          ]
        },
        {
          "metadata": {
            "tags": null
          },
          "name": "stdout",
          "output_type": "stream",
          "text": [
            "\n",
            "      Epoch    GPU_mem   box_loss   cls_loss   dfl_loss  Instances       Size\n"
          ]
        },
        {
          "metadata": {
            "tags": null
          },
          "name": "stderr",
          "output_type": "stream",
          "text": [
            "      27/85      2.35G      1.493      1.108      1.437         17        640: 100%|██████████| 94/94 [00:32<00:00,  2.88it/s]\n",
            "                 Class     Images  Instances      Box(P          R      mAP50  mAP50-95): 100%|██████████| 5/5 [00:01<00:00,  4.16it/s]"
          ]
        },
        {
          "metadata": {
            "tags": null
          },
          "name": "stdout",
          "output_type": "stream",
          "text": [
            "                   all        140        143      0.905      0.706       0.82      0.453\n"
          ]
        },
        {
          "metadata": {
            "tags": null
          },
          "name": "stderr",
          "output_type": "stream",
          "text": [
            "\n"
          ]
        },
        {
          "metadata": {
            "tags": null
          },
          "name": "stdout",
          "output_type": "stream",
          "text": [
            "\n",
            "      Epoch    GPU_mem   box_loss   cls_loss   dfl_loss  Instances       Size\n"
          ]
        },
        {
          "metadata": {
            "tags": null
          },
          "name": "stderr",
          "output_type": "stream",
          "text": [
            "      28/85      2.35G      1.434      1.053      1.398         17        640: 100%|██████████| 94/94 [00:32<00:00,  2.88it/s]\n",
            "                 Class     Images  Instances      Box(P          R      mAP50  mAP50-95): 100%|██████████| 5/5 [00:01<00:00,  4.34it/s]"
          ]
        },
        {
          "metadata": {
            "tags": null
          },
          "name": "stdout",
          "output_type": "stream",
          "text": [
            "                   all        140        143      0.913      0.692      0.829      0.442\n"
          ]
        },
        {
          "metadata": {
            "tags": null
          },
          "name": "stderr",
          "output_type": "stream",
          "text": [
            "\n"
          ]
        },
        {
          "metadata": {
            "tags": null
          },
          "name": "stdout",
          "output_type": "stream",
          "text": [
            "\n",
            "      Epoch    GPU_mem   box_loss   cls_loss   dfl_loss  Instances       Size\n"
          ]
        },
        {
          "metadata": {
            "tags": null
          },
          "name": "stderr",
          "output_type": "stream",
          "text": [
            "      29/85      2.35G      1.465      1.078      1.405         24        640: 100%|██████████| 94/94 [00:31<00:00,  3.02it/s]\n",
            "                 Class     Images  Instances      Box(P          R      mAP50  mAP50-95): 100%|██████████| 5/5 [00:02<00:00,  2.02it/s]"
          ]
        },
        {
          "metadata": {
            "tags": null
          },
          "name": "stdout",
          "output_type": "stream",
          "text": [
            "                   all        140        143      0.941      0.762      0.853      0.479\n"
          ]
        },
        {
          "metadata": {
            "tags": null
          },
          "name": "stderr",
          "output_type": "stream",
          "text": [
            "\n"
          ]
        },
        {
          "metadata": {
            "tags": null
          },
          "name": "stdout",
          "output_type": "stream",
          "text": [
            "\n",
            "      Epoch    GPU_mem   box_loss   cls_loss   dfl_loss  Instances       Size\n"
          ]
        },
        {
          "metadata": {
            "tags": null
          },
          "name": "stderr",
          "output_type": "stream",
          "text": [
            "      30/85      2.35G      1.424      1.018      1.377         24        640: 100%|██████████| 94/94 [00:29<00:00,  3.22it/s]\n",
            "                 Class     Images  Instances      Box(P          R      mAP50  mAP50-95): 100%|██████████| 5/5 [00:02<00:00,  2.23it/s]"
          ]
        },
        {
          "metadata": {
            "tags": null
          },
          "name": "stdout",
          "output_type": "stream",
          "text": [
            "                   all        140        143      0.894      0.713      0.804      0.437\n"
          ]
        },
        {
          "metadata": {
            "tags": null
          },
          "name": "stderr",
          "output_type": "stream",
          "text": [
            "\n"
          ]
        },
        {
          "metadata": {
            "tags": null
          },
          "name": "stdout",
          "output_type": "stream",
          "text": [
            "\n",
            "      Epoch    GPU_mem   box_loss   cls_loss   dfl_loss  Instances       Size\n"
          ]
        },
        {
          "metadata": {
            "tags": null
          },
          "name": "stderr",
          "output_type": "stream",
          "text": [
            "      31/85      2.35G      1.424      1.042      1.383         17        640: 100%|██████████| 94/94 [00:30<00:00,  3.10it/s]\n",
            "                 Class     Images  Instances      Box(P          R      mAP50  mAP50-95): 100%|██████████| 5/5 [00:01<00:00,  4.32it/s]"
          ]
        },
        {
          "metadata": {
            "tags": null
          },
          "name": "stdout",
          "output_type": "stream",
          "text": [
            "                   all        140        143      0.883       0.79      0.854      0.461\n"
          ]
        },
        {
          "metadata": {
            "tags": null
          },
          "name": "stderr",
          "output_type": "stream",
          "text": [
            "\n"
          ]
        },
        {
          "metadata": {
            "tags": null
          },
          "name": "stdout",
          "output_type": "stream",
          "text": [
            "\n",
            "      Epoch    GPU_mem   box_loss   cls_loss   dfl_loss  Instances       Size\n"
          ]
        },
        {
          "metadata": {
            "tags": null
          },
          "name": "stderr",
          "output_type": "stream",
          "text": [
            "      32/85      2.35G      1.418     0.9902      1.372         16        640: 100%|██████████| 94/94 [00:32<00:00,  2.90it/s]\n",
            "                 Class     Images  Instances      Box(P          R      mAP50  mAP50-95): 100%|██████████| 5/5 [00:01<00:00,  4.50it/s]"
          ]
        },
        {
          "metadata": {
            "tags": null
          },
          "name": "stdout",
          "output_type": "stream",
          "text": [
            "                   all        140        143      0.922      0.743      0.838      0.462\n"
          ]
        },
        {
          "metadata": {
            "tags": null
          },
          "name": "stderr",
          "output_type": "stream",
          "text": [
            "\n"
          ]
        },
        {
          "metadata": {
            "tags": null
          },
          "name": "stdout",
          "output_type": "stream",
          "text": [
            "\n",
            "      Epoch    GPU_mem   box_loss   cls_loss   dfl_loss  Instances       Size\n"
          ]
        },
        {
          "metadata": {
            "tags": null
          },
          "name": "stderr",
          "output_type": "stream",
          "text": [
            "      33/85      2.35G      1.429     0.9902      1.373         15        640: 100%|██████████| 94/94 [00:32<00:00,  2.86it/s]\n",
            "                 Class     Images  Instances      Box(P          R      mAP50  mAP50-95): 100%|██████████| 5/5 [00:01<00:00,  4.21it/s]"
          ]
        },
        {
          "metadata": {
            "tags": null
          },
          "name": "stdout",
          "output_type": "stream",
          "text": [
            "                   all        140        143      0.943      0.741      0.829      0.467\n"
          ]
        },
        {
          "metadata": {
            "tags": null
          },
          "name": "stderr",
          "output_type": "stream",
          "text": [
            "\n"
          ]
        },
        {
          "metadata": {
            "tags": null
          },
          "name": "stdout",
          "output_type": "stream",
          "text": [
            "\n",
            "      Epoch    GPU_mem   box_loss   cls_loss   dfl_loss  Instances       Size\n"
          ]
        },
        {
          "metadata": {
            "tags": null
          },
          "name": "stderr",
          "output_type": "stream",
          "text": [
            "      34/85      2.35G      1.433     0.9851      1.377         20        640: 100%|██████████| 94/94 [00:31<00:00,  2.99it/s]\n",
            "                 Class     Images  Instances      Box(P          R      mAP50  mAP50-95): 100%|██████████| 5/5 [00:01<00:00,  3.74it/s]"
          ]
        },
        {
          "metadata": {
            "tags": null
          },
          "name": "stdout",
          "output_type": "stream",
          "text": [
            "                   all        140        143      0.858      0.716      0.783      0.426\n"
          ]
        },
        {
          "metadata": {
            "tags": null
          },
          "name": "stderr",
          "output_type": "stream",
          "text": [
            "\n"
          ]
        },
        {
          "metadata": {
            "tags": null
          },
          "name": "stdout",
          "output_type": "stream",
          "text": [
            "\n",
            "      Epoch    GPU_mem   box_loss   cls_loss   dfl_loss  Instances       Size\n"
          ]
        },
        {
          "metadata": {
            "tags": null
          },
          "name": "stderr",
          "output_type": "stream",
          "text": [
            "      35/85      2.35G      1.391     0.9673      1.374         17        640: 100%|██████████| 94/94 [00:31<00:00,  2.94it/s]\n",
            "                 Class     Images  Instances      Box(P          R      mAP50  mAP50-95): 100%|██████████| 5/5 [00:01<00:00,  3.49it/s]"
          ]
        },
        {
          "metadata": {
            "tags": null
          },
          "name": "stdout",
          "output_type": "stream",
          "text": [
            "                   all        140        143      0.934      0.706      0.786      0.415\n"
          ]
        },
        {
          "metadata": {
            "tags": null
          },
          "name": "stderr",
          "output_type": "stream",
          "text": [
            "\n"
          ]
        },
        {
          "metadata": {
            "tags": null
          },
          "name": "stdout",
          "output_type": "stream",
          "text": [
            "\n",
            "      Epoch    GPU_mem   box_loss   cls_loss   dfl_loss  Instances       Size\n"
          ]
        },
        {
          "metadata": {
            "tags": null
          },
          "name": "stderr",
          "output_type": "stream",
          "text": [
            "      36/85      2.35G      1.377     0.9472      1.354         24        640: 100%|██████████| 94/94 [00:29<00:00,  3.17it/s]\n",
            "                 Class     Images  Instances      Box(P          R      mAP50  mAP50-95): 100%|██████████| 5/5 [00:02<00:00,  2.15it/s]"
          ]
        },
        {
          "metadata": {
            "tags": null
          },
          "name": "stdout",
          "output_type": "stream",
          "text": [
            "                   all        140        143      0.939      0.755      0.839      0.482\n"
          ]
        },
        {
          "metadata": {
            "tags": null
          },
          "name": "stderr",
          "output_type": "stream",
          "text": [
            "\n"
          ]
        },
        {
          "metadata": {
            "tags": null
          },
          "name": "stdout",
          "output_type": "stream",
          "text": [
            "\n",
            "      Epoch    GPU_mem   box_loss   cls_loss   dfl_loss  Instances       Size\n"
          ]
        },
        {
          "metadata": {
            "tags": null
          },
          "name": "stderr",
          "output_type": "stream",
          "text": [
            "      37/85      2.35G      1.372     0.9202      1.357         29        640: 100%|██████████| 94/94 [00:29<00:00,  3.14it/s]\n",
            "                 Class     Images  Instances      Box(P          R      mAP50  mAP50-95): 100%|██████████| 5/5 [00:01<00:00,  3.57it/s]"
          ]
        },
        {
          "metadata": {
            "tags": null
          },
          "name": "stdout",
          "output_type": "stream",
          "text": [
            "                   all        140        143      0.931      0.754      0.855       0.48\n"
          ]
        },
        {
          "metadata": {
            "tags": null
          },
          "name": "stderr",
          "output_type": "stream",
          "text": [
            "\n"
          ]
        },
        {
          "metadata": {
            "tags": null
          },
          "name": "stdout",
          "output_type": "stream",
          "text": [
            "\n",
            "      Epoch    GPU_mem   box_loss   cls_loss   dfl_loss  Instances       Size\n"
          ]
        },
        {
          "metadata": {
            "tags": null
          },
          "name": "stderr",
          "output_type": "stream",
          "text": [
            "      38/85      2.35G      1.392     0.9277      1.347         20        640: 100%|██████████| 94/94 [00:31<00:00,  2.98it/s]\n",
            "                 Class     Images  Instances      Box(P          R      mAP50  mAP50-95): 100%|██████████| 5/5 [00:01<00:00,  4.34it/s]"
          ]
        },
        {
          "metadata": {
            "tags": null
          },
          "name": "stdout",
          "output_type": "stream",
          "text": [
            "                   all        140        143      0.936      0.719      0.837      0.431\n"
          ]
        },
        {
          "metadata": {
            "tags": null
          },
          "name": "stderr",
          "output_type": "stream",
          "text": [
            "\n"
          ]
        },
        {
          "metadata": {
            "tags": null
          },
          "name": "stdout",
          "output_type": "stream",
          "text": [
            "\n",
            "      Epoch    GPU_mem   box_loss   cls_loss   dfl_loss  Instances       Size\n"
          ]
        },
        {
          "metadata": {
            "tags": null
          },
          "name": "stderr",
          "output_type": "stream",
          "text": [
            "      39/85      2.35G      1.356     0.9294       1.34         18        640: 100%|██████████| 94/94 [00:31<00:00,  3.02it/s]\n",
            "                 Class     Images  Instances      Box(P          R      mAP50  mAP50-95): 100%|██████████| 5/5 [00:01<00:00,  3.92it/s]"
          ]
        },
        {
          "metadata": {
            "tags": null
          },
          "name": "stdout",
          "output_type": "stream",
          "text": [
            "                   all        140        143      0.915      0.751      0.819      0.437\n"
          ]
        },
        {
          "metadata": {
            "tags": null
          },
          "name": "stderr",
          "output_type": "stream",
          "text": [
            "\n"
          ]
        },
        {
          "metadata": {
            "tags": null
          },
          "name": "stdout",
          "output_type": "stream",
          "text": [
            "\n",
            "      Epoch    GPU_mem   box_loss   cls_loss   dfl_loss  Instances       Size\n"
          ]
        },
        {
          "metadata": {
            "tags": null
          },
          "name": "stderr",
          "output_type": "stream",
          "text": [
            "      40/85      2.35G      1.341     0.9021      1.339         17        640: 100%|██████████| 94/94 [00:32<00:00,  2.89it/s]\n",
            "                 Class     Images  Instances      Box(P          R      mAP50  mAP50-95): 100%|██████████| 5/5 [00:01<00:00,  4.36it/s]"
          ]
        },
        {
          "metadata": {
            "tags": null
          },
          "name": "stdout",
          "output_type": "stream",
          "text": [
            "                   all        140        143      0.896      0.734      0.815      0.468\n"
          ]
        },
        {
          "metadata": {
            "tags": null
          },
          "name": "stderr",
          "output_type": "stream",
          "text": [
            "\n"
          ]
        },
        {
          "metadata": {
            "tags": null
          },
          "name": "stdout",
          "output_type": "stream",
          "text": [
            "\n",
            "      Epoch    GPU_mem   box_loss   cls_loss   dfl_loss  Instances       Size\n"
          ]
        },
        {
          "metadata": {
            "tags": null
          },
          "name": "stderr",
          "output_type": "stream",
          "text": [
            "      41/85      2.35G      1.331     0.9064       1.32         19        640: 100%|██████████| 94/94 [00:31<00:00,  3.01it/s]\n",
            "                 Class     Images  Instances      Box(P          R      mAP50  mAP50-95): 100%|██████████| 5/5 [00:02<00:00,  2.09it/s]\n"
          ]
        },
        {
          "metadata": {
            "tags": null
          },
          "name": "stdout",
          "output_type": "stream",
          "text": [
            "                   all        140        143      0.851      0.769      0.808      0.443\n",
            "\n",
            "      Epoch    GPU_mem   box_loss   cls_loss   dfl_loss  Instances       Size\n"
          ]
        },
        {
          "metadata": {
            "tags": null
          },
          "name": "stderr",
          "output_type": "stream",
          "text": [
            "      42/85      2.35G       1.33     0.8771      1.319         24        640: 100%|██████████| 94/94 [00:29<00:00,  3.20it/s]\n",
            "                 Class     Images  Instances      Box(P          R      mAP50  mAP50-95): 100%|██████████| 5/5 [00:02<00:00,  2.26it/s]"
          ]
        },
        {
          "metadata": {
            "tags": null
          },
          "name": "stdout",
          "output_type": "stream",
          "text": [
            "                   all        140        143      0.973      0.753      0.866      0.481\n"
          ]
        },
        {
          "metadata": {
            "tags": null
          },
          "name": "stderr",
          "output_type": "stream",
          "text": [
            "\n"
          ]
        },
        {
          "metadata": {
            "tags": null
          },
          "name": "stdout",
          "output_type": "stream",
          "text": [
            "\n",
            "      Epoch    GPU_mem   box_loss   cls_loss   dfl_loss  Instances       Size\n"
          ]
        },
        {
          "metadata": {
            "tags": null
          },
          "name": "stderr",
          "output_type": "stream",
          "text": [
            "      43/85      2.35G      1.305     0.8616      1.293         20        640: 100%|██████████| 94/94 [00:29<00:00,  3.16it/s]\n",
            "                 Class     Images  Instances      Box(P          R      mAP50  mAP50-95): 100%|██████████| 5/5 [00:01<00:00,  2.88it/s]"
          ]
        },
        {
          "metadata": {
            "tags": null
          },
          "name": "stdout",
          "output_type": "stream",
          "text": [
            "                   all        140        143      0.945       0.72      0.839      0.477\n"
          ]
        },
        {
          "metadata": {
            "tags": null
          },
          "name": "stderr",
          "output_type": "stream",
          "text": [
            "\n"
          ]
        },
        {
          "metadata": {
            "tags": null
          },
          "name": "stdout",
          "output_type": "stream",
          "text": [
            "\n",
            "      Epoch    GPU_mem   box_loss   cls_loss   dfl_loss  Instances       Size\n"
          ]
        },
        {
          "metadata": {
            "tags": null
          },
          "name": "stderr",
          "output_type": "stream",
          "text": [
            "      44/85      2.35G      1.306     0.8404      1.304         19        640: 100%|██████████| 94/94 [00:31<00:00,  3.00it/s]\n",
            "                 Class     Images  Instances      Box(P          R      mAP50  mAP50-95): 100%|██████████| 5/5 [00:01<00:00,  4.35it/s]"
          ]
        },
        {
          "metadata": {
            "tags": null
          },
          "name": "stdout",
          "output_type": "stream",
          "text": [
            "                   all        140        143      0.878      0.755      0.817      0.443\n"
          ]
        },
        {
          "metadata": {
            "tags": null
          },
          "name": "stderr",
          "output_type": "stream",
          "text": [
            "\n"
          ]
        },
        {
          "metadata": {
            "tags": null
          },
          "name": "stdout",
          "output_type": "stream",
          "text": [
            "\n",
            "      Epoch    GPU_mem   box_loss   cls_loss   dfl_loss  Instances       Size\n"
          ]
        },
        {
          "metadata": {
            "tags": null
          },
          "name": "stderr",
          "output_type": "stream",
          "text": [
            "      45/85      2.35G      1.305      0.838      1.307         26        640: 100%|██████████| 94/94 [00:32<00:00,  2.88it/s]\n",
            "                 Class     Images  Instances      Box(P          R      mAP50  mAP50-95): 100%|██████████| 5/5 [00:01<00:00,  4.57it/s]"
          ]
        },
        {
          "metadata": {
            "tags": null
          },
          "name": "stdout",
          "output_type": "stream",
          "text": [
            "                   all        140        143      0.936      0.699      0.833      0.446\n"
          ]
        },
        {
          "metadata": {
            "tags": null
          },
          "name": "stderr",
          "output_type": "stream",
          "text": [
            "\n"
          ]
        },
        {
          "metadata": {
            "tags": null
          },
          "name": "stdout",
          "output_type": "stream",
          "text": [
            "\n",
            "      Epoch    GPU_mem   box_loss   cls_loss   dfl_loss  Instances       Size\n"
          ]
        },
        {
          "metadata": {
            "tags": null
          },
          "name": "stderr",
          "output_type": "stream",
          "text": [
            "      46/85      2.35G      1.265     0.8274      1.285         20        640: 100%|██████████| 94/94 [00:32<00:00,  2.89it/s]\n",
            "                 Class     Images  Instances      Box(P          R      mAP50  mAP50-95): 100%|██████████| 5/5 [00:01<00:00,  4.11it/s]"
          ]
        },
        {
          "metadata": {
            "tags": null
          },
          "name": "stdout",
          "output_type": "stream",
          "text": [
            "                   all        140        143      0.881      0.775      0.836      0.472\n"
          ]
        },
        {
          "metadata": {
            "tags": null
          },
          "name": "stderr",
          "output_type": "stream",
          "text": [
            "\n"
          ]
        },
        {
          "metadata": {
            "tags": null
          },
          "name": "stdout",
          "output_type": "stream",
          "text": [
            "\n",
            "      Epoch    GPU_mem   box_loss   cls_loss   dfl_loss  Instances       Size\n"
          ]
        },
        {
          "metadata": {
            "tags": null
          },
          "name": "stderr",
          "output_type": "stream",
          "text": [
            "      47/85      2.35G      1.282     0.8255      1.285         19        640: 100%|██████████| 94/94 [00:32<00:00,  2.92it/s]\n",
            "                 Class     Images  Instances      Box(P          R      mAP50  mAP50-95): 100%|██████████| 5/5 [00:01<00:00,  3.77it/s]"
          ]
        },
        {
          "metadata": {
            "tags": null
          },
          "name": "stdout",
          "output_type": "stream",
          "text": [
            "                   all        140        143      0.925       0.79      0.844      0.475\n"
          ]
        },
        {
          "metadata": {
            "tags": null
          },
          "name": "stderr",
          "output_type": "stream",
          "text": [
            "\n"
          ]
        },
        {
          "metadata": {
            "tags": null
          },
          "name": "stdout",
          "output_type": "stream",
          "text": [
            "\n",
            "      Epoch    GPU_mem   box_loss   cls_loss   dfl_loss  Instances       Size\n"
          ]
        },
        {
          "metadata": {
            "tags": null
          },
          "name": "stderr",
          "output_type": "stream",
          "text": [
            "      48/85      2.35G      1.284     0.8189      1.286         16        640: 100%|██████████| 94/94 [00:30<00:00,  3.07it/s]\n",
            "                 Class     Images  Instances      Box(P          R      mAP50  mAP50-95): 100%|██████████| 5/5 [00:02<00:00,  2.30it/s]"
          ]
        },
        {
          "metadata": {
            "tags": null
          },
          "name": "stdout",
          "output_type": "stream",
          "text": [
            "                   all        140        143      0.879       0.76      0.838      0.479\n"
          ]
        },
        {
          "metadata": {
            "tags": null
          },
          "name": "stderr",
          "output_type": "stream",
          "text": [
            "\n"
          ]
        },
        {
          "metadata": {
            "tags": null
          },
          "name": "stdout",
          "output_type": "stream",
          "text": [
            "\n",
            "      Epoch    GPU_mem   box_loss   cls_loss   dfl_loss  Instances       Size\n"
          ]
        },
        {
          "metadata": {
            "tags": null
          },
          "name": "stderr",
          "output_type": "stream",
          "text": [
            "      49/85      2.35G      1.254     0.7869      1.279         26        640: 100%|██████████| 94/94 [00:29<00:00,  3.16it/s]\n",
            "                 Class     Images  Instances      Box(P          R      mAP50  mAP50-95): 100%|██████████| 5/5 [00:01<00:00,  2.51it/s]"
          ]
        },
        {
          "metadata": {
            "tags": null
          },
          "name": "stdout",
          "output_type": "stream",
          "text": [
            "                   all        140        143      0.903      0.706      0.802      0.453\n"
          ]
        },
        {
          "metadata": {
            "tags": null
          },
          "name": "stderr",
          "output_type": "stream",
          "text": [
            "\n"
          ]
        },
        {
          "metadata": {
            "tags": null
          },
          "name": "stdout",
          "output_type": "stream",
          "text": [
            "\n",
            "      Epoch    GPU_mem   box_loss   cls_loss   dfl_loss  Instances       Size\n"
          ]
        },
        {
          "metadata": {
            "tags": null
          },
          "name": "stderr",
          "output_type": "stream",
          "text": [
            "      50/85      2.35G      1.257     0.7889      1.267         17        640: 100%|██████████| 94/94 [00:31<00:00,  3.02it/s]\n",
            "                 Class     Images  Instances      Box(P          R      mAP50  mAP50-95): 100%|██████████| 5/5 [00:01<00:00,  3.90it/s]"
          ]
        },
        {
          "metadata": {
            "tags": null
          },
          "name": "stdout",
          "output_type": "stream",
          "text": [
            "                   all        140        143      0.885      0.757      0.838      0.467\n"
          ]
        },
        {
          "metadata": {
            "tags": null
          },
          "name": "stderr",
          "output_type": "stream",
          "text": [
            "\n"
          ]
        },
        {
          "metadata": {
            "tags": null
          },
          "name": "stdout",
          "output_type": "stream",
          "text": [
            "\n",
            "      Epoch    GPU_mem   box_loss   cls_loss   dfl_loss  Instances       Size\n"
          ]
        },
        {
          "metadata": {
            "tags": null
          },
          "name": "stderr",
          "output_type": "stream",
          "text": [
            "      51/85      2.35G      1.252     0.7851      1.264         13        640: 100%|██████████| 94/94 [00:32<00:00,  2.85it/s]\n",
            "                 Class     Images  Instances      Box(P          R      mAP50  mAP50-95): 100%|██████████| 5/5 [00:01<00:00,  4.28it/s]"
          ]
        },
        {
          "metadata": {
            "tags": null
          },
          "name": "stdout",
          "output_type": "stream",
          "text": [
            "                   all        140        143      0.882      0.804      0.865      0.491\n"
          ]
        },
        {
          "metadata": {
            "tags": null
          },
          "name": "stderr",
          "output_type": "stream",
          "text": [
            "\n"
          ]
        },
        {
          "metadata": {
            "tags": null
          },
          "name": "stdout",
          "output_type": "stream",
          "text": [
            "\n",
            "      Epoch    GPU_mem   box_loss   cls_loss   dfl_loss  Instances       Size\n"
          ]
        },
        {
          "metadata": {
            "tags": null
          },
          "name": "stderr",
          "output_type": "stream",
          "text": [
            "      52/85      2.35G      1.229     0.7775      1.253         26        640: 100%|██████████| 94/94 [00:33<00:00,  2.83it/s]\n",
            "                 Class     Images  Instances      Box(P          R      mAP50  mAP50-95): 100%|██████████| 5/5 [00:01<00:00,  4.13it/s]"
          ]
        },
        {
          "metadata": {
            "tags": null
          },
          "name": "stdout",
          "output_type": "stream",
          "text": [
            "                   all        140        143      0.939      0.734      0.865      0.481\n"
          ]
        },
        {
          "metadata": {
            "tags": null
          },
          "name": "stderr",
          "output_type": "stream",
          "text": [
            "\n"
          ]
        },
        {
          "metadata": {
            "tags": null
          },
          "name": "stdout",
          "output_type": "stream",
          "text": [
            "\n",
            "      Epoch    GPU_mem   box_loss   cls_loss   dfl_loss  Instances       Size\n"
          ]
        },
        {
          "metadata": {
            "tags": null
          },
          "name": "stderr",
          "output_type": "stream",
          "text": [
            "      53/85      2.35G      1.236     0.7708      1.261         12        640: 100%|██████████| 94/94 [00:32<00:00,  2.89it/s]\n",
            "                 Class     Images  Instances      Box(P          R      mAP50  mAP50-95): 100%|██████████| 5/5 [00:01<00:00,  4.27it/s]"
          ]
        },
        {
          "metadata": {
            "tags": null
          },
          "name": "stdout",
          "output_type": "stream",
          "text": [
            "                   all        140        143      0.934      0.811      0.865      0.494\n"
          ]
        },
        {
          "metadata": {
            "tags": null
          },
          "name": "stderr",
          "output_type": "stream",
          "text": [
            "\n"
          ]
        },
        {
          "metadata": {
            "tags": null
          },
          "name": "stdout",
          "output_type": "stream",
          "text": [
            "\n",
            "      Epoch    GPU_mem   box_loss   cls_loss   dfl_loss  Instances       Size\n"
          ]
        },
        {
          "metadata": {
            "tags": null
          },
          "name": "stderr",
          "output_type": "stream",
          "text": [
            "      54/85      2.35G      1.222     0.7544      1.255         20        640: 100%|██████████| 94/94 [00:31<00:00,  2.97it/s]\n",
            "                 Class     Images  Instances      Box(P          R      mAP50  mAP50-95): 100%|██████████| 5/5 [00:02<00:00,  2.19it/s]"
          ]
        },
        {
          "metadata": {
            "tags": null
          },
          "name": "stdout",
          "output_type": "stream",
          "text": [
            "                   all        140        143      0.852      0.726       0.81      0.443\n"
          ]
        },
        {
          "metadata": {
            "tags": null
          },
          "name": "stderr",
          "output_type": "stream",
          "text": [
            "\n"
          ]
        },
        {
          "metadata": {
            "tags": null
          },
          "name": "stdout",
          "output_type": "stream",
          "text": [
            "\n",
            "      Epoch    GPU_mem   box_loss   cls_loss   dfl_loss  Instances       Size\n"
          ]
        },
        {
          "metadata": {
            "tags": null
          },
          "name": "stderr",
          "output_type": "stream",
          "text": [
            "      55/85      2.35G      1.202     0.7325       1.24         21        640: 100%|██████████| 94/94 [00:29<00:00,  3.21it/s]\n",
            "                 Class     Images  Instances      Box(P          R      mAP50  mAP50-95): 100%|██████████| 5/5 [00:02<00:00,  2.38it/s]"
          ]
        },
        {
          "metadata": {
            "tags": null
          },
          "name": "stdout",
          "output_type": "stream",
          "text": [
            "                   all        140        143      0.938      0.745      0.867      0.493\n"
          ]
        },
        {
          "metadata": {
            "tags": null
          },
          "name": "stderr",
          "output_type": "stream",
          "text": [
            "\n"
          ]
        },
        {
          "metadata": {
            "tags": null
          },
          "name": "stdout",
          "output_type": "stream",
          "text": [
            "\n",
            "      Epoch    GPU_mem   box_loss   cls_loss   dfl_loss  Instances       Size\n"
          ]
        },
        {
          "metadata": {
            "tags": null
          },
          "name": "stderr",
          "output_type": "stream",
          "text": [
            "      56/85      2.35G      1.221      0.752      1.246         20        640: 100%|██████████| 94/94 [00:29<00:00,  3.16it/s]\n",
            "                 Class     Images  Instances      Box(P          R      mAP50  mAP50-95): 100%|██████████| 5/5 [00:01<00:00,  3.79it/s]"
          ]
        },
        {
          "metadata": {
            "tags": null
          },
          "name": "stdout",
          "output_type": "stream",
          "text": [
            "                   all        140        143      0.926      0.741      0.855      0.482\n"
          ]
        },
        {
          "metadata": {
            "tags": null
          },
          "name": "stderr",
          "output_type": "stream",
          "text": [
            "\n"
          ]
        },
        {
          "metadata": {
            "tags": null
          },
          "name": "stdout",
          "output_type": "stream",
          "text": [
            "\n",
            "      Epoch    GPU_mem   box_loss   cls_loss   dfl_loss  Instances       Size\n"
          ]
        },
        {
          "metadata": {
            "tags": null
          },
          "name": "stderr",
          "output_type": "stream",
          "text": [
            "      57/85      2.35G      1.192     0.7308      1.223         23        640: 100%|██████████| 94/94 [00:31<00:00,  3.00it/s]\n",
            "                 Class     Images  Instances      Box(P          R      mAP50  mAP50-95): 100%|██████████| 5/5 [00:01<00:00,  4.11it/s]"
          ]
        },
        {
          "metadata": {
            "tags": null
          },
          "name": "stdout",
          "output_type": "stream",
          "text": [
            "                   all        140        143      0.916      0.762      0.854      0.482\n"
          ]
        },
        {
          "metadata": {
            "tags": null
          },
          "name": "stderr",
          "output_type": "stream",
          "text": [
            "\n"
          ]
        },
        {
          "metadata": {
            "tags": null
          },
          "name": "stdout",
          "output_type": "stream",
          "text": [
            "\n",
            "      Epoch    GPU_mem   box_loss   cls_loss   dfl_loss  Instances       Size\n"
          ]
        },
        {
          "metadata": {
            "tags": null
          },
          "name": "stderr",
          "output_type": "stream",
          "text": [
            "      58/85      2.36G       1.19     0.7237      1.221         23        640: 100%|██████████| 94/94 [00:30<00:00,  3.03it/s]\n",
            "                 Class     Images  Instances      Box(P          R      mAP50  mAP50-95): 100%|██████████| 5/5 [00:01<00:00,  4.61it/s]"
          ]
        },
        {
          "metadata": {
            "tags": null
          },
          "name": "stdout",
          "output_type": "stream",
          "text": [
            "                   all        140        143      0.896       0.78      0.876      0.487\n"
          ]
        },
        {
          "metadata": {
            "tags": null
          },
          "name": "stderr",
          "output_type": "stream",
          "text": [
            "\n"
          ]
        },
        {
          "metadata": {
            "tags": null
          },
          "name": "stdout",
          "output_type": "stream",
          "text": [
            "\n",
            "      Epoch    GPU_mem   box_loss   cls_loss   dfl_loss  Instances       Size\n"
          ]
        },
        {
          "metadata": {
            "tags": null
          },
          "name": "stderr",
          "output_type": "stream",
          "text": [
            "      59/85      2.35G      1.171     0.7255      1.218         22        640: 100%|██████████| 94/94 [00:31<00:00,  2.95it/s]\n",
            "                 Class     Images  Instances      Box(P          R      mAP50  mAP50-95): 100%|██████████| 5/5 [00:01<00:00,  4.09it/s]"
          ]
        },
        {
          "metadata": {
            "tags": null
          },
          "name": "stdout",
          "output_type": "stream",
          "text": [
            "                   all        140        143      0.919      0.783       0.87      0.485\n"
          ]
        },
        {
          "metadata": {
            "tags": null
          },
          "name": "stderr",
          "output_type": "stream",
          "text": [
            "\n"
          ]
        },
        {
          "metadata": {
            "tags": null
          },
          "name": "stdout",
          "output_type": "stream",
          "text": [
            "\n",
            "      Epoch    GPU_mem   box_loss   cls_loss   dfl_loss  Instances       Size\n"
          ]
        },
        {
          "metadata": {
            "tags": null
          },
          "name": "stderr",
          "output_type": "stream",
          "text": [
            "      60/85      2.35G      1.148     0.7007      1.197         20        640: 100%|██████████| 94/94 [00:30<00:00,  3.11it/s]\n",
            "                 Class     Images  Instances      Box(P          R      mAP50  mAP50-95): 100%|██████████| 5/5 [00:02<00:00,  1.91it/s]"
          ]
        },
        {
          "metadata": {
            "tags": null
          },
          "name": "stdout",
          "output_type": "stream",
          "text": [
            "                   all        140        143      0.881      0.777      0.848      0.476\n"
          ]
        },
        {
          "metadata": {
            "tags": null
          },
          "name": "stderr",
          "output_type": "stream",
          "text": [
            "\n"
          ]
        },
        {
          "metadata": {
            "tags": null
          },
          "name": "stdout",
          "output_type": "stream",
          "text": [
            "\n",
            "      Epoch    GPU_mem   box_loss   cls_loss   dfl_loss  Instances       Size\n"
          ]
        },
        {
          "metadata": {
            "tags": null
          },
          "name": "stderr",
          "output_type": "stream",
          "text": [
            "      61/85      2.35G      1.147      0.683      1.206         20        640: 100%|██████████| 94/94 [00:28<00:00,  3.24it/s]\n",
            "                 Class     Images  Instances      Box(P          R      mAP50  mAP50-95): 100%|██████████| 5/5 [00:01<00:00,  2.58it/s]"
          ]
        },
        {
          "metadata": {
            "tags": null
          },
          "name": "stdout",
          "output_type": "stream",
          "text": [
            "                   all        140        143      0.882      0.762      0.862      0.497\n"
          ]
        },
        {
          "metadata": {
            "tags": null
          },
          "name": "stderr",
          "output_type": "stream",
          "text": [
            "\n"
          ]
        },
        {
          "metadata": {
            "tags": null
          },
          "name": "stdout",
          "output_type": "stream",
          "text": [
            "\n",
            "      Epoch    GPU_mem   box_loss   cls_loss   dfl_loss  Instances       Size\n"
          ]
        },
        {
          "metadata": {
            "tags": null
          },
          "name": "stderr",
          "output_type": "stream",
          "text": [
            "      62/85      2.36G      1.142        0.7      1.199         22        640: 100%|██████████| 94/94 [00:29<00:00,  3.17it/s]\n",
            "                 Class     Images  Instances      Box(P          R      mAP50  mAP50-95): 100%|██████████| 5/5 [00:01<00:00,  4.04it/s]"
          ]
        },
        {
          "metadata": {
            "tags": null
          },
          "name": "stdout",
          "output_type": "stream",
          "text": [
            "                   all        140        143      0.885      0.808      0.865      0.492\n"
          ]
        },
        {
          "metadata": {
            "tags": null
          },
          "name": "stderr",
          "output_type": "stream",
          "text": [
            "\n"
          ]
        },
        {
          "metadata": {
            "tags": null
          },
          "name": "stdout",
          "output_type": "stream",
          "text": [
            "\n",
            "      Epoch    GPU_mem   box_loss   cls_loss   dfl_loss  Instances       Size\n"
          ]
        },
        {
          "metadata": {
            "tags": null
          },
          "name": "stderr",
          "output_type": "stream",
          "text": [
            "      63/85      2.35G      1.114     0.6722      1.188         13        640: 100%|██████████| 94/94 [00:31<00:00,  2.95it/s]\n",
            "                 Class     Images  Instances      Box(P          R      mAP50  mAP50-95): 100%|██████████| 5/5 [00:01<00:00,  3.69it/s]"
          ]
        },
        {
          "metadata": {
            "tags": null
          },
          "name": "stdout",
          "output_type": "stream",
          "text": [
            "                   all        140        143      0.933      0.755      0.842      0.476\n"
          ]
        },
        {
          "metadata": {
            "tags": null
          },
          "name": "stderr",
          "output_type": "stream",
          "text": [
            "\n"
          ]
        },
        {
          "metadata": {
            "tags": null
          },
          "name": "stdout",
          "output_type": "stream",
          "text": [
            "\n",
            "      Epoch    GPU_mem   box_loss   cls_loss   dfl_loss  Instances       Size\n"
          ]
        },
        {
          "output_type": "stream",
          "name": "stderr",
          "text": [
            "      64/85      2.35G       1.11     0.6653      1.175         13        640: 100%|██████████| 94/94 [00:33<00:00,  2.83it/s]\n",
            "                 Class     Images  Instances      Box(P          R      mAP50  mAP50-95): 100%|██████████| 5/5 [00:01<00:00,  3.87it/s]"
          ]
        },
        {
          "output_type": "stream",
          "name": "stdout",
          "text": [
            "                   all        140        143      0.927      0.769      0.852      0.495\n"
          ]
        },
        {
          "output_type": "stream",
          "name": "stderr",
          "text": [
            "\n"
          ]
        },
        {
          "output_type": "stream",
          "name": "stdout",
          "text": [
            "\n",
            "      Epoch    GPU_mem   box_loss   cls_loss   dfl_loss  Instances       Size\n"
          ]
        },
        {
          "output_type": "stream",
          "name": "stderr",
          "text": [
            "      65/85      2.35G      1.117     0.6695      1.173         29        640: 100%|██████████| 94/94 [00:33<00:00,  2.83it/s]\n",
            "                 Class     Images  Instances      Box(P          R      mAP50  mAP50-95): 100%|██████████| 5/5 [00:01<00:00,  3.53it/s]"
          ]
        },
        {
          "output_type": "stream",
          "name": "stdout",
          "text": [
            "                   all        140        143      0.872       0.79      0.859      0.481\n"
          ]
        },
        {
          "output_type": "stream",
          "name": "stderr",
          "text": [
            "\n"
          ]
        },
        {
          "output_type": "stream",
          "name": "stdout",
          "text": [
            "\n",
            "      Epoch    GPU_mem   box_loss   cls_loss   dfl_loss  Instances       Size\n"
          ]
        },
        {
          "output_type": "stream",
          "name": "stderr",
          "text": [
            "      66/85      2.35G      1.101     0.6694      1.172         17        640: 100%|██████████| 94/94 [00:32<00:00,  2.91it/s]\n",
            "                 Class     Images  Instances      Box(P          R      mAP50  mAP50-95): 100%|██████████| 5/5 [00:02<00:00,  2.25it/s]"
          ]
        },
        {
          "output_type": "stream",
          "name": "stdout",
          "text": [
            "                   all        140        143      0.906      0.804       0.86      0.493\n"
          ]
        },
        {
          "output_type": "stream",
          "name": "stderr",
          "text": [
            "\n"
          ]
        },
        {
          "output_type": "stream",
          "name": "stdout",
          "text": [
            "\n",
            "      Epoch    GPU_mem   box_loss   cls_loss   dfl_loss  Instances       Size\n"
          ]
        },
        {
          "output_type": "stream",
          "name": "stderr",
          "text": [
            "      67/85      2.35G      1.105     0.6522      1.162         20        640: 100%|██████████| 94/94 [00:30<00:00,  3.12it/s]\n",
            "                 Class     Images  Instances      Box(P          R      mAP50  mAP50-95): 100%|██████████| 5/5 [00:02<00:00,  2.44it/s]"
          ]
        },
        {
          "output_type": "stream",
          "name": "stdout",
          "text": [
            "                   all        140        143      0.896       0.79       0.86      0.491\n"
          ]
        },
        {
          "output_type": "stream",
          "name": "stderr",
          "text": [
            "\n"
          ]
        },
        {
          "output_type": "stream",
          "name": "stdout",
          "text": [
            "\n",
            "      Epoch    GPU_mem   box_loss   cls_loss   dfl_loss  Instances       Size\n"
          ]
        },
        {
          "output_type": "stream",
          "name": "stderr",
          "text": [
            "      68/85      2.35G      1.094     0.6514      1.159         22        640: 100%|██████████| 94/94 [00:30<00:00,  3.07it/s]\n",
            "                 Class     Images  Instances      Box(P          R      mAP50  mAP50-95): 100%|██████████| 5/5 [00:01<00:00,  3.22it/s]"
          ]
        },
        {
          "output_type": "stream",
          "name": "stdout",
          "text": [
            "                   all        140        143      0.933      0.755      0.866      0.483\n"
          ]
        },
        {
          "output_type": "stream",
          "name": "stderr",
          "text": [
            "\n"
          ]
        },
        {
          "output_type": "stream",
          "name": "stdout",
          "text": [
            "\n",
            "      Epoch    GPU_mem   box_loss   cls_loss   dfl_loss  Instances       Size\n"
          ]
        },
        {
          "output_type": "stream",
          "name": "stderr",
          "text": [
            "      69/85      2.35G      1.073     0.6539      1.168          9        640: 100%|██████████| 94/94 [00:31<00:00,  2.94it/s]\n",
            "                 Class     Images  Instances      Box(P          R      mAP50  mAP50-95): 100%|██████████| 5/5 [00:01<00:00,  4.09it/s]"
          ]
        },
        {
          "output_type": "stream",
          "name": "stdout",
          "text": [
            "                   all        140        143      0.913       0.79      0.865      0.489\n"
          ]
        },
        {
          "output_type": "stream",
          "name": "stderr",
          "text": [
            "\n"
          ]
        },
        {
          "output_type": "stream",
          "name": "stdout",
          "text": [
            "\n",
            "      Epoch    GPU_mem   box_loss   cls_loss   dfl_loss  Instances       Size\n"
          ]
        },
        {
          "output_type": "stream",
          "name": "stderr",
          "text": [
            "      70/85      2.35G      1.065     0.6456      1.148         21        640: 100%|██████████| 94/94 [00:33<00:00,  2.81it/s]\n",
            "                 Class     Images  Instances      Box(P          R      mAP50  mAP50-95): 100%|██████████| 5/5 [00:01<00:00,  4.28it/s]"
          ]
        },
        {
          "output_type": "stream",
          "name": "stdout",
          "text": [
            "                   all        140        143      0.902       0.79      0.865      0.489\n"
          ]
        },
        {
          "output_type": "stream",
          "name": "stderr",
          "text": [
            "\n"
          ]
        },
        {
          "output_type": "stream",
          "name": "stdout",
          "text": [
            "\n",
            "      Epoch    GPU_mem   box_loss   cls_loss   dfl_loss  Instances       Size\n"
          ]
        },
        {
          "output_type": "stream",
          "name": "stderr",
          "text": [
            "      71/85      2.35G      1.065      0.633       1.15         15        640: 100%|██████████| 94/94 [00:32<00:00,  2.88it/s]\n",
            "                 Class     Images  Instances      Box(P          R      mAP50  mAP50-95): 100%|██████████| 5/5 [00:01<00:00,  4.29it/s]"
          ]
        },
        {
          "output_type": "stream",
          "name": "stdout",
          "text": [
            "                   all        140        143      0.903      0.846       0.89      0.506\n"
          ]
        },
        {
          "output_type": "stream",
          "name": "stderr",
          "text": [
            "\n"
          ]
        },
        {
          "output_type": "stream",
          "name": "stdout",
          "text": [
            "\n",
            "      Epoch    GPU_mem   box_loss   cls_loss   dfl_loss  Instances       Size\n"
          ]
        },
        {
          "output_type": "stream",
          "name": "stderr",
          "text": [
            "      72/85      2.35G      1.034     0.6156       1.13         15        640: 100%|██████████| 94/94 [00:32<00:00,  2.86it/s]\n",
            "                 Class     Images  Instances      Box(P          R      mAP50  mAP50-95): 100%|██████████| 5/5 [00:01<00:00,  2.92it/s]"
          ]
        },
        {
          "output_type": "stream",
          "name": "stdout",
          "text": [
            "                   all        140        143      0.925      0.825      0.894      0.511\n"
          ]
        },
        {
          "output_type": "stream",
          "name": "stderr",
          "text": [
            "\n"
          ]
        },
        {
          "output_type": "stream",
          "name": "stdout",
          "text": [
            "\n",
            "      Epoch    GPU_mem   box_loss   cls_loss   dfl_loss  Instances       Size\n"
          ]
        },
        {
          "output_type": "stream",
          "name": "stderr",
          "text": [
            "      73/85      2.35G      1.052     0.6242      1.136         14        640: 100%|██████████| 94/94 [00:30<00:00,  3.07it/s]\n",
            "                 Class     Images  Instances      Box(P          R      mAP50  mAP50-95): 100%|██████████| 5/5 [00:02<00:00,  2.38it/s]"
          ]
        },
        {
          "output_type": "stream",
          "name": "stdout",
          "text": [
            "                   all        140        143      0.882      0.811      0.869      0.504\n"
          ]
        },
        {
          "output_type": "stream",
          "name": "stderr",
          "text": [
            "\n"
          ]
        },
        {
          "output_type": "stream",
          "name": "stdout",
          "text": [
            "\n",
            "      Epoch    GPU_mem   box_loss   cls_loss   dfl_loss  Instances       Size\n"
          ]
        },
        {
          "output_type": "stream",
          "name": "stderr",
          "text": [
            "      74/85      2.35G       1.05     0.6248      1.151         15        640: 100%|██████████| 94/94 [00:29<00:00,  3.23it/s]\n",
            "                 Class     Images  Instances      Box(P          R      mAP50  mAP50-95): 100%|██████████| 5/5 [00:02<00:00,  2.49it/s]"
          ]
        },
        {
          "output_type": "stream",
          "name": "stdout",
          "text": [
            "                   all        140        143      0.934      0.783      0.876      0.504\n"
          ]
        },
        {
          "output_type": "stream",
          "name": "stderr",
          "text": [
            "\n"
          ]
        },
        {
          "output_type": "stream",
          "name": "stdout",
          "text": [
            "\n",
            "      Epoch    GPU_mem   box_loss   cls_loss   dfl_loss  Instances       Size\n"
          ]
        },
        {
          "output_type": "stream",
          "name": "stderr",
          "text": [
            "      75/85      2.35G      1.046     0.6234      1.147         24        640: 100%|██████████| 94/94 [00:31<00:00,  2.97it/s]\n",
            "                 Class     Images  Instances      Box(P          R      mAP50  mAP50-95): 100%|██████████| 5/5 [00:01<00:00,  4.45it/s]"
          ]
        },
        {
          "output_type": "stream",
          "name": "stdout",
          "text": [
            "                   all        140        143      0.939       0.79      0.868       0.51\n"
          ]
        },
        {
          "output_type": "stream",
          "name": "stderr",
          "text": [
            "\n"
          ]
        },
        {
          "output_type": "stream",
          "name": "stdout",
          "text": [
            "Closing dataloader mosaic\n",
            "\u001b[34m\u001b[1malbumentations: \u001b[0mBlur(p=0.01, blur_limit=(3, 7)), MedianBlur(p=0.01, blur_limit=(3, 7)), ToGray(p=0.01, num_output_channels=3, method='weighted_average'), CLAHE(p=0.01, clip_limit=(1, 4.0), tile_grid_size=(8, 8))\n",
            "\n",
            "      Epoch    GPU_mem   box_loss   cls_loss   dfl_loss  Instances       Size\n"
          ]
        },
        {
          "output_type": "stream",
          "name": "stderr",
          "text": [
            "      76/85      2.53G     0.9996     0.5323      1.125         13        640: 100%|██████████| 94/94 [00:34<00:00,  2.73it/s]\n",
            "                 Class     Images  Instances      Box(P          R      mAP50  mAP50-95): 100%|██████████| 5/5 [00:01<00:00,  4.31it/s]"
          ]
        },
        {
          "output_type": "stream",
          "name": "stdout",
          "text": [
            "                   all        140        143      0.915      0.811      0.849      0.486\n"
          ]
        },
        {
          "output_type": "stream",
          "name": "stderr",
          "text": [
            "\n"
          ]
        },
        {
          "output_type": "stream",
          "name": "stdout",
          "text": [
            "\n",
            "      Epoch    GPU_mem   box_loss   cls_loss   dfl_loss  Instances       Size\n"
          ]
        },
        {
          "output_type": "stream",
          "name": "stderr",
          "text": [
            "      77/85      2.35G      0.958     0.5003      1.102         13        640: 100%|██████████| 94/94 [00:31<00:00,  2.94it/s]\n",
            "                 Class     Images  Instances      Box(P          R      mAP50  mAP50-95): 100%|██████████| 5/5 [00:01<00:00,  4.45it/s]"
          ]
        },
        {
          "output_type": "stream",
          "name": "stdout",
          "text": [
            "                   all        140        143      0.891      0.804      0.867      0.504\n"
          ]
        },
        {
          "output_type": "stream",
          "name": "stderr",
          "text": [
            "\n"
          ]
        },
        {
          "output_type": "stream",
          "name": "stdout",
          "text": [
            "\n",
            "      Epoch    GPU_mem   box_loss   cls_loss   dfl_loss  Instances       Size\n"
          ]
        },
        {
          "output_type": "stream",
          "name": "stderr",
          "text": [
            "      78/85      2.35G     0.9432     0.4936      1.092         11        640: 100%|██████████| 94/94 [00:30<00:00,  3.07it/s]\n",
            "                 Class     Images  Instances      Box(P          R      mAP50  mAP50-95): 100%|██████████| 5/5 [00:02<00:00,  2.23it/s]"
          ]
        },
        {
          "output_type": "stream",
          "name": "stdout",
          "text": [
            "                   all        140        143      0.906      0.818      0.872      0.506\n"
          ]
        },
        {
          "output_type": "stream",
          "name": "stderr",
          "text": [
            "\n"
          ]
        },
        {
          "output_type": "stream",
          "name": "stdout",
          "text": [
            "\n",
            "      Epoch    GPU_mem   box_loss   cls_loss   dfl_loss  Instances       Size\n"
          ]
        },
        {
          "output_type": "stream",
          "name": "stderr",
          "text": [
            "      79/85      2.35G     0.9199     0.4824      1.082         11        640: 100%|██████████| 94/94 [00:28<00:00,  3.26it/s]\n",
            "                 Class     Images  Instances      Box(P          R      mAP50  mAP50-95): 100%|██████████| 5/5 [00:01<00:00,  3.08it/s]"
          ]
        },
        {
          "output_type": "stream",
          "name": "stdout",
          "text": [
            "                   all        140        143      0.879      0.815      0.867      0.501\n"
          ]
        },
        {
          "output_type": "stream",
          "name": "stderr",
          "text": [
            "\n"
          ]
        },
        {
          "output_type": "stream",
          "name": "stdout",
          "text": [
            "\n",
            "      Epoch    GPU_mem   box_loss   cls_loss   dfl_loss  Instances       Size\n"
          ]
        },
        {
          "output_type": "stream",
          "name": "stderr",
          "text": [
            "      80/85      2.35G     0.9165     0.4846       1.08         12        640: 100%|██████████| 94/94 [00:30<00:00,  3.06it/s]\n",
            "                 Class     Images  Instances      Box(P          R      mAP50  mAP50-95): 100%|██████████| 5/5 [00:01<00:00,  3.75it/s]"
          ]
        },
        {
          "output_type": "stream",
          "name": "stdout",
          "text": [
            "                   all        140        143      0.897      0.818      0.869      0.507\n"
          ]
        },
        {
          "output_type": "stream",
          "name": "stderr",
          "text": [
            "\n"
          ]
        },
        {
          "output_type": "stream",
          "name": "stdout",
          "text": [
            "\n",
            "      Epoch    GPU_mem   box_loss   cls_loss   dfl_loss  Instances       Size\n"
          ]
        },
        {
          "output_type": "stream",
          "name": "stderr",
          "text": [
            "      81/85      2.35G     0.9201     0.4691      1.074         12        640: 100%|██████████| 94/94 [00:32<00:00,  2.92it/s]\n",
            "                 Class     Images  Instances      Box(P          R      mAP50  mAP50-95): 100%|██████████| 5/5 [00:01<00:00,  4.13it/s]"
          ]
        },
        {
          "output_type": "stream",
          "name": "stdout",
          "text": [
            "                   all        140        143      0.907      0.825      0.872      0.503\n"
          ]
        },
        {
          "output_type": "stream",
          "name": "stderr",
          "text": [
            "\n"
          ]
        },
        {
          "output_type": "stream",
          "name": "stdout",
          "text": [
            "\n",
            "      Epoch    GPU_mem   box_loss   cls_loss   dfl_loss  Instances       Size\n"
          ]
        },
        {
          "output_type": "stream",
          "name": "stderr",
          "text": [
            "      82/85      2.35G     0.8939     0.4653      1.056         12        640: 100%|██████████| 94/94 [00:30<00:00,  3.05it/s]\n",
            "                 Class     Images  Instances      Box(P          R      mAP50  mAP50-95): 100%|██████████| 5/5 [00:02<00:00,  1.95it/s]"
          ]
        },
        {
          "output_type": "stream",
          "name": "stdout",
          "text": [
            "                   all        140        143      0.886      0.839      0.879      0.512\n"
          ]
        },
        {
          "output_type": "stream",
          "name": "stderr",
          "text": [
            "\n"
          ]
        },
        {
          "output_type": "stream",
          "name": "stdout",
          "text": [
            "\n",
            "      Epoch    GPU_mem   box_loss   cls_loss   dfl_loss  Instances       Size\n"
          ]
        },
        {
          "output_type": "stream",
          "name": "stderr",
          "text": [
            "      83/85      2.35G     0.8794     0.4634      1.056         13        640: 100%|██████████| 94/94 [00:28<00:00,  3.26it/s]\n",
            "                 Class     Images  Instances      Box(P          R      mAP50  mAP50-95): 100%|██████████| 5/5 [00:02<00:00,  2.42it/s]"
          ]
        },
        {
          "output_type": "stream",
          "name": "stdout",
          "text": [
            "                   all        140        143       0.94       0.79      0.873      0.509\n"
          ]
        },
        {
          "output_type": "stream",
          "name": "stderr",
          "text": [
            "\n"
          ]
        },
        {
          "output_type": "stream",
          "name": "stdout",
          "text": [
            "\n",
            "      Epoch    GPU_mem   box_loss   cls_loss   dfl_loss  Instances       Size\n"
          ]
        },
        {
          "output_type": "stream",
          "name": "stderr",
          "text": [
            "      84/85      2.35G     0.8891     0.4587      1.061         15        640: 100%|██████████| 94/94 [00:31<00:00,  3.00it/s]\n",
            "                 Class     Images  Instances      Box(P          R      mAP50  mAP50-95): 100%|██████████| 5/5 [00:01<00:00,  4.43it/s]"
          ]
        },
        {
          "output_type": "stream",
          "name": "stdout",
          "text": [
            "                   all        140        143      0.901      0.831      0.866      0.501\n"
          ]
        },
        {
          "output_type": "stream",
          "name": "stderr",
          "text": [
            "\n"
          ]
        },
        {
          "output_type": "stream",
          "name": "stdout",
          "text": [
            "\n",
            "      Epoch    GPU_mem   box_loss   cls_loss   dfl_loss  Instances       Size\n"
          ]
        },
        {
          "output_type": "stream",
          "name": "stderr",
          "text": [
            "      85/85      2.35G     0.8839     0.4576      1.057         13        640: 100%|██████████| 94/94 [00:31<00:00,  2.94it/s]\n",
            "                 Class     Images  Instances      Box(P          R      mAP50  mAP50-95): 100%|██████████| 5/5 [00:01<00:00,  4.54it/s]\n"
          ]
        },
        {
          "output_type": "stream",
          "name": "stdout",
          "text": [
            "                   all        140        143       0.88      0.821      0.866      0.505\n",
            "\n",
            "85 epochs completed in 0.809 hours.\n",
            "Optimizer stripped from runs/detect/train/weights/last.pt, 5.5MB\n",
            "Optimizer stripped from runs/detect/train/weights/best.pt, 5.5MB\n",
            "\n",
            "Validating runs/detect/train/weights/best.pt...\n",
            "Ultralytics 8.3.5 🚀 Python-3.10.12 torch-2.4.1+cu121 CUDA:0 (Tesla T4, 15102MiB)\n",
            "YOLO11n summary (fused): 238 layers, 2,582,347 parameters, 0 gradients, 6.3 GFLOPs\n"
          ]
        },
        {
          "output_type": "stream",
          "name": "stderr",
          "text": [
            "                 Class     Images  Instances      Box(P          R      mAP50  mAP50-95): 100%|██████████| 5/5 [00:03<00:00,  1.59it/s]\n"
          ]
        },
        {
          "output_type": "stream",
          "name": "stdout",
          "text": [
            "                   all        140        143      0.924      0.825      0.894      0.514\n",
            "Speed: 0.5ms preprocess, 3.0ms inference, 0.0ms loss, 5.5ms postprocess per image\n",
            "Results saved to \u001b[1mruns/detect/train\u001b[0m\n"
          ]
        }
      ]
    },
    {
      "cell_type": "code",
      "source": [
        "model = YOLO('/content/best.pt')\n",
        "results = model.val()\n",
        "# Print specific metrics\n",
        "print(\"Class indices with average precision:\", results.ap_class_index)\n",
        "print(\"Average precision for all classes:\", results.box.all_ap)\n",
        "print(\"Average precision:\", results.box.ap)\n",
        "print(\"Average precision at IoU=0.50:\", results.box.ap50)\n",
        "print(\"Class indices for average precision:\", results.box.ap_class_index)\n",
        "print(\"Class-specific results:\", results.box.class_result)\n",
        "print(\"F1 score:\", results.box.f1)\n",
        "print(\"F1 score curve:\", results.box.f1_curve)\n",
        "print(\"Overall fitness score:\", results.box.fitness)\n",
        "print(\"Mean average precision:\", results.box.map)\n",
        "print(\"Mean average precision at IoU=0.50:\", results.box.map50)\n",
        "print(\"Mean average precision at IoU=0.75:\", results.box.map75)\n",
        "print(\"Mean average precision for different IoU thresholds:\", results.box.maps)\n",
        "print(\"Mean results for different metrics:\", results.box.mean_results)\n",
        "print(\"Mean precision:\", results.box.mp)\n",
        "print(\"Mean recall:\", results.box.mr)\n",
        "print(\"Precision:\", results.box.p)\n",
        "print(\"Precision curve:\", results.box.p_curve)\n",
        "print(\"Precision values:\", results.box.prec_values)\n",
        "print(\"Specific precision metrics:\", results.box.px)\n",
        "print(\"Recall:\", results.box.r)\n",
        "print(\"Recall curve:\", results.box.r_curve)"
      ],
      "metadata": {
        "id": "roEsKSVydPtW",
        "colab": {
          "base_uri": "https://localhost:8080/"
        },
        "outputId": "88d35449-875a-4c4d-9e51-ea75ecc2edd4"
      },
      "execution_count": null,
      "outputs": [
        {
          "output_type": "stream",
          "name": "stdout",
          "text": [
            "Ultralytics 8.3.5 🚀 Python-3.10.12 torch-2.4.1+cu121 CUDA:0 (Tesla T4, 15102MiB)\n",
            "YOLO11n summary (fused): 238 layers, 2,582,347 parameters, 0 gradients, 6.3 GFLOPs\n"
          ]
        },
        {
          "output_type": "stream",
          "name": "stderr",
          "text": [
            "\u001b[34m\u001b[1mval: \u001b[0mScanning /content/dog-nose-1/valid/labels.cache... 140 images, 0 backgrounds, 0 corrupt: 100%|██████████| 140/140 [00:00<?, ?it/s]\n",
            "                 Class     Images  Instances      Box(P          R      mAP50  mAP50-95): 100%|██████████| 9/9 [00:04<00:00,  1.85it/s]\n"
          ]
        },
        {
          "output_type": "stream",
          "name": "stdout",
          "text": [
            "                   all        140        143      0.925      0.825      0.894      0.512\n",
            "Speed: 4.6ms preprocess, 5.6ms inference, 0.0ms loss, 2.9ms postprocess per image\n",
            "Results saved to \u001b[1mruns/detect/val2\u001b[0m\n",
            "Class indices with average precision: [0]\n",
            "Average precision for all classes: [[    0.89403     0.86437     0.85468     0.78051     0.61995     0.53411     0.33998     0.17881    0.048572           0]]\n",
            "Average precision: [     0.5115]\n",
            "Average precision at IoU=0.50: [    0.89403]\n",
            "Class indices for average precision: [0]\n",
            "Class-specific results: <bound method Metric.class_result of ultralytics.utils.metrics.Metric object with attributes:\n",
            "\n",
            "all_ap: array([[    0.89403,     0.86437,     0.85468,     0.78051,     0.61995,     0.53411,     0.33998,     0.17881,    0.048572,           0]])\n",
            "ap: array([     0.5115])\n",
            "ap50: array([    0.89403])\n",
            "ap_class_index: array([0])\n",
            "curves: []\n",
            "curves_results: [[array([          0,    0.001001,    0.002002,    0.003003,    0.004004,    0.005005,    0.006006,    0.007007,    0.008008,    0.009009,     0.01001,    0.011011,    0.012012,    0.013013,    0.014014,    0.015015,    0.016016,    0.017017,    0.018018,    0.019019,     0.02002,    0.021021,    0.022022,    0.023023,\n",
            "          0.024024,    0.025025,    0.026026,    0.027027,    0.028028,    0.029029,     0.03003,    0.031031,    0.032032,    0.033033,    0.034034,    0.035035,    0.036036,    0.037037,    0.038038,    0.039039,     0.04004,    0.041041,    0.042042,    0.043043,    0.044044,    0.045045,    0.046046,    0.047047,\n",
            "          0.048048,    0.049049,     0.05005,    0.051051,    0.052052,    0.053053,    0.054054,    0.055055,    0.056056,    0.057057,    0.058058,    0.059059,     0.06006,    0.061061,    0.062062,    0.063063,    0.064064,    0.065065,    0.066066,    0.067067,    0.068068,    0.069069,     0.07007,    0.071071,\n",
            "          0.072072,    0.073073,    0.074074,    0.075075,    0.076076,    0.077077,    0.078078,    0.079079,     0.08008,    0.081081,    0.082082,    0.083083,    0.084084,    0.085085,    0.086086,    0.087087,    0.088088,    0.089089,     0.09009,    0.091091,    0.092092,    0.093093,    0.094094,    0.095095,\n",
            "          0.096096,    0.097097,    0.098098,    0.099099,      0.1001,      0.1011,      0.1021,      0.1031,      0.1041,     0.10511,     0.10611,     0.10711,     0.10811,     0.10911,     0.11011,     0.11111,     0.11211,     0.11311,     0.11411,     0.11512,     0.11612,     0.11712,     0.11812,     0.11912,\n",
            "           0.12012,     0.12112,     0.12212,     0.12312,     0.12412,     0.12513,     0.12613,     0.12713,     0.12813,     0.12913,     0.13013,     0.13113,     0.13213,     0.13313,     0.13413,     0.13514,     0.13614,     0.13714,     0.13814,     0.13914,     0.14014,     0.14114,     0.14214,     0.14314,\n",
            "           0.14414,     0.14515,     0.14615,     0.14715,     0.14815,     0.14915,     0.15015,     0.15115,     0.15215,     0.15315,     0.15415,     0.15516,     0.15616,     0.15716,     0.15816,     0.15916,     0.16016,     0.16116,     0.16216,     0.16316,     0.16416,     0.16517,     0.16617,     0.16717,\n",
            "           0.16817,     0.16917,     0.17017,     0.17117,     0.17217,     0.17317,     0.17417,     0.17518,     0.17618,     0.17718,     0.17818,     0.17918,     0.18018,     0.18118,     0.18218,     0.18318,     0.18418,     0.18519,     0.18619,     0.18719,     0.18819,     0.18919,     0.19019,     0.19119,\n",
            "           0.19219,     0.19319,     0.19419,      0.1952,      0.1962,      0.1972,      0.1982,      0.1992,      0.2002,      0.2012,      0.2022,      0.2032,      0.2042,     0.20521,     0.20621,     0.20721,     0.20821,     0.20921,     0.21021,     0.21121,     0.21221,     0.21321,     0.21421,     0.21522,\n",
            "           0.21622,     0.21722,     0.21822,     0.21922,     0.22022,     0.22122,     0.22222,     0.22322,     0.22422,     0.22523,     0.22623,     0.22723,     0.22823,     0.22923,     0.23023,     0.23123,     0.23223,     0.23323,     0.23423,     0.23524,     0.23624,     0.23724,     0.23824,     0.23924,\n",
            "           0.24024,     0.24124,     0.24224,     0.24324,     0.24424,     0.24525,     0.24625,     0.24725,     0.24825,     0.24925,     0.25025,     0.25125,     0.25225,     0.25325,     0.25425,     0.25526,     0.25626,     0.25726,     0.25826,     0.25926,     0.26026,     0.26126,     0.26226,     0.26326,\n",
            "           0.26426,     0.26527,     0.26627,     0.26727,     0.26827,     0.26927,     0.27027,     0.27127,     0.27227,     0.27327,     0.27427,     0.27528,     0.27628,     0.27728,     0.27828,     0.27928,     0.28028,     0.28128,     0.28228,     0.28328,     0.28428,     0.28529,     0.28629,     0.28729,\n",
            "           0.28829,     0.28929,     0.29029,     0.29129,     0.29229,     0.29329,     0.29429,      0.2953,      0.2963,      0.2973,      0.2983,      0.2993,      0.3003,      0.3013,      0.3023,      0.3033,      0.3043,     0.30531,     0.30631,     0.30731,     0.30831,     0.30931,     0.31031,     0.31131,\n",
            "           0.31231,     0.31331,     0.31431,     0.31532,     0.31632,     0.31732,     0.31832,     0.31932,     0.32032,     0.32132,     0.32232,     0.32332,     0.32432,     0.32533,     0.32633,     0.32733,     0.32833,     0.32933,     0.33033,     0.33133,     0.33233,     0.33333,     0.33433,     0.33534,\n",
            "           0.33634,     0.33734,     0.33834,     0.33934,     0.34034,     0.34134,     0.34234,     0.34334,     0.34434,     0.34535,     0.34635,     0.34735,     0.34835,     0.34935,     0.35035,     0.35135,     0.35235,     0.35335,     0.35435,     0.35536,     0.35636,     0.35736,     0.35836,     0.35936,\n",
            "           0.36036,     0.36136,     0.36236,     0.36336,     0.36436,     0.36537,     0.36637,     0.36737,     0.36837,     0.36937,     0.37037,     0.37137,     0.37237,     0.37337,     0.37437,     0.37538,     0.37638,     0.37738,     0.37838,     0.37938,     0.38038,     0.38138,     0.38238,     0.38338,\n",
            "           0.38438,     0.38539,     0.38639,     0.38739,     0.38839,     0.38939,     0.39039,     0.39139,     0.39239,     0.39339,     0.39439,      0.3954,      0.3964,      0.3974,      0.3984,      0.3994,      0.4004,      0.4014,      0.4024,      0.4034,      0.4044,     0.40541,     0.40641,     0.40741,\n",
            "           0.40841,     0.40941,     0.41041,     0.41141,     0.41241,     0.41341,     0.41441,     0.41542,     0.41642,     0.41742,     0.41842,     0.41942,     0.42042,     0.42142,     0.42242,     0.42342,     0.42442,     0.42543,     0.42643,     0.42743,     0.42843,     0.42943,     0.43043,     0.43143,\n",
            "           0.43243,     0.43343,     0.43443,     0.43544,     0.43644,     0.43744,     0.43844,     0.43944,     0.44044,     0.44144,     0.44244,     0.44344,     0.44444,     0.44545,     0.44645,     0.44745,     0.44845,     0.44945,     0.45045,     0.45145,     0.45245,     0.45345,     0.45445,     0.45546,\n",
            "           0.45646,     0.45746,     0.45846,     0.45946,     0.46046,     0.46146,     0.46246,     0.46346,     0.46446,     0.46547,     0.46647,     0.46747,     0.46847,     0.46947,     0.47047,     0.47147,     0.47247,     0.47347,     0.47447,     0.47548,     0.47648,     0.47748,     0.47848,     0.47948,\n",
            "           0.48048,     0.48148,     0.48248,     0.48348,     0.48448,     0.48549,     0.48649,     0.48749,     0.48849,     0.48949,     0.49049,     0.49149,     0.49249,     0.49349,     0.49449,      0.4955,      0.4965,      0.4975,      0.4985,      0.4995,      0.5005,      0.5015,      0.5025,      0.5035,\n",
            "            0.5045,     0.50551,     0.50651,     0.50751,     0.50851,     0.50951,     0.51051,     0.51151,     0.51251,     0.51351,     0.51451,     0.51552,     0.51652,     0.51752,     0.51852,     0.51952,     0.52052,     0.52152,     0.52252,     0.52352,     0.52452,     0.52553,     0.52653,     0.52753,\n",
            "           0.52853,     0.52953,     0.53053,     0.53153,     0.53253,     0.53353,     0.53453,     0.53554,     0.53654,     0.53754,     0.53854,     0.53954,     0.54054,     0.54154,     0.54254,     0.54354,     0.54454,     0.54555,     0.54655,     0.54755,     0.54855,     0.54955,     0.55055,     0.55155,\n",
            "           0.55255,     0.55355,     0.55455,     0.55556,     0.55656,     0.55756,     0.55856,     0.55956,     0.56056,     0.56156,     0.56256,     0.56356,     0.56456,     0.56557,     0.56657,     0.56757,     0.56857,     0.56957,     0.57057,     0.57157,     0.57257,     0.57357,     0.57457,     0.57558,\n",
            "           0.57658,     0.57758,     0.57858,     0.57958,     0.58058,     0.58158,     0.58258,     0.58358,     0.58458,     0.58559,     0.58659,     0.58759,     0.58859,     0.58959,     0.59059,     0.59159,     0.59259,     0.59359,     0.59459,      0.5956,      0.5966,      0.5976,      0.5986,      0.5996,\n",
            "            0.6006,      0.6016,      0.6026,      0.6036,      0.6046,     0.60561,     0.60661,     0.60761,     0.60861,     0.60961,     0.61061,     0.61161,     0.61261,     0.61361,     0.61461,     0.61562,     0.61662,     0.61762,     0.61862,     0.61962,     0.62062,     0.62162,     0.62262,     0.62362,\n",
            "           0.62462,     0.62563,     0.62663,     0.62763,     0.62863,     0.62963,     0.63063,     0.63163,     0.63263,     0.63363,     0.63463,     0.63564,     0.63664,     0.63764,     0.63864,     0.63964,     0.64064,     0.64164,     0.64264,     0.64364,     0.64464,     0.64565,     0.64665,     0.64765,\n",
            "           0.64865,     0.64965,     0.65065,     0.65165,     0.65265,     0.65365,     0.65465,     0.65566,     0.65666,     0.65766,     0.65866,     0.65966,     0.66066,     0.66166,     0.66266,     0.66366,     0.66466,     0.66567,     0.66667,     0.66767,     0.66867,     0.66967,     0.67067,     0.67167,\n",
            "           0.67267,     0.67367,     0.67467,     0.67568,     0.67668,     0.67768,     0.67868,     0.67968,     0.68068,     0.68168,     0.68268,     0.68368,     0.68468,     0.68569,     0.68669,     0.68769,     0.68869,     0.68969,     0.69069,     0.69169,     0.69269,     0.69369,     0.69469,      0.6957,\n",
            "            0.6967,      0.6977,      0.6987,      0.6997,      0.7007,      0.7017,      0.7027,      0.7037,      0.7047,     0.70571,     0.70671,     0.70771,     0.70871,     0.70971,     0.71071,     0.71171,     0.71271,     0.71371,     0.71471,     0.71572,     0.71672,     0.71772,     0.71872,     0.71972,\n",
            "           0.72072,     0.72172,     0.72272,     0.72372,     0.72472,     0.72573,     0.72673,     0.72773,     0.72873,     0.72973,     0.73073,     0.73173,     0.73273,     0.73373,     0.73473,     0.73574,     0.73674,     0.73774,     0.73874,     0.73974,     0.74074,     0.74174,     0.74274,     0.74374,\n",
            "           0.74474,     0.74575,     0.74675,     0.74775,     0.74875,     0.74975,     0.75075,     0.75175,     0.75275,     0.75375,     0.75475,     0.75576,     0.75676,     0.75776,     0.75876,     0.75976,     0.76076,     0.76176,     0.76276,     0.76376,     0.76476,     0.76577,     0.76677,     0.76777,\n",
            "           0.76877,     0.76977,     0.77077,     0.77177,     0.77277,     0.77377,     0.77477,     0.77578,     0.77678,     0.77778,     0.77878,     0.77978,     0.78078,     0.78178,     0.78278,     0.78378,     0.78478,     0.78579,     0.78679,     0.78779,     0.78879,     0.78979,     0.79079,     0.79179,\n",
            "           0.79279,     0.79379,     0.79479,      0.7958,      0.7968,      0.7978,      0.7988,      0.7998,      0.8008,      0.8018,      0.8028,      0.8038,      0.8048,     0.80581,     0.80681,     0.80781,     0.80881,     0.80981,     0.81081,     0.81181,     0.81281,     0.81381,     0.81481,     0.81582,\n",
            "           0.81682,     0.81782,     0.81882,     0.81982,     0.82082,     0.82182,     0.82282,     0.82382,     0.82482,     0.82583,     0.82683,     0.82783,     0.82883,     0.82983,     0.83083,     0.83183,     0.83283,     0.83383,     0.83483,     0.83584,     0.83684,     0.83784,     0.83884,     0.83984,\n",
            "           0.84084,     0.84184,     0.84284,     0.84384,     0.84484,     0.84585,     0.84685,     0.84785,     0.84885,     0.84985,     0.85085,     0.85185,     0.85285,     0.85385,     0.85485,     0.85586,     0.85686,     0.85786,     0.85886,     0.85986,     0.86086,     0.86186,     0.86286,     0.86386,\n",
            "           0.86486,     0.86587,     0.86687,     0.86787,     0.86887,     0.86987,     0.87087,     0.87187,     0.87287,     0.87387,     0.87487,     0.87588,     0.87688,     0.87788,     0.87888,     0.87988,     0.88088,     0.88188,     0.88288,     0.88388,     0.88488,     0.88589,     0.88689,     0.88789,\n",
            "           0.88889,     0.88989,     0.89089,     0.89189,     0.89289,     0.89389,     0.89489,      0.8959,      0.8969,      0.8979,      0.8989,      0.8999,      0.9009,      0.9019,      0.9029,      0.9039,      0.9049,     0.90591,     0.90691,     0.90791,     0.90891,     0.90991,     0.91091,     0.91191,\n",
            "           0.91291,     0.91391,     0.91491,     0.91592,     0.91692,     0.91792,     0.91892,     0.91992,     0.92092,     0.92192,     0.92292,     0.92392,     0.92492,     0.92593,     0.92693,     0.92793,     0.92893,     0.92993,     0.93093,     0.93193,     0.93293,     0.93393,     0.93493,     0.93594,\n",
            "           0.93694,     0.93794,     0.93894,     0.93994,     0.94094,     0.94194,     0.94294,     0.94394,     0.94494,     0.94595,     0.94695,     0.94795,     0.94895,     0.94995,     0.95095,     0.95195,     0.95295,     0.95395,     0.95495,     0.95596,     0.95696,     0.95796,     0.95896,     0.95996,\n",
            "           0.96096,     0.96196,     0.96296,     0.96396,     0.96496,     0.96597,     0.96697,     0.96797,     0.96897,     0.96997,     0.97097,     0.97197,     0.97297,     0.97397,     0.97497,     0.97598,     0.97698,     0.97798,     0.97898,     0.97998,     0.98098,     0.98198,     0.98298,     0.98398,\n",
            "           0.98498,     0.98599,     0.98699,     0.98799,     0.98899,     0.98999,     0.99099,     0.99199,     0.99299,     0.99399,     0.99499,       0.996,       0.997,       0.998,       0.999,           1]), array([[          1,           1,           1,           1,           1,           1,           1,           1,           1,           1,           1,           1,           1,           1,           1,           1,           1,           1,           1,           1,           1,           1,           1,\n",
            "                  1,           1,           1,           1,           1,           1,           1,           1,           1,           1,           1,           1,           1,           1,           1,           1,           1,           1,           1,           1,           1,           1,           1,\n",
            "                  1,           1,           1,           1,           1,           1,           1,           1,           1,           1,           1,           1,           1,           1,           1,           1,           1,           1,           1,           1,           1,           1,           1,\n",
            "                  1,           1,           1,           1,           1,           1,           1,           1,           1,           1,           1,           1,           1,           1,           1,           1,           1,           1,           1,           1,           1,           1,           1,\n",
            "                  1,           1,           1,           1,           1,           1,           1,           1,           1,           1,           1,           1,           1,           1,           1,           1,           1,           1,           1,           1,           1,           1,           1,\n",
            "                  1,           1,           1,           1,           1,           1,           1,           1,           1,           1,           1,           1,           1,           1,           1,           1,           1,           1,           1,           1,           1,           1,           1,\n",
            "                  1,           1,           1,           1,           1,           1,           1,           1,           1,           1,           1,           1,           1,           1,           1,           1,           1,           1,           1,           1,           1,           1,           1,\n",
            "                  1,           1,           1,           1,           1,           1,           1,           1,           1,           1,           1,           1,           1,           1,           1,           1,           1,           1,           1,           1,           1,           1,           1,\n",
            "                  1,           1,           1,           1,           1,           1,           1,           1,           1,           1,           1,           1,           1,           1,           1,           1,           1,           1,           1,           1,           1,           1,           1,\n",
            "                  1,           1,           1,           1,           1,           1,           1,           1,           1,           1,           1,           1,           1,           1,           1,           1,           1,           1,           1,           1,           1,           1,           1,\n",
            "                  1,           1,           1,           1,           1,           1,           1,           1,           1,           1,           1,           1,           1,           1,           1,           1,           1,           1,           1,           1,           1,           1,           1,\n",
            "                  1,           1,           1,           1,           1,           1,           1,           1,           1,           1,           1,           1,           1,           1,           1,           1,           1,           1,           1,           1,           1,           1,           1,\n",
            "                  1,           1,           1,           1,           1,           1,           1,           1,           1,           1,           1,           1,           1,           1,           1,           1,           1,           1,           1,           1,           1,           1,           1,\n",
            "                  1,           1,           1,           1,           1,           1,           1,           1,           1,           1,           1,           1,           1,           1,           1,           1,           1,           1,           1,           1,           1,           1,           1,\n",
            "                  1,           1,           1,           1,           1,           1,           1,           1,           1,           1,           1,           1,           1,           1,           1,           1,           1,           1,           1,           1,           1,           1,           1,\n",
            "                  1,           1,           1,           1,           1,           1,           1,           1,           1,           1,           1,           1,           1,           1,           1,           1,           1,           1,           1,           1,           1,           1,           1,\n",
            "                  1,           1,           1,           1,           1,           1,           1,           1,           1,           1,           1,           1,           1,           1,           1,           1,           1,           1,           1,           1,           1,           1,           1,\n",
            "                  1,           1,           1,           1,           1,           1,           1,           1,           1,           1,           1,           1,           1,           1,           1,           1,           1,           1,           1,           1,           1,           1,           1,\n",
            "                  1,           1,           1,           1,           1,           1,           1,           1,           1,           1,           1,           1,           1,           1,           1,           1,           1,           1,           1,           1,           1,           1,           1,\n",
            "                  1,           1,           1,           1,           1,           1,           1,           1,           1,           1,           1,           1,           1,           1,           1,           1,           1,           1,           1,           1,           1,           1,           1,\n",
            "                  1,           1,           1,           1,           1,           1,           1,           1,           1,           1,           1,           1,           1,           1,           1,           1,           1,           1,           1,           1,           1,           1,           1,\n",
            "                  1,           1,           1,           1,           1,           1,           1,           1,           1,           1,           1,           1,           1,           1,           1,           1,           1,           1,           1,           1,           1,           1,           1,\n",
            "                  1,           1,           1,           1,           1,           1,           1,           1,           1,           1,           1,           1,           1,           1,           1,           1,           1,           1,           1,           1,           1,           1,           1,\n",
            "                  1,           1,           1,           1,           1,           1,           1,           1,           1,           1,           1,           1,           1,           1,           1,           1,           1,           1,           1,           1,           1,           1,           1,\n",
            "                  1,           1,           1,           1,           1,           1,           1,           1,           1,           1,           1,           1,           1,           1,           1,           1,           1,           1,           1,           1,           1,           1,           1,\n",
            "                  1,           1,           1,           1,           1,           1,           1,           1,           1,           1,           1,           1,           1,           1,           1,           1,           1,           1,           1,           1,           1,           1,           1,\n",
            "                  1,           1,           1,           1,           1,           1,           1,           1,           1,           1,      0.9901,      0.9901,      0.9901,      0.9901,      0.9901,      0.9901,      0.9901,      0.9901,      0.9901,      0.9901,      0.9901,      0.9901,      0.9901,\n",
            "             0.9901,      0.9901,      0.9901,      0.9901,      0.9901,      0.9901,      0.9901,      0.9901,      0.9901,      0.9901,      0.9901,      0.9901,      0.9901,      0.9901,      0.9901,      0.9901,      0.9901,      0.9901,      0.9901,      0.9901,      0.9901,      0.9901,      0.9901,\n",
            "             0.9901,      0.9901,      0.9901,      0.9901,      0.9901,      0.9901,      0.9901,      0.9901,      0.9901,      0.9901,      0.9901,      0.9901,      0.9901,      0.9901,      0.9901,      0.9901,      0.9901,      0.9901,      0.9901,      0.9901,      0.9901,      0.9901,      0.9901,\n",
            "             0.9901,      0.9901,      0.9901,      0.9901,      0.9901,      0.9901,      0.9901,      0.9901,      0.9901,      0.9901,      0.9901,      0.9901,      0.9901,      0.9901,      0.9901,      0.9901,      0.9901,      0.9901,      0.9901,      0.9901,      0.9901,      0.9901,      0.9901,\n",
            "             0.9901,      0.9901,      0.9901,      0.9901,      0.9901,      0.9901,      0.9901,      0.9901,      0.9901,     0.98058,     0.98058,     0.98058,     0.98058,     0.98058,     0.98058,     0.98058,     0.97391,     0.97391,     0.97391,     0.97391,     0.97391,     0.97391,     0.97391,\n",
            "            0.97391,     0.97391,     0.97391,     0.97391,     0.97391,     0.97391,     0.97391,     0.97391,     0.97391,     0.97391,     0.97391,     0.97391,     0.97391,     0.97391,     0.97391,     0.97391,     0.97391,     0.97391,     0.97391,     0.97391,     0.97391,     0.97391,     0.97391,\n",
            "            0.97391,     0.97391,     0.97391,     0.97391,     0.97391,     0.97391,     0.97391,     0.97391,     0.97391,     0.97391,     0.97391,     0.97391,     0.97391,     0.97391,     0.97391,     0.97391,     0.97391,     0.97391,     0.97391,     0.97391,     0.97391,     0.97391,     0.97391,\n",
            "            0.97391,     0.97391,     0.97391,     0.97391,     0.97391,     0.97391,     0.97391,     0.97391,     0.97391,     0.97391,     0.97391,     0.97391,     0.97391,     0.97391,     0.97391,     0.97391,     0.97391,     0.97391,     0.97391,     0.97391,     0.97391,     0.97391,     0.97391,\n",
            "            0.97391,      0.9661,      0.9661,      0.9661,      0.9661,      0.9661,      0.9661,      0.9661,      0.9661,      0.9661,      0.9661,      0.9661,      0.9661,      0.9661,      0.9661,     0.95868,     0.95868,     0.95868,     0.95868,     0.95868,     0.95868,     0.95868,     0.95868,\n",
            "            0.95868,     0.95868,     0.95868,     0.95868,     0.95868,     0.95868,     0.94355,     0.94355,     0.94355,     0.94355,     0.94355,     0.94355,     0.94355,     0.92913,     0.92913,     0.92913,     0.92913,     0.92913,     0.92913,     0.92913,     0.92248,     0.92248,     0.92248,\n",
            "            0.92248,     0.92248,     0.92248,     0.92248,     0.90226,     0.90226,     0.90226,     0.90226,     0.90226,     0.90226,     0.90226,      0.8662,      0.8662,      0.8662,      0.8662,      0.8662,      0.8662,      0.8662,      0.8662,      0.8662,      0.8662,      0.8662,      0.8662,\n",
            "             0.8662,      0.8662,      0.8662,      0.8662,      0.8662,      0.8662,      0.8662,      0.8662,      0.8662,     0.82667,     0.82667,     0.82667,     0.82667,     0.82667,     0.82667,     0.82667,     0.81169,     0.81169,     0.81169,     0.81169,     0.81169,     0.81169,     0.81169,\n",
            "                0.7,         0.7,         0.7,         0.7,         0.7,         0.7,         0.7,      0.6165,      0.6165,      0.6165,      0.6165,      0.6165,      0.6165,      0.6165,      0.4708,      0.4708,      0.4708,      0.4708,      0.4708,      0.4708,      0.4708,      0.4708,      0.4708,\n",
            "             0.4708,      0.4708,      0.4708,      0.4708,      0.4708,     0.33592,     0.33592,     0.33592,     0.33592,     0.33592,     0.33592,     0.33592,     0.28692,     0.28374,     0.28055,     0.27736,     0.27417,     0.27098,      0.2678,     0.26461,     0.26142,     0.25823,     0.25504,\n",
            "            0.25186,     0.24867,     0.24548,     0.24229,      0.2391,     0.23592,     0.23273,     0.22954,     0.22635,     0.22316,     0.21997,     0.21679,      0.2136,     0.21041,     0.20722,     0.20403,     0.20085,     0.19766,     0.19447,     0.19128,     0.18809,     0.18491,     0.18172,\n",
            "            0.17853,     0.17534,     0.17215,     0.16897,     0.16578,     0.16259,      0.1594,     0.15621,     0.15303,     0.14984,     0.14665,     0.14346,     0.14027,     0.13709,      0.1339,     0.13071,     0.12752,     0.12433,     0.12115,     0.11796,     0.11477,     0.11158,     0.10839,\n",
            "            0.10521,     0.10202,    0.098829,    0.095641,    0.092453,    0.089265,    0.086077,    0.082889,    0.079701,    0.076513,    0.073325,    0.070137,    0.066949,    0.063761,    0.060573,    0.057385,    0.054197,    0.051009,    0.047821,    0.044633,    0.041445,    0.038257,    0.035068,\n",
            "            0.03188,    0.028692,    0.025504,    0.022316,    0.019128,     0.01594,    0.012752,   0.0095641,   0.0063761,    0.003188,           0]]), 'Recall', 'Precision'], [array([          0,    0.001001,    0.002002,    0.003003,    0.004004,    0.005005,    0.006006,    0.007007,    0.008008,    0.009009,     0.01001,    0.011011,    0.012012,    0.013013,    0.014014,    0.015015,    0.016016,    0.017017,    0.018018,    0.019019,     0.02002,    0.021021,    0.022022,    0.023023,\n",
            "          0.024024,    0.025025,    0.026026,    0.027027,    0.028028,    0.029029,     0.03003,    0.031031,    0.032032,    0.033033,    0.034034,    0.035035,    0.036036,    0.037037,    0.038038,    0.039039,     0.04004,    0.041041,    0.042042,    0.043043,    0.044044,    0.045045,    0.046046,    0.047047,\n",
            "          0.048048,    0.049049,     0.05005,    0.051051,    0.052052,    0.053053,    0.054054,    0.055055,    0.056056,    0.057057,    0.058058,    0.059059,     0.06006,    0.061061,    0.062062,    0.063063,    0.064064,    0.065065,    0.066066,    0.067067,    0.068068,    0.069069,     0.07007,    0.071071,\n",
            "          0.072072,    0.073073,    0.074074,    0.075075,    0.076076,    0.077077,    0.078078,    0.079079,     0.08008,    0.081081,    0.082082,    0.083083,    0.084084,    0.085085,    0.086086,    0.087087,    0.088088,    0.089089,     0.09009,    0.091091,    0.092092,    0.093093,    0.094094,    0.095095,\n",
            "          0.096096,    0.097097,    0.098098,    0.099099,      0.1001,      0.1011,      0.1021,      0.1031,      0.1041,     0.10511,     0.10611,     0.10711,     0.10811,     0.10911,     0.11011,     0.11111,     0.11211,     0.11311,     0.11411,     0.11512,     0.11612,     0.11712,     0.11812,     0.11912,\n",
            "           0.12012,     0.12112,     0.12212,     0.12312,     0.12412,     0.12513,     0.12613,     0.12713,     0.12813,     0.12913,     0.13013,     0.13113,     0.13213,     0.13313,     0.13413,     0.13514,     0.13614,     0.13714,     0.13814,     0.13914,     0.14014,     0.14114,     0.14214,     0.14314,\n",
            "           0.14414,     0.14515,     0.14615,     0.14715,     0.14815,     0.14915,     0.15015,     0.15115,     0.15215,     0.15315,     0.15415,     0.15516,     0.15616,     0.15716,     0.15816,     0.15916,     0.16016,     0.16116,     0.16216,     0.16316,     0.16416,     0.16517,     0.16617,     0.16717,\n",
            "           0.16817,     0.16917,     0.17017,     0.17117,     0.17217,     0.17317,     0.17417,     0.17518,     0.17618,     0.17718,     0.17818,     0.17918,     0.18018,     0.18118,     0.18218,     0.18318,     0.18418,     0.18519,     0.18619,     0.18719,     0.18819,     0.18919,     0.19019,     0.19119,\n",
            "           0.19219,     0.19319,     0.19419,      0.1952,      0.1962,      0.1972,      0.1982,      0.1992,      0.2002,      0.2012,      0.2022,      0.2032,      0.2042,     0.20521,     0.20621,     0.20721,     0.20821,     0.20921,     0.21021,     0.21121,     0.21221,     0.21321,     0.21421,     0.21522,\n",
            "           0.21622,     0.21722,     0.21822,     0.21922,     0.22022,     0.22122,     0.22222,     0.22322,     0.22422,     0.22523,     0.22623,     0.22723,     0.22823,     0.22923,     0.23023,     0.23123,     0.23223,     0.23323,     0.23423,     0.23524,     0.23624,     0.23724,     0.23824,     0.23924,\n",
            "           0.24024,     0.24124,     0.24224,     0.24324,     0.24424,     0.24525,     0.24625,     0.24725,     0.24825,     0.24925,     0.25025,     0.25125,     0.25225,     0.25325,     0.25425,     0.25526,     0.25626,     0.25726,     0.25826,     0.25926,     0.26026,     0.26126,     0.26226,     0.26326,\n",
            "           0.26426,     0.26527,     0.26627,     0.26727,     0.26827,     0.26927,     0.27027,     0.27127,     0.27227,     0.27327,     0.27427,     0.27528,     0.27628,     0.27728,     0.27828,     0.27928,     0.28028,     0.28128,     0.28228,     0.28328,     0.28428,     0.28529,     0.28629,     0.28729,\n",
            "           0.28829,     0.28929,     0.29029,     0.29129,     0.29229,     0.29329,     0.29429,      0.2953,      0.2963,      0.2973,      0.2983,      0.2993,      0.3003,      0.3013,      0.3023,      0.3033,      0.3043,     0.30531,     0.30631,     0.30731,     0.30831,     0.30931,     0.31031,     0.31131,\n",
            "           0.31231,     0.31331,     0.31431,     0.31532,     0.31632,     0.31732,     0.31832,     0.31932,     0.32032,     0.32132,     0.32232,     0.32332,     0.32432,     0.32533,     0.32633,     0.32733,     0.32833,     0.32933,     0.33033,     0.33133,     0.33233,     0.33333,     0.33433,     0.33534,\n",
            "           0.33634,     0.33734,     0.33834,     0.33934,     0.34034,     0.34134,     0.34234,     0.34334,     0.34434,     0.34535,     0.34635,     0.34735,     0.34835,     0.34935,     0.35035,     0.35135,     0.35235,     0.35335,     0.35435,     0.35536,     0.35636,     0.35736,     0.35836,     0.35936,\n",
            "           0.36036,     0.36136,     0.36236,     0.36336,     0.36436,     0.36537,     0.36637,     0.36737,     0.36837,     0.36937,     0.37037,     0.37137,     0.37237,     0.37337,     0.37437,     0.37538,     0.37638,     0.37738,     0.37838,     0.37938,     0.38038,     0.38138,     0.38238,     0.38338,\n",
            "           0.38438,     0.38539,     0.38639,     0.38739,     0.38839,     0.38939,     0.39039,     0.39139,     0.39239,     0.39339,     0.39439,      0.3954,      0.3964,      0.3974,      0.3984,      0.3994,      0.4004,      0.4014,      0.4024,      0.4034,      0.4044,     0.40541,     0.40641,     0.40741,\n",
            "           0.40841,     0.40941,     0.41041,     0.41141,     0.41241,     0.41341,     0.41441,     0.41542,     0.41642,     0.41742,     0.41842,     0.41942,     0.42042,     0.42142,     0.42242,     0.42342,     0.42442,     0.42543,     0.42643,     0.42743,     0.42843,     0.42943,     0.43043,     0.43143,\n",
            "           0.43243,     0.43343,     0.43443,     0.43544,     0.43644,     0.43744,     0.43844,     0.43944,     0.44044,     0.44144,     0.44244,     0.44344,     0.44444,     0.44545,     0.44645,     0.44745,     0.44845,     0.44945,     0.45045,     0.45145,     0.45245,     0.45345,     0.45445,     0.45546,\n",
            "           0.45646,     0.45746,     0.45846,     0.45946,     0.46046,     0.46146,     0.46246,     0.46346,     0.46446,     0.46547,     0.46647,     0.46747,     0.46847,     0.46947,     0.47047,     0.47147,     0.47247,     0.47347,     0.47447,     0.47548,     0.47648,     0.47748,     0.47848,     0.47948,\n",
            "           0.48048,     0.48148,     0.48248,     0.48348,     0.48448,     0.48549,     0.48649,     0.48749,     0.48849,     0.48949,     0.49049,     0.49149,     0.49249,     0.49349,     0.49449,      0.4955,      0.4965,      0.4975,      0.4985,      0.4995,      0.5005,      0.5015,      0.5025,      0.5035,\n",
            "            0.5045,     0.50551,     0.50651,     0.50751,     0.50851,     0.50951,     0.51051,     0.51151,     0.51251,     0.51351,     0.51451,     0.51552,     0.51652,     0.51752,     0.51852,     0.51952,     0.52052,     0.52152,     0.52252,     0.52352,     0.52452,     0.52553,     0.52653,     0.52753,\n",
            "           0.52853,     0.52953,     0.53053,     0.53153,     0.53253,     0.53353,     0.53453,     0.53554,     0.53654,     0.53754,     0.53854,     0.53954,     0.54054,     0.54154,     0.54254,     0.54354,     0.54454,     0.54555,     0.54655,     0.54755,     0.54855,     0.54955,     0.55055,     0.55155,\n",
            "           0.55255,     0.55355,     0.55455,     0.55556,     0.55656,     0.55756,     0.55856,     0.55956,     0.56056,     0.56156,     0.56256,     0.56356,     0.56456,     0.56557,     0.56657,     0.56757,     0.56857,     0.56957,     0.57057,     0.57157,     0.57257,     0.57357,     0.57457,     0.57558,\n",
            "           0.57658,     0.57758,     0.57858,     0.57958,     0.58058,     0.58158,     0.58258,     0.58358,     0.58458,     0.58559,     0.58659,     0.58759,     0.58859,     0.58959,     0.59059,     0.59159,     0.59259,     0.59359,     0.59459,      0.5956,      0.5966,      0.5976,      0.5986,      0.5996,\n",
            "            0.6006,      0.6016,      0.6026,      0.6036,      0.6046,     0.60561,     0.60661,     0.60761,     0.60861,     0.60961,     0.61061,     0.61161,     0.61261,     0.61361,     0.61461,     0.61562,     0.61662,     0.61762,     0.61862,     0.61962,     0.62062,     0.62162,     0.62262,     0.62362,\n",
            "           0.62462,     0.62563,     0.62663,     0.62763,     0.62863,     0.62963,     0.63063,     0.63163,     0.63263,     0.63363,     0.63463,     0.63564,     0.63664,     0.63764,     0.63864,     0.63964,     0.64064,     0.64164,     0.64264,     0.64364,     0.64464,     0.64565,     0.64665,     0.64765,\n",
            "           0.64865,     0.64965,     0.65065,     0.65165,     0.65265,     0.65365,     0.65465,     0.65566,     0.65666,     0.65766,     0.65866,     0.65966,     0.66066,     0.66166,     0.66266,     0.66366,     0.66466,     0.66567,     0.66667,     0.66767,     0.66867,     0.66967,     0.67067,     0.67167,\n",
            "           0.67267,     0.67367,     0.67467,     0.67568,     0.67668,     0.67768,     0.67868,     0.67968,     0.68068,     0.68168,     0.68268,     0.68368,     0.68468,     0.68569,     0.68669,     0.68769,     0.68869,     0.68969,     0.69069,     0.69169,     0.69269,     0.69369,     0.69469,      0.6957,\n",
            "            0.6967,      0.6977,      0.6987,      0.6997,      0.7007,      0.7017,      0.7027,      0.7037,      0.7047,     0.70571,     0.70671,     0.70771,     0.70871,     0.70971,     0.71071,     0.71171,     0.71271,     0.71371,     0.71471,     0.71572,     0.71672,     0.71772,     0.71872,     0.71972,\n",
            "           0.72072,     0.72172,     0.72272,     0.72372,     0.72472,     0.72573,     0.72673,     0.72773,     0.72873,     0.72973,     0.73073,     0.73173,     0.73273,     0.73373,     0.73473,     0.73574,     0.73674,     0.73774,     0.73874,     0.73974,     0.74074,     0.74174,     0.74274,     0.74374,\n",
            "           0.74474,     0.74575,     0.74675,     0.74775,     0.74875,     0.74975,     0.75075,     0.75175,     0.75275,     0.75375,     0.75475,     0.75576,     0.75676,     0.75776,     0.75876,     0.75976,     0.76076,     0.76176,     0.76276,     0.76376,     0.76476,     0.76577,     0.76677,     0.76777,\n",
            "           0.76877,     0.76977,     0.77077,     0.77177,     0.77277,     0.77377,     0.77477,     0.77578,     0.77678,     0.77778,     0.77878,     0.77978,     0.78078,     0.78178,     0.78278,     0.78378,     0.78478,     0.78579,     0.78679,     0.78779,     0.78879,     0.78979,     0.79079,     0.79179,\n",
            "           0.79279,     0.79379,     0.79479,      0.7958,      0.7968,      0.7978,      0.7988,      0.7998,      0.8008,      0.8018,      0.8028,      0.8038,      0.8048,     0.80581,     0.80681,     0.80781,     0.80881,     0.80981,     0.81081,     0.81181,     0.81281,     0.81381,     0.81481,     0.81582,\n",
            "           0.81682,     0.81782,     0.81882,     0.81982,     0.82082,     0.82182,     0.82282,     0.82382,     0.82482,     0.82583,     0.82683,     0.82783,     0.82883,     0.82983,     0.83083,     0.83183,     0.83283,     0.83383,     0.83483,     0.83584,     0.83684,     0.83784,     0.83884,     0.83984,\n",
            "           0.84084,     0.84184,     0.84284,     0.84384,     0.84484,     0.84585,     0.84685,     0.84785,     0.84885,     0.84985,     0.85085,     0.85185,     0.85285,     0.85385,     0.85485,     0.85586,     0.85686,     0.85786,     0.85886,     0.85986,     0.86086,     0.86186,     0.86286,     0.86386,\n",
            "           0.86486,     0.86587,     0.86687,     0.86787,     0.86887,     0.86987,     0.87087,     0.87187,     0.87287,     0.87387,     0.87487,     0.87588,     0.87688,     0.87788,     0.87888,     0.87988,     0.88088,     0.88188,     0.88288,     0.88388,     0.88488,     0.88589,     0.88689,     0.88789,\n",
            "           0.88889,     0.88989,     0.89089,     0.89189,     0.89289,     0.89389,     0.89489,      0.8959,      0.8969,      0.8979,      0.8989,      0.8999,      0.9009,      0.9019,      0.9029,      0.9039,      0.9049,     0.90591,     0.90691,     0.90791,     0.90891,     0.90991,     0.91091,     0.91191,\n",
            "           0.91291,     0.91391,     0.91491,     0.91592,     0.91692,     0.91792,     0.91892,     0.91992,     0.92092,     0.92192,     0.92292,     0.92392,     0.92492,     0.92593,     0.92693,     0.92793,     0.92893,     0.92993,     0.93093,     0.93193,     0.93293,     0.93393,     0.93493,     0.93594,\n",
            "           0.93694,     0.93794,     0.93894,     0.93994,     0.94094,     0.94194,     0.94294,     0.94394,     0.94494,     0.94595,     0.94695,     0.94795,     0.94895,     0.94995,     0.95095,     0.95195,     0.95295,     0.95395,     0.95495,     0.95596,     0.95696,     0.95796,     0.95896,     0.95996,\n",
            "           0.96096,     0.96196,     0.96296,     0.96396,     0.96496,     0.96597,     0.96697,     0.96797,     0.96897,     0.96997,     0.97097,     0.97197,     0.97297,     0.97397,     0.97497,     0.97598,     0.97698,     0.97798,     0.97898,     0.97998,     0.98098,     0.98198,     0.98298,     0.98398,\n",
            "           0.98498,     0.98599,     0.98699,     0.98799,     0.98899,     0.98999,     0.99099,     0.99199,     0.99299,     0.99399,     0.99499,       0.996,       0.997,       0.998,       0.999,           1]), array([[    0.43919,     0.43919,      0.5313,     0.59711,     0.63747,     0.66686,     0.68841,     0.70388,     0.71625,     0.72479,      0.7291,     0.73507,     0.73623,     0.73855,     0.74712,     0.74901,     0.75085,     0.75455,     0.75597,     0.75826,     0.76308,     0.76644,     0.76938,\n",
            "            0.77431,     0.77972,     0.77871,     0.78653,     0.79159,     0.79538,     0.79705,     0.79803,     0.79903,     0.80006,     0.80109,     0.80468,      0.8089,     0.81173,     0.81344,     0.81503,     0.81648,     0.81947,     0.82373,     0.82673,     0.83343,     0.83483,     0.83652,\n",
            "             0.8394,     0.84033,     0.84125,     0.84159,     0.84123,     0.84087,     0.84051,     0.84015,     0.83979,     0.83943,     0.83907,     0.83871,     0.83835,     0.83799,     0.83888,     0.84067,     0.84214,     0.84387,     0.84461,     0.84252,     0.84278,     0.84305,     0.84332,\n",
            "            0.84358,     0.84385,     0.84412,     0.84438,     0.84465,     0.84491,     0.84518,     0.84556,     0.84622,     0.84687,     0.84753,     0.84818,     0.84852,     0.84881,      0.8491,     0.84939,     0.84968,     0.84996,     0.85025,     0.85054,     0.85083,     0.85111,     0.85155,\n",
            "            0.85207,     0.85258,      0.8531,     0.85361,     0.85412,     0.85447,     0.85481,     0.85514,     0.85548,     0.85581,     0.85614,     0.85648,     0.85681,     0.85714,      0.8574,     0.85765,      0.8579,     0.85815,      0.8584,     0.85866,     0.85891,     0.85916,     0.85941,\n",
            "            0.85966,     0.85991,     0.86015,     0.86025,     0.86035,     0.86045,     0.86055,     0.86065,     0.86076,     0.86086,     0.86096,     0.86106,     0.86116,     0.86126,     0.86136,     0.86146,     0.86156,     0.86166,     0.86177,     0.86187,     0.86197,     0.86207,     0.86217,\n",
            "            0.86227,     0.86237,     0.86247,     0.86257,     0.86267,     0.86277,     0.86287,     0.86297,     0.86307,     0.86245,     0.85908,     0.85873,     0.85839,     0.85805,      0.8577,     0.85736,     0.85701,     0.85667,     0.85632,     0.85598,     0.85563,     0.85529,     0.85501,\n",
            "            0.85479,     0.85458,     0.85436,     0.85415,     0.85393,     0.85371,      0.8535,     0.85328,     0.85306,     0.85285,     0.85263,     0.85241,      0.8522,     0.85198,     0.85176,     0.85154,     0.85133,     0.85111,     0.85205,     0.85329,     0.85413,     0.85422,     0.85431,\n",
            "            0.85441,      0.8545,      0.8546,     0.85469,     0.85478,     0.85488,     0.85497,     0.85507,     0.85516,     0.85525,     0.85535,     0.85544,     0.85554,     0.85563,     0.85572,     0.85582,     0.85591,       0.856,      0.8561,     0.85619,     0.85629,     0.85638,     0.85647,\n",
            "            0.85657,     0.85666,     0.85675,     0.85685,     0.85694,     0.85703,     0.85713,     0.85726,      0.8574,     0.85754,     0.85768,     0.85782,     0.85796,      0.8581,     0.85825,     0.85839,     0.85853,     0.85867,     0.85881,     0.85895,     0.85909,     0.85923,     0.85937,\n",
            "            0.85951,     0.85965,     0.85979,     0.85993,     0.86007,     0.86021,     0.86046,     0.86071,     0.86097,     0.86122,     0.86148,     0.86173,     0.86199,     0.86224,      0.8625,     0.86275,       0.863,     0.86326,     0.86355,     0.86386,     0.86416,     0.86446,     0.86477,\n",
            "            0.86507,     0.86537,     0.86568,     0.86598,     0.86628,     0.86656,     0.86681,     0.86706,     0.86732,     0.86757,     0.86782,     0.86807,     0.86832,     0.86857,     0.86882,     0.86908,     0.86933,     0.86954,     0.86907,      0.8686,     0.86812,     0.86765,     0.86718,\n",
            "             0.8667,     0.86623,     0.86575,     0.86552,     0.86569,     0.86586,     0.86603,      0.8662,     0.86637,     0.86654,     0.86671,     0.86688,     0.86705,     0.86722,     0.86739,     0.86755,     0.86772,     0.86789,     0.86806,     0.86823,      0.8684,     0.86857,     0.86888,\n",
            "            0.86925,     0.86961,     0.86998,     0.87034,      0.8707,     0.87107,     0.87143,     0.87179,     0.87194,     0.87208,     0.87222,     0.87236,      0.8725,     0.87264,     0.87278,     0.87292,     0.87307,     0.87321,     0.87335,     0.87349,     0.87363,     0.87377,     0.87391,\n",
            "            0.87405,     0.87419,     0.87433,     0.87447,     0.87461,     0.87476,      0.8749,     0.87495,     0.87476,     0.87457,     0.87438,     0.87419,       0.874,     0.87381,     0.87362,     0.87343,     0.87324,     0.87305,     0.87286,     0.87267,     0.87248,     0.87229,      0.8721,\n",
            "            0.87191,     0.87172,     0.87153,     0.87134,     0.87114,     0.87095,      0.8709,     0.87102,     0.87114,     0.87125,     0.87137,     0.87149,     0.87161,     0.87172,     0.87184,     0.87196,     0.87208,     0.87219,     0.87231,     0.87243,     0.87254,     0.87266,     0.87278,\n",
            "             0.8729,     0.87301,     0.87313,     0.87325,     0.87336,     0.87348,      0.8736,     0.87371,     0.87383,     0.87395,     0.87406,     0.87403,     0.87398,     0.87394,     0.87389,     0.87384,     0.87379,     0.87374,      0.8737,     0.87365,      0.8736,     0.87355,     0.87351,\n",
            "            0.87346,     0.87341,     0.87336,     0.87332,     0.87327,     0.87322,     0.87317,     0.87313,     0.87308,     0.87303,     0.87298,     0.87294,     0.87289,     0.87284,     0.87279,     0.87274,      0.8727,     0.87265,      0.8726,     0.87255,     0.87251,     0.87246,     0.87241,\n",
            "            0.87236,     0.87232,     0.87227,     0.87222,     0.87217,     0.87212,     0.87208,     0.87203,     0.87198,     0.87193,     0.87189,     0.87184,     0.87179,     0.87174,      0.8717,     0.87165,      0.8716,     0.87155,      0.8715,     0.87146,     0.87141,     0.87136,     0.87131,\n",
            "            0.87127,     0.87122,     0.87117,     0.87112,     0.87107,     0.87103,     0.87098,     0.87093,     0.87088,     0.87084,     0.87079,     0.87074,     0.87069,     0.87064,      0.8706,     0.87055,      0.8705,     0.87045,     0.87041,     0.87036,     0.87031,     0.87026,     0.87021,\n",
            "            0.87017,     0.87012,     0.87007,     0.87002,     0.86997,     0.86993,     0.87001,     0.87059,     0.87118,     0.87176,     0.87235,     0.87293,     0.87512,     0.87607,     0.87549,     0.87491,     0.87433,     0.87375,     0.87317,     0.87258,      0.8723,     0.87268,     0.87306,\n",
            "            0.87345,     0.87383,     0.87421,     0.87459,     0.87497,     0.87535,      0.8757,     0.87604,     0.87638,     0.87672,     0.87705,     0.87739,     0.87773,     0.87807,      0.8784,     0.87874,      0.8784,     0.87794,     0.87748,     0.87703,     0.87657,     0.87611,     0.87565,\n",
            "            0.87519,     0.87474,     0.87428,     0.87382,     0.87337,     0.87292,     0.87246,       0.872,     0.87155,     0.87109,     0.87064,     0.87025,     0.87046,     0.87067,     0.87088,     0.87109,      0.8713,     0.87151,     0.87172,     0.87193,     0.87213,     0.87234,     0.87255,\n",
            "            0.87276,     0.87297,     0.87318,     0.87338,     0.87351,     0.87311,      0.8727,      0.8723,     0.87189,     0.87149,     0.87108,     0.87068,     0.87027,     0.86986,     0.86946,     0.86909,     0.86876,     0.86844,     0.86811,     0.86778,     0.86746,     0.86713,     0.86681,\n",
            "            0.86648,     0.86615,     0.86583,      0.8655,     0.86517,     0.86487,     0.86498,     0.86509,      0.8652,     0.86531,     0.86542,     0.86553,     0.86564,     0.86575,     0.86586,     0.86597,     0.86608,     0.86619,      0.8663,     0.86641,     0.86652,     0.86663,     0.86674,\n",
            "            0.86685,     0.86696,     0.86707,     0.86718,     0.86729,      0.8674,     0.86751,     0.86762,     0.86773,     0.86784,     0.86795,     0.86806,     0.86817,     0.86794,     0.86743,     0.86693,     0.86642,     0.86591,      0.8654,     0.86489,     0.86438,     0.86387,      0.8637,\n",
            "            0.86357,     0.86343,      0.8633,     0.86317,     0.86304,     0.86291,     0.86277,     0.86264,     0.86251,     0.86238,     0.86225,     0.86212,     0.86198,     0.86185,     0.86172,     0.86159,     0.86145,     0.86132,     0.86119,     0.86106,     0.86093,     0.86079,     0.86066,\n",
            "            0.86053,      0.8604,     0.86026,     0.86013,        0.86,     0.85987,     0.85973,      0.8596,     0.85947,     0.85922,     0.85871,     0.85819,     0.85768,     0.85716,     0.85664,     0.85613,     0.85561,     0.85509,      0.8503,     0.84962,     0.84893,     0.84824,     0.84756,\n",
            "            0.84687,     0.84618,     0.84557,     0.84503,     0.84449,     0.84396,     0.84342,     0.84288,     0.84234,      0.8418,     0.84127,     0.84091,     0.84056,      0.8402,     0.83985,     0.83949,     0.83913,     0.83878,     0.83842,     0.83807,     0.83771,     0.83735,     0.83699,\n",
            "            0.83661,     0.83569,     0.83477,     0.83385,     0.83293,       0.832,     0.83096,     0.82993,     0.82888,     0.82784,     0.82623,     0.82403,     0.82252,     0.82234,     0.82217,     0.82199,     0.82182,     0.82164,     0.82146,     0.82129,     0.82111,     0.82093,     0.82076,\n",
            "            0.82058,      0.8204,     0.82023,     0.82005,     0.81987,     0.81969,     0.81952,     0.81934,     0.81916,     0.81899,     0.81881,     0.81863,     0.81845,     0.81828,      0.8181,     0.81792,     0.81906,     0.82047,     0.81851,     0.81653,     0.81777,     0.81938,     0.81797,\n",
            "            0.81588,     0.81412,     0.81268,     0.81125,     0.80974,      0.8075,     0.80525,     0.80465,     0.80428,      0.8039,     0.80353,     0.80315,     0.80278,      0.8024,     0.80202,     0.80165,     0.80127,      0.8009,     0.80052,     0.80014,     0.79954,     0.79881,     0.79807,\n",
            "            0.79734,      0.7966,     0.79587,     0.79513,     0.79433,     0.79351,     0.79269,     0.79187,     0.79105,     0.79023,     0.78873,      0.7868,     0.78486,     0.78432,     0.78381,      0.7833,     0.78279,     0.78228,     0.78177,     0.78126,     0.78075,     0.78024,     0.77973,\n",
            "            0.77637,     0.76122,     0.75436,     0.75565,     0.75024,     0.74883,     0.74741,     0.74599,     0.74362,     0.74088,     0.73914,      0.7378,     0.73646,     0.73512,     0.73351,     0.73167,     0.72983,     0.72727,     0.72393,     0.71574,     0.71116,     0.71039,     0.70963,\n",
            "            0.70886,      0.7081,     0.70733,     0.70656,     0.70556,     0.70277,     0.69967,     0.68093,     0.67509,      0.6728,     0.67051,     0.66302,     0.65985,     0.65141,     0.63055,     0.62291,     0.61705,     0.61141,     0.60695,     0.60083,     0.59096,     0.58783,     0.58469,\n",
            "            0.58277,      0.5811,     0.57943,     0.57775,     0.57654,     0.57561,     0.57468,     0.57376,     0.57283,      0.5719,     0.57096,     0.57003,     0.56371,     0.56035,     0.55748,     0.55109,     0.52786,     0.51013,     0.50817,     0.50619,     0.50422,       0.502,     0.49883,\n",
            "            0.49564,     0.49395,     0.49286,     0.49176,     0.49066,     0.48956,     0.48846,     0.48736,      0.4841,     0.47858,     0.47619,     0.47379,     0.47138,     0.45257,     0.44865,      0.4432,     0.42768,     0.41703,     0.41139,     0.40627,     0.39975,      0.3844,     0.37062,\n",
            "            0.36231,     0.35811,     0.33966,     0.31508,     0.30486,     0.29619,     0.29267,     0.28912,     0.27542,     0.27119,     0.26694,     0.24527,     0.24231,     0.23935,     0.23637,     0.23099,     0.21182,     0.19499,     0.18747,      0.1845,     0.18151,     0.17851,      0.1652,\n",
            "            0.16347,     0.16174,     0.16001,     0.15827,     0.15653,     0.15471,      0.1501,     0.14546,     0.12851,     0.11301,     0.10637,    0.096024,    0.079005,    0.075519,    0.072021,     0.06851,    0.065107,    0.061736,    0.058353,    0.054958,    0.051784,    0.048644,    0.045493,\n",
            "           0.042332,    0.040011,    0.038229,    0.036445,    0.034657,    0.032866,    0.031071,    0.029274,    0.027262,    0.022105,     0.01692,           0,           0,           0,           0,           0,           0,           0,           0,           0,           0,           0,           0,\n",
            "                  0,           0,           0,           0,           0,           0,           0,           0,           0,           0,           0,           0,           0,           0,           0,           0,           0,           0,           0,           0,           0,           0,           0,\n",
            "                  0,           0,           0,           0,           0,           0,           0,           0,           0,           0,           0,           0,           0,           0,           0,           0,           0,           0,           0,           0,           0,           0,           0,\n",
            "                  0,           0,           0,           0,           0,           0,           0,           0,           0,           0,           0,           0,           0,           0,           0,           0,           0,           0,           0,           0,           0,           0,           0,\n",
            "                  0,           0,           0,           0,           0,           0,           0,           0,           0,           0,           0]]), 'Confidence', 'F1'], [array([          0,    0.001001,    0.002002,    0.003003,    0.004004,    0.005005,    0.006006,    0.007007,    0.008008,    0.009009,     0.01001,    0.011011,    0.012012,    0.013013,    0.014014,    0.015015,    0.016016,    0.017017,    0.018018,    0.019019,     0.02002,    0.021021,    0.022022,    0.023023,\n",
            "          0.024024,    0.025025,    0.026026,    0.027027,    0.028028,    0.029029,     0.03003,    0.031031,    0.032032,    0.033033,    0.034034,    0.035035,    0.036036,    0.037037,    0.038038,    0.039039,     0.04004,    0.041041,    0.042042,    0.043043,    0.044044,    0.045045,    0.046046,    0.047047,\n",
            "          0.048048,    0.049049,     0.05005,    0.051051,    0.052052,    0.053053,    0.054054,    0.055055,    0.056056,    0.057057,    0.058058,    0.059059,     0.06006,    0.061061,    0.062062,    0.063063,    0.064064,    0.065065,    0.066066,    0.067067,    0.068068,    0.069069,     0.07007,    0.071071,\n",
            "          0.072072,    0.073073,    0.074074,    0.075075,    0.076076,    0.077077,    0.078078,    0.079079,     0.08008,    0.081081,    0.082082,    0.083083,    0.084084,    0.085085,    0.086086,    0.087087,    0.088088,    0.089089,     0.09009,    0.091091,    0.092092,    0.093093,    0.094094,    0.095095,\n",
            "          0.096096,    0.097097,    0.098098,    0.099099,      0.1001,      0.1011,      0.1021,      0.1031,      0.1041,     0.10511,     0.10611,     0.10711,     0.10811,     0.10911,     0.11011,     0.11111,     0.11211,     0.11311,     0.11411,     0.11512,     0.11612,     0.11712,     0.11812,     0.11912,\n",
            "           0.12012,     0.12112,     0.12212,     0.12312,     0.12412,     0.12513,     0.12613,     0.12713,     0.12813,     0.12913,     0.13013,     0.13113,     0.13213,     0.13313,     0.13413,     0.13514,     0.13614,     0.13714,     0.13814,     0.13914,     0.14014,     0.14114,     0.14214,     0.14314,\n",
            "           0.14414,     0.14515,     0.14615,     0.14715,     0.14815,     0.14915,     0.15015,     0.15115,     0.15215,     0.15315,     0.15415,     0.15516,     0.15616,     0.15716,     0.15816,     0.15916,     0.16016,     0.16116,     0.16216,     0.16316,     0.16416,     0.16517,     0.16617,     0.16717,\n",
            "           0.16817,     0.16917,     0.17017,     0.17117,     0.17217,     0.17317,     0.17417,     0.17518,     0.17618,     0.17718,     0.17818,     0.17918,     0.18018,     0.18118,     0.18218,     0.18318,     0.18418,     0.18519,     0.18619,     0.18719,     0.18819,     0.18919,     0.19019,     0.19119,\n",
            "           0.19219,     0.19319,     0.19419,      0.1952,      0.1962,      0.1972,      0.1982,      0.1992,      0.2002,      0.2012,      0.2022,      0.2032,      0.2042,     0.20521,     0.20621,     0.20721,     0.20821,     0.20921,     0.21021,     0.21121,     0.21221,     0.21321,     0.21421,     0.21522,\n",
            "           0.21622,     0.21722,     0.21822,     0.21922,     0.22022,     0.22122,     0.22222,     0.22322,     0.22422,     0.22523,     0.22623,     0.22723,     0.22823,     0.22923,     0.23023,     0.23123,     0.23223,     0.23323,     0.23423,     0.23524,     0.23624,     0.23724,     0.23824,     0.23924,\n",
            "           0.24024,     0.24124,     0.24224,     0.24324,     0.24424,     0.24525,     0.24625,     0.24725,     0.24825,     0.24925,     0.25025,     0.25125,     0.25225,     0.25325,     0.25425,     0.25526,     0.25626,     0.25726,     0.25826,     0.25926,     0.26026,     0.26126,     0.26226,     0.26326,\n",
            "           0.26426,     0.26527,     0.26627,     0.26727,     0.26827,     0.26927,     0.27027,     0.27127,     0.27227,     0.27327,     0.27427,     0.27528,     0.27628,     0.27728,     0.27828,     0.27928,     0.28028,     0.28128,     0.28228,     0.28328,     0.28428,     0.28529,     0.28629,     0.28729,\n",
            "           0.28829,     0.28929,     0.29029,     0.29129,     0.29229,     0.29329,     0.29429,      0.2953,      0.2963,      0.2973,      0.2983,      0.2993,      0.3003,      0.3013,      0.3023,      0.3033,      0.3043,     0.30531,     0.30631,     0.30731,     0.30831,     0.30931,     0.31031,     0.31131,\n",
            "           0.31231,     0.31331,     0.31431,     0.31532,     0.31632,     0.31732,     0.31832,     0.31932,     0.32032,     0.32132,     0.32232,     0.32332,     0.32432,     0.32533,     0.32633,     0.32733,     0.32833,     0.32933,     0.33033,     0.33133,     0.33233,     0.33333,     0.33433,     0.33534,\n",
            "           0.33634,     0.33734,     0.33834,     0.33934,     0.34034,     0.34134,     0.34234,     0.34334,     0.34434,     0.34535,     0.34635,     0.34735,     0.34835,     0.34935,     0.35035,     0.35135,     0.35235,     0.35335,     0.35435,     0.35536,     0.35636,     0.35736,     0.35836,     0.35936,\n",
            "           0.36036,     0.36136,     0.36236,     0.36336,     0.36436,     0.36537,     0.36637,     0.36737,     0.36837,     0.36937,     0.37037,     0.37137,     0.37237,     0.37337,     0.37437,     0.37538,     0.37638,     0.37738,     0.37838,     0.37938,     0.38038,     0.38138,     0.38238,     0.38338,\n",
            "           0.38438,     0.38539,     0.38639,     0.38739,     0.38839,     0.38939,     0.39039,     0.39139,     0.39239,     0.39339,     0.39439,      0.3954,      0.3964,      0.3974,      0.3984,      0.3994,      0.4004,      0.4014,      0.4024,      0.4034,      0.4044,     0.40541,     0.40641,     0.40741,\n",
            "           0.40841,     0.40941,     0.41041,     0.41141,     0.41241,     0.41341,     0.41441,     0.41542,     0.41642,     0.41742,     0.41842,     0.41942,     0.42042,     0.42142,     0.42242,     0.42342,     0.42442,     0.42543,     0.42643,     0.42743,     0.42843,     0.42943,     0.43043,     0.43143,\n",
            "           0.43243,     0.43343,     0.43443,     0.43544,     0.43644,     0.43744,     0.43844,     0.43944,     0.44044,     0.44144,     0.44244,     0.44344,     0.44444,     0.44545,     0.44645,     0.44745,     0.44845,     0.44945,     0.45045,     0.45145,     0.45245,     0.45345,     0.45445,     0.45546,\n",
            "           0.45646,     0.45746,     0.45846,     0.45946,     0.46046,     0.46146,     0.46246,     0.46346,     0.46446,     0.46547,     0.46647,     0.46747,     0.46847,     0.46947,     0.47047,     0.47147,     0.47247,     0.47347,     0.47447,     0.47548,     0.47648,     0.47748,     0.47848,     0.47948,\n",
            "           0.48048,     0.48148,     0.48248,     0.48348,     0.48448,     0.48549,     0.48649,     0.48749,     0.48849,     0.48949,     0.49049,     0.49149,     0.49249,     0.49349,     0.49449,      0.4955,      0.4965,      0.4975,      0.4985,      0.4995,      0.5005,      0.5015,      0.5025,      0.5035,\n",
            "            0.5045,     0.50551,     0.50651,     0.50751,     0.50851,     0.50951,     0.51051,     0.51151,     0.51251,     0.51351,     0.51451,     0.51552,     0.51652,     0.51752,     0.51852,     0.51952,     0.52052,     0.52152,     0.52252,     0.52352,     0.52452,     0.52553,     0.52653,     0.52753,\n",
            "           0.52853,     0.52953,     0.53053,     0.53153,     0.53253,     0.53353,     0.53453,     0.53554,     0.53654,     0.53754,     0.53854,     0.53954,     0.54054,     0.54154,     0.54254,     0.54354,     0.54454,     0.54555,     0.54655,     0.54755,     0.54855,     0.54955,     0.55055,     0.55155,\n",
            "           0.55255,     0.55355,     0.55455,     0.55556,     0.55656,     0.55756,     0.55856,     0.55956,     0.56056,     0.56156,     0.56256,     0.56356,     0.56456,     0.56557,     0.56657,     0.56757,     0.56857,     0.56957,     0.57057,     0.57157,     0.57257,     0.57357,     0.57457,     0.57558,\n",
            "           0.57658,     0.57758,     0.57858,     0.57958,     0.58058,     0.58158,     0.58258,     0.58358,     0.58458,     0.58559,     0.58659,     0.58759,     0.58859,     0.58959,     0.59059,     0.59159,     0.59259,     0.59359,     0.59459,      0.5956,      0.5966,      0.5976,      0.5986,      0.5996,\n",
            "            0.6006,      0.6016,      0.6026,      0.6036,      0.6046,     0.60561,     0.60661,     0.60761,     0.60861,     0.60961,     0.61061,     0.61161,     0.61261,     0.61361,     0.61461,     0.61562,     0.61662,     0.61762,     0.61862,     0.61962,     0.62062,     0.62162,     0.62262,     0.62362,\n",
            "           0.62462,     0.62563,     0.62663,     0.62763,     0.62863,     0.62963,     0.63063,     0.63163,     0.63263,     0.63363,     0.63463,     0.63564,     0.63664,     0.63764,     0.63864,     0.63964,     0.64064,     0.64164,     0.64264,     0.64364,     0.64464,     0.64565,     0.64665,     0.64765,\n",
            "           0.64865,     0.64965,     0.65065,     0.65165,     0.65265,     0.65365,     0.65465,     0.65566,     0.65666,     0.65766,     0.65866,     0.65966,     0.66066,     0.66166,     0.66266,     0.66366,     0.66466,     0.66567,     0.66667,     0.66767,     0.66867,     0.66967,     0.67067,     0.67167,\n",
            "           0.67267,     0.67367,     0.67467,     0.67568,     0.67668,     0.67768,     0.67868,     0.67968,     0.68068,     0.68168,     0.68268,     0.68368,     0.68468,     0.68569,     0.68669,     0.68769,     0.68869,     0.68969,     0.69069,     0.69169,     0.69269,     0.69369,     0.69469,      0.6957,\n",
            "            0.6967,      0.6977,      0.6987,      0.6997,      0.7007,      0.7017,      0.7027,      0.7037,      0.7047,     0.70571,     0.70671,     0.70771,     0.70871,     0.70971,     0.71071,     0.71171,     0.71271,     0.71371,     0.71471,     0.71572,     0.71672,     0.71772,     0.71872,     0.71972,\n",
            "           0.72072,     0.72172,     0.72272,     0.72372,     0.72472,     0.72573,     0.72673,     0.72773,     0.72873,     0.72973,     0.73073,     0.73173,     0.73273,     0.73373,     0.73473,     0.73574,     0.73674,     0.73774,     0.73874,     0.73974,     0.74074,     0.74174,     0.74274,     0.74374,\n",
            "           0.74474,     0.74575,     0.74675,     0.74775,     0.74875,     0.74975,     0.75075,     0.75175,     0.75275,     0.75375,     0.75475,     0.75576,     0.75676,     0.75776,     0.75876,     0.75976,     0.76076,     0.76176,     0.76276,     0.76376,     0.76476,     0.76577,     0.76677,     0.76777,\n",
            "           0.76877,     0.76977,     0.77077,     0.77177,     0.77277,     0.77377,     0.77477,     0.77578,     0.77678,     0.77778,     0.77878,     0.77978,     0.78078,     0.78178,     0.78278,     0.78378,     0.78478,     0.78579,     0.78679,     0.78779,     0.78879,     0.78979,     0.79079,     0.79179,\n",
            "           0.79279,     0.79379,     0.79479,      0.7958,      0.7968,      0.7978,      0.7988,      0.7998,      0.8008,      0.8018,      0.8028,      0.8038,      0.8048,     0.80581,     0.80681,     0.80781,     0.80881,     0.80981,     0.81081,     0.81181,     0.81281,     0.81381,     0.81481,     0.81582,\n",
            "           0.81682,     0.81782,     0.81882,     0.81982,     0.82082,     0.82182,     0.82282,     0.82382,     0.82482,     0.82583,     0.82683,     0.82783,     0.82883,     0.82983,     0.83083,     0.83183,     0.83283,     0.83383,     0.83483,     0.83584,     0.83684,     0.83784,     0.83884,     0.83984,\n",
            "           0.84084,     0.84184,     0.84284,     0.84384,     0.84484,     0.84585,     0.84685,     0.84785,     0.84885,     0.84985,     0.85085,     0.85185,     0.85285,     0.85385,     0.85485,     0.85586,     0.85686,     0.85786,     0.85886,     0.85986,     0.86086,     0.86186,     0.86286,     0.86386,\n",
            "           0.86486,     0.86587,     0.86687,     0.86787,     0.86887,     0.86987,     0.87087,     0.87187,     0.87287,     0.87387,     0.87487,     0.87588,     0.87688,     0.87788,     0.87888,     0.87988,     0.88088,     0.88188,     0.88288,     0.88388,     0.88488,     0.88589,     0.88689,     0.88789,\n",
            "           0.88889,     0.88989,     0.89089,     0.89189,     0.89289,     0.89389,     0.89489,      0.8959,      0.8969,      0.8979,      0.8989,      0.8999,      0.9009,      0.9019,      0.9029,      0.9039,      0.9049,     0.90591,     0.90691,     0.90791,     0.90891,     0.90991,     0.91091,     0.91191,\n",
            "           0.91291,     0.91391,     0.91491,     0.91592,     0.91692,     0.91792,     0.91892,     0.91992,     0.92092,     0.92192,     0.92292,     0.92392,     0.92492,     0.92593,     0.92693,     0.92793,     0.92893,     0.92993,     0.93093,     0.93193,     0.93293,     0.93393,     0.93493,     0.93594,\n",
            "           0.93694,     0.93794,     0.93894,     0.93994,     0.94094,     0.94194,     0.94294,     0.94394,     0.94494,     0.94595,     0.94695,     0.94795,     0.94895,     0.94995,     0.95095,     0.95195,     0.95295,     0.95395,     0.95495,     0.95596,     0.95696,     0.95796,     0.95896,     0.95996,\n",
            "           0.96096,     0.96196,     0.96296,     0.96396,     0.96496,     0.96597,     0.96697,     0.96797,     0.96897,     0.96997,     0.97097,     0.97197,     0.97297,     0.97397,     0.97497,     0.97598,     0.97698,     0.97798,     0.97898,     0.97998,     0.98098,     0.98198,     0.98298,     0.98398,\n",
            "           0.98498,     0.98599,     0.98699,     0.98799,     0.98899,     0.98999,     0.99099,     0.99199,     0.99299,     0.99399,     0.99499,       0.996,       0.997,       0.998,       0.999,           1]), array([[    0.28953,     0.28953,     0.37653,     0.44624,     0.49716,     0.53386,     0.56203,     0.58295,     0.60012,     0.61497,     0.62182,     0.63056,     0.63227,     0.63569,     0.64849,     0.65135,     0.65414,     0.65978,     0.66196,     0.66547,     0.67294,     0.67818,     0.68279,\n",
            "             0.6906,     0.69925,     0.70208,     0.71489,     0.72329,     0.72965,     0.73246,     0.73412,     0.73581,     0.73756,     0.73931,     0.74545,     0.75273,     0.75765,     0.76063,     0.76341,     0.76596,     0.77125,     0.77882,      0.7842,     0.79636,     0.79892,     0.80202,\n",
            "            0.80734,     0.80905,     0.81076,     0.81164,     0.81152,     0.81141,      0.8113,     0.81118,     0.81107,     0.81096,     0.81084,     0.81073,     0.81062,      0.8105,     0.81241,     0.81578,     0.81855,     0.82182,     0.82614,      0.8256,     0.82611,     0.82663,     0.82714,\n",
            "            0.82765,     0.82816,     0.82868,     0.82919,      0.8297,     0.83021,     0.83073,     0.83147,     0.83274,     0.83401,     0.83528,     0.83655,     0.83722,     0.83778,     0.83834,      0.8389,     0.83946,     0.84003,     0.84059,     0.84115,     0.84171,     0.84228,     0.84314,\n",
            "            0.84415,     0.84516,     0.84617,     0.84718,     0.84819,     0.84888,     0.84954,      0.8502,     0.85086,     0.85152,     0.85219,     0.85285,     0.85351,     0.85417,     0.85467,     0.85517,     0.85567,     0.85617,     0.85667,     0.85718,     0.85768,     0.85818,     0.85868,\n",
            "            0.85918,     0.85968,     0.86016,     0.86036,     0.86056,     0.86076,     0.86097,     0.86117,     0.86137,     0.86157,     0.86178,     0.86198,     0.86218,     0.86238,     0.86259,     0.86279,     0.86299,     0.86319,      0.8634,      0.8636,      0.8638,       0.864,     0.86421,\n",
            "            0.86441,     0.86461,     0.86481,     0.86502,     0.86522,     0.86542,     0.86562,     0.86583,     0.86603,     0.86603,     0.86523,     0.86515,     0.86507,     0.86498,      0.8649,     0.86482,     0.86474,     0.86465,     0.86457,     0.86449,     0.86441,     0.86433,     0.86426,\n",
            "            0.86421,     0.86415,      0.8641,     0.86405,       0.864,     0.86395,     0.86389,     0.86384,     0.86379,     0.86374,     0.86369,     0.86363,     0.86358,     0.86353,     0.86348,     0.86342,     0.86337,     0.86332,     0.86534,     0.86791,     0.86964,     0.86983,     0.87003,\n",
            "            0.87022,     0.87042,     0.87061,     0.87081,       0.871,      0.8712,     0.87139,     0.87159,     0.87178,     0.87198,     0.87217,     0.87237,     0.87256,     0.87276,     0.87295,     0.87315,     0.87334,     0.87354,     0.87373,     0.87393,     0.87412,     0.87432,     0.87451,\n",
            "            0.87471,      0.8749,      0.8751,     0.87529,     0.87549,     0.87568,     0.87588,     0.87616,     0.87645,     0.87675,     0.87704,     0.87734,     0.87763,     0.87792,     0.87822,     0.87851,     0.87881,      0.8791,      0.8794,     0.87969,     0.87999,     0.88028,     0.88057,\n",
            "            0.88087,     0.88116,     0.88146,     0.88175,     0.88205,     0.88234,     0.88287,     0.88341,     0.88394,     0.88448,     0.88502,     0.88555,     0.88609,     0.88663,     0.88717,      0.8877,     0.88824,     0.88878,      0.8894,     0.89005,     0.89069,     0.89134,     0.89199,\n",
            "            0.89263,     0.89328,     0.89392,     0.89457,     0.89522,     0.89581,     0.89635,     0.89689,     0.89743,     0.89796,      0.8985,     0.89904,     0.89958,     0.90012,     0.90066,      0.9012,     0.90174,     0.90225,     0.90217,     0.90208,       0.902,     0.90191,     0.90182,\n",
            "            0.90174,     0.90165,     0.90157,     0.90165,     0.90202,     0.90239,     0.90276,     0.90313,      0.9035,     0.90387,     0.90424,     0.90461,     0.90498,     0.90535,     0.90572,     0.90609,     0.90645,     0.90682,     0.90719,     0.90756,     0.90793,      0.9083,     0.90899,\n",
            "            0.90979,     0.91059,     0.91139,     0.91218,     0.91298,     0.91378,     0.91458,     0.91538,     0.91569,     0.91601,     0.91632,     0.91663,     0.91694,     0.91725,     0.91757,     0.91788,     0.91819,      0.9185,     0.91882,     0.91913,     0.91944,     0.91975,     0.92006,\n",
            "            0.92038,     0.92069,       0.921,     0.92131,     0.92162,     0.92194,     0.92225,     0.92247,     0.92245,     0.92242,     0.92239,     0.92236,     0.92233,     0.92231,     0.92228,     0.92225,     0.92222,      0.9222,     0.92217,     0.92214,     0.92211,     0.92208,     0.92206,\n",
            "            0.92203,       0.922,     0.92197,     0.92195,     0.92192,     0.92189,     0.92199,     0.92226,     0.92252,     0.92278,     0.92305,     0.92331,     0.92358,     0.92384,      0.9241,     0.92437,     0.92463,     0.92489,     0.92516,     0.92542,     0.92568,     0.92595,     0.92621,\n",
            "            0.92648,     0.92674,       0.927,     0.92727,     0.92753,     0.92779,     0.92806,     0.92832,     0.92858,     0.92885,     0.92911,     0.92913,     0.92912,     0.92912,     0.92911,      0.9291,      0.9291,     0.92909,     0.92908,     0.92908,     0.92907,     0.92906,     0.92906,\n",
            "            0.92905,     0.92904,     0.92904,     0.92903,     0.92903,     0.92902,     0.92901,     0.92901,       0.929,     0.92899,     0.92899,     0.92898,     0.92897,     0.92897,     0.92896,     0.92895,     0.92895,     0.92894,     0.92894,     0.92893,     0.92892,     0.92892,     0.92891,\n",
            "             0.9289,      0.9289,     0.92889,     0.92888,     0.92888,     0.92887,     0.92887,     0.92886,     0.92885,     0.92885,     0.92884,     0.92883,     0.92883,     0.92882,     0.92881,     0.92881,      0.9288,     0.92879,     0.92879,     0.92878,     0.92878,     0.92877,     0.92876,\n",
            "            0.92876,     0.92875,     0.92874,     0.92874,     0.92873,     0.92872,     0.92872,     0.92871,      0.9287,      0.9287,     0.92869,     0.92869,     0.92868,     0.92867,     0.92867,     0.92866,     0.92865,     0.92865,     0.92864,     0.92863,     0.92863,     0.92862,     0.92862,\n",
            "            0.92861,      0.9286,      0.9286,     0.92859,     0.92858,     0.92858,     0.92884,     0.93018,     0.93152,     0.93286,     0.93419,     0.93553,     0.94059,     0.94351,     0.94345,     0.94339,     0.94332,     0.94326,      0.9432,     0.94313,     0.94337,     0.94426,     0.94516,\n",
            "            0.94605,     0.94695,     0.94784,     0.94874,     0.94963,     0.95053,     0.95136,     0.95216,     0.95296,     0.95376,     0.95456,     0.95536,     0.95616,     0.95696,     0.95776,     0.95856,     0.95865,     0.95861,     0.95857,     0.95854,      0.9585,     0.95846,     0.95842,\n",
            "            0.95839,     0.95835,     0.95831,     0.95828,     0.95824,      0.9582,     0.95816,     0.95813,     0.95809,     0.95805,     0.95802,     0.95804,     0.95855,     0.95905,     0.95956,     0.96007,     0.96058,     0.96109,      0.9616,      0.9621,     0.96261,     0.96312,     0.96363,\n",
            "            0.96414,     0.96465,     0.96515,     0.96566,      0.9661,     0.96607,     0.96604,     0.96602,     0.96599,     0.96596,     0.96594,     0.96591,     0.96588,     0.96585,     0.96583,      0.9658,     0.96578,     0.96576,     0.96574,     0.96571,     0.96569,     0.96567,     0.96565,\n",
            "            0.96563,      0.9656,     0.96558,     0.96556,     0.96554,     0.96553,     0.96581,     0.96608,     0.96636,     0.96663,     0.96691,     0.96718,     0.96746,     0.96773,     0.96801,     0.96829,     0.96856,     0.96884,     0.96911,     0.96939,     0.96966,     0.96994,     0.97021,\n",
            "            0.97049,     0.97076,     0.97104,     0.97131,     0.97159,     0.97186,     0.97214,     0.97241,     0.97269,     0.97296,     0.97324,     0.97351,     0.97379,      0.9739,     0.97387,     0.97385,     0.97382,     0.97379,     0.97377,     0.97374,     0.97371,     0.97369,     0.97368,\n",
            "            0.97367,     0.97366,     0.97366,     0.97365,     0.97364,     0.97364,     0.97363,     0.97362,     0.97362,     0.97361,      0.9736,     0.97359,     0.97359,     0.97358,     0.97357,     0.97357,     0.97356,     0.97355,     0.97355,     0.97354,     0.97353,     0.97353,     0.97352,\n",
            "            0.97351,      0.9735,      0.9735,     0.97349,     0.97348,     0.97348,     0.97347,     0.97346,     0.97346,     0.97344,     0.97342,     0.97339,     0.97336,     0.97333,     0.97331,     0.97328,     0.97325,     0.97322,     0.97297,     0.97293,     0.97289,     0.97286,     0.97282,\n",
            "            0.97278,     0.97274,     0.97271,     0.97268,     0.97265,     0.97262,     0.97259,     0.97256,     0.97254,     0.97251,     0.97248,     0.97246,     0.97244,     0.97242,      0.9724,     0.97238,     0.97236,     0.97234,     0.97232,      0.9723,     0.97228,     0.97226,     0.97224,\n",
            "            0.97222,     0.97217,     0.97212,     0.97207,     0.97201,     0.97196,      0.9719,     0.97185,     0.97179,     0.97173,     0.97164,     0.97151,     0.97143,     0.97141,      0.9714,     0.97139,     0.97138,     0.97137,     0.97136,     0.97135,     0.97134,     0.97133,     0.97132,\n",
            "            0.97131,      0.9713,     0.97129,     0.97128,     0.97127,     0.97126,     0.97125,     0.97124,     0.97123,     0.97122,     0.97121,      0.9712,     0.97119,     0.97118,     0.97117,     0.97116,     0.97467,     0.98056,     0.98048,      0.9804,     0.98457,     0.98924,     0.99006,\n",
            "            0.99002,     0.98999,     0.98996,     0.98993,      0.9899,     0.98985,      0.9898,     0.98979,     0.98978,     0.98977,     0.98977,     0.98976,     0.98975,     0.98974,     0.98973,     0.98973,     0.98972,     0.98971,      0.9897,     0.98969,     0.98968,     0.98967,     0.98965,\n",
            "            0.98963,     0.98962,      0.9896,     0.98959,     0.98957,     0.98955,     0.98953,     0.98952,      0.9895,     0.98948,     0.98945,     0.98941,     0.98936,     0.98935,     0.98934,     0.98933,     0.98932,     0.98931,     0.98929,     0.98928,     0.98927,     0.98926,     0.98925,\n",
            "            0.98917,     0.98882,     0.98866,           1,           1,           1,           1,           1,           1,           1,           1,           1,           1,           1,           1,           1,           1,           1,           1,           1,           1,           1,           1,\n",
            "                  1,           1,           1,           1,           1,           1,           1,           1,           1,           1,           1,           1,           1,           1,           1,           1,           1,           1,           1,           1,           1,           1,           1,\n",
            "                  1,           1,           1,           1,           1,           1,           1,           1,           1,           1,           1,           1,           1,           1,           1,           1,           1,           1,           1,           1,           1,           1,           1,\n",
            "                  1,           1,           1,           1,           1,           1,           1,           1,           1,           1,           1,           1,           1,           1,           1,           1,           1,           1,           1,           1,           1,           1,           1,\n",
            "                  1,           1,           1,           1,           1,           1,           1,           1,           1,           1,           1,           1,           1,           1,           1,           1,           1,           1,           1,           1,           1,           1,           1,\n",
            "                  1,           1,           1,           1,           1,           1,           1,           1,           1,           1,           1,           1,           1,           1,           1,           1,           1,           1,           1,           1,           1,           1,           1,\n",
            "                  1,           1,           1,           1,           1,           1,           1,           1,           1,           1,           1,           1,           1,           1,           1,           1,           1,           1,           1,           1,           1,           1,           1,\n",
            "                  1,           1,           1,           1,           1,           1,           1,           1,           1,           1,           1,           1,           1,           1,           1,           1,           1,           1,           1,           1,           1,           1,           1,\n",
            "                  1,           1,           1,           1,           1,           1,           1,           1,           1,           1,           1,           1,           1,           1,           1,           1,           1,           1,           1,           1,           1,           1,           1,\n",
            "                  1,           1,           1,           1,           1,           1,           1,           1,           1,           1,           1,           1,           1,           1,           1,           1,           1,           1,           1,           1,           1,           1,           1,\n",
            "                  1,           1,           1,           1,           1,           1,           1,           1,           1,           1,           1]]), 'Confidence', 'Precision'], [array([          0,    0.001001,    0.002002,    0.003003,    0.004004,    0.005005,    0.006006,    0.007007,    0.008008,    0.009009,     0.01001,    0.011011,    0.012012,    0.013013,    0.014014,    0.015015,    0.016016,    0.017017,    0.018018,    0.019019,     0.02002,    0.021021,    0.022022,    0.023023,\n",
            "          0.024024,    0.025025,    0.026026,    0.027027,    0.028028,    0.029029,     0.03003,    0.031031,    0.032032,    0.033033,    0.034034,    0.035035,    0.036036,    0.037037,    0.038038,    0.039039,     0.04004,    0.041041,    0.042042,    0.043043,    0.044044,    0.045045,    0.046046,    0.047047,\n",
            "          0.048048,    0.049049,     0.05005,    0.051051,    0.052052,    0.053053,    0.054054,    0.055055,    0.056056,    0.057057,    0.058058,    0.059059,     0.06006,    0.061061,    0.062062,    0.063063,    0.064064,    0.065065,    0.066066,    0.067067,    0.068068,    0.069069,     0.07007,    0.071071,\n",
            "          0.072072,    0.073073,    0.074074,    0.075075,    0.076076,    0.077077,    0.078078,    0.079079,     0.08008,    0.081081,    0.082082,    0.083083,    0.084084,    0.085085,    0.086086,    0.087087,    0.088088,    0.089089,     0.09009,    0.091091,    0.092092,    0.093093,    0.094094,    0.095095,\n",
            "          0.096096,    0.097097,    0.098098,    0.099099,      0.1001,      0.1011,      0.1021,      0.1031,      0.1041,     0.10511,     0.10611,     0.10711,     0.10811,     0.10911,     0.11011,     0.11111,     0.11211,     0.11311,     0.11411,     0.11512,     0.11612,     0.11712,     0.11812,     0.11912,\n",
            "           0.12012,     0.12112,     0.12212,     0.12312,     0.12412,     0.12513,     0.12613,     0.12713,     0.12813,     0.12913,     0.13013,     0.13113,     0.13213,     0.13313,     0.13413,     0.13514,     0.13614,     0.13714,     0.13814,     0.13914,     0.14014,     0.14114,     0.14214,     0.14314,\n",
            "           0.14414,     0.14515,     0.14615,     0.14715,     0.14815,     0.14915,     0.15015,     0.15115,     0.15215,     0.15315,     0.15415,     0.15516,     0.15616,     0.15716,     0.15816,     0.15916,     0.16016,     0.16116,     0.16216,     0.16316,     0.16416,     0.16517,     0.16617,     0.16717,\n",
            "           0.16817,     0.16917,     0.17017,     0.17117,     0.17217,     0.17317,     0.17417,     0.17518,     0.17618,     0.17718,     0.17818,     0.17918,     0.18018,     0.18118,     0.18218,     0.18318,     0.18418,     0.18519,     0.18619,     0.18719,     0.18819,     0.18919,     0.19019,     0.19119,\n",
            "           0.19219,     0.19319,     0.19419,      0.1952,      0.1962,      0.1972,      0.1982,      0.1992,      0.2002,      0.2012,      0.2022,      0.2032,      0.2042,     0.20521,     0.20621,     0.20721,     0.20821,     0.20921,     0.21021,     0.21121,     0.21221,     0.21321,     0.21421,     0.21522,\n",
            "           0.21622,     0.21722,     0.21822,     0.21922,     0.22022,     0.22122,     0.22222,     0.22322,     0.22422,     0.22523,     0.22623,     0.22723,     0.22823,     0.22923,     0.23023,     0.23123,     0.23223,     0.23323,     0.23423,     0.23524,     0.23624,     0.23724,     0.23824,     0.23924,\n",
            "           0.24024,     0.24124,     0.24224,     0.24324,     0.24424,     0.24525,     0.24625,     0.24725,     0.24825,     0.24925,     0.25025,     0.25125,     0.25225,     0.25325,     0.25425,     0.25526,     0.25626,     0.25726,     0.25826,     0.25926,     0.26026,     0.26126,     0.26226,     0.26326,\n",
            "           0.26426,     0.26527,     0.26627,     0.26727,     0.26827,     0.26927,     0.27027,     0.27127,     0.27227,     0.27327,     0.27427,     0.27528,     0.27628,     0.27728,     0.27828,     0.27928,     0.28028,     0.28128,     0.28228,     0.28328,     0.28428,     0.28529,     0.28629,     0.28729,\n",
            "           0.28829,     0.28929,     0.29029,     0.29129,     0.29229,     0.29329,     0.29429,      0.2953,      0.2963,      0.2973,      0.2983,      0.2993,      0.3003,      0.3013,      0.3023,      0.3033,      0.3043,     0.30531,     0.30631,     0.30731,     0.30831,     0.30931,     0.31031,     0.31131,\n",
            "           0.31231,     0.31331,     0.31431,     0.31532,     0.31632,     0.31732,     0.31832,     0.31932,     0.32032,     0.32132,     0.32232,     0.32332,     0.32432,     0.32533,     0.32633,     0.32733,     0.32833,     0.32933,     0.33033,     0.33133,     0.33233,     0.33333,     0.33433,     0.33534,\n",
            "           0.33634,     0.33734,     0.33834,     0.33934,     0.34034,     0.34134,     0.34234,     0.34334,     0.34434,     0.34535,     0.34635,     0.34735,     0.34835,     0.34935,     0.35035,     0.35135,     0.35235,     0.35335,     0.35435,     0.35536,     0.35636,     0.35736,     0.35836,     0.35936,\n",
            "           0.36036,     0.36136,     0.36236,     0.36336,     0.36436,     0.36537,     0.36637,     0.36737,     0.36837,     0.36937,     0.37037,     0.37137,     0.37237,     0.37337,     0.37437,     0.37538,     0.37638,     0.37738,     0.37838,     0.37938,     0.38038,     0.38138,     0.38238,     0.38338,\n",
            "           0.38438,     0.38539,     0.38639,     0.38739,     0.38839,     0.38939,     0.39039,     0.39139,     0.39239,     0.39339,     0.39439,      0.3954,      0.3964,      0.3974,      0.3984,      0.3994,      0.4004,      0.4014,      0.4024,      0.4034,      0.4044,     0.40541,     0.40641,     0.40741,\n",
            "           0.40841,     0.40941,     0.41041,     0.41141,     0.41241,     0.41341,     0.41441,     0.41542,     0.41642,     0.41742,     0.41842,     0.41942,     0.42042,     0.42142,     0.42242,     0.42342,     0.42442,     0.42543,     0.42643,     0.42743,     0.42843,     0.42943,     0.43043,     0.43143,\n",
            "           0.43243,     0.43343,     0.43443,     0.43544,     0.43644,     0.43744,     0.43844,     0.43944,     0.44044,     0.44144,     0.44244,     0.44344,     0.44444,     0.44545,     0.44645,     0.44745,     0.44845,     0.44945,     0.45045,     0.45145,     0.45245,     0.45345,     0.45445,     0.45546,\n",
            "           0.45646,     0.45746,     0.45846,     0.45946,     0.46046,     0.46146,     0.46246,     0.46346,     0.46446,     0.46547,     0.46647,     0.46747,     0.46847,     0.46947,     0.47047,     0.47147,     0.47247,     0.47347,     0.47447,     0.47548,     0.47648,     0.47748,     0.47848,     0.47948,\n",
            "           0.48048,     0.48148,     0.48248,     0.48348,     0.48448,     0.48549,     0.48649,     0.48749,     0.48849,     0.48949,     0.49049,     0.49149,     0.49249,     0.49349,     0.49449,      0.4955,      0.4965,      0.4975,      0.4985,      0.4995,      0.5005,      0.5015,      0.5025,      0.5035,\n",
            "            0.5045,     0.50551,     0.50651,     0.50751,     0.50851,     0.50951,     0.51051,     0.51151,     0.51251,     0.51351,     0.51451,     0.51552,     0.51652,     0.51752,     0.51852,     0.51952,     0.52052,     0.52152,     0.52252,     0.52352,     0.52452,     0.52553,     0.52653,     0.52753,\n",
            "           0.52853,     0.52953,     0.53053,     0.53153,     0.53253,     0.53353,     0.53453,     0.53554,     0.53654,     0.53754,     0.53854,     0.53954,     0.54054,     0.54154,     0.54254,     0.54354,     0.54454,     0.54555,     0.54655,     0.54755,     0.54855,     0.54955,     0.55055,     0.55155,\n",
            "           0.55255,     0.55355,     0.55455,     0.55556,     0.55656,     0.55756,     0.55856,     0.55956,     0.56056,     0.56156,     0.56256,     0.56356,     0.56456,     0.56557,     0.56657,     0.56757,     0.56857,     0.56957,     0.57057,     0.57157,     0.57257,     0.57357,     0.57457,     0.57558,\n",
            "           0.57658,     0.57758,     0.57858,     0.57958,     0.58058,     0.58158,     0.58258,     0.58358,     0.58458,     0.58559,     0.58659,     0.58759,     0.58859,     0.58959,     0.59059,     0.59159,     0.59259,     0.59359,     0.59459,      0.5956,      0.5966,      0.5976,      0.5986,      0.5996,\n",
            "            0.6006,      0.6016,      0.6026,      0.6036,      0.6046,     0.60561,     0.60661,     0.60761,     0.60861,     0.60961,     0.61061,     0.61161,     0.61261,     0.61361,     0.61461,     0.61562,     0.61662,     0.61762,     0.61862,     0.61962,     0.62062,     0.62162,     0.62262,     0.62362,\n",
            "           0.62462,     0.62563,     0.62663,     0.62763,     0.62863,     0.62963,     0.63063,     0.63163,     0.63263,     0.63363,     0.63463,     0.63564,     0.63664,     0.63764,     0.63864,     0.63964,     0.64064,     0.64164,     0.64264,     0.64364,     0.64464,     0.64565,     0.64665,     0.64765,\n",
            "           0.64865,     0.64965,     0.65065,     0.65165,     0.65265,     0.65365,     0.65465,     0.65566,     0.65666,     0.65766,     0.65866,     0.65966,     0.66066,     0.66166,     0.66266,     0.66366,     0.66466,     0.66567,     0.66667,     0.66767,     0.66867,     0.66967,     0.67067,     0.67167,\n",
            "           0.67267,     0.67367,     0.67467,     0.67568,     0.67668,     0.67768,     0.67868,     0.67968,     0.68068,     0.68168,     0.68268,     0.68368,     0.68468,     0.68569,     0.68669,     0.68769,     0.68869,     0.68969,     0.69069,     0.69169,     0.69269,     0.69369,     0.69469,      0.6957,\n",
            "            0.6967,      0.6977,      0.6987,      0.6997,      0.7007,      0.7017,      0.7027,      0.7037,      0.7047,     0.70571,     0.70671,     0.70771,     0.70871,     0.70971,     0.71071,     0.71171,     0.71271,     0.71371,     0.71471,     0.71572,     0.71672,     0.71772,     0.71872,     0.71972,\n",
            "           0.72072,     0.72172,     0.72272,     0.72372,     0.72472,     0.72573,     0.72673,     0.72773,     0.72873,     0.72973,     0.73073,     0.73173,     0.73273,     0.73373,     0.73473,     0.73574,     0.73674,     0.73774,     0.73874,     0.73974,     0.74074,     0.74174,     0.74274,     0.74374,\n",
            "           0.74474,     0.74575,     0.74675,     0.74775,     0.74875,     0.74975,     0.75075,     0.75175,     0.75275,     0.75375,     0.75475,     0.75576,     0.75676,     0.75776,     0.75876,     0.75976,     0.76076,     0.76176,     0.76276,     0.76376,     0.76476,     0.76577,     0.76677,     0.76777,\n",
            "           0.76877,     0.76977,     0.77077,     0.77177,     0.77277,     0.77377,     0.77477,     0.77578,     0.77678,     0.77778,     0.77878,     0.77978,     0.78078,     0.78178,     0.78278,     0.78378,     0.78478,     0.78579,     0.78679,     0.78779,     0.78879,     0.78979,     0.79079,     0.79179,\n",
            "           0.79279,     0.79379,     0.79479,      0.7958,      0.7968,      0.7978,      0.7988,      0.7998,      0.8008,      0.8018,      0.8028,      0.8038,      0.8048,     0.80581,     0.80681,     0.80781,     0.80881,     0.80981,     0.81081,     0.81181,     0.81281,     0.81381,     0.81481,     0.81582,\n",
            "           0.81682,     0.81782,     0.81882,     0.81982,     0.82082,     0.82182,     0.82282,     0.82382,     0.82482,     0.82583,     0.82683,     0.82783,     0.82883,     0.82983,     0.83083,     0.83183,     0.83283,     0.83383,     0.83483,     0.83584,     0.83684,     0.83784,     0.83884,     0.83984,\n",
            "           0.84084,     0.84184,     0.84284,     0.84384,     0.84484,     0.84585,     0.84685,     0.84785,     0.84885,     0.84985,     0.85085,     0.85185,     0.85285,     0.85385,     0.85485,     0.85586,     0.85686,     0.85786,     0.85886,     0.85986,     0.86086,     0.86186,     0.86286,     0.86386,\n",
            "           0.86486,     0.86587,     0.86687,     0.86787,     0.86887,     0.86987,     0.87087,     0.87187,     0.87287,     0.87387,     0.87487,     0.87588,     0.87688,     0.87788,     0.87888,     0.87988,     0.88088,     0.88188,     0.88288,     0.88388,     0.88488,     0.88589,     0.88689,     0.88789,\n",
            "           0.88889,     0.88989,     0.89089,     0.89189,     0.89289,     0.89389,     0.89489,      0.8959,      0.8969,      0.8979,      0.8989,      0.8999,      0.9009,      0.9019,      0.9029,      0.9039,      0.9049,     0.90591,     0.90691,     0.90791,     0.90891,     0.90991,     0.91091,     0.91191,\n",
            "           0.91291,     0.91391,     0.91491,     0.91592,     0.91692,     0.91792,     0.91892,     0.91992,     0.92092,     0.92192,     0.92292,     0.92392,     0.92492,     0.92593,     0.92693,     0.92793,     0.92893,     0.92993,     0.93093,     0.93193,     0.93293,     0.93393,     0.93493,     0.93594,\n",
            "           0.93694,     0.93794,     0.93894,     0.93994,     0.94094,     0.94194,     0.94294,     0.94394,     0.94494,     0.94595,     0.94695,     0.94795,     0.94895,     0.94995,     0.95095,     0.95195,     0.95295,     0.95395,     0.95495,     0.95596,     0.95696,     0.95796,     0.95896,     0.95996,\n",
            "           0.96096,     0.96196,     0.96296,     0.96396,     0.96496,     0.96597,     0.96697,     0.96797,     0.96897,     0.96997,     0.97097,     0.97197,     0.97297,     0.97397,     0.97497,     0.97598,     0.97698,     0.97798,     0.97898,     0.97998,     0.98098,     0.98198,     0.98298,     0.98398,\n",
            "           0.98498,     0.98599,     0.98699,     0.98799,     0.98899,     0.98999,     0.99099,     0.99199,     0.99299,     0.99399,     0.99499,       0.996,       0.997,       0.998,       0.999,           1]), array([[    0.90909,     0.90909,      0.9021,      0.9021,     0.88811,     0.88811,     0.88811,     0.88811,     0.88811,     0.88236,     0.88112,     0.88112,     0.88112,     0.88112,     0.88112,     0.88112,     0.88112,     0.88112,     0.88112,     0.88112,     0.88112,     0.88112,     0.88112,\n",
            "            0.88112,     0.88112,     0.87413,     0.87413,     0.87413,     0.87413,     0.87413,     0.87413,     0.87413,     0.87413,     0.87413,     0.87413,     0.87413,     0.87413,     0.87413,     0.87413,     0.87413,     0.87413,     0.87413,     0.87413,     0.87413,     0.87413,     0.87413,\n",
            "            0.87413,     0.87413,     0.87413,     0.87383,     0.87319,     0.87255,      0.8719,     0.87126,     0.87062,     0.86997,     0.86933,     0.86869,     0.86805,      0.8674,     0.86713,     0.86713,     0.86713,     0.86713,     0.86394,     0.86014,     0.86014,     0.86014,     0.86014,\n",
            "            0.86014,     0.86014,     0.86014,     0.86014,     0.86014,     0.86014,     0.86014,     0.86014,     0.86014,     0.86014,     0.86014,     0.86014,     0.86014,     0.86014,     0.86014,     0.86014,     0.86014,     0.86014,     0.86014,     0.86014,     0.86014,     0.86014,     0.86014,\n",
            "            0.86014,     0.86014,     0.86014,     0.86014,     0.86014,     0.86014,     0.86014,     0.86014,     0.86014,     0.86014,     0.86014,     0.86014,     0.86014,     0.86014,     0.86014,     0.86014,     0.86014,     0.86014,     0.86014,     0.86014,     0.86014,     0.86014,     0.86014,\n",
            "            0.86014,     0.86014,     0.86014,     0.86014,     0.86014,     0.86014,     0.86014,     0.86014,     0.86014,     0.86014,     0.86014,     0.86014,     0.86014,     0.86014,     0.86014,     0.86014,     0.86014,     0.86014,     0.86014,     0.86014,     0.86014,     0.86014,     0.86014,\n",
            "            0.86014,     0.86014,     0.86014,     0.86014,     0.86014,     0.86014,     0.86014,     0.86014,     0.86014,      0.8589,     0.85301,     0.85241,     0.85182,     0.85122,     0.85062,     0.85002,     0.84943,     0.84883,     0.84823,     0.84763,     0.84704,     0.84644,     0.84596,\n",
            "            0.84559,     0.84521,     0.84484,     0.84447,     0.84409,     0.84372,     0.84335,     0.84297,      0.8426,     0.84223,     0.84185,     0.84148,     0.84111,     0.84073,     0.84036,     0.83999,     0.83961,     0.83924,     0.83916,     0.83916,     0.83916,     0.83916,     0.83916,\n",
            "            0.83916,     0.83916,     0.83916,     0.83916,     0.83916,     0.83916,     0.83916,     0.83916,     0.83916,     0.83916,     0.83916,     0.83916,     0.83916,     0.83916,     0.83916,     0.83916,     0.83916,     0.83916,     0.83916,     0.83916,     0.83916,     0.83916,     0.83916,\n",
            "            0.83916,     0.83916,     0.83916,     0.83916,     0.83916,     0.83916,     0.83916,     0.83916,     0.83916,     0.83916,     0.83916,     0.83916,     0.83916,     0.83916,     0.83916,     0.83916,     0.83916,     0.83916,     0.83916,     0.83916,     0.83916,     0.83916,     0.83916,\n",
            "            0.83916,     0.83916,     0.83916,     0.83916,     0.83916,     0.83916,     0.83916,     0.83916,     0.83916,     0.83916,     0.83916,     0.83916,     0.83916,     0.83916,     0.83916,     0.83916,     0.83916,     0.83916,     0.83916,     0.83916,     0.83916,     0.83916,     0.83916,\n",
            "            0.83916,     0.83916,     0.83916,     0.83916,     0.83916,     0.83916,     0.83916,     0.83916,     0.83916,     0.83916,     0.83916,     0.83916,     0.83916,     0.83916,     0.83916,     0.83916,     0.83916,     0.83912,     0.83832,     0.83751,     0.83671,      0.8359,     0.83509,\n",
            "            0.83429,     0.83348,     0.83268,     0.83217,     0.83217,     0.83217,     0.83217,     0.83217,     0.83217,     0.83217,     0.83217,     0.83217,     0.83217,     0.83217,     0.83217,     0.83217,     0.83217,     0.83217,     0.83217,     0.83217,     0.83217,     0.83217,     0.83217,\n",
            "            0.83217,     0.83217,     0.83217,     0.83217,     0.83217,     0.83217,     0.83217,     0.83217,     0.83217,     0.83217,     0.83217,     0.83217,     0.83217,     0.83217,     0.83217,     0.83217,     0.83217,     0.83217,     0.83217,     0.83217,     0.83217,     0.83217,     0.83217,\n",
            "            0.83217,     0.83217,     0.83217,     0.83217,     0.83217,     0.83217,     0.83217,     0.83209,     0.83176,     0.83144,     0.83112,      0.8308,     0.83048,     0.83016,     0.82984,     0.82952,      0.8292,     0.82888,     0.82856,     0.82824,     0.82792,      0.8276,     0.82727,\n",
            "            0.82695,     0.82663,     0.82631,     0.82599,     0.82567,     0.82535,     0.82517,     0.82517,     0.82517,     0.82517,     0.82517,     0.82517,     0.82517,     0.82517,     0.82517,     0.82517,     0.82517,     0.82517,     0.82517,     0.82517,     0.82517,     0.82517,     0.82517,\n",
            "            0.82517,     0.82517,     0.82517,     0.82517,     0.82517,     0.82517,     0.82517,     0.82517,     0.82517,     0.82517,     0.82517,      0.8251,     0.82502,     0.82494,     0.82486,     0.82478,      0.8247,     0.82462,     0.82454,     0.82446,     0.82438,      0.8243,     0.82422,\n",
            "            0.82415,     0.82407,     0.82399,     0.82391,     0.82383,     0.82375,     0.82367,     0.82359,     0.82351,     0.82343,     0.82335,     0.82327,     0.82319,     0.82311,     0.82303,     0.82295,     0.82287,     0.82279,     0.82271,     0.82263,     0.82255,     0.82247,     0.82239,\n",
            "            0.82231,     0.82223,     0.82215,     0.82207,     0.82199,     0.82191,     0.82183,     0.82175,     0.82167,     0.82159,     0.82151,     0.82143,     0.82135,     0.82127,      0.8212,     0.82112,     0.82104,     0.82096,     0.82088,      0.8208,     0.82072,     0.82064,     0.82056,\n",
            "            0.82048,      0.8204,     0.82032,     0.82024,     0.82016,     0.82008,        0.82,     0.81992,     0.81984,     0.81976,     0.81968,      0.8196,     0.81952,     0.81944,     0.81936,     0.81928,      0.8192,     0.81912,     0.81904,     0.81896,     0.81888,      0.8188,     0.81872,\n",
            "            0.81864,     0.81856,     0.81848,      0.8184,     0.81833,     0.81825,     0.81818,     0.81818,     0.81818,     0.81818,     0.81818,     0.81818,     0.81818,     0.81762,     0.81666,      0.8157,     0.81474,     0.81378,     0.81281,     0.81185,     0.81119,     0.81119,     0.81119,\n",
            "            0.81119,     0.81119,     0.81119,     0.81119,     0.81119,     0.81119,     0.81119,     0.81119,     0.81119,     0.81119,     0.81119,     0.81119,     0.81119,     0.81119,     0.81119,     0.81119,     0.81055,      0.8098,     0.80905,     0.80829,     0.80754,     0.80679,     0.80604,\n",
            "            0.80529,     0.80454,     0.80379,     0.80305,     0.80231,     0.80157,     0.80083,     0.80009,     0.79935,      0.7986,     0.79786,      0.7972,      0.7972,      0.7972,      0.7972,      0.7972,      0.7972,      0.7972,      0.7972,      0.7972,      0.7972,      0.7972,      0.7972,\n",
            "             0.7972,      0.7972,      0.7972,      0.7972,     0.79712,     0.79646,     0.79581,     0.79515,      0.7945,     0.79384,     0.79319,     0.79254,     0.79188,     0.79123,     0.79057,     0.78998,     0.78946,     0.78893,     0.78841,     0.78789,     0.78737,     0.78684,     0.78632,\n",
            "             0.7858,     0.78528,     0.78475,     0.78423,     0.78371,     0.78322,     0.78322,     0.78322,     0.78322,     0.78322,     0.78322,     0.78322,     0.78322,     0.78322,     0.78322,     0.78322,     0.78322,     0.78322,     0.78322,     0.78322,     0.78322,     0.78322,     0.78322,\n",
            "            0.78322,     0.78322,     0.78322,     0.78322,     0.78322,     0.78322,     0.78322,     0.78322,     0.78322,     0.78322,     0.78322,     0.78322,     0.78322,     0.78278,     0.78197,     0.78116,     0.78036,     0.77955,     0.77874,     0.77793,     0.77713,     0.77632,     0.77604,\n",
            "            0.77583,     0.77562,     0.77542,     0.77521,       0.775,     0.77479,     0.77458,     0.77437,     0.77417,     0.77396,     0.77375,     0.77354,     0.77333,     0.77313,     0.77292,     0.77271,      0.7725,     0.77229,     0.77208,     0.77188,     0.77167,     0.77146,     0.77125,\n",
            "            0.77104,     0.77084,     0.77063,     0.77042,     0.77021,        0.77,     0.76979,     0.76959,     0.76938,       0.769,     0.76819,     0.76738,     0.76657,     0.76576,     0.76496,     0.76415,     0.76334,     0.76253,     0.75511,     0.75405,     0.75299,     0.75193,     0.75087,\n",
            "            0.74981,     0.74875,     0.74782,       0.747,     0.74618,     0.74536,     0.74454,     0.74371,     0.74289,     0.74207,     0.74125,     0.74071,     0.74018,     0.73964,      0.7391,     0.73856,     0.73802,     0.73748,     0.73694,      0.7364,     0.73586,     0.73532,     0.73478,\n",
            "             0.7342,     0.73282,     0.73143,     0.73005,     0.72866,     0.72728,     0.72572,     0.72417,     0.72262,     0.72107,     0.71869,     0.71543,      0.7132,     0.71294,     0.71268,     0.71242,     0.71216,      0.7119,     0.71164,     0.71138,     0.71112,     0.71086,      0.7106,\n",
            "            0.71034,     0.71008,     0.70982,     0.70957,     0.70931,     0.70905,     0.70879,     0.70853,     0.70827,     0.70801,     0.70775,     0.70749,     0.70723,     0.70697,     0.70671,     0.70645,     0.70629,     0.70532,     0.70246,      0.6996,      0.6993,      0.6993,     0.69685,\n",
            "            0.69384,     0.69131,     0.68926,     0.68721,     0.68507,     0.68189,     0.67871,     0.67786,     0.67733,      0.6768,     0.67628,     0.67575,     0.67522,     0.67469,     0.67416,     0.67364,     0.67311,     0.67258,     0.67205,     0.67153,     0.67069,     0.66966,     0.66864,\n",
            "            0.66762,     0.66659,     0.66557,     0.66455,     0.66344,      0.6623,     0.66117,     0.66004,     0.65891,     0.65778,     0.65571,     0.65307,     0.65042,     0.64968,     0.64899,     0.64829,      0.6476,     0.64691,     0.64622,     0.64553,     0.64484,     0.64414,     0.64345,\n",
            "            0.63892,     0.61879,     0.60983,     0.60726,     0.60031,      0.5985,     0.59669,     0.59489,     0.59187,     0.58841,     0.58622,     0.58454,     0.58286,     0.58118,     0.57916,     0.57688,      0.5746,     0.57143,     0.56732,     0.55731,     0.55178,     0.55086,     0.54994,\n",
            "            0.54902,     0.54811,     0.54719,     0.54627,     0.54508,     0.54174,     0.53807,     0.51622,     0.50953,     0.50693,     0.50433,     0.49591,     0.49237,     0.48303,     0.46044,     0.45234,     0.44619,     0.44031,      0.4357,     0.42942,     0.41941,     0.41626,     0.41312,\n",
            "            0.41121,     0.40955,     0.40788,     0.40622,     0.40503,     0.40411,      0.4032,     0.40228,     0.40137,     0.40046,     0.39954,     0.39863,     0.39248,     0.38923,     0.38646,     0.38035,     0.35857,      0.3424,     0.34063,     0.33886,     0.33709,     0.33512,     0.33229,\n",
            "            0.32947,     0.32798,     0.32701,     0.32605,     0.32508,     0.32412,     0.32315,     0.32219,     0.31934,     0.31456,      0.3125,     0.31044,     0.30837,     0.29246,      0.2892,     0.28469,       0.272,     0.26345,     0.25896,     0.25492,      0.2498,     0.23793,     0.22746,\n",
            "            0.22123,     0.21811,     0.20457,       0.187,     0.17985,     0.17384,     0.17142,     0.16899,      0.1597,     0.15687,     0.15403,     0.13978,     0.13786,     0.13594,     0.13402,     0.13057,     0.11846,     0.10803,     0.10343,     0.10162,    0.099812,    0.098002,    0.090036,\n",
            "           0.089011,    0.087986,    0.086961,    0.085937,    0.084912,     0.08384,    0.081139,    0.078437,    0.068666,    0.059887,     0.05617,    0.050433,    0.041127,    0.039241,    0.037356,     0.03547,    0.033649,    0.031851,    0.030053,    0.028256,     0.02658,    0.024928,    0.023276,\n",
            "           0.021623,    0.020414,    0.019487,    0.018561,    0.017634,    0.016707,    0.015781,    0.014854,     0.01382,    0.011176,   0.0085324,           0,           0,           0,           0,           0,           0,           0,           0,           0,           0,           0,           0,\n",
            "                  0,           0,           0,           0,           0,           0,           0,           0,           0,           0,           0,           0,           0,           0,           0,           0,           0,           0,           0,           0,           0,           0,           0,\n",
            "                  0,           0,           0,           0,           0,           0,           0,           0,           0,           0,           0,           0,           0,           0,           0,           0,           0,           0,           0,           0,           0,           0,           0,\n",
            "                  0,           0,           0,           0,           0,           0,           0,           0,           0,           0,           0,           0,           0,           0,           0,           0,           0,           0,           0,           0,           0,           0,           0,\n",
            "                  0,           0,           0,           0,           0,           0,           0,           0,           0,           0,           0]]), 'Confidence', 'Recall']]\n",
            "f1: array([    0.87208])\n",
            "f1_curve: array([[    0.43919,     0.43919,      0.5313,     0.59711,     0.63747,     0.66686,     0.68841,     0.70388,     0.71625,     0.72479,      0.7291,     0.73507,     0.73623,     0.73855,     0.74712,     0.74901,     0.75085,     0.75455,     0.75597,     0.75826,     0.76308,     0.76644,     0.76938,\n",
            "            0.77431,     0.77972,     0.77871,     0.78653,     0.79159,     0.79538,     0.79705,     0.79803,     0.79903,     0.80006,     0.80109,     0.80468,      0.8089,     0.81173,     0.81344,     0.81503,     0.81648,     0.81947,     0.82373,     0.82673,     0.83343,     0.83483,     0.83652,\n",
            "             0.8394,     0.84033,     0.84125,     0.84159,     0.84123,     0.84087,     0.84051,     0.84015,     0.83979,     0.83943,     0.83907,     0.83871,     0.83835,     0.83799,     0.83888,     0.84067,     0.84214,     0.84387,     0.84461,     0.84252,     0.84278,     0.84305,     0.84332,\n",
            "            0.84358,     0.84385,     0.84412,     0.84438,     0.84465,     0.84491,     0.84518,     0.84556,     0.84622,     0.84687,     0.84753,     0.84818,     0.84852,     0.84881,      0.8491,     0.84939,     0.84968,     0.84996,     0.85025,     0.85054,     0.85083,     0.85111,     0.85155,\n",
            "            0.85207,     0.85258,      0.8531,     0.85361,     0.85412,     0.85447,     0.85481,     0.85514,     0.85548,     0.85581,     0.85614,     0.85648,     0.85681,     0.85714,      0.8574,     0.85765,      0.8579,     0.85815,      0.8584,     0.85866,     0.85891,     0.85916,     0.85941,\n",
            "            0.85966,     0.85991,     0.86015,     0.86025,     0.86035,     0.86045,     0.86055,     0.86065,     0.86076,     0.86086,     0.86096,     0.86106,     0.86116,     0.86126,     0.86136,     0.86146,     0.86156,     0.86166,     0.86177,     0.86187,     0.86197,     0.86207,     0.86217,\n",
            "            0.86227,     0.86237,     0.86247,     0.86257,     0.86267,     0.86277,     0.86287,     0.86297,     0.86307,     0.86245,     0.85908,     0.85873,     0.85839,     0.85805,      0.8577,     0.85736,     0.85701,     0.85667,     0.85632,     0.85598,     0.85563,     0.85529,     0.85501,\n",
            "            0.85479,     0.85458,     0.85436,     0.85415,     0.85393,     0.85371,      0.8535,     0.85328,     0.85306,     0.85285,     0.85263,     0.85241,      0.8522,     0.85198,     0.85176,     0.85154,     0.85133,     0.85111,     0.85205,     0.85329,     0.85413,     0.85422,     0.85431,\n",
            "            0.85441,      0.8545,      0.8546,     0.85469,     0.85478,     0.85488,     0.85497,     0.85507,     0.85516,     0.85525,     0.85535,     0.85544,     0.85554,     0.85563,     0.85572,     0.85582,     0.85591,       0.856,      0.8561,     0.85619,     0.85629,     0.85638,     0.85647,\n",
            "            0.85657,     0.85666,     0.85675,     0.85685,     0.85694,     0.85703,     0.85713,     0.85726,      0.8574,     0.85754,     0.85768,     0.85782,     0.85796,      0.8581,     0.85825,     0.85839,     0.85853,     0.85867,     0.85881,     0.85895,     0.85909,     0.85923,     0.85937,\n",
            "            0.85951,     0.85965,     0.85979,     0.85993,     0.86007,     0.86021,     0.86046,     0.86071,     0.86097,     0.86122,     0.86148,     0.86173,     0.86199,     0.86224,      0.8625,     0.86275,       0.863,     0.86326,     0.86355,     0.86386,     0.86416,     0.86446,     0.86477,\n",
            "            0.86507,     0.86537,     0.86568,     0.86598,     0.86628,     0.86656,     0.86681,     0.86706,     0.86732,     0.86757,     0.86782,     0.86807,     0.86832,     0.86857,     0.86882,     0.86908,     0.86933,     0.86954,     0.86907,      0.8686,     0.86812,     0.86765,     0.86718,\n",
            "             0.8667,     0.86623,     0.86575,     0.86552,     0.86569,     0.86586,     0.86603,      0.8662,     0.86637,     0.86654,     0.86671,     0.86688,     0.86705,     0.86722,     0.86739,     0.86755,     0.86772,     0.86789,     0.86806,     0.86823,      0.8684,     0.86857,     0.86888,\n",
            "            0.86925,     0.86961,     0.86998,     0.87034,      0.8707,     0.87107,     0.87143,     0.87179,     0.87194,     0.87208,     0.87222,     0.87236,      0.8725,     0.87264,     0.87278,     0.87292,     0.87307,     0.87321,     0.87335,     0.87349,     0.87363,     0.87377,     0.87391,\n",
            "            0.87405,     0.87419,     0.87433,     0.87447,     0.87461,     0.87476,      0.8749,     0.87495,     0.87476,     0.87457,     0.87438,     0.87419,       0.874,     0.87381,     0.87362,     0.87343,     0.87324,     0.87305,     0.87286,     0.87267,     0.87248,     0.87229,      0.8721,\n",
            "            0.87191,     0.87172,     0.87153,     0.87134,     0.87114,     0.87095,      0.8709,     0.87102,     0.87114,     0.87125,     0.87137,     0.87149,     0.87161,     0.87172,     0.87184,     0.87196,     0.87208,     0.87219,     0.87231,     0.87243,     0.87254,     0.87266,     0.87278,\n",
            "             0.8729,     0.87301,     0.87313,     0.87325,     0.87336,     0.87348,      0.8736,     0.87371,     0.87383,     0.87395,     0.87406,     0.87403,     0.87398,     0.87394,     0.87389,     0.87384,     0.87379,     0.87374,      0.8737,     0.87365,      0.8736,     0.87355,     0.87351,\n",
            "            0.87346,     0.87341,     0.87336,     0.87332,     0.87327,     0.87322,     0.87317,     0.87313,     0.87308,     0.87303,     0.87298,     0.87294,     0.87289,     0.87284,     0.87279,     0.87274,      0.8727,     0.87265,      0.8726,     0.87255,     0.87251,     0.87246,     0.87241,\n",
            "            0.87236,     0.87232,     0.87227,     0.87222,     0.87217,     0.87212,     0.87208,     0.87203,     0.87198,     0.87193,     0.87189,     0.87184,     0.87179,     0.87174,      0.8717,     0.87165,      0.8716,     0.87155,      0.8715,     0.87146,     0.87141,     0.87136,     0.87131,\n",
            "            0.87127,     0.87122,     0.87117,     0.87112,     0.87107,     0.87103,     0.87098,     0.87093,     0.87088,     0.87084,     0.87079,     0.87074,     0.87069,     0.87064,      0.8706,     0.87055,      0.8705,     0.87045,     0.87041,     0.87036,     0.87031,     0.87026,     0.87021,\n",
            "            0.87017,     0.87012,     0.87007,     0.87002,     0.86997,     0.86993,     0.87001,     0.87059,     0.87118,     0.87176,     0.87235,     0.87293,     0.87512,     0.87607,     0.87549,     0.87491,     0.87433,     0.87375,     0.87317,     0.87258,      0.8723,     0.87268,     0.87306,\n",
            "            0.87345,     0.87383,     0.87421,     0.87459,     0.87497,     0.87535,      0.8757,     0.87604,     0.87638,     0.87672,     0.87705,     0.87739,     0.87773,     0.87807,      0.8784,     0.87874,      0.8784,     0.87794,     0.87748,     0.87703,     0.87657,     0.87611,     0.87565,\n",
            "            0.87519,     0.87474,     0.87428,     0.87382,     0.87337,     0.87292,     0.87246,       0.872,     0.87155,     0.87109,     0.87064,     0.87025,     0.87046,     0.87067,     0.87088,     0.87109,      0.8713,     0.87151,     0.87172,     0.87193,     0.87213,     0.87234,     0.87255,\n",
            "            0.87276,     0.87297,     0.87318,     0.87338,     0.87351,     0.87311,      0.8727,      0.8723,     0.87189,     0.87149,     0.87108,     0.87068,     0.87027,     0.86986,     0.86946,     0.86909,     0.86876,     0.86844,     0.86811,     0.86778,     0.86746,     0.86713,     0.86681,\n",
            "            0.86648,     0.86615,     0.86583,      0.8655,     0.86517,     0.86487,     0.86498,     0.86509,      0.8652,     0.86531,     0.86542,     0.86553,     0.86564,     0.86575,     0.86586,     0.86597,     0.86608,     0.86619,      0.8663,     0.86641,     0.86652,     0.86663,     0.86674,\n",
            "            0.86685,     0.86696,     0.86707,     0.86718,     0.86729,      0.8674,     0.86751,     0.86762,     0.86773,     0.86784,     0.86795,     0.86806,     0.86817,     0.86794,     0.86743,     0.86693,     0.86642,     0.86591,      0.8654,     0.86489,     0.86438,     0.86387,      0.8637,\n",
            "            0.86357,     0.86343,      0.8633,     0.86317,     0.86304,     0.86291,     0.86277,     0.86264,     0.86251,     0.86238,     0.86225,     0.86212,     0.86198,     0.86185,     0.86172,     0.86159,     0.86145,     0.86132,     0.86119,     0.86106,     0.86093,     0.86079,     0.86066,\n",
            "            0.86053,      0.8604,     0.86026,     0.86013,        0.86,     0.85987,     0.85973,      0.8596,     0.85947,     0.85922,     0.85871,     0.85819,     0.85768,     0.85716,     0.85664,     0.85613,     0.85561,     0.85509,      0.8503,     0.84962,     0.84893,     0.84824,     0.84756,\n",
            "            0.84687,     0.84618,     0.84557,     0.84503,     0.84449,     0.84396,     0.84342,     0.84288,     0.84234,      0.8418,     0.84127,     0.84091,     0.84056,      0.8402,     0.83985,     0.83949,     0.83913,     0.83878,     0.83842,     0.83807,     0.83771,     0.83735,     0.83699,\n",
            "            0.83661,     0.83569,     0.83477,     0.83385,     0.83293,       0.832,     0.83096,     0.82993,     0.82888,     0.82784,     0.82623,     0.82403,     0.82252,     0.82234,     0.82217,     0.82199,     0.82182,     0.82164,     0.82146,     0.82129,     0.82111,     0.82093,     0.82076,\n",
            "            0.82058,      0.8204,     0.82023,     0.82005,     0.81987,     0.81969,     0.81952,     0.81934,     0.81916,     0.81899,     0.81881,     0.81863,     0.81845,     0.81828,      0.8181,     0.81792,     0.81906,     0.82047,     0.81851,     0.81653,     0.81777,     0.81938,     0.81797,\n",
            "            0.81588,     0.81412,     0.81268,     0.81125,     0.80974,      0.8075,     0.80525,     0.80465,     0.80428,      0.8039,     0.80353,     0.80315,     0.80278,      0.8024,     0.80202,     0.80165,     0.80127,      0.8009,     0.80052,     0.80014,     0.79954,     0.79881,     0.79807,\n",
            "            0.79734,      0.7966,     0.79587,     0.79513,     0.79433,     0.79351,     0.79269,     0.79187,     0.79105,     0.79023,     0.78873,      0.7868,     0.78486,     0.78432,     0.78381,      0.7833,     0.78279,     0.78228,     0.78177,     0.78126,     0.78075,     0.78024,     0.77973,\n",
            "            0.77637,     0.76122,     0.75436,     0.75565,     0.75024,     0.74883,     0.74741,     0.74599,     0.74362,     0.74088,     0.73914,      0.7378,     0.73646,     0.73512,     0.73351,     0.73167,     0.72983,     0.72727,     0.72393,     0.71574,     0.71116,     0.71039,     0.70963,\n",
            "            0.70886,      0.7081,     0.70733,     0.70656,     0.70556,     0.70277,     0.69967,     0.68093,     0.67509,      0.6728,     0.67051,     0.66302,     0.65985,     0.65141,     0.63055,     0.62291,     0.61705,     0.61141,     0.60695,     0.60083,     0.59096,     0.58783,     0.58469,\n",
            "            0.58277,      0.5811,     0.57943,     0.57775,     0.57654,     0.57561,     0.57468,     0.57376,     0.57283,      0.5719,     0.57096,     0.57003,     0.56371,     0.56035,     0.55748,     0.55109,     0.52786,     0.51013,     0.50817,     0.50619,     0.50422,       0.502,     0.49883,\n",
            "            0.49564,     0.49395,     0.49286,     0.49176,     0.49066,     0.48956,     0.48846,     0.48736,      0.4841,     0.47858,     0.47619,     0.47379,     0.47138,     0.45257,     0.44865,      0.4432,     0.42768,     0.41703,     0.41139,     0.40627,     0.39975,      0.3844,     0.37062,\n",
            "            0.36231,     0.35811,     0.33966,     0.31508,     0.30486,     0.29619,     0.29267,     0.28912,     0.27542,     0.27119,     0.26694,     0.24527,     0.24231,     0.23935,     0.23637,     0.23099,     0.21182,     0.19499,     0.18747,      0.1845,     0.18151,     0.17851,      0.1652,\n",
            "            0.16347,     0.16174,     0.16001,     0.15827,     0.15653,     0.15471,      0.1501,     0.14546,     0.12851,     0.11301,     0.10637,    0.096024,    0.079005,    0.075519,    0.072021,     0.06851,    0.065107,    0.061736,    0.058353,    0.054958,    0.051784,    0.048644,    0.045493,\n",
            "           0.042332,    0.040011,    0.038229,    0.036445,    0.034657,    0.032866,    0.031071,    0.029274,    0.027262,    0.022105,     0.01692,           0,           0,           0,           0,           0,           0,           0,           0,           0,           0,           0,           0,\n",
            "                  0,           0,           0,           0,           0,           0,           0,           0,           0,           0,           0,           0,           0,           0,           0,           0,           0,           0,           0,           0,           0,           0,           0,\n",
            "                  0,           0,           0,           0,           0,           0,           0,           0,           0,           0,           0,           0,           0,           0,           0,           0,           0,           0,           0,           0,           0,           0,           0,\n",
            "                  0,           0,           0,           0,           0,           0,           0,           0,           0,           0,           0,           0,           0,           0,           0,           0,           0,           0,           0,           0,           0,           0,           0,\n",
            "                  0,           0,           0,           0,           0,           0,           0,           0,           0,           0,           0]])\n",
            "map: 0.5115017588183784\n",
            "map50: 0.8940292006207968\n",
            "map75: 0.5341058938411131\n",
            "maps: array([     0.5115])\n",
            "mp: 0.9246302363578482\n",
            "mr: 0.8251748251748252\n",
            "nc: 1\n",
            "p: array([    0.92463])\n",
            "p_curve: array([[    0.28953,     0.28953,     0.37653,     0.44624,     0.49716,     0.53386,     0.56203,     0.58295,     0.60012,     0.61497,     0.62182,     0.63056,     0.63227,     0.63569,     0.64849,     0.65135,     0.65414,     0.65978,     0.66196,     0.66547,     0.67294,     0.67818,     0.68279,\n",
            "             0.6906,     0.69925,     0.70208,     0.71489,     0.72329,     0.72965,     0.73246,     0.73412,     0.73581,     0.73756,     0.73931,     0.74545,     0.75273,     0.75765,     0.76063,     0.76341,     0.76596,     0.77125,     0.77882,      0.7842,     0.79636,     0.79892,     0.80202,\n",
            "            0.80734,     0.80905,     0.81076,     0.81164,     0.81152,     0.81141,      0.8113,     0.81118,     0.81107,     0.81096,     0.81084,     0.81073,     0.81062,      0.8105,     0.81241,     0.81578,     0.81855,     0.82182,     0.82614,      0.8256,     0.82611,     0.82663,     0.82714,\n",
            "            0.82765,     0.82816,     0.82868,     0.82919,      0.8297,     0.83021,     0.83073,     0.83147,     0.83274,     0.83401,     0.83528,     0.83655,     0.83722,     0.83778,     0.83834,      0.8389,     0.83946,     0.84003,     0.84059,     0.84115,     0.84171,     0.84228,     0.84314,\n",
            "            0.84415,     0.84516,     0.84617,     0.84718,     0.84819,     0.84888,     0.84954,      0.8502,     0.85086,     0.85152,     0.85219,     0.85285,     0.85351,     0.85417,     0.85467,     0.85517,     0.85567,     0.85617,     0.85667,     0.85718,     0.85768,     0.85818,     0.85868,\n",
            "            0.85918,     0.85968,     0.86016,     0.86036,     0.86056,     0.86076,     0.86097,     0.86117,     0.86137,     0.86157,     0.86178,     0.86198,     0.86218,     0.86238,     0.86259,     0.86279,     0.86299,     0.86319,      0.8634,      0.8636,      0.8638,       0.864,     0.86421,\n",
            "            0.86441,     0.86461,     0.86481,     0.86502,     0.86522,     0.86542,     0.86562,     0.86583,     0.86603,     0.86603,     0.86523,     0.86515,     0.86507,     0.86498,      0.8649,     0.86482,     0.86474,     0.86465,     0.86457,     0.86449,     0.86441,     0.86433,     0.86426,\n",
            "            0.86421,     0.86415,      0.8641,     0.86405,       0.864,     0.86395,     0.86389,     0.86384,     0.86379,     0.86374,     0.86369,     0.86363,     0.86358,     0.86353,     0.86348,     0.86342,     0.86337,     0.86332,     0.86534,     0.86791,     0.86964,     0.86983,     0.87003,\n",
            "            0.87022,     0.87042,     0.87061,     0.87081,       0.871,      0.8712,     0.87139,     0.87159,     0.87178,     0.87198,     0.87217,     0.87237,     0.87256,     0.87276,     0.87295,     0.87315,     0.87334,     0.87354,     0.87373,     0.87393,     0.87412,     0.87432,     0.87451,\n",
            "            0.87471,      0.8749,      0.8751,     0.87529,     0.87549,     0.87568,     0.87588,     0.87616,     0.87645,     0.87675,     0.87704,     0.87734,     0.87763,     0.87792,     0.87822,     0.87851,     0.87881,      0.8791,      0.8794,     0.87969,     0.87999,     0.88028,     0.88057,\n",
            "            0.88087,     0.88116,     0.88146,     0.88175,     0.88205,     0.88234,     0.88287,     0.88341,     0.88394,     0.88448,     0.88502,     0.88555,     0.88609,     0.88663,     0.88717,      0.8877,     0.88824,     0.88878,      0.8894,     0.89005,     0.89069,     0.89134,     0.89199,\n",
            "            0.89263,     0.89328,     0.89392,     0.89457,     0.89522,     0.89581,     0.89635,     0.89689,     0.89743,     0.89796,      0.8985,     0.89904,     0.89958,     0.90012,     0.90066,      0.9012,     0.90174,     0.90225,     0.90217,     0.90208,       0.902,     0.90191,     0.90182,\n",
            "            0.90174,     0.90165,     0.90157,     0.90165,     0.90202,     0.90239,     0.90276,     0.90313,      0.9035,     0.90387,     0.90424,     0.90461,     0.90498,     0.90535,     0.90572,     0.90609,     0.90645,     0.90682,     0.90719,     0.90756,     0.90793,      0.9083,     0.90899,\n",
            "            0.90979,     0.91059,     0.91139,     0.91218,     0.91298,     0.91378,     0.91458,     0.91538,     0.91569,     0.91601,     0.91632,     0.91663,     0.91694,     0.91725,     0.91757,     0.91788,     0.91819,      0.9185,     0.91882,     0.91913,     0.91944,     0.91975,     0.92006,\n",
            "            0.92038,     0.92069,       0.921,     0.92131,     0.92162,     0.92194,     0.92225,     0.92247,     0.92245,     0.92242,     0.92239,     0.92236,     0.92233,     0.92231,     0.92228,     0.92225,     0.92222,      0.9222,     0.92217,     0.92214,     0.92211,     0.92208,     0.92206,\n",
            "            0.92203,       0.922,     0.92197,     0.92195,     0.92192,     0.92189,     0.92199,     0.92226,     0.92252,     0.92278,     0.92305,     0.92331,     0.92358,     0.92384,      0.9241,     0.92437,     0.92463,     0.92489,     0.92516,     0.92542,     0.92568,     0.92595,     0.92621,\n",
            "            0.92648,     0.92674,       0.927,     0.92727,     0.92753,     0.92779,     0.92806,     0.92832,     0.92858,     0.92885,     0.92911,     0.92913,     0.92912,     0.92912,     0.92911,      0.9291,      0.9291,     0.92909,     0.92908,     0.92908,     0.92907,     0.92906,     0.92906,\n",
            "            0.92905,     0.92904,     0.92904,     0.92903,     0.92903,     0.92902,     0.92901,     0.92901,       0.929,     0.92899,     0.92899,     0.92898,     0.92897,     0.92897,     0.92896,     0.92895,     0.92895,     0.92894,     0.92894,     0.92893,     0.92892,     0.92892,     0.92891,\n",
            "             0.9289,      0.9289,     0.92889,     0.92888,     0.92888,     0.92887,     0.92887,     0.92886,     0.92885,     0.92885,     0.92884,     0.92883,     0.92883,     0.92882,     0.92881,     0.92881,      0.9288,     0.92879,     0.92879,     0.92878,     0.92878,     0.92877,     0.92876,\n",
            "            0.92876,     0.92875,     0.92874,     0.92874,     0.92873,     0.92872,     0.92872,     0.92871,      0.9287,      0.9287,     0.92869,     0.92869,     0.92868,     0.92867,     0.92867,     0.92866,     0.92865,     0.92865,     0.92864,     0.92863,     0.92863,     0.92862,     0.92862,\n",
            "            0.92861,      0.9286,      0.9286,     0.92859,     0.92858,     0.92858,     0.92884,     0.93018,     0.93152,     0.93286,     0.93419,     0.93553,     0.94059,     0.94351,     0.94345,     0.94339,     0.94332,     0.94326,      0.9432,     0.94313,     0.94337,     0.94426,     0.94516,\n",
            "            0.94605,     0.94695,     0.94784,     0.94874,     0.94963,     0.95053,     0.95136,     0.95216,     0.95296,     0.95376,     0.95456,     0.95536,     0.95616,     0.95696,     0.95776,     0.95856,     0.95865,     0.95861,     0.95857,     0.95854,      0.9585,     0.95846,     0.95842,\n",
            "            0.95839,     0.95835,     0.95831,     0.95828,     0.95824,      0.9582,     0.95816,     0.95813,     0.95809,     0.95805,     0.95802,     0.95804,     0.95855,     0.95905,     0.95956,     0.96007,     0.96058,     0.96109,      0.9616,      0.9621,     0.96261,     0.96312,     0.96363,\n",
            "            0.96414,     0.96465,     0.96515,     0.96566,      0.9661,     0.96607,     0.96604,     0.96602,     0.96599,     0.96596,     0.96594,     0.96591,     0.96588,     0.96585,     0.96583,      0.9658,     0.96578,     0.96576,     0.96574,     0.96571,     0.96569,     0.96567,     0.96565,\n",
            "            0.96563,      0.9656,     0.96558,     0.96556,     0.96554,     0.96553,     0.96581,     0.96608,     0.96636,     0.96663,     0.96691,     0.96718,     0.96746,     0.96773,     0.96801,     0.96829,     0.96856,     0.96884,     0.96911,     0.96939,     0.96966,     0.96994,     0.97021,\n",
            "            0.97049,     0.97076,     0.97104,     0.97131,     0.97159,     0.97186,     0.97214,     0.97241,     0.97269,     0.97296,     0.97324,     0.97351,     0.97379,      0.9739,     0.97387,     0.97385,     0.97382,     0.97379,     0.97377,     0.97374,     0.97371,     0.97369,     0.97368,\n",
            "            0.97367,     0.97366,     0.97366,     0.97365,     0.97364,     0.97364,     0.97363,     0.97362,     0.97362,     0.97361,      0.9736,     0.97359,     0.97359,     0.97358,     0.97357,     0.97357,     0.97356,     0.97355,     0.97355,     0.97354,     0.97353,     0.97353,     0.97352,\n",
            "            0.97351,      0.9735,      0.9735,     0.97349,     0.97348,     0.97348,     0.97347,     0.97346,     0.97346,     0.97344,     0.97342,     0.97339,     0.97336,     0.97333,     0.97331,     0.97328,     0.97325,     0.97322,     0.97297,     0.97293,     0.97289,     0.97286,     0.97282,\n",
            "            0.97278,     0.97274,     0.97271,     0.97268,     0.97265,     0.97262,     0.97259,     0.97256,     0.97254,     0.97251,     0.97248,     0.97246,     0.97244,     0.97242,      0.9724,     0.97238,     0.97236,     0.97234,     0.97232,      0.9723,     0.97228,     0.97226,     0.97224,\n",
            "            0.97222,     0.97217,     0.97212,     0.97207,     0.97201,     0.97196,      0.9719,     0.97185,     0.97179,     0.97173,     0.97164,     0.97151,     0.97143,     0.97141,      0.9714,     0.97139,     0.97138,     0.97137,     0.97136,     0.97135,     0.97134,     0.97133,     0.97132,\n",
            "            0.97131,      0.9713,     0.97129,     0.97128,     0.97127,     0.97126,     0.97125,     0.97124,     0.97123,     0.97122,     0.97121,      0.9712,     0.97119,     0.97118,     0.97117,     0.97116,     0.97467,     0.98056,     0.98048,      0.9804,     0.98457,     0.98924,     0.99006,\n",
            "            0.99002,     0.98999,     0.98996,     0.98993,      0.9899,     0.98985,      0.9898,     0.98979,     0.98978,     0.98977,     0.98977,     0.98976,     0.98975,     0.98974,     0.98973,     0.98973,     0.98972,     0.98971,      0.9897,     0.98969,     0.98968,     0.98967,     0.98965,\n",
            "            0.98963,     0.98962,      0.9896,     0.98959,     0.98957,     0.98955,     0.98953,     0.98952,      0.9895,     0.98948,     0.98945,     0.98941,     0.98936,     0.98935,     0.98934,     0.98933,     0.98932,     0.98931,     0.98929,     0.98928,     0.98927,     0.98926,     0.98925,\n",
            "            0.98917,     0.98882,     0.98866,           1,           1,           1,           1,           1,           1,           1,           1,           1,           1,           1,           1,           1,           1,           1,           1,           1,           1,           1,           1,\n",
            "                  1,           1,           1,           1,           1,           1,           1,           1,           1,           1,           1,           1,           1,           1,           1,           1,           1,           1,           1,           1,           1,           1,           1,\n",
            "                  1,           1,           1,           1,           1,           1,           1,           1,           1,           1,           1,           1,           1,           1,           1,           1,           1,           1,           1,           1,           1,           1,           1,\n",
            "                  1,           1,           1,           1,           1,           1,           1,           1,           1,           1,           1,           1,           1,           1,           1,           1,           1,           1,           1,           1,           1,           1,           1,\n",
            "                  1,           1,           1,           1,           1,           1,           1,           1,           1,           1,           1,           1,           1,           1,           1,           1,           1,           1,           1,           1,           1,           1,           1,\n",
            "                  1,           1,           1,           1,           1,           1,           1,           1,           1,           1,           1,           1,           1,           1,           1,           1,           1,           1,           1,           1,           1,           1,           1,\n",
            "                  1,           1,           1,           1,           1,           1,           1,           1,           1,           1,           1,           1,           1,           1,           1,           1,           1,           1,           1,           1,           1,           1,           1,\n",
            "                  1,           1,           1,           1,           1,           1,           1,           1,           1,           1,           1,           1,           1,           1,           1,           1,           1,           1,           1,           1,           1,           1,           1,\n",
            "                  1,           1,           1,           1,           1,           1,           1,           1,           1,           1,           1,           1,           1,           1,           1,           1,           1,           1,           1,           1,           1,           1,           1,\n",
            "                  1,           1,           1,           1,           1,           1,           1,           1,           1,           1,           1,           1,           1,           1,           1,           1,           1,           1,           1,           1,           1,           1,           1,\n",
            "                  1,           1,           1,           1,           1,           1,           1,           1,           1,           1,           1]])\n",
            "prec_values: array([[          1,           1,           1,           1,           1,           1,           1,           1,           1,           1,           1,           1,           1,           1,           1,           1,           1,           1,           1,           1,           1,           1,           1,\n",
            "                  1,           1,           1,           1,           1,           1,           1,           1,           1,           1,           1,           1,           1,           1,           1,           1,           1,           1,           1,           1,           1,           1,           1,\n",
            "                  1,           1,           1,           1,           1,           1,           1,           1,           1,           1,           1,           1,           1,           1,           1,           1,           1,           1,           1,           1,           1,           1,           1,\n",
            "                  1,           1,           1,           1,           1,           1,           1,           1,           1,           1,           1,           1,           1,           1,           1,           1,           1,           1,           1,           1,           1,           1,           1,\n",
            "                  1,           1,           1,           1,           1,           1,           1,           1,           1,           1,           1,           1,           1,           1,           1,           1,           1,           1,           1,           1,           1,           1,           1,\n",
            "                  1,           1,           1,           1,           1,           1,           1,           1,           1,           1,           1,           1,           1,           1,           1,           1,           1,           1,           1,           1,           1,           1,           1,\n",
            "                  1,           1,           1,           1,           1,           1,           1,           1,           1,           1,           1,           1,           1,           1,           1,           1,           1,           1,           1,           1,           1,           1,           1,\n",
            "                  1,           1,           1,           1,           1,           1,           1,           1,           1,           1,           1,           1,           1,           1,           1,           1,           1,           1,           1,           1,           1,           1,           1,\n",
            "                  1,           1,           1,           1,           1,           1,           1,           1,           1,           1,           1,           1,           1,           1,           1,           1,           1,           1,           1,           1,           1,           1,           1,\n",
            "                  1,           1,           1,           1,           1,           1,           1,           1,           1,           1,           1,           1,           1,           1,           1,           1,           1,           1,           1,           1,           1,           1,           1,\n",
            "                  1,           1,           1,           1,           1,           1,           1,           1,           1,           1,           1,           1,           1,           1,           1,           1,           1,           1,           1,           1,           1,           1,           1,\n",
            "                  1,           1,           1,           1,           1,           1,           1,           1,           1,           1,           1,           1,           1,           1,           1,           1,           1,           1,           1,           1,           1,           1,           1,\n",
            "                  1,           1,           1,           1,           1,           1,           1,           1,           1,           1,           1,           1,           1,           1,           1,           1,           1,           1,           1,           1,           1,           1,           1,\n",
            "                  1,           1,           1,           1,           1,           1,           1,           1,           1,           1,           1,           1,           1,           1,           1,           1,           1,           1,           1,           1,           1,           1,           1,\n",
            "                  1,           1,           1,           1,           1,           1,           1,           1,           1,           1,           1,           1,           1,           1,           1,           1,           1,           1,           1,           1,           1,           1,           1,\n",
            "                  1,           1,           1,           1,           1,           1,           1,           1,           1,           1,           1,           1,           1,           1,           1,           1,           1,           1,           1,           1,           1,           1,           1,\n",
            "                  1,           1,           1,           1,           1,           1,           1,           1,           1,           1,           1,           1,           1,           1,           1,           1,           1,           1,           1,           1,           1,           1,           1,\n",
            "                  1,           1,           1,           1,           1,           1,           1,           1,           1,           1,           1,           1,           1,           1,           1,           1,           1,           1,           1,           1,           1,           1,           1,\n",
            "                  1,           1,           1,           1,           1,           1,           1,           1,           1,           1,           1,           1,           1,           1,           1,           1,           1,           1,           1,           1,           1,           1,           1,\n",
            "                  1,           1,           1,           1,           1,           1,           1,           1,           1,           1,           1,           1,           1,           1,           1,           1,           1,           1,           1,           1,           1,           1,           1,\n",
            "                  1,           1,           1,           1,           1,           1,           1,           1,           1,           1,           1,           1,           1,           1,           1,           1,           1,           1,           1,           1,           1,           1,           1,\n",
            "                  1,           1,           1,           1,           1,           1,           1,           1,           1,           1,           1,           1,           1,           1,           1,           1,           1,           1,           1,           1,           1,           1,           1,\n",
            "                  1,           1,           1,           1,           1,           1,           1,           1,           1,           1,           1,           1,           1,           1,           1,           1,           1,           1,           1,           1,           1,           1,           1,\n",
            "                  1,           1,           1,           1,           1,           1,           1,           1,           1,           1,           1,           1,           1,           1,           1,           1,           1,           1,           1,           1,           1,           1,           1,\n",
            "                  1,           1,           1,           1,           1,           1,           1,           1,           1,           1,           1,           1,           1,           1,           1,           1,           1,           1,           1,           1,           1,           1,           1,\n",
            "                  1,           1,           1,           1,           1,           1,           1,           1,           1,           1,           1,           1,           1,           1,           1,           1,           1,           1,           1,           1,           1,           1,           1,\n",
            "                  1,           1,           1,           1,           1,           1,           1,           1,           1,           1,      0.9901,      0.9901,      0.9901,      0.9901,      0.9901,      0.9901,      0.9901,      0.9901,      0.9901,      0.9901,      0.9901,      0.9901,      0.9901,\n",
            "             0.9901,      0.9901,      0.9901,      0.9901,      0.9901,      0.9901,      0.9901,      0.9901,      0.9901,      0.9901,      0.9901,      0.9901,      0.9901,      0.9901,      0.9901,      0.9901,      0.9901,      0.9901,      0.9901,      0.9901,      0.9901,      0.9901,      0.9901,\n",
            "             0.9901,      0.9901,      0.9901,      0.9901,      0.9901,      0.9901,      0.9901,      0.9901,      0.9901,      0.9901,      0.9901,      0.9901,      0.9901,      0.9901,      0.9901,      0.9901,      0.9901,      0.9901,      0.9901,      0.9901,      0.9901,      0.9901,      0.9901,\n",
            "             0.9901,      0.9901,      0.9901,      0.9901,      0.9901,      0.9901,      0.9901,      0.9901,      0.9901,      0.9901,      0.9901,      0.9901,      0.9901,      0.9901,      0.9901,      0.9901,      0.9901,      0.9901,      0.9901,      0.9901,      0.9901,      0.9901,      0.9901,\n",
            "             0.9901,      0.9901,      0.9901,      0.9901,      0.9901,      0.9901,      0.9901,      0.9901,      0.9901,     0.98058,     0.98058,     0.98058,     0.98058,     0.98058,     0.98058,     0.98058,     0.97391,     0.97391,     0.97391,     0.97391,     0.97391,     0.97391,     0.97391,\n",
            "            0.97391,     0.97391,     0.97391,     0.97391,     0.97391,     0.97391,     0.97391,     0.97391,     0.97391,     0.97391,     0.97391,     0.97391,     0.97391,     0.97391,     0.97391,     0.97391,     0.97391,     0.97391,     0.97391,     0.97391,     0.97391,     0.97391,     0.97391,\n",
            "            0.97391,     0.97391,     0.97391,     0.97391,     0.97391,     0.97391,     0.97391,     0.97391,     0.97391,     0.97391,     0.97391,     0.97391,     0.97391,     0.97391,     0.97391,     0.97391,     0.97391,     0.97391,     0.97391,     0.97391,     0.97391,     0.97391,     0.97391,\n",
            "            0.97391,     0.97391,     0.97391,     0.97391,     0.97391,     0.97391,     0.97391,     0.97391,     0.97391,     0.97391,     0.97391,     0.97391,     0.97391,     0.97391,     0.97391,     0.97391,     0.97391,     0.97391,     0.97391,     0.97391,     0.97391,     0.97391,     0.97391,\n",
            "            0.97391,      0.9661,      0.9661,      0.9661,      0.9661,      0.9661,      0.9661,      0.9661,      0.9661,      0.9661,      0.9661,      0.9661,      0.9661,      0.9661,      0.9661,     0.95868,     0.95868,     0.95868,     0.95868,     0.95868,     0.95868,     0.95868,     0.95868,\n",
            "            0.95868,     0.95868,     0.95868,     0.95868,     0.95868,     0.95868,     0.94355,     0.94355,     0.94355,     0.94355,     0.94355,     0.94355,     0.94355,     0.92913,     0.92913,     0.92913,     0.92913,     0.92913,     0.92913,     0.92913,     0.92248,     0.92248,     0.92248,\n",
            "            0.92248,     0.92248,     0.92248,     0.92248,     0.90226,     0.90226,     0.90226,     0.90226,     0.90226,     0.90226,     0.90226,      0.8662,      0.8662,      0.8662,      0.8662,      0.8662,      0.8662,      0.8662,      0.8662,      0.8662,      0.8662,      0.8662,      0.8662,\n",
            "             0.8662,      0.8662,      0.8662,      0.8662,      0.8662,      0.8662,      0.8662,      0.8662,      0.8662,     0.82667,     0.82667,     0.82667,     0.82667,     0.82667,     0.82667,     0.82667,     0.81169,     0.81169,     0.81169,     0.81169,     0.81169,     0.81169,     0.81169,\n",
            "                0.7,         0.7,         0.7,         0.7,         0.7,         0.7,         0.7,      0.6165,      0.6165,      0.6165,      0.6165,      0.6165,      0.6165,      0.6165,      0.4708,      0.4708,      0.4708,      0.4708,      0.4708,      0.4708,      0.4708,      0.4708,      0.4708,\n",
            "             0.4708,      0.4708,      0.4708,      0.4708,      0.4708,     0.33592,     0.33592,     0.33592,     0.33592,     0.33592,     0.33592,     0.33592,     0.28692,     0.28374,     0.28055,     0.27736,     0.27417,     0.27098,      0.2678,     0.26461,     0.26142,     0.25823,     0.25504,\n",
            "            0.25186,     0.24867,     0.24548,     0.24229,      0.2391,     0.23592,     0.23273,     0.22954,     0.22635,     0.22316,     0.21997,     0.21679,      0.2136,     0.21041,     0.20722,     0.20403,     0.20085,     0.19766,     0.19447,     0.19128,     0.18809,     0.18491,     0.18172,\n",
            "            0.17853,     0.17534,     0.17215,     0.16897,     0.16578,     0.16259,      0.1594,     0.15621,     0.15303,     0.14984,     0.14665,     0.14346,     0.14027,     0.13709,      0.1339,     0.13071,     0.12752,     0.12433,     0.12115,     0.11796,     0.11477,     0.11158,     0.10839,\n",
            "            0.10521,     0.10202,    0.098829,    0.095641,    0.092453,    0.089265,    0.086077,    0.082889,    0.079701,    0.076513,    0.073325,    0.070137,    0.066949,    0.063761,    0.060573,    0.057385,    0.054197,    0.051009,    0.047821,    0.044633,    0.041445,    0.038257,    0.035068,\n",
            "            0.03188,    0.028692,    0.025504,    0.022316,    0.019128,     0.01594,    0.012752,   0.0095641,   0.0063761,    0.003188,           0]])\n",
            "px: array([          0,    0.001001,    0.002002,    0.003003,    0.004004,    0.005005,    0.006006,    0.007007,    0.008008,    0.009009,     0.01001,    0.011011,    0.012012,    0.013013,    0.014014,    0.015015,    0.016016,    0.017017,    0.018018,    0.019019,     0.02002,    0.021021,    0.022022,    0.023023,\n",
            "          0.024024,    0.025025,    0.026026,    0.027027,    0.028028,    0.029029,     0.03003,    0.031031,    0.032032,    0.033033,    0.034034,    0.035035,    0.036036,    0.037037,    0.038038,    0.039039,     0.04004,    0.041041,    0.042042,    0.043043,    0.044044,    0.045045,    0.046046,    0.047047,\n",
            "          0.048048,    0.049049,     0.05005,    0.051051,    0.052052,    0.053053,    0.054054,    0.055055,    0.056056,    0.057057,    0.058058,    0.059059,     0.06006,    0.061061,    0.062062,    0.063063,    0.064064,    0.065065,    0.066066,    0.067067,    0.068068,    0.069069,     0.07007,    0.071071,\n",
            "          0.072072,    0.073073,    0.074074,    0.075075,    0.076076,    0.077077,    0.078078,    0.079079,     0.08008,    0.081081,    0.082082,    0.083083,    0.084084,    0.085085,    0.086086,    0.087087,    0.088088,    0.089089,     0.09009,    0.091091,    0.092092,    0.093093,    0.094094,    0.095095,\n",
            "          0.096096,    0.097097,    0.098098,    0.099099,      0.1001,      0.1011,      0.1021,      0.1031,      0.1041,     0.10511,     0.10611,     0.10711,     0.10811,     0.10911,     0.11011,     0.11111,     0.11211,     0.11311,     0.11411,     0.11512,     0.11612,     0.11712,     0.11812,     0.11912,\n",
            "           0.12012,     0.12112,     0.12212,     0.12312,     0.12412,     0.12513,     0.12613,     0.12713,     0.12813,     0.12913,     0.13013,     0.13113,     0.13213,     0.13313,     0.13413,     0.13514,     0.13614,     0.13714,     0.13814,     0.13914,     0.14014,     0.14114,     0.14214,     0.14314,\n",
            "           0.14414,     0.14515,     0.14615,     0.14715,     0.14815,     0.14915,     0.15015,     0.15115,     0.15215,     0.15315,     0.15415,     0.15516,     0.15616,     0.15716,     0.15816,     0.15916,     0.16016,     0.16116,     0.16216,     0.16316,     0.16416,     0.16517,     0.16617,     0.16717,\n",
            "           0.16817,     0.16917,     0.17017,     0.17117,     0.17217,     0.17317,     0.17417,     0.17518,     0.17618,     0.17718,     0.17818,     0.17918,     0.18018,     0.18118,     0.18218,     0.18318,     0.18418,     0.18519,     0.18619,     0.18719,     0.18819,     0.18919,     0.19019,     0.19119,\n",
            "           0.19219,     0.19319,     0.19419,      0.1952,      0.1962,      0.1972,      0.1982,      0.1992,      0.2002,      0.2012,      0.2022,      0.2032,      0.2042,     0.20521,     0.20621,     0.20721,     0.20821,     0.20921,     0.21021,     0.21121,     0.21221,     0.21321,     0.21421,     0.21522,\n",
            "           0.21622,     0.21722,     0.21822,     0.21922,     0.22022,     0.22122,     0.22222,     0.22322,     0.22422,     0.22523,     0.22623,     0.22723,     0.22823,     0.22923,     0.23023,     0.23123,     0.23223,     0.23323,     0.23423,     0.23524,     0.23624,     0.23724,     0.23824,     0.23924,\n",
            "           0.24024,     0.24124,     0.24224,     0.24324,     0.24424,     0.24525,     0.24625,     0.24725,     0.24825,     0.24925,     0.25025,     0.25125,     0.25225,     0.25325,     0.25425,     0.25526,     0.25626,     0.25726,     0.25826,     0.25926,     0.26026,     0.26126,     0.26226,     0.26326,\n",
            "           0.26426,     0.26527,     0.26627,     0.26727,     0.26827,     0.26927,     0.27027,     0.27127,     0.27227,     0.27327,     0.27427,     0.27528,     0.27628,     0.27728,     0.27828,     0.27928,     0.28028,     0.28128,     0.28228,     0.28328,     0.28428,     0.28529,     0.28629,     0.28729,\n",
            "           0.28829,     0.28929,     0.29029,     0.29129,     0.29229,     0.29329,     0.29429,      0.2953,      0.2963,      0.2973,      0.2983,      0.2993,      0.3003,      0.3013,      0.3023,      0.3033,      0.3043,     0.30531,     0.30631,     0.30731,     0.30831,     0.30931,     0.31031,     0.31131,\n",
            "           0.31231,     0.31331,     0.31431,     0.31532,     0.31632,     0.31732,     0.31832,     0.31932,     0.32032,     0.32132,     0.32232,     0.32332,     0.32432,     0.32533,     0.32633,     0.32733,     0.32833,     0.32933,     0.33033,     0.33133,     0.33233,     0.33333,     0.33433,     0.33534,\n",
            "           0.33634,     0.33734,     0.33834,     0.33934,     0.34034,     0.34134,     0.34234,     0.34334,     0.34434,     0.34535,     0.34635,     0.34735,     0.34835,     0.34935,     0.35035,     0.35135,     0.35235,     0.35335,     0.35435,     0.35536,     0.35636,     0.35736,     0.35836,     0.35936,\n",
            "           0.36036,     0.36136,     0.36236,     0.36336,     0.36436,     0.36537,     0.36637,     0.36737,     0.36837,     0.36937,     0.37037,     0.37137,     0.37237,     0.37337,     0.37437,     0.37538,     0.37638,     0.37738,     0.37838,     0.37938,     0.38038,     0.38138,     0.38238,     0.38338,\n",
            "           0.38438,     0.38539,     0.38639,     0.38739,     0.38839,     0.38939,     0.39039,     0.39139,     0.39239,     0.39339,     0.39439,      0.3954,      0.3964,      0.3974,      0.3984,      0.3994,      0.4004,      0.4014,      0.4024,      0.4034,      0.4044,     0.40541,     0.40641,     0.40741,\n",
            "           0.40841,     0.40941,     0.41041,     0.41141,     0.41241,     0.41341,     0.41441,     0.41542,     0.41642,     0.41742,     0.41842,     0.41942,     0.42042,     0.42142,     0.42242,     0.42342,     0.42442,     0.42543,     0.42643,     0.42743,     0.42843,     0.42943,     0.43043,     0.43143,\n",
            "           0.43243,     0.43343,     0.43443,     0.43544,     0.43644,     0.43744,     0.43844,     0.43944,     0.44044,     0.44144,     0.44244,     0.44344,     0.44444,     0.44545,     0.44645,     0.44745,     0.44845,     0.44945,     0.45045,     0.45145,     0.45245,     0.45345,     0.45445,     0.45546,\n",
            "           0.45646,     0.45746,     0.45846,     0.45946,     0.46046,     0.46146,     0.46246,     0.46346,     0.46446,     0.46547,     0.46647,     0.46747,     0.46847,     0.46947,     0.47047,     0.47147,     0.47247,     0.47347,     0.47447,     0.47548,     0.47648,     0.47748,     0.47848,     0.47948,\n",
            "           0.48048,     0.48148,     0.48248,     0.48348,     0.48448,     0.48549,     0.48649,     0.48749,     0.48849,     0.48949,     0.49049,     0.49149,     0.49249,     0.49349,     0.49449,      0.4955,      0.4965,      0.4975,      0.4985,      0.4995,      0.5005,      0.5015,      0.5025,      0.5035,\n",
            "            0.5045,     0.50551,     0.50651,     0.50751,     0.50851,     0.50951,     0.51051,     0.51151,     0.51251,     0.51351,     0.51451,     0.51552,     0.51652,     0.51752,     0.51852,     0.51952,     0.52052,     0.52152,     0.52252,     0.52352,     0.52452,     0.52553,     0.52653,     0.52753,\n",
            "           0.52853,     0.52953,     0.53053,     0.53153,     0.53253,     0.53353,     0.53453,     0.53554,     0.53654,     0.53754,     0.53854,     0.53954,     0.54054,     0.54154,     0.54254,     0.54354,     0.54454,     0.54555,     0.54655,     0.54755,     0.54855,     0.54955,     0.55055,     0.55155,\n",
            "           0.55255,     0.55355,     0.55455,     0.55556,     0.55656,     0.55756,     0.55856,     0.55956,     0.56056,     0.56156,     0.56256,     0.56356,     0.56456,     0.56557,     0.56657,     0.56757,     0.56857,     0.56957,     0.57057,     0.57157,     0.57257,     0.57357,     0.57457,     0.57558,\n",
            "           0.57658,     0.57758,     0.57858,     0.57958,     0.58058,     0.58158,     0.58258,     0.58358,     0.58458,     0.58559,     0.58659,     0.58759,     0.58859,     0.58959,     0.59059,     0.59159,     0.59259,     0.59359,     0.59459,      0.5956,      0.5966,      0.5976,      0.5986,      0.5996,\n",
            "            0.6006,      0.6016,      0.6026,      0.6036,      0.6046,     0.60561,     0.60661,     0.60761,     0.60861,     0.60961,     0.61061,     0.61161,     0.61261,     0.61361,     0.61461,     0.61562,     0.61662,     0.61762,     0.61862,     0.61962,     0.62062,     0.62162,     0.62262,     0.62362,\n",
            "           0.62462,     0.62563,     0.62663,     0.62763,     0.62863,     0.62963,     0.63063,     0.63163,     0.63263,     0.63363,     0.63463,     0.63564,     0.63664,     0.63764,     0.63864,     0.63964,     0.64064,     0.64164,     0.64264,     0.64364,     0.64464,     0.64565,     0.64665,     0.64765,\n",
            "           0.64865,     0.64965,     0.65065,     0.65165,     0.65265,     0.65365,     0.65465,     0.65566,     0.65666,     0.65766,     0.65866,     0.65966,     0.66066,     0.66166,     0.66266,     0.66366,     0.66466,     0.66567,     0.66667,     0.66767,     0.66867,     0.66967,     0.67067,     0.67167,\n",
            "           0.67267,     0.67367,     0.67467,     0.67568,     0.67668,     0.67768,     0.67868,     0.67968,     0.68068,     0.68168,     0.68268,     0.68368,     0.68468,     0.68569,     0.68669,     0.68769,     0.68869,     0.68969,     0.69069,     0.69169,     0.69269,     0.69369,     0.69469,      0.6957,\n",
            "            0.6967,      0.6977,      0.6987,      0.6997,      0.7007,      0.7017,      0.7027,      0.7037,      0.7047,     0.70571,     0.70671,     0.70771,     0.70871,     0.70971,     0.71071,     0.71171,     0.71271,     0.71371,     0.71471,     0.71572,     0.71672,     0.71772,     0.71872,     0.71972,\n",
            "           0.72072,     0.72172,     0.72272,     0.72372,     0.72472,     0.72573,     0.72673,     0.72773,     0.72873,     0.72973,     0.73073,     0.73173,     0.73273,     0.73373,     0.73473,     0.73574,     0.73674,     0.73774,     0.73874,     0.73974,     0.74074,     0.74174,     0.74274,     0.74374,\n",
            "           0.74474,     0.74575,     0.74675,     0.74775,     0.74875,     0.74975,     0.75075,     0.75175,     0.75275,     0.75375,     0.75475,     0.75576,     0.75676,     0.75776,     0.75876,     0.75976,     0.76076,     0.76176,     0.76276,     0.76376,     0.76476,     0.76577,     0.76677,     0.76777,\n",
            "           0.76877,     0.76977,     0.77077,     0.77177,     0.77277,     0.77377,     0.77477,     0.77578,     0.77678,     0.77778,     0.77878,     0.77978,     0.78078,     0.78178,     0.78278,     0.78378,     0.78478,     0.78579,     0.78679,     0.78779,     0.78879,     0.78979,     0.79079,     0.79179,\n",
            "           0.79279,     0.79379,     0.79479,      0.7958,      0.7968,      0.7978,      0.7988,      0.7998,      0.8008,      0.8018,      0.8028,      0.8038,      0.8048,     0.80581,     0.80681,     0.80781,     0.80881,     0.80981,     0.81081,     0.81181,     0.81281,     0.81381,     0.81481,     0.81582,\n",
            "           0.81682,     0.81782,     0.81882,     0.81982,     0.82082,     0.82182,     0.82282,     0.82382,     0.82482,     0.82583,     0.82683,     0.82783,     0.82883,     0.82983,     0.83083,     0.83183,     0.83283,     0.83383,     0.83483,     0.83584,     0.83684,     0.83784,     0.83884,     0.83984,\n",
            "           0.84084,     0.84184,     0.84284,     0.84384,     0.84484,     0.84585,     0.84685,     0.84785,     0.84885,     0.84985,     0.85085,     0.85185,     0.85285,     0.85385,     0.85485,     0.85586,     0.85686,     0.85786,     0.85886,     0.85986,     0.86086,     0.86186,     0.86286,     0.86386,\n",
            "           0.86486,     0.86587,     0.86687,     0.86787,     0.86887,     0.86987,     0.87087,     0.87187,     0.87287,     0.87387,     0.87487,     0.87588,     0.87688,     0.87788,     0.87888,     0.87988,     0.88088,     0.88188,     0.88288,     0.88388,     0.88488,     0.88589,     0.88689,     0.88789,\n",
            "           0.88889,     0.88989,     0.89089,     0.89189,     0.89289,     0.89389,     0.89489,      0.8959,      0.8969,      0.8979,      0.8989,      0.8999,      0.9009,      0.9019,      0.9029,      0.9039,      0.9049,     0.90591,     0.90691,     0.90791,     0.90891,     0.90991,     0.91091,     0.91191,\n",
            "           0.91291,     0.91391,     0.91491,     0.91592,     0.91692,     0.91792,     0.91892,     0.91992,     0.92092,     0.92192,     0.92292,     0.92392,     0.92492,     0.92593,     0.92693,     0.92793,     0.92893,     0.92993,     0.93093,     0.93193,     0.93293,     0.93393,     0.93493,     0.93594,\n",
            "           0.93694,     0.93794,     0.93894,     0.93994,     0.94094,     0.94194,     0.94294,     0.94394,     0.94494,     0.94595,     0.94695,     0.94795,     0.94895,     0.94995,     0.95095,     0.95195,     0.95295,     0.95395,     0.95495,     0.95596,     0.95696,     0.95796,     0.95896,     0.95996,\n",
            "           0.96096,     0.96196,     0.96296,     0.96396,     0.96496,     0.96597,     0.96697,     0.96797,     0.96897,     0.96997,     0.97097,     0.97197,     0.97297,     0.97397,     0.97497,     0.97598,     0.97698,     0.97798,     0.97898,     0.97998,     0.98098,     0.98198,     0.98298,     0.98398,\n",
            "           0.98498,     0.98599,     0.98699,     0.98799,     0.98899,     0.98999,     0.99099,     0.99199,     0.99299,     0.99399,     0.99499,       0.996,       0.997,       0.998,       0.999,           1])\n",
            "r: array([    0.82517])\n",
            "r_curve: array([[    0.90909,     0.90909,      0.9021,      0.9021,     0.88811,     0.88811,     0.88811,     0.88811,     0.88811,     0.88236,     0.88112,     0.88112,     0.88112,     0.88112,     0.88112,     0.88112,     0.88112,     0.88112,     0.88112,     0.88112,     0.88112,     0.88112,     0.88112,\n",
            "            0.88112,     0.88112,     0.87413,     0.87413,     0.87413,     0.87413,     0.87413,     0.87413,     0.87413,     0.87413,     0.87413,     0.87413,     0.87413,     0.87413,     0.87413,     0.87413,     0.87413,     0.87413,     0.87413,     0.87413,     0.87413,     0.87413,     0.87413,\n",
            "            0.87413,     0.87413,     0.87413,     0.87383,     0.87319,     0.87255,      0.8719,     0.87126,     0.87062,     0.86997,     0.86933,     0.86869,     0.86805,      0.8674,     0.86713,     0.86713,     0.86713,     0.86713,     0.86394,     0.86014,     0.86014,     0.86014,     0.86014,\n",
            "            0.86014,     0.86014,     0.86014,     0.86014,     0.86014,     0.86014,     0.86014,     0.86014,     0.86014,     0.86014,     0.86014,     0.86014,     0.86014,     0.86014,     0.86014,     0.86014,     0.86014,     0.86014,     0.86014,     0.86014,     0.86014,     0.86014,     0.86014,\n",
            "            0.86014,     0.86014,     0.86014,     0.86014,     0.86014,     0.86014,     0.86014,     0.86014,     0.86014,     0.86014,     0.86014,     0.86014,     0.86014,     0.86014,     0.86014,     0.86014,     0.86014,     0.86014,     0.86014,     0.86014,     0.86014,     0.86014,     0.86014,\n",
            "            0.86014,     0.86014,     0.86014,     0.86014,     0.86014,     0.86014,     0.86014,     0.86014,     0.86014,     0.86014,     0.86014,     0.86014,     0.86014,     0.86014,     0.86014,     0.86014,     0.86014,     0.86014,     0.86014,     0.86014,     0.86014,     0.86014,     0.86014,\n",
            "            0.86014,     0.86014,     0.86014,     0.86014,     0.86014,     0.86014,     0.86014,     0.86014,     0.86014,      0.8589,     0.85301,     0.85241,     0.85182,     0.85122,     0.85062,     0.85002,     0.84943,     0.84883,     0.84823,     0.84763,     0.84704,     0.84644,     0.84596,\n",
            "            0.84559,     0.84521,     0.84484,     0.84447,     0.84409,     0.84372,     0.84335,     0.84297,      0.8426,     0.84223,     0.84185,     0.84148,     0.84111,     0.84073,     0.84036,     0.83999,     0.83961,     0.83924,     0.83916,     0.83916,     0.83916,     0.83916,     0.83916,\n",
            "            0.83916,     0.83916,     0.83916,     0.83916,     0.83916,     0.83916,     0.83916,     0.83916,     0.83916,     0.83916,     0.83916,     0.83916,     0.83916,     0.83916,     0.83916,     0.83916,     0.83916,     0.83916,     0.83916,     0.83916,     0.83916,     0.83916,     0.83916,\n",
            "            0.83916,     0.83916,     0.83916,     0.83916,     0.83916,     0.83916,     0.83916,     0.83916,     0.83916,     0.83916,     0.83916,     0.83916,     0.83916,     0.83916,     0.83916,     0.83916,     0.83916,     0.83916,     0.83916,     0.83916,     0.83916,     0.83916,     0.83916,\n",
            "            0.83916,     0.83916,     0.83916,     0.83916,     0.83916,     0.83916,     0.83916,     0.83916,     0.83916,     0.83916,     0.83916,     0.83916,     0.83916,     0.83916,     0.83916,     0.83916,     0.83916,     0.83916,     0.83916,     0.83916,     0.83916,     0.83916,     0.83916,\n",
            "            0.83916,     0.83916,     0.83916,     0.83916,     0.83916,     0.83916,     0.83916,     0.83916,     0.83916,     0.83916,     0.83916,     0.83916,     0.83916,     0.83916,     0.83916,     0.83916,     0.83916,     0.83912,     0.83832,     0.83751,     0.83671,      0.8359,     0.83509,\n",
            "            0.83429,     0.83348,     0.83268,     0.83217,     0.83217,     0.83217,     0.83217,     0.83217,     0.83217,     0.83217,     0.83217,     0.83217,     0.83217,     0.83217,     0.83217,     0.83217,     0.83217,     0.83217,     0.83217,     0.83217,     0.83217,     0.83217,     0.83217,\n",
            "            0.83217,     0.83217,     0.83217,     0.83217,     0.83217,     0.83217,     0.83217,     0.83217,     0.83217,     0.83217,     0.83217,     0.83217,     0.83217,     0.83217,     0.83217,     0.83217,     0.83217,     0.83217,     0.83217,     0.83217,     0.83217,     0.83217,     0.83217,\n",
            "            0.83217,     0.83217,     0.83217,     0.83217,     0.83217,     0.83217,     0.83217,     0.83209,     0.83176,     0.83144,     0.83112,      0.8308,     0.83048,     0.83016,     0.82984,     0.82952,      0.8292,     0.82888,     0.82856,     0.82824,     0.82792,      0.8276,     0.82727,\n",
            "            0.82695,     0.82663,     0.82631,     0.82599,     0.82567,     0.82535,     0.82517,     0.82517,     0.82517,     0.82517,     0.82517,     0.82517,     0.82517,     0.82517,     0.82517,     0.82517,     0.82517,     0.82517,     0.82517,     0.82517,     0.82517,     0.82517,     0.82517,\n",
            "            0.82517,     0.82517,     0.82517,     0.82517,     0.82517,     0.82517,     0.82517,     0.82517,     0.82517,     0.82517,     0.82517,      0.8251,     0.82502,     0.82494,     0.82486,     0.82478,      0.8247,     0.82462,     0.82454,     0.82446,     0.82438,      0.8243,     0.82422,\n",
            "            0.82415,     0.82407,     0.82399,     0.82391,     0.82383,     0.82375,     0.82367,     0.82359,     0.82351,     0.82343,     0.82335,     0.82327,     0.82319,     0.82311,     0.82303,     0.82295,     0.82287,     0.82279,     0.82271,     0.82263,     0.82255,     0.82247,     0.82239,\n",
            "            0.82231,     0.82223,     0.82215,     0.82207,     0.82199,     0.82191,     0.82183,     0.82175,     0.82167,     0.82159,     0.82151,     0.82143,     0.82135,     0.82127,      0.8212,     0.82112,     0.82104,     0.82096,     0.82088,      0.8208,     0.82072,     0.82064,     0.82056,\n",
            "            0.82048,      0.8204,     0.82032,     0.82024,     0.82016,     0.82008,        0.82,     0.81992,     0.81984,     0.81976,     0.81968,      0.8196,     0.81952,     0.81944,     0.81936,     0.81928,      0.8192,     0.81912,     0.81904,     0.81896,     0.81888,      0.8188,     0.81872,\n",
            "            0.81864,     0.81856,     0.81848,      0.8184,     0.81833,     0.81825,     0.81818,     0.81818,     0.81818,     0.81818,     0.81818,     0.81818,     0.81818,     0.81762,     0.81666,      0.8157,     0.81474,     0.81378,     0.81281,     0.81185,     0.81119,     0.81119,     0.81119,\n",
            "            0.81119,     0.81119,     0.81119,     0.81119,     0.81119,     0.81119,     0.81119,     0.81119,     0.81119,     0.81119,     0.81119,     0.81119,     0.81119,     0.81119,     0.81119,     0.81119,     0.81055,      0.8098,     0.80905,     0.80829,     0.80754,     0.80679,     0.80604,\n",
            "            0.80529,     0.80454,     0.80379,     0.80305,     0.80231,     0.80157,     0.80083,     0.80009,     0.79935,      0.7986,     0.79786,      0.7972,      0.7972,      0.7972,      0.7972,      0.7972,      0.7972,      0.7972,      0.7972,      0.7972,      0.7972,      0.7972,      0.7972,\n",
            "             0.7972,      0.7972,      0.7972,      0.7972,     0.79712,     0.79646,     0.79581,     0.79515,      0.7945,     0.79384,     0.79319,     0.79254,     0.79188,     0.79123,     0.79057,     0.78998,     0.78946,     0.78893,     0.78841,     0.78789,     0.78737,     0.78684,     0.78632,\n",
            "             0.7858,     0.78528,     0.78475,     0.78423,     0.78371,     0.78322,     0.78322,     0.78322,     0.78322,     0.78322,     0.78322,     0.78322,     0.78322,     0.78322,     0.78322,     0.78322,     0.78322,     0.78322,     0.78322,     0.78322,     0.78322,     0.78322,     0.78322,\n",
            "            0.78322,     0.78322,     0.78322,     0.78322,     0.78322,     0.78322,     0.78322,     0.78322,     0.78322,     0.78322,     0.78322,     0.78322,     0.78322,     0.78278,     0.78197,     0.78116,     0.78036,     0.77955,     0.77874,     0.77793,     0.77713,     0.77632,     0.77604,\n",
            "            0.77583,     0.77562,     0.77542,     0.77521,       0.775,     0.77479,     0.77458,     0.77437,     0.77417,     0.77396,     0.77375,     0.77354,     0.77333,     0.77313,     0.77292,     0.77271,      0.7725,     0.77229,     0.77208,     0.77188,     0.77167,     0.77146,     0.77125,\n",
            "            0.77104,     0.77084,     0.77063,     0.77042,     0.77021,        0.77,     0.76979,     0.76959,     0.76938,       0.769,     0.76819,     0.76738,     0.76657,     0.76576,     0.76496,     0.76415,     0.76334,     0.76253,     0.75511,     0.75405,     0.75299,     0.75193,     0.75087,\n",
            "            0.74981,     0.74875,     0.74782,       0.747,     0.74618,     0.74536,     0.74454,     0.74371,     0.74289,     0.74207,     0.74125,     0.74071,     0.74018,     0.73964,      0.7391,     0.73856,     0.73802,     0.73748,     0.73694,      0.7364,     0.73586,     0.73532,     0.73478,\n",
            "             0.7342,     0.73282,     0.73143,     0.73005,     0.72866,     0.72728,     0.72572,     0.72417,     0.72262,     0.72107,     0.71869,     0.71543,      0.7132,     0.71294,     0.71268,     0.71242,     0.71216,      0.7119,     0.71164,     0.71138,     0.71112,     0.71086,      0.7106,\n",
            "            0.71034,     0.71008,     0.70982,     0.70957,     0.70931,     0.70905,     0.70879,     0.70853,     0.70827,     0.70801,     0.70775,     0.70749,     0.70723,     0.70697,     0.70671,     0.70645,     0.70629,     0.70532,     0.70246,      0.6996,      0.6993,      0.6993,     0.69685,\n",
            "            0.69384,     0.69131,     0.68926,     0.68721,     0.68507,     0.68189,     0.67871,     0.67786,     0.67733,      0.6768,     0.67628,     0.67575,     0.67522,     0.67469,     0.67416,     0.67364,     0.67311,     0.67258,     0.67205,     0.67153,     0.67069,     0.66966,     0.66864,\n",
            "            0.66762,     0.66659,     0.66557,     0.66455,     0.66344,      0.6623,     0.66117,     0.66004,     0.65891,     0.65778,     0.65571,     0.65307,     0.65042,     0.64968,     0.64899,     0.64829,      0.6476,     0.64691,     0.64622,     0.64553,     0.64484,     0.64414,     0.64345,\n",
            "            0.63892,     0.61879,     0.60983,     0.60726,     0.60031,      0.5985,     0.59669,     0.59489,     0.59187,     0.58841,     0.58622,     0.58454,     0.58286,     0.58118,     0.57916,     0.57688,      0.5746,     0.57143,     0.56732,     0.55731,     0.55178,     0.55086,     0.54994,\n",
            "            0.54902,     0.54811,     0.54719,     0.54627,     0.54508,     0.54174,     0.53807,     0.51622,     0.50953,     0.50693,     0.50433,     0.49591,     0.49237,     0.48303,     0.46044,     0.45234,     0.44619,     0.44031,      0.4357,     0.42942,     0.41941,     0.41626,     0.41312,\n",
            "            0.41121,     0.40955,     0.40788,     0.40622,     0.40503,     0.40411,      0.4032,     0.40228,     0.40137,     0.40046,     0.39954,     0.39863,     0.39248,     0.38923,     0.38646,     0.38035,     0.35857,      0.3424,     0.34063,     0.33886,     0.33709,     0.33512,     0.33229,\n",
            "            0.32947,     0.32798,     0.32701,     0.32605,     0.32508,     0.32412,     0.32315,     0.32219,     0.31934,     0.31456,      0.3125,     0.31044,     0.30837,     0.29246,      0.2892,     0.28469,       0.272,     0.26345,     0.25896,     0.25492,      0.2498,     0.23793,     0.22746,\n",
            "            0.22123,     0.21811,     0.20457,       0.187,     0.17985,     0.17384,     0.17142,     0.16899,      0.1597,     0.15687,     0.15403,     0.13978,     0.13786,     0.13594,     0.13402,     0.13057,     0.11846,     0.10803,     0.10343,     0.10162,    0.099812,    0.098002,    0.090036,\n",
            "           0.089011,    0.087986,    0.086961,    0.085937,    0.084912,     0.08384,    0.081139,    0.078437,    0.068666,    0.059887,     0.05617,    0.050433,    0.041127,    0.039241,    0.037356,     0.03547,    0.033649,    0.031851,    0.030053,    0.028256,     0.02658,    0.024928,    0.023276,\n",
            "           0.021623,    0.020414,    0.019487,    0.018561,    0.017634,    0.016707,    0.015781,    0.014854,     0.01382,    0.011176,   0.0085324,           0,           0,           0,           0,           0,           0,           0,           0,           0,           0,           0,           0,\n",
            "                  0,           0,           0,           0,           0,           0,           0,           0,           0,           0,           0,           0,           0,           0,           0,           0,           0,           0,           0,           0,           0,           0,           0,\n",
            "                  0,           0,           0,           0,           0,           0,           0,           0,           0,           0,           0,           0,           0,           0,           0,           0,           0,           0,           0,           0,           0,           0,           0,\n",
            "                  0,           0,           0,           0,           0,           0,           0,           0,           0,           0,           0,           0,           0,           0,           0,           0,           0,           0,           0,           0,           0,           0,           0,\n",
            "                  0,           0,           0,           0,           0,           0,           0,           0,           0,           0,           0]])>\n",
            "F1 score: [    0.87208]\n",
            "F1 score curve: [[    0.43919     0.43919      0.5313     0.59711     0.63747     0.66686     0.68841     0.70388     0.71625     0.72479      0.7291     0.73507     0.73623     0.73855     0.74712     0.74901     0.75085     0.75455     0.75597     0.75826     0.76308     0.76644     0.76938     0.77431     0.77972     0.77871\n",
            "      0.78653     0.79159     0.79538     0.79705     0.79803     0.79903     0.80006     0.80109     0.80468      0.8089     0.81173     0.81344     0.81503     0.81648     0.81947     0.82373     0.82673     0.83343     0.83483     0.83652      0.8394     0.84033     0.84125     0.84159     0.84123     0.84087\n",
            "      0.84051     0.84015     0.83979     0.83943     0.83907     0.83871     0.83835     0.83799     0.83888     0.84067     0.84214     0.84387     0.84461     0.84252     0.84278     0.84305     0.84332     0.84358     0.84385     0.84412     0.84438     0.84465     0.84491     0.84518     0.84556     0.84622\n",
            "      0.84687     0.84753     0.84818     0.84852     0.84881      0.8491     0.84939     0.84968     0.84996     0.85025     0.85054     0.85083     0.85111     0.85155     0.85207     0.85258      0.8531     0.85361     0.85412     0.85447     0.85481     0.85514     0.85548     0.85581     0.85614     0.85648\n",
            "      0.85681     0.85714      0.8574     0.85765      0.8579     0.85815      0.8584     0.85866     0.85891     0.85916     0.85941     0.85966     0.85991     0.86015     0.86025     0.86035     0.86045     0.86055     0.86065     0.86076     0.86086     0.86096     0.86106     0.86116     0.86126     0.86136\n",
            "      0.86146     0.86156     0.86166     0.86177     0.86187     0.86197     0.86207     0.86217     0.86227     0.86237     0.86247     0.86257     0.86267     0.86277     0.86287     0.86297     0.86307     0.86245     0.85908     0.85873     0.85839     0.85805      0.8577     0.85736     0.85701     0.85667\n",
            "      0.85632     0.85598     0.85563     0.85529     0.85501     0.85479     0.85458     0.85436     0.85415     0.85393     0.85371      0.8535     0.85328     0.85306     0.85285     0.85263     0.85241      0.8522     0.85198     0.85176     0.85154     0.85133     0.85111     0.85205     0.85329     0.85413\n",
            "      0.85422     0.85431     0.85441      0.8545      0.8546     0.85469     0.85478     0.85488     0.85497     0.85507     0.85516     0.85525     0.85535     0.85544     0.85554     0.85563     0.85572     0.85582     0.85591       0.856      0.8561     0.85619     0.85629     0.85638     0.85647     0.85657\n",
            "      0.85666     0.85675     0.85685     0.85694     0.85703     0.85713     0.85726      0.8574     0.85754     0.85768     0.85782     0.85796      0.8581     0.85825     0.85839     0.85853     0.85867     0.85881     0.85895     0.85909     0.85923     0.85937     0.85951     0.85965     0.85979     0.85993\n",
            "      0.86007     0.86021     0.86046     0.86071     0.86097     0.86122     0.86148     0.86173     0.86199     0.86224      0.8625     0.86275       0.863     0.86326     0.86355     0.86386     0.86416     0.86446     0.86477     0.86507     0.86537     0.86568     0.86598     0.86628     0.86656     0.86681\n",
            "      0.86706     0.86732     0.86757     0.86782     0.86807     0.86832     0.86857     0.86882     0.86908     0.86933     0.86954     0.86907      0.8686     0.86812     0.86765     0.86718      0.8667     0.86623     0.86575     0.86552     0.86569     0.86586     0.86603      0.8662     0.86637     0.86654\n",
            "      0.86671     0.86688     0.86705     0.86722     0.86739     0.86755     0.86772     0.86789     0.86806     0.86823      0.8684     0.86857     0.86888     0.86925     0.86961     0.86998     0.87034      0.8707     0.87107     0.87143     0.87179     0.87194     0.87208     0.87222     0.87236      0.8725\n",
            "      0.87264     0.87278     0.87292     0.87307     0.87321     0.87335     0.87349     0.87363     0.87377     0.87391     0.87405     0.87419     0.87433     0.87447     0.87461     0.87476      0.8749     0.87495     0.87476     0.87457     0.87438     0.87419       0.874     0.87381     0.87362     0.87343\n",
            "      0.87324     0.87305     0.87286     0.87267     0.87248     0.87229      0.8721     0.87191     0.87172     0.87153     0.87134     0.87114     0.87095      0.8709     0.87102     0.87114     0.87125     0.87137     0.87149     0.87161     0.87172     0.87184     0.87196     0.87208     0.87219     0.87231\n",
            "      0.87243     0.87254     0.87266     0.87278      0.8729     0.87301     0.87313     0.87325     0.87336     0.87348      0.8736     0.87371     0.87383     0.87395     0.87406     0.87403     0.87398     0.87394     0.87389     0.87384     0.87379     0.87374      0.8737     0.87365      0.8736     0.87355\n",
            "      0.87351     0.87346     0.87341     0.87336     0.87332     0.87327     0.87322     0.87317     0.87313     0.87308     0.87303     0.87298     0.87294     0.87289     0.87284     0.87279     0.87274      0.8727     0.87265      0.8726     0.87255     0.87251     0.87246     0.87241     0.87236     0.87232\n",
            "      0.87227     0.87222     0.87217     0.87212     0.87208     0.87203     0.87198     0.87193     0.87189     0.87184     0.87179     0.87174      0.8717     0.87165      0.8716     0.87155      0.8715     0.87146     0.87141     0.87136     0.87131     0.87127     0.87122     0.87117     0.87112     0.87107\n",
            "      0.87103     0.87098     0.87093     0.87088     0.87084     0.87079     0.87074     0.87069     0.87064      0.8706     0.87055      0.8705     0.87045     0.87041     0.87036     0.87031     0.87026     0.87021     0.87017     0.87012     0.87007     0.87002     0.86997     0.86993     0.87001     0.87059\n",
            "      0.87118     0.87176     0.87235     0.87293     0.87512     0.87607     0.87549     0.87491     0.87433     0.87375     0.87317     0.87258      0.8723     0.87268     0.87306     0.87345     0.87383     0.87421     0.87459     0.87497     0.87535      0.8757     0.87604     0.87638     0.87672     0.87705\n",
            "      0.87739     0.87773     0.87807      0.8784     0.87874      0.8784     0.87794     0.87748     0.87703     0.87657     0.87611     0.87565     0.87519     0.87474     0.87428     0.87382     0.87337     0.87292     0.87246       0.872     0.87155     0.87109     0.87064     0.87025     0.87046     0.87067\n",
            "      0.87088     0.87109      0.8713     0.87151     0.87172     0.87193     0.87213     0.87234     0.87255     0.87276     0.87297     0.87318     0.87338     0.87351     0.87311      0.8727      0.8723     0.87189     0.87149     0.87108     0.87068     0.87027     0.86986     0.86946     0.86909     0.86876\n",
            "      0.86844     0.86811     0.86778     0.86746     0.86713     0.86681     0.86648     0.86615     0.86583      0.8655     0.86517     0.86487     0.86498     0.86509      0.8652     0.86531     0.86542     0.86553     0.86564     0.86575     0.86586     0.86597     0.86608     0.86619      0.8663     0.86641\n",
            "      0.86652     0.86663     0.86674     0.86685     0.86696     0.86707     0.86718     0.86729      0.8674     0.86751     0.86762     0.86773     0.86784     0.86795     0.86806     0.86817     0.86794     0.86743     0.86693     0.86642     0.86591      0.8654     0.86489     0.86438     0.86387      0.8637\n",
            "      0.86357     0.86343      0.8633     0.86317     0.86304     0.86291     0.86277     0.86264     0.86251     0.86238     0.86225     0.86212     0.86198     0.86185     0.86172     0.86159     0.86145     0.86132     0.86119     0.86106     0.86093     0.86079     0.86066     0.86053      0.8604     0.86026\n",
            "      0.86013        0.86     0.85987     0.85973      0.8596     0.85947     0.85922     0.85871     0.85819     0.85768     0.85716     0.85664     0.85613     0.85561     0.85509      0.8503     0.84962     0.84893     0.84824     0.84756     0.84687     0.84618     0.84557     0.84503     0.84449     0.84396\n",
            "      0.84342     0.84288     0.84234      0.8418     0.84127     0.84091     0.84056      0.8402     0.83985     0.83949     0.83913     0.83878     0.83842     0.83807     0.83771     0.83735     0.83699     0.83661     0.83569     0.83477     0.83385     0.83293       0.832     0.83096     0.82993     0.82888\n",
            "      0.82784     0.82623     0.82403     0.82252     0.82234     0.82217     0.82199     0.82182     0.82164     0.82146     0.82129     0.82111     0.82093     0.82076     0.82058      0.8204     0.82023     0.82005     0.81987     0.81969     0.81952     0.81934     0.81916     0.81899     0.81881     0.81863\n",
            "      0.81845     0.81828      0.8181     0.81792     0.81906     0.82047     0.81851     0.81653     0.81777     0.81938     0.81797     0.81588     0.81412     0.81268     0.81125     0.80974      0.8075     0.80525     0.80465     0.80428      0.8039     0.80353     0.80315     0.80278      0.8024     0.80202\n",
            "      0.80165     0.80127      0.8009     0.80052     0.80014     0.79954     0.79881     0.79807     0.79734      0.7966     0.79587     0.79513     0.79433     0.79351     0.79269     0.79187     0.79105     0.79023     0.78873      0.7868     0.78486     0.78432     0.78381      0.7833     0.78279     0.78228\n",
            "      0.78177     0.78126     0.78075     0.78024     0.77973     0.77637     0.76122     0.75436     0.75565     0.75024     0.74883     0.74741     0.74599     0.74362     0.74088     0.73914      0.7378     0.73646     0.73512     0.73351     0.73167     0.72983     0.72727     0.72393     0.71574     0.71116\n",
            "      0.71039     0.70963     0.70886      0.7081     0.70733     0.70656     0.70556     0.70277     0.69967     0.68093     0.67509      0.6728     0.67051     0.66302     0.65985     0.65141     0.63055     0.62291     0.61705     0.61141     0.60695     0.60083     0.59096     0.58783     0.58469     0.58277\n",
            "       0.5811     0.57943     0.57775     0.57654     0.57561     0.57468     0.57376     0.57283      0.5719     0.57096     0.57003     0.56371     0.56035     0.55748     0.55109     0.52786     0.51013     0.50817     0.50619     0.50422       0.502     0.49883     0.49564     0.49395     0.49286     0.49176\n",
            "      0.49066     0.48956     0.48846     0.48736      0.4841     0.47858     0.47619     0.47379     0.47138     0.45257     0.44865      0.4432     0.42768     0.41703     0.41139     0.40627     0.39975      0.3844     0.37062     0.36231     0.35811     0.33966     0.31508     0.30486     0.29619     0.29267\n",
            "      0.28912     0.27542     0.27119     0.26694     0.24527     0.24231     0.23935     0.23637     0.23099     0.21182     0.19499     0.18747      0.1845     0.18151     0.17851      0.1652     0.16347     0.16174     0.16001     0.15827     0.15653     0.15471      0.1501     0.14546     0.12851     0.11301\n",
            "      0.10637    0.096024    0.079005    0.075519    0.072021     0.06851    0.065107    0.061736    0.058353    0.054958    0.051784    0.048644    0.045493    0.042332    0.040011    0.038229    0.036445    0.034657    0.032866    0.031071    0.029274    0.027262    0.022105     0.01692           0           0\n",
            "            0           0           0           0           0           0           0           0           0           0           0           0           0           0           0           0           0           0           0           0           0           0           0           0           0           0\n",
            "            0           0           0           0           0           0           0           0           0           0           0           0           0           0           0           0           0           0           0           0           0           0           0           0           0           0\n",
            "            0           0           0           0           0           0           0           0           0           0           0           0           0           0           0           0           0           0           0           0           0           0           0           0           0           0\n",
            "            0           0           0           0           0           0           0           0           0           0           0           0]]\n",
            "Overall fitness score: <bound method Metric.fitness of ultralytics.utils.metrics.Metric object with attributes:\n",
            "\n",
            "all_ap: array([[    0.89403,     0.86437,     0.85468,     0.78051,     0.61995,     0.53411,     0.33998,     0.17881,    0.048572,           0]])\n",
            "ap: array([     0.5115])\n",
            "ap50: array([    0.89403])\n",
            "ap_class_index: array([0])\n",
            "curves: []\n",
            "curves_results: [[array([          0,    0.001001,    0.002002,    0.003003,    0.004004,    0.005005,    0.006006,    0.007007,    0.008008,    0.009009,     0.01001,    0.011011,    0.012012,    0.013013,    0.014014,    0.015015,    0.016016,    0.017017,    0.018018,    0.019019,     0.02002,    0.021021,    0.022022,    0.023023,\n",
            "          0.024024,    0.025025,    0.026026,    0.027027,    0.028028,    0.029029,     0.03003,    0.031031,    0.032032,    0.033033,    0.034034,    0.035035,    0.036036,    0.037037,    0.038038,    0.039039,     0.04004,    0.041041,    0.042042,    0.043043,    0.044044,    0.045045,    0.046046,    0.047047,\n",
            "          0.048048,    0.049049,     0.05005,    0.051051,    0.052052,    0.053053,    0.054054,    0.055055,    0.056056,    0.057057,    0.058058,    0.059059,     0.06006,    0.061061,    0.062062,    0.063063,    0.064064,    0.065065,    0.066066,    0.067067,    0.068068,    0.069069,     0.07007,    0.071071,\n",
            "          0.072072,    0.073073,    0.074074,    0.075075,    0.076076,    0.077077,    0.078078,    0.079079,     0.08008,    0.081081,    0.082082,    0.083083,    0.084084,    0.085085,    0.086086,    0.087087,    0.088088,    0.089089,     0.09009,    0.091091,    0.092092,    0.093093,    0.094094,    0.095095,\n",
            "          0.096096,    0.097097,    0.098098,    0.099099,      0.1001,      0.1011,      0.1021,      0.1031,      0.1041,     0.10511,     0.10611,     0.10711,     0.10811,     0.10911,     0.11011,     0.11111,     0.11211,     0.11311,     0.11411,     0.11512,     0.11612,     0.11712,     0.11812,     0.11912,\n",
            "           0.12012,     0.12112,     0.12212,     0.12312,     0.12412,     0.12513,     0.12613,     0.12713,     0.12813,     0.12913,     0.13013,     0.13113,     0.13213,     0.13313,     0.13413,     0.13514,     0.13614,     0.13714,     0.13814,     0.13914,     0.14014,     0.14114,     0.14214,     0.14314,\n",
            "           0.14414,     0.14515,     0.14615,     0.14715,     0.14815,     0.14915,     0.15015,     0.15115,     0.15215,     0.15315,     0.15415,     0.15516,     0.15616,     0.15716,     0.15816,     0.15916,     0.16016,     0.16116,     0.16216,     0.16316,     0.16416,     0.16517,     0.16617,     0.16717,\n",
            "           0.16817,     0.16917,     0.17017,     0.17117,     0.17217,     0.17317,     0.17417,     0.17518,     0.17618,     0.17718,     0.17818,     0.17918,     0.18018,     0.18118,     0.18218,     0.18318,     0.18418,     0.18519,     0.18619,     0.18719,     0.18819,     0.18919,     0.19019,     0.19119,\n",
            "           0.19219,     0.19319,     0.19419,      0.1952,      0.1962,      0.1972,      0.1982,      0.1992,      0.2002,      0.2012,      0.2022,      0.2032,      0.2042,     0.20521,     0.20621,     0.20721,     0.20821,     0.20921,     0.21021,     0.21121,     0.21221,     0.21321,     0.21421,     0.21522,\n",
            "           0.21622,     0.21722,     0.21822,     0.21922,     0.22022,     0.22122,     0.22222,     0.22322,     0.22422,     0.22523,     0.22623,     0.22723,     0.22823,     0.22923,     0.23023,     0.23123,     0.23223,     0.23323,     0.23423,     0.23524,     0.23624,     0.23724,     0.23824,     0.23924,\n",
            "           0.24024,     0.24124,     0.24224,     0.24324,     0.24424,     0.24525,     0.24625,     0.24725,     0.24825,     0.24925,     0.25025,     0.25125,     0.25225,     0.25325,     0.25425,     0.25526,     0.25626,     0.25726,     0.25826,     0.25926,     0.26026,     0.26126,     0.26226,     0.26326,\n",
            "           0.26426,     0.26527,     0.26627,     0.26727,     0.26827,     0.26927,     0.27027,     0.27127,     0.27227,     0.27327,     0.27427,     0.27528,     0.27628,     0.27728,     0.27828,     0.27928,     0.28028,     0.28128,     0.28228,     0.28328,     0.28428,     0.28529,     0.28629,     0.28729,\n",
            "           0.28829,     0.28929,     0.29029,     0.29129,     0.29229,     0.29329,     0.29429,      0.2953,      0.2963,      0.2973,      0.2983,      0.2993,      0.3003,      0.3013,      0.3023,      0.3033,      0.3043,     0.30531,     0.30631,     0.30731,     0.30831,     0.30931,     0.31031,     0.31131,\n",
            "           0.31231,     0.31331,     0.31431,     0.31532,     0.31632,     0.31732,     0.31832,     0.31932,     0.32032,     0.32132,     0.32232,     0.32332,     0.32432,     0.32533,     0.32633,     0.32733,     0.32833,     0.32933,     0.33033,     0.33133,     0.33233,     0.33333,     0.33433,     0.33534,\n",
            "           0.33634,     0.33734,     0.33834,     0.33934,     0.34034,     0.34134,     0.34234,     0.34334,     0.34434,     0.34535,     0.34635,     0.34735,     0.34835,     0.34935,     0.35035,     0.35135,     0.35235,     0.35335,     0.35435,     0.35536,     0.35636,     0.35736,     0.35836,     0.35936,\n",
            "           0.36036,     0.36136,     0.36236,     0.36336,     0.36436,     0.36537,     0.36637,     0.36737,     0.36837,     0.36937,     0.37037,     0.37137,     0.37237,     0.37337,     0.37437,     0.37538,     0.37638,     0.37738,     0.37838,     0.37938,     0.38038,     0.38138,     0.38238,     0.38338,\n",
            "           0.38438,     0.38539,     0.38639,     0.38739,     0.38839,     0.38939,     0.39039,     0.39139,     0.39239,     0.39339,     0.39439,      0.3954,      0.3964,      0.3974,      0.3984,      0.3994,      0.4004,      0.4014,      0.4024,      0.4034,      0.4044,     0.40541,     0.40641,     0.40741,\n",
            "           0.40841,     0.40941,     0.41041,     0.41141,     0.41241,     0.41341,     0.41441,     0.41542,     0.41642,     0.41742,     0.41842,     0.41942,     0.42042,     0.42142,     0.42242,     0.42342,     0.42442,     0.42543,     0.42643,     0.42743,     0.42843,     0.42943,     0.43043,     0.43143,\n",
            "           0.43243,     0.43343,     0.43443,     0.43544,     0.43644,     0.43744,     0.43844,     0.43944,     0.44044,     0.44144,     0.44244,     0.44344,     0.44444,     0.44545,     0.44645,     0.44745,     0.44845,     0.44945,     0.45045,     0.45145,     0.45245,     0.45345,     0.45445,     0.45546,\n",
            "           0.45646,     0.45746,     0.45846,     0.45946,     0.46046,     0.46146,     0.46246,     0.46346,     0.46446,     0.46547,     0.46647,     0.46747,     0.46847,     0.46947,     0.47047,     0.47147,     0.47247,     0.47347,     0.47447,     0.47548,     0.47648,     0.47748,     0.47848,     0.47948,\n",
            "           0.48048,     0.48148,     0.48248,     0.48348,     0.48448,     0.48549,     0.48649,     0.48749,     0.48849,     0.48949,     0.49049,     0.49149,     0.49249,     0.49349,     0.49449,      0.4955,      0.4965,      0.4975,      0.4985,      0.4995,      0.5005,      0.5015,      0.5025,      0.5035,\n",
            "            0.5045,     0.50551,     0.50651,     0.50751,     0.50851,     0.50951,     0.51051,     0.51151,     0.51251,     0.51351,     0.51451,     0.51552,     0.51652,     0.51752,     0.51852,     0.51952,     0.52052,     0.52152,     0.52252,     0.52352,     0.52452,     0.52553,     0.52653,     0.52753,\n",
            "           0.52853,     0.52953,     0.53053,     0.53153,     0.53253,     0.53353,     0.53453,     0.53554,     0.53654,     0.53754,     0.53854,     0.53954,     0.54054,     0.54154,     0.54254,     0.54354,     0.54454,     0.54555,     0.54655,     0.54755,     0.54855,     0.54955,     0.55055,     0.55155,\n",
            "           0.55255,     0.55355,     0.55455,     0.55556,     0.55656,     0.55756,     0.55856,     0.55956,     0.56056,     0.56156,     0.56256,     0.56356,     0.56456,     0.56557,     0.56657,     0.56757,     0.56857,     0.56957,     0.57057,     0.57157,     0.57257,     0.57357,     0.57457,     0.57558,\n",
            "           0.57658,     0.57758,     0.57858,     0.57958,     0.58058,     0.58158,     0.58258,     0.58358,     0.58458,     0.58559,     0.58659,     0.58759,     0.58859,     0.58959,     0.59059,     0.59159,     0.59259,     0.59359,     0.59459,      0.5956,      0.5966,      0.5976,      0.5986,      0.5996,\n",
            "            0.6006,      0.6016,      0.6026,      0.6036,      0.6046,     0.60561,     0.60661,     0.60761,     0.60861,     0.60961,     0.61061,     0.61161,     0.61261,     0.61361,     0.61461,     0.61562,     0.61662,     0.61762,     0.61862,     0.61962,     0.62062,     0.62162,     0.62262,     0.62362,\n",
            "           0.62462,     0.62563,     0.62663,     0.62763,     0.62863,     0.62963,     0.63063,     0.63163,     0.63263,     0.63363,     0.63463,     0.63564,     0.63664,     0.63764,     0.63864,     0.63964,     0.64064,     0.64164,     0.64264,     0.64364,     0.64464,     0.64565,     0.64665,     0.64765,\n",
            "           0.64865,     0.64965,     0.65065,     0.65165,     0.65265,     0.65365,     0.65465,     0.65566,     0.65666,     0.65766,     0.65866,     0.65966,     0.66066,     0.66166,     0.66266,     0.66366,     0.66466,     0.66567,     0.66667,     0.66767,     0.66867,     0.66967,     0.67067,     0.67167,\n",
            "           0.67267,     0.67367,     0.67467,     0.67568,     0.67668,     0.67768,     0.67868,     0.67968,     0.68068,     0.68168,     0.68268,     0.68368,     0.68468,     0.68569,     0.68669,     0.68769,     0.68869,     0.68969,     0.69069,     0.69169,     0.69269,     0.69369,     0.69469,      0.6957,\n",
            "            0.6967,      0.6977,      0.6987,      0.6997,      0.7007,      0.7017,      0.7027,      0.7037,      0.7047,     0.70571,     0.70671,     0.70771,     0.70871,     0.70971,     0.71071,     0.71171,     0.71271,     0.71371,     0.71471,     0.71572,     0.71672,     0.71772,     0.71872,     0.71972,\n",
            "           0.72072,     0.72172,     0.72272,     0.72372,     0.72472,     0.72573,     0.72673,     0.72773,     0.72873,     0.72973,     0.73073,     0.73173,     0.73273,     0.73373,     0.73473,     0.73574,     0.73674,     0.73774,     0.73874,     0.73974,     0.74074,     0.74174,     0.74274,     0.74374,\n",
            "           0.74474,     0.74575,     0.74675,     0.74775,     0.74875,     0.74975,     0.75075,     0.75175,     0.75275,     0.75375,     0.75475,     0.75576,     0.75676,     0.75776,     0.75876,     0.75976,     0.76076,     0.76176,     0.76276,     0.76376,     0.76476,     0.76577,     0.76677,     0.76777,\n",
            "           0.76877,     0.76977,     0.77077,     0.77177,     0.77277,     0.77377,     0.77477,     0.77578,     0.77678,     0.77778,     0.77878,     0.77978,     0.78078,     0.78178,     0.78278,     0.78378,     0.78478,     0.78579,     0.78679,     0.78779,     0.78879,     0.78979,     0.79079,     0.79179,\n",
            "           0.79279,     0.79379,     0.79479,      0.7958,      0.7968,      0.7978,      0.7988,      0.7998,      0.8008,      0.8018,      0.8028,      0.8038,      0.8048,     0.80581,     0.80681,     0.80781,     0.80881,     0.80981,     0.81081,     0.81181,     0.81281,     0.81381,     0.81481,     0.81582,\n",
            "           0.81682,     0.81782,     0.81882,     0.81982,     0.82082,     0.82182,     0.82282,     0.82382,     0.82482,     0.82583,     0.82683,     0.82783,     0.82883,     0.82983,     0.83083,     0.83183,     0.83283,     0.83383,     0.83483,     0.83584,     0.83684,     0.83784,     0.83884,     0.83984,\n",
            "           0.84084,     0.84184,     0.84284,     0.84384,     0.84484,     0.84585,     0.84685,     0.84785,     0.84885,     0.84985,     0.85085,     0.85185,     0.85285,     0.85385,     0.85485,     0.85586,     0.85686,     0.85786,     0.85886,     0.85986,     0.86086,     0.86186,     0.86286,     0.86386,\n",
            "           0.86486,     0.86587,     0.86687,     0.86787,     0.86887,     0.86987,     0.87087,     0.87187,     0.87287,     0.87387,     0.87487,     0.87588,     0.87688,     0.87788,     0.87888,     0.87988,     0.88088,     0.88188,     0.88288,     0.88388,     0.88488,     0.88589,     0.88689,     0.88789,\n",
            "           0.88889,     0.88989,     0.89089,     0.89189,     0.89289,     0.89389,     0.89489,      0.8959,      0.8969,      0.8979,      0.8989,      0.8999,      0.9009,      0.9019,      0.9029,      0.9039,      0.9049,     0.90591,     0.90691,     0.90791,     0.90891,     0.90991,     0.91091,     0.91191,\n",
            "           0.91291,     0.91391,     0.91491,     0.91592,     0.91692,     0.91792,     0.91892,     0.91992,     0.92092,     0.92192,     0.92292,     0.92392,     0.92492,     0.92593,     0.92693,     0.92793,     0.92893,     0.92993,     0.93093,     0.93193,     0.93293,     0.93393,     0.93493,     0.93594,\n",
            "           0.93694,     0.93794,     0.93894,     0.93994,     0.94094,     0.94194,     0.94294,     0.94394,     0.94494,     0.94595,     0.94695,     0.94795,     0.94895,     0.94995,     0.95095,     0.95195,     0.95295,     0.95395,     0.95495,     0.95596,     0.95696,     0.95796,     0.95896,     0.95996,\n",
            "           0.96096,     0.96196,     0.96296,     0.96396,     0.96496,     0.96597,     0.96697,     0.96797,     0.96897,     0.96997,     0.97097,     0.97197,     0.97297,     0.97397,     0.97497,     0.97598,     0.97698,     0.97798,     0.97898,     0.97998,     0.98098,     0.98198,     0.98298,     0.98398,\n",
            "           0.98498,     0.98599,     0.98699,     0.98799,     0.98899,     0.98999,     0.99099,     0.99199,     0.99299,     0.99399,     0.99499,       0.996,       0.997,       0.998,       0.999,           1]), array([[          1,           1,           1,           1,           1,           1,           1,           1,           1,           1,           1,           1,           1,           1,           1,           1,           1,           1,           1,           1,           1,           1,           1,\n",
            "                  1,           1,           1,           1,           1,           1,           1,           1,           1,           1,           1,           1,           1,           1,           1,           1,           1,           1,           1,           1,           1,           1,           1,\n",
            "                  1,           1,           1,           1,           1,           1,           1,           1,           1,           1,           1,           1,           1,           1,           1,           1,           1,           1,           1,           1,           1,           1,           1,\n",
            "                  1,           1,           1,           1,           1,           1,           1,           1,           1,           1,           1,           1,           1,           1,           1,           1,           1,           1,           1,           1,           1,           1,           1,\n",
            "                  1,           1,           1,           1,           1,           1,           1,           1,           1,           1,           1,           1,           1,           1,           1,           1,           1,           1,           1,           1,           1,           1,           1,\n",
            "                  1,           1,           1,           1,           1,           1,           1,           1,           1,           1,           1,           1,           1,           1,           1,           1,           1,           1,           1,           1,           1,           1,           1,\n",
            "                  1,           1,           1,           1,           1,           1,           1,           1,           1,           1,           1,           1,           1,           1,           1,           1,           1,           1,           1,           1,           1,           1,           1,\n",
            "                  1,           1,           1,           1,           1,           1,           1,           1,           1,           1,           1,           1,           1,           1,           1,           1,           1,           1,           1,           1,           1,           1,           1,\n",
            "                  1,           1,           1,           1,           1,           1,           1,           1,           1,           1,           1,           1,           1,           1,           1,           1,           1,           1,           1,           1,           1,           1,           1,\n",
            "                  1,           1,           1,           1,           1,           1,           1,           1,           1,           1,           1,           1,           1,           1,           1,           1,           1,           1,           1,           1,           1,           1,           1,\n",
            "                  1,           1,           1,           1,           1,           1,           1,           1,           1,           1,           1,           1,           1,           1,           1,           1,           1,           1,           1,           1,           1,           1,           1,\n",
            "                  1,           1,           1,           1,           1,           1,           1,           1,           1,           1,           1,           1,           1,           1,           1,           1,           1,           1,           1,           1,           1,           1,           1,\n",
            "                  1,           1,           1,           1,           1,           1,           1,           1,           1,           1,           1,           1,           1,           1,           1,           1,           1,           1,           1,           1,           1,           1,           1,\n",
            "                  1,           1,           1,           1,           1,           1,           1,           1,           1,           1,           1,           1,           1,           1,           1,           1,           1,           1,           1,           1,           1,           1,           1,\n",
            "                  1,           1,           1,           1,           1,           1,           1,           1,           1,           1,           1,           1,           1,           1,           1,           1,           1,           1,           1,           1,           1,           1,           1,\n",
            "                  1,           1,           1,           1,           1,           1,           1,           1,           1,           1,           1,           1,           1,           1,           1,           1,           1,           1,           1,           1,           1,           1,           1,\n",
            "                  1,           1,           1,           1,           1,           1,           1,           1,           1,           1,           1,           1,           1,           1,           1,           1,           1,           1,           1,           1,           1,           1,           1,\n",
            "                  1,           1,           1,           1,           1,           1,           1,           1,           1,           1,           1,           1,           1,           1,           1,           1,           1,           1,           1,           1,           1,           1,           1,\n",
            "                  1,           1,           1,           1,           1,           1,           1,           1,           1,           1,           1,           1,           1,           1,           1,           1,           1,           1,           1,           1,           1,           1,           1,\n",
            "                  1,           1,           1,           1,           1,           1,           1,           1,           1,           1,           1,           1,           1,           1,           1,           1,           1,           1,           1,           1,           1,           1,           1,\n",
            "                  1,           1,           1,           1,           1,           1,           1,           1,           1,           1,           1,           1,           1,           1,           1,           1,           1,           1,           1,           1,           1,           1,           1,\n",
            "                  1,           1,           1,           1,           1,           1,           1,           1,           1,           1,           1,           1,           1,           1,           1,           1,           1,           1,           1,           1,           1,           1,           1,\n",
            "                  1,           1,           1,           1,           1,           1,           1,           1,           1,           1,           1,           1,           1,           1,           1,           1,           1,           1,           1,           1,           1,           1,           1,\n",
            "                  1,           1,           1,           1,           1,           1,           1,           1,           1,           1,           1,           1,           1,           1,           1,           1,           1,           1,           1,           1,           1,           1,           1,\n",
            "                  1,           1,           1,           1,           1,           1,           1,           1,           1,           1,           1,           1,           1,           1,           1,           1,           1,           1,           1,           1,           1,           1,           1,\n",
            "                  1,           1,           1,           1,           1,           1,           1,           1,           1,           1,           1,           1,           1,           1,           1,           1,           1,           1,           1,           1,           1,           1,           1,\n",
            "                  1,           1,           1,           1,           1,           1,           1,           1,           1,           1,      0.9901,      0.9901,      0.9901,      0.9901,      0.9901,      0.9901,      0.9901,      0.9901,      0.9901,      0.9901,      0.9901,      0.9901,      0.9901,\n",
            "             0.9901,      0.9901,      0.9901,      0.9901,      0.9901,      0.9901,      0.9901,      0.9901,      0.9901,      0.9901,      0.9901,      0.9901,      0.9901,      0.9901,      0.9901,      0.9901,      0.9901,      0.9901,      0.9901,      0.9901,      0.9901,      0.9901,      0.9901,\n",
            "             0.9901,      0.9901,      0.9901,      0.9901,      0.9901,      0.9901,      0.9901,      0.9901,      0.9901,      0.9901,      0.9901,      0.9901,      0.9901,      0.9901,      0.9901,      0.9901,      0.9901,      0.9901,      0.9901,      0.9901,      0.9901,      0.9901,      0.9901,\n",
            "             0.9901,      0.9901,      0.9901,      0.9901,      0.9901,      0.9901,      0.9901,      0.9901,      0.9901,      0.9901,      0.9901,      0.9901,      0.9901,      0.9901,      0.9901,      0.9901,      0.9901,      0.9901,      0.9901,      0.9901,      0.9901,      0.9901,      0.9901,\n",
            "             0.9901,      0.9901,      0.9901,      0.9901,      0.9901,      0.9901,      0.9901,      0.9901,      0.9901,     0.98058,     0.98058,     0.98058,     0.98058,     0.98058,     0.98058,     0.98058,     0.97391,     0.97391,     0.97391,     0.97391,     0.97391,     0.97391,     0.97391,\n",
            "            0.97391,     0.97391,     0.97391,     0.97391,     0.97391,     0.97391,     0.97391,     0.97391,     0.97391,     0.97391,     0.97391,     0.97391,     0.97391,     0.97391,     0.97391,     0.97391,     0.97391,     0.97391,     0.97391,     0.97391,     0.97391,     0.97391,     0.97391,\n",
            "            0.97391,     0.97391,     0.97391,     0.97391,     0.97391,     0.97391,     0.97391,     0.97391,     0.97391,     0.97391,     0.97391,     0.97391,     0.97391,     0.97391,     0.97391,     0.97391,     0.97391,     0.97391,     0.97391,     0.97391,     0.97391,     0.97391,     0.97391,\n",
            "            0.97391,     0.97391,     0.97391,     0.97391,     0.97391,     0.97391,     0.97391,     0.97391,     0.97391,     0.97391,     0.97391,     0.97391,     0.97391,     0.97391,     0.97391,     0.97391,     0.97391,     0.97391,     0.97391,     0.97391,     0.97391,     0.97391,     0.97391,\n",
            "            0.97391,      0.9661,      0.9661,      0.9661,      0.9661,      0.9661,      0.9661,      0.9661,      0.9661,      0.9661,      0.9661,      0.9661,      0.9661,      0.9661,      0.9661,     0.95868,     0.95868,     0.95868,     0.95868,     0.95868,     0.95868,     0.95868,     0.95868,\n",
            "            0.95868,     0.95868,     0.95868,     0.95868,     0.95868,     0.95868,     0.94355,     0.94355,     0.94355,     0.94355,     0.94355,     0.94355,     0.94355,     0.92913,     0.92913,     0.92913,     0.92913,     0.92913,     0.92913,     0.92913,     0.92248,     0.92248,     0.92248,\n",
            "            0.92248,     0.92248,     0.92248,     0.92248,     0.90226,     0.90226,     0.90226,     0.90226,     0.90226,     0.90226,     0.90226,      0.8662,      0.8662,      0.8662,      0.8662,      0.8662,      0.8662,      0.8662,      0.8662,      0.8662,      0.8662,      0.8662,      0.8662,\n",
            "             0.8662,      0.8662,      0.8662,      0.8662,      0.8662,      0.8662,      0.8662,      0.8662,      0.8662,     0.82667,     0.82667,     0.82667,     0.82667,     0.82667,     0.82667,     0.82667,     0.81169,     0.81169,     0.81169,     0.81169,     0.81169,     0.81169,     0.81169,\n",
            "                0.7,         0.7,         0.7,         0.7,         0.7,         0.7,         0.7,      0.6165,      0.6165,      0.6165,      0.6165,      0.6165,      0.6165,      0.6165,      0.4708,      0.4708,      0.4708,      0.4708,      0.4708,      0.4708,      0.4708,      0.4708,      0.4708,\n",
            "             0.4708,      0.4708,      0.4708,      0.4708,      0.4708,     0.33592,     0.33592,     0.33592,     0.33592,     0.33592,     0.33592,     0.33592,     0.28692,     0.28374,     0.28055,     0.27736,     0.27417,     0.27098,      0.2678,     0.26461,     0.26142,     0.25823,     0.25504,\n",
            "            0.25186,     0.24867,     0.24548,     0.24229,      0.2391,     0.23592,     0.23273,     0.22954,     0.22635,     0.22316,     0.21997,     0.21679,      0.2136,     0.21041,     0.20722,     0.20403,     0.20085,     0.19766,     0.19447,     0.19128,     0.18809,     0.18491,     0.18172,\n",
            "            0.17853,     0.17534,     0.17215,     0.16897,     0.16578,     0.16259,      0.1594,     0.15621,     0.15303,     0.14984,     0.14665,     0.14346,     0.14027,     0.13709,      0.1339,     0.13071,     0.12752,     0.12433,     0.12115,     0.11796,     0.11477,     0.11158,     0.10839,\n",
            "            0.10521,     0.10202,    0.098829,    0.095641,    0.092453,    0.089265,    0.086077,    0.082889,    0.079701,    0.076513,    0.073325,    0.070137,    0.066949,    0.063761,    0.060573,    0.057385,    0.054197,    0.051009,    0.047821,    0.044633,    0.041445,    0.038257,    0.035068,\n",
            "            0.03188,    0.028692,    0.025504,    0.022316,    0.019128,     0.01594,    0.012752,   0.0095641,   0.0063761,    0.003188,           0]]), 'Recall', 'Precision'], [array([          0,    0.001001,    0.002002,    0.003003,    0.004004,    0.005005,    0.006006,    0.007007,    0.008008,    0.009009,     0.01001,    0.011011,    0.012012,    0.013013,    0.014014,    0.015015,    0.016016,    0.017017,    0.018018,    0.019019,     0.02002,    0.021021,    0.022022,    0.023023,\n",
            "          0.024024,    0.025025,    0.026026,    0.027027,    0.028028,    0.029029,     0.03003,    0.031031,    0.032032,    0.033033,    0.034034,    0.035035,    0.036036,    0.037037,    0.038038,    0.039039,     0.04004,    0.041041,    0.042042,    0.043043,    0.044044,    0.045045,    0.046046,    0.047047,\n",
            "          0.048048,    0.049049,     0.05005,    0.051051,    0.052052,    0.053053,    0.054054,    0.055055,    0.056056,    0.057057,    0.058058,    0.059059,     0.06006,    0.061061,    0.062062,    0.063063,    0.064064,    0.065065,    0.066066,    0.067067,    0.068068,    0.069069,     0.07007,    0.071071,\n",
            "          0.072072,    0.073073,    0.074074,    0.075075,    0.076076,    0.077077,    0.078078,    0.079079,     0.08008,    0.081081,    0.082082,    0.083083,    0.084084,    0.085085,    0.086086,    0.087087,    0.088088,    0.089089,     0.09009,    0.091091,    0.092092,    0.093093,    0.094094,    0.095095,\n",
            "          0.096096,    0.097097,    0.098098,    0.099099,      0.1001,      0.1011,      0.1021,      0.1031,      0.1041,     0.10511,     0.10611,     0.10711,     0.10811,     0.10911,     0.11011,     0.11111,     0.11211,     0.11311,     0.11411,     0.11512,     0.11612,     0.11712,     0.11812,     0.11912,\n",
            "           0.12012,     0.12112,     0.12212,     0.12312,     0.12412,     0.12513,     0.12613,     0.12713,     0.12813,     0.12913,     0.13013,     0.13113,     0.13213,     0.13313,     0.13413,     0.13514,     0.13614,     0.13714,     0.13814,     0.13914,     0.14014,     0.14114,     0.14214,     0.14314,\n",
            "           0.14414,     0.14515,     0.14615,     0.14715,     0.14815,     0.14915,     0.15015,     0.15115,     0.15215,     0.15315,     0.15415,     0.15516,     0.15616,     0.15716,     0.15816,     0.15916,     0.16016,     0.16116,     0.16216,     0.16316,     0.16416,     0.16517,     0.16617,     0.16717,\n",
            "           0.16817,     0.16917,     0.17017,     0.17117,     0.17217,     0.17317,     0.17417,     0.17518,     0.17618,     0.17718,     0.17818,     0.17918,     0.18018,     0.18118,     0.18218,     0.18318,     0.18418,     0.18519,     0.18619,     0.18719,     0.18819,     0.18919,     0.19019,     0.19119,\n",
            "           0.19219,     0.19319,     0.19419,      0.1952,      0.1962,      0.1972,      0.1982,      0.1992,      0.2002,      0.2012,      0.2022,      0.2032,      0.2042,     0.20521,     0.20621,     0.20721,     0.20821,     0.20921,     0.21021,     0.21121,     0.21221,     0.21321,     0.21421,     0.21522,\n",
            "           0.21622,     0.21722,     0.21822,     0.21922,     0.22022,     0.22122,     0.22222,     0.22322,     0.22422,     0.22523,     0.22623,     0.22723,     0.22823,     0.22923,     0.23023,     0.23123,     0.23223,     0.23323,     0.23423,     0.23524,     0.23624,     0.23724,     0.23824,     0.23924,\n",
            "           0.24024,     0.24124,     0.24224,     0.24324,     0.24424,     0.24525,     0.24625,     0.24725,     0.24825,     0.24925,     0.25025,     0.25125,     0.25225,     0.25325,     0.25425,     0.25526,     0.25626,     0.25726,     0.25826,     0.25926,     0.26026,     0.26126,     0.26226,     0.26326,\n",
            "           0.26426,     0.26527,     0.26627,     0.26727,     0.26827,     0.26927,     0.27027,     0.27127,     0.27227,     0.27327,     0.27427,     0.27528,     0.27628,     0.27728,     0.27828,     0.27928,     0.28028,     0.28128,     0.28228,     0.28328,     0.28428,     0.28529,     0.28629,     0.28729,\n",
            "           0.28829,     0.28929,     0.29029,     0.29129,     0.29229,     0.29329,     0.29429,      0.2953,      0.2963,      0.2973,      0.2983,      0.2993,      0.3003,      0.3013,      0.3023,      0.3033,      0.3043,     0.30531,     0.30631,     0.30731,     0.30831,     0.30931,     0.31031,     0.31131,\n",
            "           0.31231,     0.31331,     0.31431,     0.31532,     0.31632,     0.31732,     0.31832,     0.31932,     0.32032,     0.32132,     0.32232,     0.32332,     0.32432,     0.32533,     0.32633,     0.32733,     0.32833,     0.32933,     0.33033,     0.33133,     0.33233,     0.33333,     0.33433,     0.33534,\n",
            "           0.33634,     0.33734,     0.33834,     0.33934,     0.34034,     0.34134,     0.34234,     0.34334,     0.34434,     0.34535,     0.34635,     0.34735,     0.34835,     0.34935,     0.35035,     0.35135,     0.35235,     0.35335,     0.35435,     0.35536,     0.35636,     0.35736,     0.35836,     0.35936,\n",
            "           0.36036,     0.36136,     0.36236,     0.36336,     0.36436,     0.36537,     0.36637,     0.36737,     0.36837,     0.36937,     0.37037,     0.37137,     0.37237,     0.37337,     0.37437,     0.37538,     0.37638,     0.37738,     0.37838,     0.37938,     0.38038,     0.38138,     0.38238,     0.38338,\n",
            "           0.38438,     0.38539,     0.38639,     0.38739,     0.38839,     0.38939,     0.39039,     0.39139,     0.39239,     0.39339,     0.39439,      0.3954,      0.3964,      0.3974,      0.3984,      0.3994,      0.4004,      0.4014,      0.4024,      0.4034,      0.4044,     0.40541,     0.40641,     0.40741,\n",
            "           0.40841,     0.40941,     0.41041,     0.41141,     0.41241,     0.41341,     0.41441,     0.41542,     0.41642,     0.41742,     0.41842,     0.41942,     0.42042,     0.42142,     0.42242,     0.42342,     0.42442,     0.42543,     0.42643,     0.42743,     0.42843,     0.42943,     0.43043,     0.43143,\n",
            "           0.43243,     0.43343,     0.43443,     0.43544,     0.43644,     0.43744,     0.43844,     0.43944,     0.44044,     0.44144,     0.44244,     0.44344,     0.44444,     0.44545,     0.44645,     0.44745,     0.44845,     0.44945,     0.45045,     0.45145,     0.45245,     0.45345,     0.45445,     0.45546,\n",
            "           0.45646,     0.45746,     0.45846,     0.45946,     0.46046,     0.46146,     0.46246,     0.46346,     0.46446,     0.46547,     0.46647,     0.46747,     0.46847,     0.46947,     0.47047,     0.47147,     0.47247,     0.47347,     0.47447,     0.47548,     0.47648,     0.47748,     0.47848,     0.47948,\n",
            "           0.48048,     0.48148,     0.48248,     0.48348,     0.48448,     0.48549,     0.48649,     0.48749,     0.48849,     0.48949,     0.49049,     0.49149,     0.49249,     0.49349,     0.49449,      0.4955,      0.4965,      0.4975,      0.4985,      0.4995,      0.5005,      0.5015,      0.5025,      0.5035,\n",
            "            0.5045,     0.50551,     0.50651,     0.50751,     0.50851,     0.50951,     0.51051,     0.51151,     0.51251,     0.51351,     0.51451,     0.51552,     0.51652,     0.51752,     0.51852,     0.51952,     0.52052,     0.52152,     0.52252,     0.52352,     0.52452,     0.52553,     0.52653,     0.52753,\n",
            "           0.52853,     0.52953,     0.53053,     0.53153,     0.53253,     0.53353,     0.53453,     0.53554,     0.53654,     0.53754,     0.53854,     0.53954,     0.54054,     0.54154,     0.54254,     0.54354,     0.54454,     0.54555,     0.54655,     0.54755,     0.54855,     0.54955,     0.55055,     0.55155,\n",
            "           0.55255,     0.55355,     0.55455,     0.55556,     0.55656,     0.55756,     0.55856,     0.55956,     0.56056,     0.56156,     0.56256,     0.56356,     0.56456,     0.56557,     0.56657,     0.56757,     0.56857,     0.56957,     0.57057,     0.57157,     0.57257,     0.57357,     0.57457,     0.57558,\n",
            "           0.57658,     0.57758,     0.57858,     0.57958,     0.58058,     0.58158,     0.58258,     0.58358,     0.58458,     0.58559,     0.58659,     0.58759,     0.58859,     0.58959,     0.59059,     0.59159,     0.59259,     0.59359,     0.59459,      0.5956,      0.5966,      0.5976,      0.5986,      0.5996,\n",
            "            0.6006,      0.6016,      0.6026,      0.6036,      0.6046,     0.60561,     0.60661,     0.60761,     0.60861,     0.60961,     0.61061,     0.61161,     0.61261,     0.61361,     0.61461,     0.61562,     0.61662,     0.61762,     0.61862,     0.61962,     0.62062,     0.62162,     0.62262,     0.62362,\n",
            "           0.62462,     0.62563,     0.62663,     0.62763,     0.62863,     0.62963,     0.63063,     0.63163,     0.63263,     0.63363,     0.63463,     0.63564,     0.63664,     0.63764,     0.63864,     0.63964,     0.64064,     0.64164,     0.64264,     0.64364,     0.64464,     0.64565,     0.64665,     0.64765,\n",
            "           0.64865,     0.64965,     0.65065,     0.65165,     0.65265,     0.65365,     0.65465,     0.65566,     0.65666,     0.65766,     0.65866,     0.65966,     0.66066,     0.66166,     0.66266,     0.66366,     0.66466,     0.66567,     0.66667,     0.66767,     0.66867,     0.66967,     0.67067,     0.67167,\n",
            "           0.67267,     0.67367,     0.67467,     0.67568,     0.67668,     0.67768,     0.67868,     0.67968,     0.68068,     0.68168,     0.68268,     0.68368,     0.68468,     0.68569,     0.68669,     0.68769,     0.68869,     0.68969,     0.69069,     0.69169,     0.69269,     0.69369,     0.69469,      0.6957,\n",
            "            0.6967,      0.6977,      0.6987,      0.6997,      0.7007,      0.7017,      0.7027,      0.7037,      0.7047,     0.70571,     0.70671,     0.70771,     0.70871,     0.70971,     0.71071,     0.71171,     0.71271,     0.71371,     0.71471,     0.71572,     0.71672,     0.71772,     0.71872,     0.71972,\n",
            "           0.72072,     0.72172,     0.72272,     0.72372,     0.72472,     0.72573,     0.72673,     0.72773,     0.72873,     0.72973,     0.73073,     0.73173,     0.73273,     0.73373,     0.73473,     0.73574,     0.73674,     0.73774,     0.73874,     0.73974,     0.74074,     0.74174,     0.74274,     0.74374,\n",
            "           0.74474,     0.74575,     0.74675,     0.74775,     0.74875,     0.74975,     0.75075,     0.75175,     0.75275,     0.75375,     0.75475,     0.75576,     0.75676,     0.75776,     0.75876,     0.75976,     0.76076,     0.76176,     0.76276,     0.76376,     0.76476,     0.76577,     0.76677,     0.76777,\n",
            "           0.76877,     0.76977,     0.77077,     0.77177,     0.77277,     0.77377,     0.77477,     0.77578,     0.77678,     0.77778,     0.77878,     0.77978,     0.78078,     0.78178,     0.78278,     0.78378,     0.78478,     0.78579,     0.78679,     0.78779,     0.78879,     0.78979,     0.79079,     0.79179,\n",
            "           0.79279,     0.79379,     0.79479,      0.7958,      0.7968,      0.7978,      0.7988,      0.7998,      0.8008,      0.8018,      0.8028,      0.8038,      0.8048,     0.80581,     0.80681,     0.80781,     0.80881,     0.80981,     0.81081,     0.81181,     0.81281,     0.81381,     0.81481,     0.81582,\n",
            "           0.81682,     0.81782,     0.81882,     0.81982,     0.82082,     0.82182,     0.82282,     0.82382,     0.82482,     0.82583,     0.82683,     0.82783,     0.82883,     0.82983,     0.83083,     0.83183,     0.83283,     0.83383,     0.83483,     0.83584,     0.83684,     0.83784,     0.83884,     0.83984,\n",
            "           0.84084,     0.84184,     0.84284,     0.84384,     0.84484,     0.84585,     0.84685,     0.84785,     0.84885,     0.84985,     0.85085,     0.85185,     0.85285,     0.85385,     0.85485,     0.85586,     0.85686,     0.85786,     0.85886,     0.85986,     0.86086,     0.86186,     0.86286,     0.86386,\n",
            "           0.86486,     0.86587,     0.86687,     0.86787,     0.86887,     0.86987,     0.87087,     0.87187,     0.87287,     0.87387,     0.87487,     0.87588,     0.87688,     0.87788,     0.87888,     0.87988,     0.88088,     0.88188,     0.88288,     0.88388,     0.88488,     0.88589,     0.88689,     0.88789,\n",
            "           0.88889,     0.88989,     0.89089,     0.89189,     0.89289,     0.89389,     0.89489,      0.8959,      0.8969,      0.8979,      0.8989,      0.8999,      0.9009,      0.9019,      0.9029,      0.9039,      0.9049,     0.90591,     0.90691,     0.90791,     0.90891,     0.90991,     0.91091,     0.91191,\n",
            "           0.91291,     0.91391,     0.91491,     0.91592,     0.91692,     0.91792,     0.91892,     0.91992,     0.92092,     0.92192,     0.92292,     0.92392,     0.92492,     0.92593,     0.92693,     0.92793,     0.92893,     0.92993,     0.93093,     0.93193,     0.93293,     0.93393,     0.93493,     0.93594,\n",
            "           0.93694,     0.93794,     0.93894,     0.93994,     0.94094,     0.94194,     0.94294,     0.94394,     0.94494,     0.94595,     0.94695,     0.94795,     0.94895,     0.94995,     0.95095,     0.95195,     0.95295,     0.95395,     0.95495,     0.95596,     0.95696,     0.95796,     0.95896,     0.95996,\n",
            "           0.96096,     0.96196,     0.96296,     0.96396,     0.96496,     0.96597,     0.96697,     0.96797,     0.96897,     0.96997,     0.97097,     0.97197,     0.97297,     0.97397,     0.97497,     0.97598,     0.97698,     0.97798,     0.97898,     0.97998,     0.98098,     0.98198,     0.98298,     0.98398,\n",
            "           0.98498,     0.98599,     0.98699,     0.98799,     0.98899,     0.98999,     0.99099,     0.99199,     0.99299,     0.99399,     0.99499,       0.996,       0.997,       0.998,       0.999,           1]), array([[    0.43919,     0.43919,      0.5313,     0.59711,     0.63747,     0.66686,     0.68841,     0.70388,     0.71625,     0.72479,      0.7291,     0.73507,     0.73623,     0.73855,     0.74712,     0.74901,     0.75085,     0.75455,     0.75597,     0.75826,     0.76308,     0.76644,     0.76938,\n",
            "            0.77431,     0.77972,     0.77871,     0.78653,     0.79159,     0.79538,     0.79705,     0.79803,     0.79903,     0.80006,     0.80109,     0.80468,      0.8089,     0.81173,     0.81344,     0.81503,     0.81648,     0.81947,     0.82373,     0.82673,     0.83343,     0.83483,     0.83652,\n",
            "             0.8394,     0.84033,     0.84125,     0.84159,     0.84123,     0.84087,     0.84051,     0.84015,     0.83979,     0.83943,     0.83907,     0.83871,     0.83835,     0.83799,     0.83888,     0.84067,     0.84214,     0.84387,     0.84461,     0.84252,     0.84278,     0.84305,     0.84332,\n",
            "            0.84358,     0.84385,     0.84412,     0.84438,     0.84465,     0.84491,     0.84518,     0.84556,     0.84622,     0.84687,     0.84753,     0.84818,     0.84852,     0.84881,      0.8491,     0.84939,     0.84968,     0.84996,     0.85025,     0.85054,     0.85083,     0.85111,     0.85155,\n",
            "            0.85207,     0.85258,      0.8531,     0.85361,     0.85412,     0.85447,     0.85481,     0.85514,     0.85548,     0.85581,     0.85614,     0.85648,     0.85681,     0.85714,      0.8574,     0.85765,      0.8579,     0.85815,      0.8584,     0.85866,     0.85891,     0.85916,     0.85941,\n",
            "            0.85966,     0.85991,     0.86015,     0.86025,     0.86035,     0.86045,     0.86055,     0.86065,     0.86076,     0.86086,     0.86096,     0.86106,     0.86116,     0.86126,     0.86136,     0.86146,     0.86156,     0.86166,     0.86177,     0.86187,     0.86197,     0.86207,     0.86217,\n",
            "            0.86227,     0.86237,     0.86247,     0.86257,     0.86267,     0.86277,     0.86287,     0.86297,     0.86307,     0.86245,     0.85908,     0.85873,     0.85839,     0.85805,      0.8577,     0.85736,     0.85701,     0.85667,     0.85632,     0.85598,     0.85563,     0.85529,     0.85501,\n",
            "            0.85479,     0.85458,     0.85436,     0.85415,     0.85393,     0.85371,      0.8535,     0.85328,     0.85306,     0.85285,     0.85263,     0.85241,      0.8522,     0.85198,     0.85176,     0.85154,     0.85133,     0.85111,     0.85205,     0.85329,     0.85413,     0.85422,     0.85431,\n",
            "            0.85441,      0.8545,      0.8546,     0.85469,     0.85478,     0.85488,     0.85497,     0.85507,     0.85516,     0.85525,     0.85535,     0.85544,     0.85554,     0.85563,     0.85572,     0.85582,     0.85591,       0.856,      0.8561,     0.85619,     0.85629,     0.85638,     0.85647,\n",
            "            0.85657,     0.85666,     0.85675,     0.85685,     0.85694,     0.85703,     0.85713,     0.85726,      0.8574,     0.85754,     0.85768,     0.85782,     0.85796,      0.8581,     0.85825,     0.85839,     0.85853,     0.85867,     0.85881,     0.85895,     0.85909,     0.85923,     0.85937,\n",
            "            0.85951,     0.85965,     0.85979,     0.85993,     0.86007,     0.86021,     0.86046,     0.86071,     0.86097,     0.86122,     0.86148,     0.86173,     0.86199,     0.86224,      0.8625,     0.86275,       0.863,     0.86326,     0.86355,     0.86386,     0.86416,     0.86446,     0.86477,\n",
            "            0.86507,     0.86537,     0.86568,     0.86598,     0.86628,     0.86656,     0.86681,     0.86706,     0.86732,     0.86757,     0.86782,     0.86807,     0.86832,     0.86857,     0.86882,     0.86908,     0.86933,     0.86954,     0.86907,      0.8686,     0.86812,     0.86765,     0.86718,\n",
            "             0.8667,     0.86623,     0.86575,     0.86552,     0.86569,     0.86586,     0.86603,      0.8662,     0.86637,     0.86654,     0.86671,     0.86688,     0.86705,     0.86722,     0.86739,     0.86755,     0.86772,     0.86789,     0.86806,     0.86823,      0.8684,     0.86857,     0.86888,\n",
            "            0.86925,     0.86961,     0.86998,     0.87034,      0.8707,     0.87107,     0.87143,     0.87179,     0.87194,     0.87208,     0.87222,     0.87236,      0.8725,     0.87264,     0.87278,     0.87292,     0.87307,     0.87321,     0.87335,     0.87349,     0.87363,     0.87377,     0.87391,\n",
            "            0.87405,     0.87419,     0.87433,     0.87447,     0.87461,     0.87476,      0.8749,     0.87495,     0.87476,     0.87457,     0.87438,     0.87419,       0.874,     0.87381,     0.87362,     0.87343,     0.87324,     0.87305,     0.87286,     0.87267,     0.87248,     0.87229,      0.8721,\n",
            "            0.87191,     0.87172,     0.87153,     0.87134,     0.87114,     0.87095,      0.8709,     0.87102,     0.87114,     0.87125,     0.87137,     0.87149,     0.87161,     0.87172,     0.87184,     0.87196,     0.87208,     0.87219,     0.87231,     0.87243,     0.87254,     0.87266,     0.87278,\n",
            "             0.8729,     0.87301,     0.87313,     0.87325,     0.87336,     0.87348,      0.8736,     0.87371,     0.87383,     0.87395,     0.87406,     0.87403,     0.87398,     0.87394,     0.87389,     0.87384,     0.87379,     0.87374,      0.8737,     0.87365,      0.8736,     0.87355,     0.87351,\n",
            "            0.87346,     0.87341,     0.87336,     0.87332,     0.87327,     0.87322,     0.87317,     0.87313,     0.87308,     0.87303,     0.87298,     0.87294,     0.87289,     0.87284,     0.87279,     0.87274,      0.8727,     0.87265,      0.8726,     0.87255,     0.87251,     0.87246,     0.87241,\n",
            "            0.87236,     0.87232,     0.87227,     0.87222,     0.87217,     0.87212,     0.87208,     0.87203,     0.87198,     0.87193,     0.87189,     0.87184,     0.87179,     0.87174,      0.8717,     0.87165,      0.8716,     0.87155,      0.8715,     0.87146,     0.87141,     0.87136,     0.87131,\n",
            "            0.87127,     0.87122,     0.87117,     0.87112,     0.87107,     0.87103,     0.87098,     0.87093,     0.87088,     0.87084,     0.87079,     0.87074,     0.87069,     0.87064,      0.8706,     0.87055,      0.8705,     0.87045,     0.87041,     0.87036,     0.87031,     0.87026,     0.87021,\n",
            "            0.87017,     0.87012,     0.87007,     0.87002,     0.86997,     0.86993,     0.87001,     0.87059,     0.87118,     0.87176,     0.87235,     0.87293,     0.87512,     0.87607,     0.87549,     0.87491,     0.87433,     0.87375,     0.87317,     0.87258,      0.8723,     0.87268,     0.87306,\n",
            "            0.87345,     0.87383,     0.87421,     0.87459,     0.87497,     0.87535,      0.8757,     0.87604,     0.87638,     0.87672,     0.87705,     0.87739,     0.87773,     0.87807,      0.8784,     0.87874,      0.8784,     0.87794,     0.87748,     0.87703,     0.87657,     0.87611,     0.87565,\n",
            "            0.87519,     0.87474,     0.87428,     0.87382,     0.87337,     0.87292,     0.87246,       0.872,     0.87155,     0.87109,     0.87064,     0.87025,     0.87046,     0.87067,     0.87088,     0.87109,      0.8713,     0.87151,     0.87172,     0.87193,     0.87213,     0.87234,     0.87255,\n",
            "            0.87276,     0.87297,     0.87318,     0.87338,     0.87351,     0.87311,      0.8727,      0.8723,     0.87189,     0.87149,     0.87108,     0.87068,     0.87027,     0.86986,     0.86946,     0.86909,     0.86876,     0.86844,     0.86811,     0.86778,     0.86746,     0.86713,     0.86681,\n",
            "            0.86648,     0.86615,     0.86583,      0.8655,     0.86517,     0.86487,     0.86498,     0.86509,      0.8652,     0.86531,     0.86542,     0.86553,     0.86564,     0.86575,     0.86586,     0.86597,     0.86608,     0.86619,      0.8663,     0.86641,     0.86652,     0.86663,     0.86674,\n",
            "            0.86685,     0.86696,     0.86707,     0.86718,     0.86729,      0.8674,     0.86751,     0.86762,     0.86773,     0.86784,     0.86795,     0.86806,     0.86817,     0.86794,     0.86743,     0.86693,     0.86642,     0.86591,      0.8654,     0.86489,     0.86438,     0.86387,      0.8637,\n",
            "            0.86357,     0.86343,      0.8633,     0.86317,     0.86304,     0.86291,     0.86277,     0.86264,     0.86251,     0.86238,     0.86225,     0.86212,     0.86198,     0.86185,     0.86172,     0.86159,     0.86145,     0.86132,     0.86119,     0.86106,     0.86093,     0.86079,     0.86066,\n",
            "            0.86053,      0.8604,     0.86026,     0.86013,        0.86,     0.85987,     0.85973,      0.8596,     0.85947,     0.85922,     0.85871,     0.85819,     0.85768,     0.85716,     0.85664,     0.85613,     0.85561,     0.85509,      0.8503,     0.84962,     0.84893,     0.84824,     0.84756,\n",
            "            0.84687,     0.84618,     0.84557,     0.84503,     0.84449,     0.84396,     0.84342,     0.84288,     0.84234,      0.8418,     0.84127,     0.84091,     0.84056,      0.8402,     0.83985,     0.83949,     0.83913,     0.83878,     0.83842,     0.83807,     0.83771,     0.83735,     0.83699,\n",
            "            0.83661,     0.83569,     0.83477,     0.83385,     0.83293,       0.832,     0.83096,     0.82993,     0.82888,     0.82784,     0.82623,     0.82403,     0.82252,     0.82234,     0.82217,     0.82199,     0.82182,     0.82164,     0.82146,     0.82129,     0.82111,     0.82093,     0.82076,\n",
            "            0.82058,      0.8204,     0.82023,     0.82005,     0.81987,     0.81969,     0.81952,     0.81934,     0.81916,     0.81899,     0.81881,     0.81863,     0.81845,     0.81828,      0.8181,     0.81792,     0.81906,     0.82047,     0.81851,     0.81653,     0.81777,     0.81938,     0.81797,\n",
            "            0.81588,     0.81412,     0.81268,     0.81125,     0.80974,      0.8075,     0.80525,     0.80465,     0.80428,      0.8039,     0.80353,     0.80315,     0.80278,      0.8024,     0.80202,     0.80165,     0.80127,      0.8009,     0.80052,     0.80014,     0.79954,     0.79881,     0.79807,\n",
            "            0.79734,      0.7966,     0.79587,     0.79513,     0.79433,     0.79351,     0.79269,     0.79187,     0.79105,     0.79023,     0.78873,      0.7868,     0.78486,     0.78432,     0.78381,      0.7833,     0.78279,     0.78228,     0.78177,     0.78126,     0.78075,     0.78024,     0.77973,\n",
            "            0.77637,     0.76122,     0.75436,     0.75565,     0.75024,     0.74883,     0.74741,     0.74599,     0.74362,     0.74088,     0.73914,      0.7378,     0.73646,     0.73512,     0.73351,     0.73167,     0.72983,     0.72727,     0.72393,     0.71574,     0.71116,     0.71039,     0.70963,\n",
            "            0.70886,      0.7081,     0.70733,     0.70656,     0.70556,     0.70277,     0.69967,     0.68093,     0.67509,      0.6728,     0.67051,     0.66302,     0.65985,     0.65141,     0.63055,     0.62291,     0.61705,     0.61141,     0.60695,     0.60083,     0.59096,     0.58783,     0.58469,\n",
            "            0.58277,      0.5811,     0.57943,     0.57775,     0.57654,     0.57561,     0.57468,     0.57376,     0.57283,      0.5719,     0.57096,     0.57003,     0.56371,     0.56035,     0.55748,     0.55109,     0.52786,     0.51013,     0.50817,     0.50619,     0.50422,       0.502,     0.49883,\n",
            "            0.49564,     0.49395,     0.49286,     0.49176,     0.49066,     0.48956,     0.48846,     0.48736,      0.4841,     0.47858,     0.47619,     0.47379,     0.47138,     0.45257,     0.44865,      0.4432,     0.42768,     0.41703,     0.41139,     0.40627,     0.39975,      0.3844,     0.37062,\n",
            "            0.36231,     0.35811,     0.33966,     0.31508,     0.30486,     0.29619,     0.29267,     0.28912,     0.27542,     0.27119,     0.26694,     0.24527,     0.24231,     0.23935,     0.23637,     0.23099,     0.21182,     0.19499,     0.18747,      0.1845,     0.18151,     0.17851,      0.1652,\n",
            "            0.16347,     0.16174,     0.16001,     0.15827,     0.15653,     0.15471,      0.1501,     0.14546,     0.12851,     0.11301,     0.10637,    0.096024,    0.079005,    0.075519,    0.072021,     0.06851,    0.065107,    0.061736,    0.058353,    0.054958,    0.051784,    0.048644,    0.045493,\n",
            "           0.042332,    0.040011,    0.038229,    0.036445,    0.034657,    0.032866,    0.031071,    0.029274,    0.027262,    0.022105,     0.01692,           0,           0,           0,           0,           0,           0,           0,           0,           0,           0,           0,           0,\n",
            "                  0,           0,           0,           0,           0,           0,           0,           0,           0,           0,           0,           0,           0,           0,           0,           0,           0,           0,           0,           0,           0,           0,           0,\n",
            "                  0,           0,           0,           0,           0,           0,           0,           0,           0,           0,           0,           0,           0,           0,           0,           0,           0,           0,           0,           0,           0,           0,           0,\n",
            "                  0,           0,           0,           0,           0,           0,           0,           0,           0,           0,           0,           0,           0,           0,           0,           0,           0,           0,           0,           0,           0,           0,           0,\n",
            "                  0,           0,           0,           0,           0,           0,           0,           0,           0,           0,           0]]), 'Confidence', 'F1'], [array([          0,    0.001001,    0.002002,    0.003003,    0.004004,    0.005005,    0.006006,    0.007007,    0.008008,    0.009009,     0.01001,    0.011011,    0.012012,    0.013013,    0.014014,    0.015015,    0.016016,    0.017017,    0.018018,    0.019019,     0.02002,    0.021021,    0.022022,    0.023023,\n",
            "          0.024024,    0.025025,    0.026026,    0.027027,    0.028028,    0.029029,     0.03003,    0.031031,    0.032032,    0.033033,    0.034034,    0.035035,    0.036036,    0.037037,    0.038038,    0.039039,     0.04004,    0.041041,    0.042042,    0.043043,    0.044044,    0.045045,    0.046046,    0.047047,\n",
            "          0.048048,    0.049049,     0.05005,    0.051051,    0.052052,    0.053053,    0.054054,    0.055055,    0.056056,    0.057057,    0.058058,    0.059059,     0.06006,    0.061061,    0.062062,    0.063063,    0.064064,    0.065065,    0.066066,    0.067067,    0.068068,    0.069069,     0.07007,    0.071071,\n",
            "          0.072072,    0.073073,    0.074074,    0.075075,    0.076076,    0.077077,    0.078078,    0.079079,     0.08008,    0.081081,    0.082082,    0.083083,    0.084084,    0.085085,    0.086086,    0.087087,    0.088088,    0.089089,     0.09009,    0.091091,    0.092092,    0.093093,    0.094094,    0.095095,\n",
            "          0.096096,    0.097097,    0.098098,    0.099099,      0.1001,      0.1011,      0.1021,      0.1031,      0.1041,     0.10511,     0.10611,     0.10711,     0.10811,     0.10911,     0.11011,     0.11111,     0.11211,     0.11311,     0.11411,     0.11512,     0.11612,     0.11712,     0.11812,     0.11912,\n",
            "           0.12012,     0.12112,     0.12212,     0.12312,     0.12412,     0.12513,     0.12613,     0.12713,     0.12813,     0.12913,     0.13013,     0.13113,     0.13213,     0.13313,     0.13413,     0.13514,     0.13614,     0.13714,     0.13814,     0.13914,     0.14014,     0.14114,     0.14214,     0.14314,\n",
            "           0.14414,     0.14515,     0.14615,     0.14715,     0.14815,     0.14915,     0.15015,     0.15115,     0.15215,     0.15315,     0.15415,     0.15516,     0.15616,     0.15716,     0.15816,     0.15916,     0.16016,     0.16116,     0.16216,     0.16316,     0.16416,     0.16517,     0.16617,     0.16717,\n",
            "           0.16817,     0.16917,     0.17017,     0.17117,     0.17217,     0.17317,     0.17417,     0.17518,     0.17618,     0.17718,     0.17818,     0.17918,     0.18018,     0.18118,     0.18218,     0.18318,     0.18418,     0.18519,     0.18619,     0.18719,     0.18819,     0.18919,     0.19019,     0.19119,\n",
            "           0.19219,     0.19319,     0.19419,      0.1952,      0.1962,      0.1972,      0.1982,      0.1992,      0.2002,      0.2012,      0.2022,      0.2032,      0.2042,     0.20521,     0.20621,     0.20721,     0.20821,     0.20921,     0.21021,     0.21121,     0.21221,     0.21321,     0.21421,     0.21522,\n",
            "           0.21622,     0.21722,     0.21822,     0.21922,     0.22022,     0.22122,     0.22222,     0.22322,     0.22422,     0.22523,     0.22623,     0.22723,     0.22823,     0.22923,     0.23023,     0.23123,     0.23223,     0.23323,     0.23423,     0.23524,     0.23624,     0.23724,     0.23824,     0.23924,\n",
            "           0.24024,     0.24124,     0.24224,     0.24324,     0.24424,     0.24525,     0.24625,     0.24725,     0.24825,     0.24925,     0.25025,     0.25125,     0.25225,     0.25325,     0.25425,     0.25526,     0.25626,     0.25726,     0.25826,     0.25926,     0.26026,     0.26126,     0.26226,     0.26326,\n",
            "           0.26426,     0.26527,     0.26627,     0.26727,     0.26827,     0.26927,     0.27027,     0.27127,     0.27227,     0.27327,     0.27427,     0.27528,     0.27628,     0.27728,     0.27828,     0.27928,     0.28028,     0.28128,     0.28228,     0.28328,     0.28428,     0.28529,     0.28629,     0.28729,\n",
            "           0.28829,     0.28929,     0.29029,     0.29129,     0.29229,     0.29329,     0.29429,      0.2953,      0.2963,      0.2973,      0.2983,      0.2993,      0.3003,      0.3013,      0.3023,      0.3033,      0.3043,     0.30531,     0.30631,     0.30731,     0.30831,     0.30931,     0.31031,     0.31131,\n",
            "           0.31231,     0.31331,     0.31431,     0.31532,     0.31632,     0.31732,     0.31832,     0.31932,     0.32032,     0.32132,     0.32232,     0.32332,     0.32432,     0.32533,     0.32633,     0.32733,     0.32833,     0.32933,     0.33033,     0.33133,     0.33233,     0.33333,     0.33433,     0.33534,\n",
            "           0.33634,     0.33734,     0.33834,     0.33934,     0.34034,     0.34134,     0.34234,     0.34334,     0.34434,     0.34535,     0.34635,     0.34735,     0.34835,     0.34935,     0.35035,     0.35135,     0.35235,     0.35335,     0.35435,     0.35536,     0.35636,     0.35736,     0.35836,     0.35936,\n",
            "           0.36036,     0.36136,     0.36236,     0.36336,     0.36436,     0.36537,     0.36637,     0.36737,     0.36837,     0.36937,     0.37037,     0.37137,     0.37237,     0.37337,     0.37437,     0.37538,     0.37638,     0.37738,     0.37838,     0.37938,     0.38038,     0.38138,     0.38238,     0.38338,\n",
            "           0.38438,     0.38539,     0.38639,     0.38739,     0.38839,     0.38939,     0.39039,     0.39139,     0.39239,     0.39339,     0.39439,      0.3954,      0.3964,      0.3974,      0.3984,      0.3994,      0.4004,      0.4014,      0.4024,      0.4034,      0.4044,     0.40541,     0.40641,     0.40741,\n",
            "           0.40841,     0.40941,     0.41041,     0.41141,     0.41241,     0.41341,     0.41441,     0.41542,     0.41642,     0.41742,     0.41842,     0.41942,     0.42042,     0.42142,     0.42242,     0.42342,     0.42442,     0.42543,     0.42643,     0.42743,     0.42843,     0.42943,     0.43043,     0.43143,\n",
            "           0.43243,     0.43343,     0.43443,     0.43544,     0.43644,     0.43744,     0.43844,     0.43944,     0.44044,     0.44144,     0.44244,     0.44344,     0.44444,     0.44545,     0.44645,     0.44745,     0.44845,     0.44945,     0.45045,     0.45145,     0.45245,     0.45345,     0.45445,     0.45546,\n",
            "           0.45646,     0.45746,     0.45846,     0.45946,     0.46046,     0.46146,     0.46246,     0.46346,     0.46446,     0.46547,     0.46647,     0.46747,     0.46847,     0.46947,     0.47047,     0.47147,     0.47247,     0.47347,     0.47447,     0.47548,     0.47648,     0.47748,     0.47848,     0.47948,\n",
            "           0.48048,     0.48148,     0.48248,     0.48348,     0.48448,     0.48549,     0.48649,     0.48749,     0.48849,     0.48949,     0.49049,     0.49149,     0.49249,     0.49349,     0.49449,      0.4955,      0.4965,      0.4975,      0.4985,      0.4995,      0.5005,      0.5015,      0.5025,      0.5035,\n",
            "            0.5045,     0.50551,     0.50651,     0.50751,     0.50851,     0.50951,     0.51051,     0.51151,     0.51251,     0.51351,     0.51451,     0.51552,     0.51652,     0.51752,     0.51852,     0.51952,     0.52052,     0.52152,     0.52252,     0.52352,     0.52452,     0.52553,     0.52653,     0.52753,\n",
            "           0.52853,     0.52953,     0.53053,     0.53153,     0.53253,     0.53353,     0.53453,     0.53554,     0.53654,     0.53754,     0.53854,     0.53954,     0.54054,     0.54154,     0.54254,     0.54354,     0.54454,     0.54555,     0.54655,     0.54755,     0.54855,     0.54955,     0.55055,     0.55155,\n",
            "           0.55255,     0.55355,     0.55455,     0.55556,     0.55656,     0.55756,     0.55856,     0.55956,     0.56056,     0.56156,     0.56256,     0.56356,     0.56456,     0.56557,     0.56657,     0.56757,     0.56857,     0.56957,     0.57057,     0.57157,     0.57257,     0.57357,     0.57457,     0.57558,\n",
            "           0.57658,     0.57758,     0.57858,     0.57958,     0.58058,     0.58158,     0.58258,     0.58358,     0.58458,     0.58559,     0.58659,     0.58759,     0.58859,     0.58959,     0.59059,     0.59159,     0.59259,     0.59359,     0.59459,      0.5956,      0.5966,      0.5976,      0.5986,      0.5996,\n",
            "            0.6006,      0.6016,      0.6026,      0.6036,      0.6046,     0.60561,     0.60661,     0.60761,     0.60861,     0.60961,     0.61061,     0.61161,     0.61261,     0.61361,     0.61461,     0.61562,     0.61662,     0.61762,     0.61862,     0.61962,     0.62062,     0.62162,     0.62262,     0.62362,\n",
            "           0.62462,     0.62563,     0.62663,     0.62763,     0.62863,     0.62963,     0.63063,     0.63163,     0.63263,     0.63363,     0.63463,     0.63564,     0.63664,     0.63764,     0.63864,     0.63964,     0.64064,     0.64164,     0.64264,     0.64364,     0.64464,     0.64565,     0.64665,     0.64765,\n",
            "           0.64865,     0.64965,     0.65065,     0.65165,     0.65265,     0.65365,     0.65465,     0.65566,     0.65666,     0.65766,     0.65866,     0.65966,     0.66066,     0.66166,     0.66266,     0.66366,     0.66466,     0.66567,     0.66667,     0.66767,     0.66867,     0.66967,     0.67067,     0.67167,\n",
            "           0.67267,     0.67367,     0.67467,     0.67568,     0.67668,     0.67768,     0.67868,     0.67968,     0.68068,     0.68168,     0.68268,     0.68368,     0.68468,     0.68569,     0.68669,     0.68769,     0.68869,     0.68969,     0.69069,     0.69169,     0.69269,     0.69369,     0.69469,      0.6957,\n",
            "            0.6967,      0.6977,      0.6987,      0.6997,      0.7007,      0.7017,      0.7027,      0.7037,      0.7047,     0.70571,     0.70671,     0.70771,     0.70871,     0.70971,     0.71071,     0.71171,     0.71271,     0.71371,     0.71471,     0.71572,     0.71672,     0.71772,     0.71872,     0.71972,\n",
            "           0.72072,     0.72172,     0.72272,     0.72372,     0.72472,     0.72573,     0.72673,     0.72773,     0.72873,     0.72973,     0.73073,     0.73173,     0.73273,     0.73373,     0.73473,     0.73574,     0.73674,     0.73774,     0.73874,     0.73974,     0.74074,     0.74174,     0.74274,     0.74374,\n",
            "           0.74474,     0.74575,     0.74675,     0.74775,     0.74875,     0.74975,     0.75075,     0.75175,     0.75275,     0.75375,     0.75475,     0.75576,     0.75676,     0.75776,     0.75876,     0.75976,     0.76076,     0.76176,     0.76276,     0.76376,     0.76476,     0.76577,     0.76677,     0.76777,\n",
            "           0.76877,     0.76977,     0.77077,     0.77177,     0.77277,     0.77377,     0.77477,     0.77578,     0.77678,     0.77778,     0.77878,     0.77978,     0.78078,     0.78178,     0.78278,     0.78378,     0.78478,     0.78579,     0.78679,     0.78779,     0.78879,     0.78979,     0.79079,     0.79179,\n",
            "           0.79279,     0.79379,     0.79479,      0.7958,      0.7968,      0.7978,      0.7988,      0.7998,      0.8008,      0.8018,      0.8028,      0.8038,      0.8048,     0.80581,     0.80681,     0.80781,     0.80881,     0.80981,     0.81081,     0.81181,     0.81281,     0.81381,     0.81481,     0.81582,\n",
            "           0.81682,     0.81782,     0.81882,     0.81982,     0.82082,     0.82182,     0.82282,     0.82382,     0.82482,     0.82583,     0.82683,     0.82783,     0.82883,     0.82983,     0.83083,     0.83183,     0.83283,     0.83383,     0.83483,     0.83584,     0.83684,     0.83784,     0.83884,     0.83984,\n",
            "           0.84084,     0.84184,     0.84284,     0.84384,     0.84484,     0.84585,     0.84685,     0.84785,     0.84885,     0.84985,     0.85085,     0.85185,     0.85285,     0.85385,     0.85485,     0.85586,     0.85686,     0.85786,     0.85886,     0.85986,     0.86086,     0.86186,     0.86286,     0.86386,\n",
            "           0.86486,     0.86587,     0.86687,     0.86787,     0.86887,     0.86987,     0.87087,     0.87187,     0.87287,     0.87387,     0.87487,     0.87588,     0.87688,     0.87788,     0.87888,     0.87988,     0.88088,     0.88188,     0.88288,     0.88388,     0.88488,     0.88589,     0.88689,     0.88789,\n",
            "           0.88889,     0.88989,     0.89089,     0.89189,     0.89289,     0.89389,     0.89489,      0.8959,      0.8969,      0.8979,      0.8989,      0.8999,      0.9009,      0.9019,      0.9029,      0.9039,      0.9049,     0.90591,     0.90691,     0.90791,     0.90891,     0.90991,     0.91091,     0.91191,\n",
            "           0.91291,     0.91391,     0.91491,     0.91592,     0.91692,     0.91792,     0.91892,     0.91992,     0.92092,     0.92192,     0.92292,     0.92392,     0.92492,     0.92593,     0.92693,     0.92793,     0.92893,     0.92993,     0.93093,     0.93193,     0.93293,     0.93393,     0.93493,     0.93594,\n",
            "           0.93694,     0.93794,     0.93894,     0.93994,     0.94094,     0.94194,     0.94294,     0.94394,     0.94494,     0.94595,     0.94695,     0.94795,     0.94895,     0.94995,     0.95095,     0.95195,     0.95295,     0.95395,     0.95495,     0.95596,     0.95696,     0.95796,     0.95896,     0.95996,\n",
            "           0.96096,     0.96196,     0.96296,     0.96396,     0.96496,     0.96597,     0.96697,     0.96797,     0.96897,     0.96997,     0.97097,     0.97197,     0.97297,     0.97397,     0.97497,     0.97598,     0.97698,     0.97798,     0.97898,     0.97998,     0.98098,     0.98198,     0.98298,     0.98398,\n",
            "           0.98498,     0.98599,     0.98699,     0.98799,     0.98899,     0.98999,     0.99099,     0.99199,     0.99299,     0.99399,     0.99499,       0.996,       0.997,       0.998,       0.999,           1]), array([[    0.28953,     0.28953,     0.37653,     0.44624,     0.49716,     0.53386,     0.56203,     0.58295,     0.60012,     0.61497,     0.62182,     0.63056,     0.63227,     0.63569,     0.64849,     0.65135,     0.65414,     0.65978,     0.66196,     0.66547,     0.67294,     0.67818,     0.68279,\n",
            "             0.6906,     0.69925,     0.70208,     0.71489,     0.72329,     0.72965,     0.73246,     0.73412,     0.73581,     0.73756,     0.73931,     0.74545,     0.75273,     0.75765,     0.76063,     0.76341,     0.76596,     0.77125,     0.77882,      0.7842,     0.79636,     0.79892,     0.80202,\n",
            "            0.80734,     0.80905,     0.81076,     0.81164,     0.81152,     0.81141,      0.8113,     0.81118,     0.81107,     0.81096,     0.81084,     0.81073,     0.81062,      0.8105,     0.81241,     0.81578,     0.81855,     0.82182,     0.82614,      0.8256,     0.82611,     0.82663,     0.82714,\n",
            "            0.82765,     0.82816,     0.82868,     0.82919,      0.8297,     0.83021,     0.83073,     0.83147,     0.83274,     0.83401,     0.83528,     0.83655,     0.83722,     0.83778,     0.83834,      0.8389,     0.83946,     0.84003,     0.84059,     0.84115,     0.84171,     0.84228,     0.84314,\n",
            "            0.84415,     0.84516,     0.84617,     0.84718,     0.84819,     0.84888,     0.84954,      0.8502,     0.85086,     0.85152,     0.85219,     0.85285,     0.85351,     0.85417,     0.85467,     0.85517,     0.85567,     0.85617,     0.85667,     0.85718,     0.85768,     0.85818,     0.85868,\n",
            "            0.85918,     0.85968,     0.86016,     0.86036,     0.86056,     0.86076,     0.86097,     0.86117,     0.86137,     0.86157,     0.86178,     0.86198,     0.86218,     0.86238,     0.86259,     0.86279,     0.86299,     0.86319,      0.8634,      0.8636,      0.8638,       0.864,     0.86421,\n",
            "            0.86441,     0.86461,     0.86481,     0.86502,     0.86522,     0.86542,     0.86562,     0.86583,     0.86603,     0.86603,     0.86523,     0.86515,     0.86507,     0.86498,      0.8649,     0.86482,     0.86474,     0.86465,     0.86457,     0.86449,     0.86441,     0.86433,     0.86426,\n",
            "            0.86421,     0.86415,      0.8641,     0.86405,       0.864,     0.86395,     0.86389,     0.86384,     0.86379,     0.86374,     0.86369,     0.86363,     0.86358,     0.86353,     0.86348,     0.86342,     0.86337,     0.86332,     0.86534,     0.86791,     0.86964,     0.86983,     0.87003,\n",
            "            0.87022,     0.87042,     0.87061,     0.87081,       0.871,      0.8712,     0.87139,     0.87159,     0.87178,     0.87198,     0.87217,     0.87237,     0.87256,     0.87276,     0.87295,     0.87315,     0.87334,     0.87354,     0.87373,     0.87393,     0.87412,     0.87432,     0.87451,\n",
            "            0.87471,      0.8749,      0.8751,     0.87529,     0.87549,     0.87568,     0.87588,     0.87616,     0.87645,     0.87675,     0.87704,     0.87734,     0.87763,     0.87792,     0.87822,     0.87851,     0.87881,      0.8791,      0.8794,     0.87969,     0.87999,     0.88028,     0.88057,\n",
            "            0.88087,     0.88116,     0.88146,     0.88175,     0.88205,     0.88234,     0.88287,     0.88341,     0.88394,     0.88448,     0.88502,     0.88555,     0.88609,     0.88663,     0.88717,      0.8877,     0.88824,     0.88878,      0.8894,     0.89005,     0.89069,     0.89134,     0.89199,\n",
            "            0.89263,     0.89328,     0.89392,     0.89457,     0.89522,     0.89581,     0.89635,     0.89689,     0.89743,     0.89796,      0.8985,     0.89904,     0.89958,     0.90012,     0.90066,      0.9012,     0.90174,     0.90225,     0.90217,     0.90208,       0.902,     0.90191,     0.90182,\n",
            "            0.90174,     0.90165,     0.90157,     0.90165,     0.90202,     0.90239,     0.90276,     0.90313,      0.9035,     0.90387,     0.90424,     0.90461,     0.90498,     0.90535,     0.90572,     0.90609,     0.90645,     0.90682,     0.90719,     0.90756,     0.90793,      0.9083,     0.90899,\n",
            "            0.90979,     0.91059,     0.91139,     0.91218,     0.91298,     0.91378,     0.91458,     0.91538,     0.91569,     0.91601,     0.91632,     0.91663,     0.91694,     0.91725,     0.91757,     0.91788,     0.91819,      0.9185,     0.91882,     0.91913,     0.91944,     0.91975,     0.92006,\n",
            "            0.92038,     0.92069,       0.921,     0.92131,     0.92162,     0.92194,     0.92225,     0.92247,     0.92245,     0.92242,     0.92239,     0.92236,     0.92233,     0.92231,     0.92228,     0.92225,     0.92222,      0.9222,     0.92217,     0.92214,     0.92211,     0.92208,     0.92206,\n",
            "            0.92203,       0.922,     0.92197,     0.92195,     0.92192,     0.92189,     0.92199,     0.92226,     0.92252,     0.92278,     0.92305,     0.92331,     0.92358,     0.92384,      0.9241,     0.92437,     0.92463,     0.92489,     0.92516,     0.92542,     0.92568,     0.92595,     0.92621,\n",
            "            0.92648,     0.92674,       0.927,     0.92727,     0.92753,     0.92779,     0.92806,     0.92832,     0.92858,     0.92885,     0.92911,     0.92913,     0.92912,     0.92912,     0.92911,      0.9291,      0.9291,     0.92909,     0.92908,     0.92908,     0.92907,     0.92906,     0.92906,\n",
            "            0.92905,     0.92904,     0.92904,     0.92903,     0.92903,     0.92902,     0.92901,     0.92901,       0.929,     0.92899,     0.92899,     0.92898,     0.92897,     0.92897,     0.92896,     0.92895,     0.92895,     0.92894,     0.92894,     0.92893,     0.92892,     0.92892,     0.92891,\n",
            "             0.9289,      0.9289,     0.92889,     0.92888,     0.92888,     0.92887,     0.92887,     0.92886,     0.92885,     0.92885,     0.92884,     0.92883,     0.92883,     0.92882,     0.92881,     0.92881,      0.9288,     0.92879,     0.92879,     0.92878,     0.92878,     0.92877,     0.92876,\n",
            "            0.92876,     0.92875,     0.92874,     0.92874,     0.92873,     0.92872,     0.92872,     0.92871,      0.9287,      0.9287,     0.92869,     0.92869,     0.92868,     0.92867,     0.92867,     0.92866,     0.92865,     0.92865,     0.92864,     0.92863,     0.92863,     0.92862,     0.92862,\n",
            "            0.92861,      0.9286,      0.9286,     0.92859,     0.92858,     0.92858,     0.92884,     0.93018,     0.93152,     0.93286,     0.93419,     0.93553,     0.94059,     0.94351,     0.94345,     0.94339,     0.94332,     0.94326,      0.9432,     0.94313,     0.94337,     0.94426,     0.94516,\n",
            "            0.94605,     0.94695,     0.94784,     0.94874,     0.94963,     0.95053,     0.95136,     0.95216,     0.95296,     0.95376,     0.95456,     0.95536,     0.95616,     0.95696,     0.95776,     0.95856,     0.95865,     0.95861,     0.95857,     0.95854,      0.9585,     0.95846,     0.95842,\n",
            "            0.95839,     0.95835,     0.95831,     0.95828,     0.95824,      0.9582,     0.95816,     0.95813,     0.95809,     0.95805,     0.95802,     0.95804,     0.95855,     0.95905,     0.95956,     0.96007,     0.96058,     0.96109,      0.9616,      0.9621,     0.96261,     0.96312,     0.96363,\n",
            "            0.96414,     0.96465,     0.96515,     0.96566,      0.9661,     0.96607,     0.96604,     0.96602,     0.96599,     0.96596,     0.96594,     0.96591,     0.96588,     0.96585,     0.96583,      0.9658,     0.96578,     0.96576,     0.96574,     0.96571,     0.96569,     0.96567,     0.96565,\n",
            "            0.96563,      0.9656,     0.96558,     0.96556,     0.96554,     0.96553,     0.96581,     0.96608,     0.96636,     0.96663,     0.96691,     0.96718,     0.96746,     0.96773,     0.96801,     0.96829,     0.96856,     0.96884,     0.96911,     0.96939,     0.96966,     0.96994,     0.97021,\n",
            "            0.97049,     0.97076,     0.97104,     0.97131,     0.97159,     0.97186,     0.97214,     0.97241,     0.97269,     0.97296,     0.97324,     0.97351,     0.97379,      0.9739,     0.97387,     0.97385,     0.97382,     0.97379,     0.97377,     0.97374,     0.97371,     0.97369,     0.97368,\n",
            "            0.97367,     0.97366,     0.97366,     0.97365,     0.97364,     0.97364,     0.97363,     0.97362,     0.97362,     0.97361,      0.9736,     0.97359,     0.97359,     0.97358,     0.97357,     0.97357,     0.97356,     0.97355,     0.97355,     0.97354,     0.97353,     0.97353,     0.97352,\n",
            "            0.97351,      0.9735,      0.9735,     0.97349,     0.97348,     0.97348,     0.97347,     0.97346,     0.97346,     0.97344,     0.97342,     0.97339,     0.97336,     0.97333,     0.97331,     0.97328,     0.97325,     0.97322,     0.97297,     0.97293,     0.97289,     0.97286,     0.97282,\n",
            "            0.97278,     0.97274,     0.97271,     0.97268,     0.97265,     0.97262,     0.97259,     0.97256,     0.97254,     0.97251,     0.97248,     0.97246,     0.97244,     0.97242,      0.9724,     0.97238,     0.97236,     0.97234,     0.97232,      0.9723,     0.97228,     0.97226,     0.97224,\n",
            "            0.97222,     0.97217,     0.97212,     0.97207,     0.97201,     0.97196,      0.9719,     0.97185,     0.97179,     0.97173,     0.97164,     0.97151,     0.97143,     0.97141,      0.9714,     0.97139,     0.97138,     0.97137,     0.97136,     0.97135,     0.97134,     0.97133,     0.97132,\n",
            "            0.97131,      0.9713,     0.97129,     0.97128,     0.97127,     0.97126,     0.97125,     0.97124,     0.97123,     0.97122,     0.97121,      0.9712,     0.97119,     0.97118,     0.97117,     0.97116,     0.97467,     0.98056,     0.98048,      0.9804,     0.98457,     0.98924,     0.99006,\n",
            "            0.99002,     0.98999,     0.98996,     0.98993,      0.9899,     0.98985,      0.9898,     0.98979,     0.98978,     0.98977,     0.98977,     0.98976,     0.98975,     0.98974,     0.98973,     0.98973,     0.98972,     0.98971,      0.9897,     0.98969,     0.98968,     0.98967,     0.98965,\n",
            "            0.98963,     0.98962,      0.9896,     0.98959,     0.98957,     0.98955,     0.98953,     0.98952,      0.9895,     0.98948,     0.98945,     0.98941,     0.98936,     0.98935,     0.98934,     0.98933,     0.98932,     0.98931,     0.98929,     0.98928,     0.98927,     0.98926,     0.98925,\n",
            "            0.98917,     0.98882,     0.98866,           1,           1,           1,           1,           1,           1,           1,           1,           1,           1,           1,           1,           1,           1,           1,           1,           1,           1,           1,           1,\n",
            "                  1,           1,           1,           1,           1,           1,           1,           1,           1,           1,           1,           1,           1,           1,           1,           1,           1,           1,           1,           1,           1,           1,           1,\n",
            "                  1,           1,           1,           1,           1,           1,           1,           1,           1,           1,           1,           1,           1,           1,           1,           1,           1,           1,           1,           1,           1,           1,           1,\n",
            "                  1,           1,           1,           1,           1,           1,           1,           1,           1,           1,           1,           1,           1,           1,           1,           1,           1,           1,           1,           1,           1,           1,           1,\n",
            "                  1,           1,           1,           1,           1,           1,           1,           1,           1,           1,           1,           1,           1,           1,           1,           1,           1,           1,           1,           1,           1,           1,           1,\n",
            "                  1,           1,           1,           1,           1,           1,           1,           1,           1,           1,           1,           1,           1,           1,           1,           1,           1,           1,           1,           1,           1,           1,           1,\n",
            "                  1,           1,           1,           1,           1,           1,           1,           1,           1,           1,           1,           1,           1,           1,           1,           1,           1,           1,           1,           1,           1,           1,           1,\n",
            "                  1,           1,           1,           1,           1,           1,           1,           1,           1,           1,           1,           1,           1,           1,           1,           1,           1,           1,           1,           1,           1,           1,           1,\n",
            "                  1,           1,           1,           1,           1,           1,           1,           1,           1,           1,           1,           1,           1,           1,           1,           1,           1,           1,           1,           1,           1,           1,           1,\n",
            "                  1,           1,           1,           1,           1,           1,           1,           1,           1,           1,           1,           1,           1,           1,           1,           1,           1,           1,           1,           1,           1,           1,           1,\n",
            "                  1,           1,           1,           1,           1,           1,           1,           1,           1,           1,           1]]), 'Confidence', 'Precision'], [array([          0,    0.001001,    0.002002,    0.003003,    0.004004,    0.005005,    0.006006,    0.007007,    0.008008,    0.009009,     0.01001,    0.011011,    0.012012,    0.013013,    0.014014,    0.015015,    0.016016,    0.017017,    0.018018,    0.019019,     0.02002,    0.021021,    0.022022,    0.023023,\n",
            "          0.024024,    0.025025,    0.026026,    0.027027,    0.028028,    0.029029,     0.03003,    0.031031,    0.032032,    0.033033,    0.034034,    0.035035,    0.036036,    0.037037,    0.038038,    0.039039,     0.04004,    0.041041,    0.042042,    0.043043,    0.044044,    0.045045,    0.046046,    0.047047,\n",
            "          0.048048,    0.049049,     0.05005,    0.051051,    0.052052,    0.053053,    0.054054,    0.055055,    0.056056,    0.057057,    0.058058,    0.059059,     0.06006,    0.061061,    0.062062,    0.063063,    0.064064,    0.065065,    0.066066,    0.067067,    0.068068,    0.069069,     0.07007,    0.071071,\n",
            "          0.072072,    0.073073,    0.074074,    0.075075,    0.076076,    0.077077,    0.078078,    0.079079,     0.08008,    0.081081,    0.082082,    0.083083,    0.084084,    0.085085,    0.086086,    0.087087,    0.088088,    0.089089,     0.09009,    0.091091,    0.092092,    0.093093,    0.094094,    0.095095,\n",
            "          0.096096,    0.097097,    0.098098,    0.099099,      0.1001,      0.1011,      0.1021,      0.1031,      0.1041,     0.10511,     0.10611,     0.10711,     0.10811,     0.10911,     0.11011,     0.11111,     0.11211,     0.11311,     0.11411,     0.11512,     0.11612,     0.11712,     0.11812,     0.11912,\n",
            "           0.12012,     0.12112,     0.12212,     0.12312,     0.12412,     0.12513,     0.12613,     0.12713,     0.12813,     0.12913,     0.13013,     0.13113,     0.13213,     0.13313,     0.13413,     0.13514,     0.13614,     0.13714,     0.13814,     0.13914,     0.14014,     0.14114,     0.14214,     0.14314,\n",
            "           0.14414,     0.14515,     0.14615,     0.14715,     0.14815,     0.14915,     0.15015,     0.15115,     0.15215,     0.15315,     0.15415,     0.15516,     0.15616,     0.15716,     0.15816,     0.15916,     0.16016,     0.16116,     0.16216,     0.16316,     0.16416,     0.16517,     0.16617,     0.16717,\n",
            "           0.16817,     0.16917,     0.17017,     0.17117,     0.17217,     0.17317,     0.17417,     0.17518,     0.17618,     0.17718,     0.17818,     0.17918,     0.18018,     0.18118,     0.18218,     0.18318,     0.18418,     0.18519,     0.18619,     0.18719,     0.18819,     0.18919,     0.19019,     0.19119,\n",
            "           0.19219,     0.19319,     0.19419,      0.1952,      0.1962,      0.1972,      0.1982,      0.1992,      0.2002,      0.2012,      0.2022,      0.2032,      0.2042,     0.20521,     0.20621,     0.20721,     0.20821,     0.20921,     0.21021,     0.21121,     0.21221,     0.21321,     0.21421,     0.21522,\n",
            "           0.21622,     0.21722,     0.21822,     0.21922,     0.22022,     0.22122,     0.22222,     0.22322,     0.22422,     0.22523,     0.22623,     0.22723,     0.22823,     0.22923,     0.23023,     0.23123,     0.23223,     0.23323,     0.23423,     0.23524,     0.23624,     0.23724,     0.23824,     0.23924,\n",
            "           0.24024,     0.24124,     0.24224,     0.24324,     0.24424,     0.24525,     0.24625,     0.24725,     0.24825,     0.24925,     0.25025,     0.25125,     0.25225,     0.25325,     0.25425,     0.25526,     0.25626,     0.25726,     0.25826,     0.25926,     0.26026,     0.26126,     0.26226,     0.26326,\n",
            "           0.26426,     0.26527,     0.26627,     0.26727,     0.26827,     0.26927,     0.27027,     0.27127,     0.27227,     0.27327,     0.27427,     0.27528,     0.27628,     0.27728,     0.27828,     0.27928,     0.28028,     0.28128,     0.28228,     0.28328,     0.28428,     0.28529,     0.28629,     0.28729,\n",
            "           0.28829,     0.28929,     0.29029,     0.29129,     0.29229,     0.29329,     0.29429,      0.2953,      0.2963,      0.2973,      0.2983,      0.2993,      0.3003,      0.3013,      0.3023,      0.3033,      0.3043,     0.30531,     0.30631,     0.30731,     0.30831,     0.30931,     0.31031,     0.31131,\n",
            "           0.31231,     0.31331,     0.31431,     0.31532,     0.31632,     0.31732,     0.31832,     0.31932,     0.32032,     0.32132,     0.32232,     0.32332,     0.32432,     0.32533,     0.32633,     0.32733,     0.32833,     0.32933,     0.33033,     0.33133,     0.33233,     0.33333,     0.33433,     0.33534,\n",
            "           0.33634,     0.33734,     0.33834,     0.33934,     0.34034,     0.34134,     0.34234,     0.34334,     0.34434,     0.34535,     0.34635,     0.34735,     0.34835,     0.34935,     0.35035,     0.35135,     0.35235,     0.35335,     0.35435,     0.35536,     0.35636,     0.35736,     0.35836,     0.35936,\n",
            "           0.36036,     0.36136,     0.36236,     0.36336,     0.36436,     0.36537,     0.36637,     0.36737,     0.36837,     0.36937,     0.37037,     0.37137,     0.37237,     0.37337,     0.37437,     0.37538,     0.37638,     0.37738,     0.37838,     0.37938,     0.38038,     0.38138,     0.38238,     0.38338,\n",
            "           0.38438,     0.38539,     0.38639,     0.38739,     0.38839,     0.38939,     0.39039,     0.39139,     0.39239,     0.39339,     0.39439,      0.3954,      0.3964,      0.3974,      0.3984,      0.3994,      0.4004,      0.4014,      0.4024,      0.4034,      0.4044,     0.40541,     0.40641,     0.40741,\n",
            "           0.40841,     0.40941,     0.41041,     0.41141,     0.41241,     0.41341,     0.41441,     0.41542,     0.41642,     0.41742,     0.41842,     0.41942,     0.42042,     0.42142,     0.42242,     0.42342,     0.42442,     0.42543,     0.42643,     0.42743,     0.42843,     0.42943,     0.43043,     0.43143,\n",
            "           0.43243,     0.43343,     0.43443,     0.43544,     0.43644,     0.43744,     0.43844,     0.43944,     0.44044,     0.44144,     0.44244,     0.44344,     0.44444,     0.44545,     0.44645,     0.44745,     0.44845,     0.44945,     0.45045,     0.45145,     0.45245,     0.45345,     0.45445,     0.45546,\n",
            "           0.45646,     0.45746,     0.45846,     0.45946,     0.46046,     0.46146,     0.46246,     0.46346,     0.46446,     0.46547,     0.46647,     0.46747,     0.46847,     0.46947,     0.47047,     0.47147,     0.47247,     0.47347,     0.47447,     0.47548,     0.47648,     0.47748,     0.47848,     0.47948,\n",
            "           0.48048,     0.48148,     0.48248,     0.48348,     0.48448,     0.48549,     0.48649,     0.48749,     0.48849,     0.48949,     0.49049,     0.49149,     0.49249,     0.49349,     0.49449,      0.4955,      0.4965,      0.4975,      0.4985,      0.4995,      0.5005,      0.5015,      0.5025,      0.5035,\n",
            "            0.5045,     0.50551,     0.50651,     0.50751,     0.50851,     0.50951,     0.51051,     0.51151,     0.51251,     0.51351,     0.51451,     0.51552,     0.51652,     0.51752,     0.51852,     0.51952,     0.52052,     0.52152,     0.52252,     0.52352,     0.52452,     0.52553,     0.52653,     0.52753,\n",
            "           0.52853,     0.52953,     0.53053,     0.53153,     0.53253,     0.53353,     0.53453,     0.53554,     0.53654,     0.53754,     0.53854,     0.53954,     0.54054,     0.54154,     0.54254,     0.54354,     0.54454,     0.54555,     0.54655,     0.54755,     0.54855,     0.54955,     0.55055,     0.55155,\n",
            "           0.55255,     0.55355,     0.55455,     0.55556,     0.55656,     0.55756,     0.55856,     0.55956,     0.56056,     0.56156,     0.56256,     0.56356,     0.56456,     0.56557,     0.56657,     0.56757,     0.56857,     0.56957,     0.57057,     0.57157,     0.57257,     0.57357,     0.57457,     0.57558,\n",
            "           0.57658,     0.57758,     0.57858,     0.57958,     0.58058,     0.58158,     0.58258,     0.58358,     0.58458,     0.58559,     0.58659,     0.58759,     0.58859,     0.58959,     0.59059,     0.59159,     0.59259,     0.59359,     0.59459,      0.5956,      0.5966,      0.5976,      0.5986,      0.5996,\n",
            "            0.6006,      0.6016,      0.6026,      0.6036,      0.6046,     0.60561,     0.60661,     0.60761,     0.60861,     0.60961,     0.61061,     0.61161,     0.61261,     0.61361,     0.61461,     0.61562,     0.61662,     0.61762,     0.61862,     0.61962,     0.62062,     0.62162,     0.62262,     0.62362,\n",
            "           0.62462,     0.62563,     0.62663,     0.62763,     0.62863,     0.62963,     0.63063,     0.63163,     0.63263,     0.63363,     0.63463,     0.63564,     0.63664,     0.63764,     0.63864,     0.63964,     0.64064,     0.64164,     0.64264,     0.64364,     0.64464,     0.64565,     0.64665,     0.64765,\n",
            "           0.64865,     0.64965,     0.65065,     0.65165,     0.65265,     0.65365,     0.65465,     0.65566,     0.65666,     0.65766,     0.65866,     0.65966,     0.66066,     0.66166,     0.66266,     0.66366,     0.66466,     0.66567,     0.66667,     0.66767,     0.66867,     0.66967,     0.67067,     0.67167,\n",
            "           0.67267,     0.67367,     0.67467,     0.67568,     0.67668,     0.67768,     0.67868,     0.67968,     0.68068,     0.68168,     0.68268,     0.68368,     0.68468,     0.68569,     0.68669,     0.68769,     0.68869,     0.68969,     0.69069,     0.69169,     0.69269,     0.69369,     0.69469,      0.6957,\n",
            "            0.6967,      0.6977,      0.6987,      0.6997,      0.7007,      0.7017,      0.7027,      0.7037,      0.7047,     0.70571,     0.70671,     0.70771,     0.70871,     0.70971,     0.71071,     0.71171,     0.71271,     0.71371,     0.71471,     0.71572,     0.71672,     0.71772,     0.71872,     0.71972,\n",
            "           0.72072,     0.72172,     0.72272,     0.72372,     0.72472,     0.72573,     0.72673,     0.72773,     0.72873,     0.72973,     0.73073,     0.73173,     0.73273,     0.73373,     0.73473,     0.73574,     0.73674,     0.73774,     0.73874,     0.73974,     0.74074,     0.74174,     0.74274,     0.74374,\n",
            "           0.74474,     0.74575,     0.74675,     0.74775,     0.74875,     0.74975,     0.75075,     0.75175,     0.75275,     0.75375,     0.75475,     0.75576,     0.75676,     0.75776,     0.75876,     0.75976,     0.76076,     0.76176,     0.76276,     0.76376,     0.76476,     0.76577,     0.76677,     0.76777,\n",
            "           0.76877,     0.76977,     0.77077,     0.77177,     0.77277,     0.77377,     0.77477,     0.77578,     0.77678,     0.77778,     0.77878,     0.77978,     0.78078,     0.78178,     0.78278,     0.78378,     0.78478,     0.78579,     0.78679,     0.78779,     0.78879,     0.78979,     0.79079,     0.79179,\n",
            "           0.79279,     0.79379,     0.79479,      0.7958,      0.7968,      0.7978,      0.7988,      0.7998,      0.8008,      0.8018,      0.8028,      0.8038,      0.8048,     0.80581,     0.80681,     0.80781,     0.80881,     0.80981,     0.81081,     0.81181,     0.81281,     0.81381,     0.81481,     0.81582,\n",
            "           0.81682,     0.81782,     0.81882,     0.81982,     0.82082,     0.82182,     0.82282,     0.82382,     0.82482,     0.82583,     0.82683,     0.82783,     0.82883,     0.82983,     0.83083,     0.83183,     0.83283,     0.83383,     0.83483,     0.83584,     0.83684,     0.83784,     0.83884,     0.83984,\n",
            "           0.84084,     0.84184,     0.84284,     0.84384,     0.84484,     0.84585,     0.84685,     0.84785,     0.84885,     0.84985,     0.85085,     0.85185,     0.85285,     0.85385,     0.85485,     0.85586,     0.85686,     0.85786,     0.85886,     0.85986,     0.86086,     0.86186,     0.86286,     0.86386,\n",
            "           0.86486,     0.86587,     0.86687,     0.86787,     0.86887,     0.86987,     0.87087,     0.87187,     0.87287,     0.87387,     0.87487,     0.87588,     0.87688,     0.87788,     0.87888,     0.87988,     0.88088,     0.88188,     0.88288,     0.88388,     0.88488,     0.88589,     0.88689,     0.88789,\n",
            "           0.88889,     0.88989,     0.89089,     0.89189,     0.89289,     0.89389,     0.89489,      0.8959,      0.8969,      0.8979,      0.8989,      0.8999,      0.9009,      0.9019,      0.9029,      0.9039,      0.9049,     0.90591,     0.90691,     0.90791,     0.90891,     0.90991,     0.91091,     0.91191,\n",
            "           0.91291,     0.91391,     0.91491,     0.91592,     0.91692,     0.91792,     0.91892,     0.91992,     0.92092,     0.92192,     0.92292,     0.92392,     0.92492,     0.92593,     0.92693,     0.92793,     0.92893,     0.92993,     0.93093,     0.93193,     0.93293,     0.93393,     0.93493,     0.93594,\n",
            "           0.93694,     0.93794,     0.93894,     0.93994,     0.94094,     0.94194,     0.94294,     0.94394,     0.94494,     0.94595,     0.94695,     0.94795,     0.94895,     0.94995,     0.95095,     0.95195,     0.95295,     0.95395,     0.95495,     0.95596,     0.95696,     0.95796,     0.95896,     0.95996,\n",
            "           0.96096,     0.96196,     0.96296,     0.96396,     0.96496,     0.96597,     0.96697,     0.96797,     0.96897,     0.96997,     0.97097,     0.97197,     0.97297,     0.97397,     0.97497,     0.97598,     0.97698,     0.97798,     0.97898,     0.97998,     0.98098,     0.98198,     0.98298,     0.98398,\n",
            "           0.98498,     0.98599,     0.98699,     0.98799,     0.98899,     0.98999,     0.99099,     0.99199,     0.99299,     0.99399,     0.99499,       0.996,       0.997,       0.998,       0.999,           1]), array([[    0.90909,     0.90909,      0.9021,      0.9021,     0.88811,     0.88811,     0.88811,     0.88811,     0.88811,     0.88236,     0.88112,     0.88112,     0.88112,     0.88112,     0.88112,     0.88112,     0.88112,     0.88112,     0.88112,     0.88112,     0.88112,     0.88112,     0.88112,\n",
            "            0.88112,     0.88112,     0.87413,     0.87413,     0.87413,     0.87413,     0.87413,     0.87413,     0.87413,     0.87413,     0.87413,     0.87413,     0.87413,     0.87413,     0.87413,     0.87413,     0.87413,     0.87413,     0.87413,     0.87413,     0.87413,     0.87413,     0.87413,\n",
            "            0.87413,     0.87413,     0.87413,     0.87383,     0.87319,     0.87255,      0.8719,     0.87126,     0.87062,     0.86997,     0.86933,     0.86869,     0.86805,      0.8674,     0.86713,     0.86713,     0.86713,     0.86713,     0.86394,     0.86014,     0.86014,     0.86014,     0.86014,\n",
            "            0.86014,     0.86014,     0.86014,     0.86014,     0.86014,     0.86014,     0.86014,     0.86014,     0.86014,     0.86014,     0.86014,     0.86014,     0.86014,     0.86014,     0.86014,     0.86014,     0.86014,     0.86014,     0.86014,     0.86014,     0.86014,     0.86014,     0.86014,\n",
            "            0.86014,     0.86014,     0.86014,     0.86014,     0.86014,     0.86014,     0.86014,     0.86014,     0.86014,     0.86014,     0.86014,     0.86014,     0.86014,     0.86014,     0.86014,     0.86014,     0.86014,     0.86014,     0.86014,     0.86014,     0.86014,     0.86014,     0.86014,\n",
            "            0.86014,     0.86014,     0.86014,     0.86014,     0.86014,     0.86014,     0.86014,     0.86014,     0.86014,     0.86014,     0.86014,     0.86014,     0.86014,     0.86014,     0.86014,     0.86014,     0.86014,     0.86014,     0.86014,     0.86014,     0.86014,     0.86014,     0.86014,\n",
            "            0.86014,     0.86014,     0.86014,     0.86014,     0.86014,     0.86014,     0.86014,     0.86014,     0.86014,      0.8589,     0.85301,     0.85241,     0.85182,     0.85122,     0.85062,     0.85002,     0.84943,     0.84883,     0.84823,     0.84763,     0.84704,     0.84644,     0.84596,\n",
            "            0.84559,     0.84521,     0.84484,     0.84447,     0.84409,     0.84372,     0.84335,     0.84297,      0.8426,     0.84223,     0.84185,     0.84148,     0.84111,     0.84073,     0.84036,     0.83999,     0.83961,     0.83924,     0.83916,     0.83916,     0.83916,     0.83916,     0.83916,\n",
            "            0.83916,     0.83916,     0.83916,     0.83916,     0.83916,     0.83916,     0.83916,     0.83916,     0.83916,     0.83916,     0.83916,     0.83916,     0.83916,     0.83916,     0.83916,     0.83916,     0.83916,     0.83916,     0.83916,     0.83916,     0.83916,     0.83916,     0.83916,\n",
            "            0.83916,     0.83916,     0.83916,     0.83916,     0.83916,     0.83916,     0.83916,     0.83916,     0.83916,     0.83916,     0.83916,     0.83916,     0.83916,     0.83916,     0.83916,     0.83916,     0.83916,     0.83916,     0.83916,     0.83916,     0.83916,     0.83916,     0.83916,\n",
            "            0.83916,     0.83916,     0.83916,     0.83916,     0.83916,     0.83916,     0.83916,     0.83916,     0.83916,     0.83916,     0.83916,     0.83916,     0.83916,     0.83916,     0.83916,     0.83916,     0.83916,     0.83916,     0.83916,     0.83916,     0.83916,     0.83916,     0.83916,\n",
            "            0.83916,     0.83916,     0.83916,     0.83916,     0.83916,     0.83916,     0.83916,     0.83916,     0.83916,     0.83916,     0.83916,     0.83916,     0.83916,     0.83916,     0.83916,     0.83916,     0.83916,     0.83912,     0.83832,     0.83751,     0.83671,      0.8359,     0.83509,\n",
            "            0.83429,     0.83348,     0.83268,     0.83217,     0.83217,     0.83217,     0.83217,     0.83217,     0.83217,     0.83217,     0.83217,     0.83217,     0.83217,     0.83217,     0.83217,     0.83217,     0.83217,     0.83217,     0.83217,     0.83217,     0.83217,     0.83217,     0.83217,\n",
            "            0.83217,     0.83217,     0.83217,     0.83217,     0.83217,     0.83217,     0.83217,     0.83217,     0.83217,     0.83217,     0.83217,     0.83217,     0.83217,     0.83217,     0.83217,     0.83217,     0.83217,     0.83217,     0.83217,     0.83217,     0.83217,     0.83217,     0.83217,\n",
            "            0.83217,     0.83217,     0.83217,     0.83217,     0.83217,     0.83217,     0.83217,     0.83209,     0.83176,     0.83144,     0.83112,      0.8308,     0.83048,     0.83016,     0.82984,     0.82952,      0.8292,     0.82888,     0.82856,     0.82824,     0.82792,      0.8276,     0.82727,\n",
            "            0.82695,     0.82663,     0.82631,     0.82599,     0.82567,     0.82535,     0.82517,     0.82517,     0.82517,     0.82517,     0.82517,     0.82517,     0.82517,     0.82517,     0.82517,     0.82517,     0.82517,     0.82517,     0.82517,     0.82517,     0.82517,     0.82517,     0.82517,\n",
            "            0.82517,     0.82517,     0.82517,     0.82517,     0.82517,     0.82517,     0.82517,     0.82517,     0.82517,     0.82517,     0.82517,      0.8251,     0.82502,     0.82494,     0.82486,     0.82478,      0.8247,     0.82462,     0.82454,     0.82446,     0.82438,      0.8243,     0.82422,\n",
            "            0.82415,     0.82407,     0.82399,     0.82391,     0.82383,     0.82375,     0.82367,     0.82359,     0.82351,     0.82343,     0.82335,     0.82327,     0.82319,     0.82311,     0.82303,     0.82295,     0.82287,     0.82279,     0.82271,     0.82263,     0.82255,     0.82247,     0.82239,\n",
            "            0.82231,     0.82223,     0.82215,     0.82207,     0.82199,     0.82191,     0.82183,     0.82175,     0.82167,     0.82159,     0.82151,     0.82143,     0.82135,     0.82127,      0.8212,     0.82112,     0.82104,     0.82096,     0.82088,      0.8208,     0.82072,     0.82064,     0.82056,\n",
            "            0.82048,      0.8204,     0.82032,     0.82024,     0.82016,     0.82008,        0.82,     0.81992,     0.81984,     0.81976,     0.81968,      0.8196,     0.81952,     0.81944,     0.81936,     0.81928,      0.8192,     0.81912,     0.81904,     0.81896,     0.81888,      0.8188,     0.81872,\n",
            "            0.81864,     0.81856,     0.81848,      0.8184,     0.81833,     0.81825,     0.81818,     0.81818,     0.81818,     0.81818,     0.81818,     0.81818,     0.81818,     0.81762,     0.81666,      0.8157,     0.81474,     0.81378,     0.81281,     0.81185,     0.81119,     0.81119,     0.81119,\n",
            "            0.81119,     0.81119,     0.81119,     0.81119,     0.81119,     0.81119,     0.81119,     0.81119,     0.81119,     0.81119,     0.81119,     0.81119,     0.81119,     0.81119,     0.81119,     0.81119,     0.81055,      0.8098,     0.80905,     0.80829,     0.80754,     0.80679,     0.80604,\n",
            "            0.80529,     0.80454,     0.80379,     0.80305,     0.80231,     0.80157,     0.80083,     0.80009,     0.79935,      0.7986,     0.79786,      0.7972,      0.7972,      0.7972,      0.7972,      0.7972,      0.7972,      0.7972,      0.7972,      0.7972,      0.7972,      0.7972,      0.7972,\n",
            "             0.7972,      0.7972,      0.7972,      0.7972,     0.79712,     0.79646,     0.79581,     0.79515,      0.7945,     0.79384,     0.79319,     0.79254,     0.79188,     0.79123,     0.79057,     0.78998,     0.78946,     0.78893,     0.78841,     0.78789,     0.78737,     0.78684,     0.78632,\n",
            "             0.7858,     0.78528,     0.78475,     0.78423,     0.78371,     0.78322,     0.78322,     0.78322,     0.78322,     0.78322,     0.78322,     0.78322,     0.78322,     0.78322,     0.78322,     0.78322,     0.78322,     0.78322,     0.78322,     0.78322,     0.78322,     0.78322,     0.78322,\n",
            "            0.78322,     0.78322,     0.78322,     0.78322,     0.78322,     0.78322,     0.78322,     0.78322,     0.78322,     0.78322,     0.78322,     0.78322,     0.78322,     0.78278,     0.78197,     0.78116,     0.78036,     0.77955,     0.77874,     0.77793,     0.77713,     0.77632,     0.77604,\n",
            "            0.77583,     0.77562,     0.77542,     0.77521,       0.775,     0.77479,     0.77458,     0.77437,     0.77417,     0.77396,     0.77375,     0.77354,     0.77333,     0.77313,     0.77292,     0.77271,      0.7725,     0.77229,     0.77208,     0.77188,     0.77167,     0.77146,     0.77125,\n",
            "            0.77104,     0.77084,     0.77063,     0.77042,     0.77021,        0.77,     0.76979,     0.76959,     0.76938,       0.769,     0.76819,     0.76738,     0.76657,     0.76576,     0.76496,     0.76415,     0.76334,     0.76253,     0.75511,     0.75405,     0.75299,     0.75193,     0.75087,\n",
            "            0.74981,     0.74875,     0.74782,       0.747,     0.74618,     0.74536,     0.74454,     0.74371,     0.74289,     0.74207,     0.74125,     0.74071,     0.74018,     0.73964,      0.7391,     0.73856,     0.73802,     0.73748,     0.73694,      0.7364,     0.73586,     0.73532,     0.73478,\n",
            "             0.7342,     0.73282,     0.73143,     0.73005,     0.72866,     0.72728,     0.72572,     0.72417,     0.72262,     0.72107,     0.71869,     0.71543,      0.7132,     0.71294,     0.71268,     0.71242,     0.71216,      0.7119,     0.71164,     0.71138,     0.71112,     0.71086,      0.7106,\n",
            "            0.71034,     0.71008,     0.70982,     0.70957,     0.70931,     0.70905,     0.70879,     0.70853,     0.70827,     0.70801,     0.70775,     0.70749,     0.70723,     0.70697,     0.70671,     0.70645,     0.70629,     0.70532,     0.70246,      0.6996,      0.6993,      0.6993,     0.69685,\n",
            "            0.69384,     0.69131,     0.68926,     0.68721,     0.68507,     0.68189,     0.67871,     0.67786,     0.67733,      0.6768,     0.67628,     0.67575,     0.67522,     0.67469,     0.67416,     0.67364,     0.67311,     0.67258,     0.67205,     0.67153,     0.67069,     0.66966,     0.66864,\n",
            "            0.66762,     0.66659,     0.66557,     0.66455,     0.66344,      0.6623,     0.66117,     0.66004,     0.65891,     0.65778,     0.65571,     0.65307,     0.65042,     0.64968,     0.64899,     0.64829,      0.6476,     0.64691,     0.64622,     0.64553,     0.64484,     0.64414,     0.64345,\n",
            "            0.63892,     0.61879,     0.60983,     0.60726,     0.60031,      0.5985,     0.59669,     0.59489,     0.59187,     0.58841,     0.58622,     0.58454,     0.58286,     0.58118,     0.57916,     0.57688,      0.5746,     0.57143,     0.56732,     0.55731,     0.55178,     0.55086,     0.54994,\n",
            "            0.54902,     0.54811,     0.54719,     0.54627,     0.54508,     0.54174,     0.53807,     0.51622,     0.50953,     0.50693,     0.50433,     0.49591,     0.49237,     0.48303,     0.46044,     0.45234,     0.44619,     0.44031,      0.4357,     0.42942,     0.41941,     0.41626,     0.41312,\n",
            "            0.41121,     0.40955,     0.40788,     0.40622,     0.40503,     0.40411,      0.4032,     0.40228,     0.40137,     0.40046,     0.39954,     0.39863,     0.39248,     0.38923,     0.38646,     0.38035,     0.35857,      0.3424,     0.34063,     0.33886,     0.33709,     0.33512,     0.33229,\n",
            "            0.32947,     0.32798,     0.32701,     0.32605,     0.32508,     0.32412,     0.32315,     0.32219,     0.31934,     0.31456,      0.3125,     0.31044,     0.30837,     0.29246,      0.2892,     0.28469,       0.272,     0.26345,     0.25896,     0.25492,      0.2498,     0.23793,     0.22746,\n",
            "            0.22123,     0.21811,     0.20457,       0.187,     0.17985,     0.17384,     0.17142,     0.16899,      0.1597,     0.15687,     0.15403,     0.13978,     0.13786,     0.13594,     0.13402,     0.13057,     0.11846,     0.10803,     0.10343,     0.10162,    0.099812,    0.098002,    0.090036,\n",
            "           0.089011,    0.087986,    0.086961,    0.085937,    0.084912,     0.08384,    0.081139,    0.078437,    0.068666,    0.059887,     0.05617,    0.050433,    0.041127,    0.039241,    0.037356,     0.03547,    0.033649,    0.031851,    0.030053,    0.028256,     0.02658,    0.024928,    0.023276,\n",
            "           0.021623,    0.020414,    0.019487,    0.018561,    0.017634,    0.016707,    0.015781,    0.014854,     0.01382,    0.011176,   0.0085324,           0,           0,           0,           0,           0,           0,           0,           0,           0,           0,           0,           0,\n",
            "                  0,           0,           0,           0,           0,           0,           0,           0,           0,           0,           0,           0,           0,           0,           0,           0,           0,           0,           0,           0,           0,           0,           0,\n",
            "                  0,           0,           0,           0,           0,           0,           0,           0,           0,           0,           0,           0,           0,           0,           0,           0,           0,           0,           0,           0,           0,           0,           0,\n",
            "                  0,           0,           0,           0,           0,           0,           0,           0,           0,           0,           0,           0,           0,           0,           0,           0,           0,           0,           0,           0,           0,           0,           0,\n",
            "                  0,           0,           0,           0,           0,           0,           0,           0,           0,           0,           0]]), 'Confidence', 'Recall']]\n",
            "f1: array([    0.87208])\n",
            "f1_curve: array([[    0.43919,     0.43919,      0.5313,     0.59711,     0.63747,     0.66686,     0.68841,     0.70388,     0.71625,     0.72479,      0.7291,     0.73507,     0.73623,     0.73855,     0.74712,     0.74901,     0.75085,     0.75455,     0.75597,     0.75826,     0.76308,     0.76644,     0.76938,\n",
            "            0.77431,     0.77972,     0.77871,     0.78653,     0.79159,     0.79538,     0.79705,     0.79803,     0.79903,     0.80006,     0.80109,     0.80468,      0.8089,     0.81173,     0.81344,     0.81503,     0.81648,     0.81947,     0.82373,     0.82673,     0.83343,     0.83483,     0.83652,\n",
            "             0.8394,     0.84033,     0.84125,     0.84159,     0.84123,     0.84087,     0.84051,     0.84015,     0.83979,     0.83943,     0.83907,     0.83871,     0.83835,     0.83799,     0.83888,     0.84067,     0.84214,     0.84387,     0.84461,     0.84252,     0.84278,     0.84305,     0.84332,\n",
            "            0.84358,     0.84385,     0.84412,     0.84438,     0.84465,     0.84491,     0.84518,     0.84556,     0.84622,     0.84687,     0.84753,     0.84818,     0.84852,     0.84881,      0.8491,     0.84939,     0.84968,     0.84996,     0.85025,     0.85054,     0.85083,     0.85111,     0.85155,\n",
            "            0.85207,     0.85258,      0.8531,     0.85361,     0.85412,     0.85447,     0.85481,     0.85514,     0.85548,     0.85581,     0.85614,     0.85648,     0.85681,     0.85714,      0.8574,     0.85765,      0.8579,     0.85815,      0.8584,     0.85866,     0.85891,     0.85916,     0.85941,\n",
            "            0.85966,     0.85991,     0.86015,     0.86025,     0.86035,     0.86045,     0.86055,     0.86065,     0.86076,     0.86086,     0.86096,     0.86106,     0.86116,     0.86126,     0.86136,     0.86146,     0.86156,     0.86166,     0.86177,     0.86187,     0.86197,     0.86207,     0.86217,\n",
            "            0.86227,     0.86237,     0.86247,     0.86257,     0.86267,     0.86277,     0.86287,     0.86297,     0.86307,     0.86245,     0.85908,     0.85873,     0.85839,     0.85805,      0.8577,     0.85736,     0.85701,     0.85667,     0.85632,     0.85598,     0.85563,     0.85529,     0.85501,\n",
            "            0.85479,     0.85458,     0.85436,     0.85415,     0.85393,     0.85371,      0.8535,     0.85328,     0.85306,     0.85285,     0.85263,     0.85241,      0.8522,     0.85198,     0.85176,     0.85154,     0.85133,     0.85111,     0.85205,     0.85329,     0.85413,     0.85422,     0.85431,\n",
            "            0.85441,      0.8545,      0.8546,     0.85469,     0.85478,     0.85488,     0.85497,     0.85507,     0.85516,     0.85525,     0.85535,     0.85544,     0.85554,     0.85563,     0.85572,     0.85582,     0.85591,       0.856,      0.8561,     0.85619,     0.85629,     0.85638,     0.85647,\n",
            "            0.85657,     0.85666,     0.85675,     0.85685,     0.85694,     0.85703,     0.85713,     0.85726,      0.8574,     0.85754,     0.85768,     0.85782,     0.85796,      0.8581,     0.85825,     0.85839,     0.85853,     0.85867,     0.85881,     0.85895,     0.85909,     0.85923,     0.85937,\n",
            "            0.85951,     0.85965,     0.85979,     0.85993,     0.86007,     0.86021,     0.86046,     0.86071,     0.86097,     0.86122,     0.86148,     0.86173,     0.86199,     0.86224,      0.8625,     0.86275,       0.863,     0.86326,     0.86355,     0.86386,     0.86416,     0.86446,     0.86477,\n",
            "            0.86507,     0.86537,     0.86568,     0.86598,     0.86628,     0.86656,     0.86681,     0.86706,     0.86732,     0.86757,     0.86782,     0.86807,     0.86832,     0.86857,     0.86882,     0.86908,     0.86933,     0.86954,     0.86907,      0.8686,     0.86812,     0.86765,     0.86718,\n",
            "             0.8667,     0.86623,     0.86575,     0.86552,     0.86569,     0.86586,     0.86603,      0.8662,     0.86637,     0.86654,     0.86671,     0.86688,     0.86705,     0.86722,     0.86739,     0.86755,     0.86772,     0.86789,     0.86806,     0.86823,      0.8684,     0.86857,     0.86888,\n",
            "            0.86925,     0.86961,     0.86998,     0.87034,      0.8707,     0.87107,     0.87143,     0.87179,     0.87194,     0.87208,     0.87222,     0.87236,      0.8725,     0.87264,     0.87278,     0.87292,     0.87307,     0.87321,     0.87335,     0.87349,     0.87363,     0.87377,     0.87391,\n",
            "            0.87405,     0.87419,     0.87433,     0.87447,     0.87461,     0.87476,      0.8749,     0.87495,     0.87476,     0.87457,     0.87438,     0.87419,       0.874,     0.87381,     0.87362,     0.87343,     0.87324,     0.87305,     0.87286,     0.87267,     0.87248,     0.87229,      0.8721,\n",
            "            0.87191,     0.87172,     0.87153,     0.87134,     0.87114,     0.87095,      0.8709,     0.87102,     0.87114,     0.87125,     0.87137,     0.87149,     0.87161,     0.87172,     0.87184,     0.87196,     0.87208,     0.87219,     0.87231,     0.87243,     0.87254,     0.87266,     0.87278,\n",
            "             0.8729,     0.87301,     0.87313,     0.87325,     0.87336,     0.87348,      0.8736,     0.87371,     0.87383,     0.87395,     0.87406,     0.87403,     0.87398,     0.87394,     0.87389,     0.87384,     0.87379,     0.87374,      0.8737,     0.87365,      0.8736,     0.87355,     0.87351,\n",
            "            0.87346,     0.87341,     0.87336,     0.87332,     0.87327,     0.87322,     0.87317,     0.87313,     0.87308,     0.87303,     0.87298,     0.87294,     0.87289,     0.87284,     0.87279,     0.87274,      0.8727,     0.87265,      0.8726,     0.87255,     0.87251,     0.87246,     0.87241,\n",
            "            0.87236,     0.87232,     0.87227,     0.87222,     0.87217,     0.87212,     0.87208,     0.87203,     0.87198,     0.87193,     0.87189,     0.87184,     0.87179,     0.87174,      0.8717,     0.87165,      0.8716,     0.87155,      0.8715,     0.87146,     0.87141,     0.87136,     0.87131,\n",
            "            0.87127,     0.87122,     0.87117,     0.87112,     0.87107,     0.87103,     0.87098,     0.87093,     0.87088,     0.87084,     0.87079,     0.87074,     0.87069,     0.87064,      0.8706,     0.87055,      0.8705,     0.87045,     0.87041,     0.87036,     0.87031,     0.87026,     0.87021,\n",
            "            0.87017,     0.87012,     0.87007,     0.87002,     0.86997,     0.86993,     0.87001,     0.87059,     0.87118,     0.87176,     0.87235,     0.87293,     0.87512,     0.87607,     0.87549,     0.87491,     0.87433,     0.87375,     0.87317,     0.87258,      0.8723,     0.87268,     0.87306,\n",
            "            0.87345,     0.87383,     0.87421,     0.87459,     0.87497,     0.87535,      0.8757,     0.87604,     0.87638,     0.87672,     0.87705,     0.87739,     0.87773,     0.87807,      0.8784,     0.87874,      0.8784,     0.87794,     0.87748,     0.87703,     0.87657,     0.87611,     0.87565,\n",
            "            0.87519,     0.87474,     0.87428,     0.87382,     0.87337,     0.87292,     0.87246,       0.872,     0.87155,     0.87109,     0.87064,     0.87025,     0.87046,     0.87067,     0.87088,     0.87109,      0.8713,     0.87151,     0.87172,     0.87193,     0.87213,     0.87234,     0.87255,\n",
            "            0.87276,     0.87297,     0.87318,     0.87338,     0.87351,     0.87311,      0.8727,      0.8723,     0.87189,     0.87149,     0.87108,     0.87068,     0.87027,     0.86986,     0.86946,     0.86909,     0.86876,     0.86844,     0.86811,     0.86778,     0.86746,     0.86713,     0.86681,\n",
            "            0.86648,     0.86615,     0.86583,      0.8655,     0.86517,     0.86487,     0.86498,     0.86509,      0.8652,     0.86531,     0.86542,     0.86553,     0.86564,     0.86575,     0.86586,     0.86597,     0.86608,     0.86619,      0.8663,     0.86641,     0.86652,     0.86663,     0.86674,\n",
            "            0.86685,     0.86696,     0.86707,     0.86718,     0.86729,      0.8674,     0.86751,     0.86762,     0.86773,     0.86784,     0.86795,     0.86806,     0.86817,     0.86794,     0.86743,     0.86693,     0.86642,     0.86591,      0.8654,     0.86489,     0.86438,     0.86387,      0.8637,\n",
            "            0.86357,     0.86343,      0.8633,     0.86317,     0.86304,     0.86291,     0.86277,     0.86264,     0.86251,     0.86238,     0.86225,     0.86212,     0.86198,     0.86185,     0.86172,     0.86159,     0.86145,     0.86132,     0.86119,     0.86106,     0.86093,     0.86079,     0.86066,\n",
            "            0.86053,      0.8604,     0.86026,     0.86013,        0.86,     0.85987,     0.85973,      0.8596,     0.85947,     0.85922,     0.85871,     0.85819,     0.85768,     0.85716,     0.85664,     0.85613,     0.85561,     0.85509,      0.8503,     0.84962,     0.84893,     0.84824,     0.84756,\n",
            "            0.84687,     0.84618,     0.84557,     0.84503,     0.84449,     0.84396,     0.84342,     0.84288,     0.84234,      0.8418,     0.84127,     0.84091,     0.84056,      0.8402,     0.83985,     0.83949,     0.83913,     0.83878,     0.83842,     0.83807,     0.83771,     0.83735,     0.83699,\n",
            "            0.83661,     0.83569,     0.83477,     0.83385,     0.83293,       0.832,     0.83096,     0.82993,     0.82888,     0.82784,     0.82623,     0.82403,     0.82252,     0.82234,     0.82217,     0.82199,     0.82182,     0.82164,     0.82146,     0.82129,     0.82111,     0.82093,     0.82076,\n",
            "            0.82058,      0.8204,     0.82023,     0.82005,     0.81987,     0.81969,     0.81952,     0.81934,     0.81916,     0.81899,     0.81881,     0.81863,     0.81845,     0.81828,      0.8181,     0.81792,     0.81906,     0.82047,     0.81851,     0.81653,     0.81777,     0.81938,     0.81797,\n",
            "            0.81588,     0.81412,     0.81268,     0.81125,     0.80974,      0.8075,     0.80525,     0.80465,     0.80428,      0.8039,     0.80353,     0.80315,     0.80278,      0.8024,     0.80202,     0.80165,     0.80127,      0.8009,     0.80052,     0.80014,     0.79954,     0.79881,     0.79807,\n",
            "            0.79734,      0.7966,     0.79587,     0.79513,     0.79433,     0.79351,     0.79269,     0.79187,     0.79105,     0.79023,     0.78873,      0.7868,     0.78486,     0.78432,     0.78381,      0.7833,     0.78279,     0.78228,     0.78177,     0.78126,     0.78075,     0.78024,     0.77973,\n",
            "            0.77637,     0.76122,     0.75436,     0.75565,     0.75024,     0.74883,     0.74741,     0.74599,     0.74362,     0.74088,     0.73914,      0.7378,     0.73646,     0.73512,     0.73351,     0.73167,     0.72983,     0.72727,     0.72393,     0.71574,     0.71116,     0.71039,     0.70963,\n",
            "            0.70886,      0.7081,     0.70733,     0.70656,     0.70556,     0.70277,     0.69967,     0.68093,     0.67509,      0.6728,     0.67051,     0.66302,     0.65985,     0.65141,     0.63055,     0.62291,     0.61705,     0.61141,     0.60695,     0.60083,     0.59096,     0.58783,     0.58469,\n",
            "            0.58277,      0.5811,     0.57943,     0.57775,     0.57654,     0.57561,     0.57468,     0.57376,     0.57283,      0.5719,     0.57096,     0.57003,     0.56371,     0.56035,     0.55748,     0.55109,     0.52786,     0.51013,     0.50817,     0.50619,     0.50422,       0.502,     0.49883,\n",
            "            0.49564,     0.49395,     0.49286,     0.49176,     0.49066,     0.48956,     0.48846,     0.48736,      0.4841,     0.47858,     0.47619,     0.47379,     0.47138,     0.45257,     0.44865,      0.4432,     0.42768,     0.41703,     0.41139,     0.40627,     0.39975,      0.3844,     0.37062,\n",
            "            0.36231,     0.35811,     0.33966,     0.31508,     0.30486,     0.29619,     0.29267,     0.28912,     0.27542,     0.27119,     0.26694,     0.24527,     0.24231,     0.23935,     0.23637,     0.23099,     0.21182,     0.19499,     0.18747,      0.1845,     0.18151,     0.17851,      0.1652,\n",
            "            0.16347,     0.16174,     0.16001,     0.15827,     0.15653,     0.15471,      0.1501,     0.14546,     0.12851,     0.11301,     0.10637,    0.096024,    0.079005,    0.075519,    0.072021,     0.06851,    0.065107,    0.061736,    0.058353,    0.054958,    0.051784,    0.048644,    0.045493,\n",
            "           0.042332,    0.040011,    0.038229,    0.036445,    0.034657,    0.032866,    0.031071,    0.029274,    0.027262,    0.022105,     0.01692,           0,           0,           0,           0,           0,           0,           0,           0,           0,           0,           0,           0,\n",
            "                  0,           0,           0,           0,           0,           0,           0,           0,           0,           0,           0,           0,           0,           0,           0,           0,           0,           0,           0,           0,           0,           0,           0,\n",
            "                  0,           0,           0,           0,           0,           0,           0,           0,           0,           0,           0,           0,           0,           0,           0,           0,           0,           0,           0,           0,           0,           0,           0,\n",
            "                  0,           0,           0,           0,           0,           0,           0,           0,           0,           0,           0,           0,           0,           0,           0,           0,           0,           0,           0,           0,           0,           0,           0,\n",
            "                  0,           0,           0,           0,           0,           0,           0,           0,           0,           0,           0]])\n",
            "map: 0.5115017588183784\n",
            "map50: 0.8940292006207968\n",
            "map75: 0.5341058938411131\n",
            "maps: array([     0.5115])\n",
            "mp: 0.9246302363578482\n",
            "mr: 0.8251748251748252\n",
            "nc: 1\n",
            "p: array([    0.92463])\n",
            "p_curve: array([[    0.28953,     0.28953,     0.37653,     0.44624,     0.49716,     0.53386,     0.56203,     0.58295,     0.60012,     0.61497,     0.62182,     0.63056,     0.63227,     0.63569,     0.64849,     0.65135,     0.65414,     0.65978,     0.66196,     0.66547,     0.67294,     0.67818,     0.68279,\n",
            "             0.6906,     0.69925,     0.70208,     0.71489,     0.72329,     0.72965,     0.73246,     0.73412,     0.73581,     0.73756,     0.73931,     0.74545,     0.75273,     0.75765,     0.76063,     0.76341,     0.76596,     0.77125,     0.77882,      0.7842,     0.79636,     0.79892,     0.80202,\n",
            "            0.80734,     0.80905,     0.81076,     0.81164,     0.81152,     0.81141,      0.8113,     0.81118,     0.81107,     0.81096,     0.81084,     0.81073,     0.81062,      0.8105,     0.81241,     0.81578,     0.81855,     0.82182,     0.82614,      0.8256,     0.82611,     0.82663,     0.82714,\n",
            "            0.82765,     0.82816,     0.82868,     0.82919,      0.8297,     0.83021,     0.83073,     0.83147,     0.83274,     0.83401,     0.83528,     0.83655,     0.83722,     0.83778,     0.83834,      0.8389,     0.83946,     0.84003,     0.84059,     0.84115,     0.84171,     0.84228,     0.84314,\n",
            "            0.84415,     0.84516,     0.84617,     0.84718,     0.84819,     0.84888,     0.84954,      0.8502,     0.85086,     0.85152,     0.85219,     0.85285,     0.85351,     0.85417,     0.85467,     0.85517,     0.85567,     0.85617,     0.85667,     0.85718,     0.85768,     0.85818,     0.85868,\n",
            "            0.85918,     0.85968,     0.86016,     0.86036,     0.86056,     0.86076,     0.86097,     0.86117,     0.86137,     0.86157,     0.86178,     0.86198,     0.86218,     0.86238,     0.86259,     0.86279,     0.86299,     0.86319,      0.8634,      0.8636,      0.8638,       0.864,     0.86421,\n",
            "            0.86441,     0.86461,     0.86481,     0.86502,     0.86522,     0.86542,     0.86562,     0.86583,     0.86603,     0.86603,     0.86523,     0.86515,     0.86507,     0.86498,      0.8649,     0.86482,     0.86474,     0.86465,     0.86457,     0.86449,     0.86441,     0.86433,     0.86426,\n",
            "            0.86421,     0.86415,      0.8641,     0.86405,       0.864,     0.86395,     0.86389,     0.86384,     0.86379,     0.86374,     0.86369,     0.86363,     0.86358,     0.86353,     0.86348,     0.86342,     0.86337,     0.86332,     0.86534,     0.86791,     0.86964,     0.86983,     0.87003,\n",
            "            0.87022,     0.87042,     0.87061,     0.87081,       0.871,      0.8712,     0.87139,     0.87159,     0.87178,     0.87198,     0.87217,     0.87237,     0.87256,     0.87276,     0.87295,     0.87315,     0.87334,     0.87354,     0.87373,     0.87393,     0.87412,     0.87432,     0.87451,\n",
            "            0.87471,      0.8749,      0.8751,     0.87529,     0.87549,     0.87568,     0.87588,     0.87616,     0.87645,     0.87675,     0.87704,     0.87734,     0.87763,     0.87792,     0.87822,     0.87851,     0.87881,      0.8791,      0.8794,     0.87969,     0.87999,     0.88028,     0.88057,\n",
            "            0.88087,     0.88116,     0.88146,     0.88175,     0.88205,     0.88234,     0.88287,     0.88341,     0.88394,     0.88448,     0.88502,     0.88555,     0.88609,     0.88663,     0.88717,      0.8877,     0.88824,     0.88878,      0.8894,     0.89005,     0.89069,     0.89134,     0.89199,\n",
            "            0.89263,     0.89328,     0.89392,     0.89457,     0.89522,     0.89581,     0.89635,     0.89689,     0.89743,     0.89796,      0.8985,     0.89904,     0.89958,     0.90012,     0.90066,      0.9012,     0.90174,     0.90225,     0.90217,     0.90208,       0.902,     0.90191,     0.90182,\n",
            "            0.90174,     0.90165,     0.90157,     0.90165,     0.90202,     0.90239,     0.90276,     0.90313,      0.9035,     0.90387,     0.90424,     0.90461,     0.90498,     0.90535,     0.90572,     0.90609,     0.90645,     0.90682,     0.90719,     0.90756,     0.90793,      0.9083,     0.90899,\n",
            "            0.90979,     0.91059,     0.91139,     0.91218,     0.91298,     0.91378,     0.91458,     0.91538,     0.91569,     0.91601,     0.91632,     0.91663,     0.91694,     0.91725,     0.91757,     0.91788,     0.91819,      0.9185,     0.91882,     0.91913,     0.91944,     0.91975,     0.92006,\n",
            "            0.92038,     0.92069,       0.921,     0.92131,     0.92162,     0.92194,     0.92225,     0.92247,     0.92245,     0.92242,     0.92239,     0.92236,     0.92233,     0.92231,     0.92228,     0.92225,     0.92222,      0.9222,     0.92217,     0.92214,     0.92211,     0.92208,     0.92206,\n",
            "            0.92203,       0.922,     0.92197,     0.92195,     0.92192,     0.92189,     0.92199,     0.92226,     0.92252,     0.92278,     0.92305,     0.92331,     0.92358,     0.92384,      0.9241,     0.92437,     0.92463,     0.92489,     0.92516,     0.92542,     0.92568,     0.92595,     0.92621,\n",
            "            0.92648,     0.92674,       0.927,     0.92727,     0.92753,     0.92779,     0.92806,     0.92832,     0.92858,     0.92885,     0.92911,     0.92913,     0.92912,     0.92912,     0.92911,      0.9291,      0.9291,     0.92909,     0.92908,     0.92908,     0.92907,     0.92906,     0.92906,\n",
            "            0.92905,     0.92904,     0.92904,     0.92903,     0.92903,     0.92902,     0.92901,     0.92901,       0.929,     0.92899,     0.92899,     0.92898,     0.92897,     0.92897,     0.92896,     0.92895,     0.92895,     0.92894,     0.92894,     0.92893,     0.92892,     0.92892,     0.92891,\n",
            "             0.9289,      0.9289,     0.92889,     0.92888,     0.92888,     0.92887,     0.92887,     0.92886,     0.92885,     0.92885,     0.92884,     0.92883,     0.92883,     0.92882,     0.92881,     0.92881,      0.9288,     0.92879,     0.92879,     0.92878,     0.92878,     0.92877,     0.92876,\n",
            "            0.92876,     0.92875,     0.92874,     0.92874,     0.92873,     0.92872,     0.92872,     0.92871,      0.9287,      0.9287,     0.92869,     0.92869,     0.92868,     0.92867,     0.92867,     0.92866,     0.92865,     0.92865,     0.92864,     0.92863,     0.92863,     0.92862,     0.92862,\n",
            "            0.92861,      0.9286,      0.9286,     0.92859,     0.92858,     0.92858,     0.92884,     0.93018,     0.93152,     0.93286,     0.93419,     0.93553,     0.94059,     0.94351,     0.94345,     0.94339,     0.94332,     0.94326,      0.9432,     0.94313,     0.94337,     0.94426,     0.94516,\n",
            "            0.94605,     0.94695,     0.94784,     0.94874,     0.94963,     0.95053,     0.95136,     0.95216,     0.95296,     0.95376,     0.95456,     0.95536,     0.95616,     0.95696,     0.95776,     0.95856,     0.95865,     0.95861,     0.95857,     0.95854,      0.9585,     0.95846,     0.95842,\n",
            "            0.95839,     0.95835,     0.95831,     0.95828,     0.95824,      0.9582,     0.95816,     0.95813,     0.95809,     0.95805,     0.95802,     0.95804,     0.95855,     0.95905,     0.95956,     0.96007,     0.96058,     0.96109,      0.9616,      0.9621,     0.96261,     0.96312,     0.96363,\n",
            "            0.96414,     0.96465,     0.96515,     0.96566,      0.9661,     0.96607,     0.96604,     0.96602,     0.96599,     0.96596,     0.96594,     0.96591,     0.96588,     0.96585,     0.96583,      0.9658,     0.96578,     0.96576,     0.96574,     0.96571,     0.96569,     0.96567,     0.96565,\n",
            "            0.96563,      0.9656,     0.96558,     0.96556,     0.96554,     0.96553,     0.96581,     0.96608,     0.96636,     0.96663,     0.96691,     0.96718,     0.96746,     0.96773,     0.96801,     0.96829,     0.96856,     0.96884,     0.96911,     0.96939,     0.96966,     0.96994,     0.97021,\n",
            "            0.97049,     0.97076,     0.97104,     0.97131,     0.97159,     0.97186,     0.97214,     0.97241,     0.97269,     0.97296,     0.97324,     0.97351,     0.97379,      0.9739,     0.97387,     0.97385,     0.97382,     0.97379,     0.97377,     0.97374,     0.97371,     0.97369,     0.97368,\n",
            "            0.97367,     0.97366,     0.97366,     0.97365,     0.97364,     0.97364,     0.97363,     0.97362,     0.97362,     0.97361,      0.9736,     0.97359,     0.97359,     0.97358,     0.97357,     0.97357,     0.97356,     0.97355,     0.97355,     0.97354,     0.97353,     0.97353,     0.97352,\n",
            "            0.97351,      0.9735,      0.9735,     0.97349,     0.97348,     0.97348,     0.97347,     0.97346,     0.97346,     0.97344,     0.97342,     0.97339,     0.97336,     0.97333,     0.97331,     0.97328,     0.97325,     0.97322,     0.97297,     0.97293,     0.97289,     0.97286,     0.97282,\n",
            "            0.97278,     0.97274,     0.97271,     0.97268,     0.97265,     0.97262,     0.97259,     0.97256,     0.97254,     0.97251,     0.97248,     0.97246,     0.97244,     0.97242,      0.9724,     0.97238,     0.97236,     0.97234,     0.97232,      0.9723,     0.97228,     0.97226,     0.97224,\n",
            "            0.97222,     0.97217,     0.97212,     0.97207,     0.97201,     0.97196,      0.9719,     0.97185,     0.97179,     0.97173,     0.97164,     0.97151,     0.97143,     0.97141,      0.9714,     0.97139,     0.97138,     0.97137,     0.97136,     0.97135,     0.97134,     0.97133,     0.97132,\n",
            "            0.97131,      0.9713,     0.97129,     0.97128,     0.97127,     0.97126,     0.97125,     0.97124,     0.97123,     0.97122,     0.97121,      0.9712,     0.97119,     0.97118,     0.97117,     0.97116,     0.97467,     0.98056,     0.98048,      0.9804,     0.98457,     0.98924,     0.99006,\n",
            "            0.99002,     0.98999,     0.98996,     0.98993,      0.9899,     0.98985,      0.9898,     0.98979,     0.98978,     0.98977,     0.98977,     0.98976,     0.98975,     0.98974,     0.98973,     0.98973,     0.98972,     0.98971,      0.9897,     0.98969,     0.98968,     0.98967,     0.98965,\n",
            "            0.98963,     0.98962,      0.9896,     0.98959,     0.98957,     0.98955,     0.98953,     0.98952,      0.9895,     0.98948,     0.98945,     0.98941,     0.98936,     0.98935,     0.98934,     0.98933,     0.98932,     0.98931,     0.98929,     0.98928,     0.98927,     0.98926,     0.98925,\n",
            "            0.98917,     0.98882,     0.98866,           1,           1,           1,           1,           1,           1,           1,           1,           1,           1,           1,           1,           1,           1,           1,           1,           1,           1,           1,           1,\n",
            "                  1,           1,           1,           1,           1,           1,           1,           1,           1,           1,           1,           1,           1,           1,           1,           1,           1,           1,           1,           1,           1,           1,           1,\n",
            "                  1,           1,           1,           1,           1,           1,           1,           1,           1,           1,           1,           1,           1,           1,           1,           1,           1,           1,           1,           1,           1,           1,           1,\n",
            "                  1,           1,           1,           1,           1,           1,           1,           1,           1,           1,           1,           1,           1,           1,           1,           1,           1,           1,           1,           1,           1,           1,           1,\n",
            "                  1,           1,           1,           1,           1,           1,           1,           1,           1,           1,           1,           1,           1,           1,           1,           1,           1,           1,           1,           1,           1,           1,           1,\n",
            "                  1,           1,           1,           1,           1,           1,           1,           1,           1,           1,           1,           1,           1,           1,           1,           1,           1,           1,           1,           1,           1,           1,           1,\n",
            "                  1,           1,           1,           1,           1,           1,           1,           1,           1,           1,           1,           1,           1,           1,           1,           1,           1,           1,           1,           1,           1,           1,           1,\n",
            "                  1,           1,           1,           1,           1,           1,           1,           1,           1,           1,           1,           1,           1,           1,           1,           1,           1,           1,           1,           1,           1,           1,           1,\n",
            "                  1,           1,           1,           1,           1,           1,           1,           1,           1,           1,           1,           1,           1,           1,           1,           1,           1,           1,           1,           1,           1,           1,           1,\n",
            "                  1,           1,           1,           1,           1,           1,           1,           1,           1,           1,           1,           1,           1,           1,           1,           1,           1,           1,           1,           1,           1,           1,           1,\n",
            "                  1,           1,           1,           1,           1,           1,           1,           1,           1,           1,           1]])\n",
            "prec_values: array([[          1,           1,           1,           1,           1,           1,           1,           1,           1,           1,           1,           1,           1,           1,           1,           1,           1,           1,           1,           1,           1,           1,           1,\n",
            "                  1,           1,           1,           1,           1,           1,           1,           1,           1,           1,           1,           1,           1,           1,           1,           1,           1,           1,           1,           1,           1,           1,           1,\n",
            "                  1,           1,           1,           1,           1,           1,           1,           1,           1,           1,           1,           1,           1,           1,           1,           1,           1,           1,           1,           1,           1,           1,           1,\n",
            "                  1,           1,           1,           1,           1,           1,           1,           1,           1,           1,           1,           1,           1,           1,           1,           1,           1,           1,           1,           1,           1,           1,           1,\n",
            "                  1,           1,           1,           1,           1,           1,           1,           1,           1,           1,           1,           1,           1,           1,           1,           1,           1,           1,           1,           1,           1,           1,           1,\n",
            "                  1,           1,           1,           1,           1,           1,           1,           1,           1,           1,           1,           1,           1,           1,           1,           1,           1,           1,           1,           1,           1,           1,           1,\n",
            "                  1,           1,           1,           1,           1,           1,           1,           1,           1,           1,           1,           1,           1,           1,           1,           1,           1,           1,           1,           1,           1,           1,           1,\n",
            "                  1,           1,           1,           1,           1,           1,           1,           1,           1,           1,           1,           1,           1,           1,           1,           1,           1,           1,           1,           1,           1,           1,           1,\n",
            "                  1,           1,           1,           1,           1,           1,           1,           1,           1,           1,           1,           1,           1,           1,           1,           1,           1,           1,           1,           1,           1,           1,           1,\n",
            "                  1,           1,           1,           1,           1,           1,           1,           1,           1,           1,           1,           1,           1,           1,           1,           1,           1,           1,           1,           1,           1,           1,           1,\n",
            "                  1,           1,           1,           1,           1,           1,           1,           1,           1,           1,           1,           1,           1,           1,           1,           1,           1,           1,           1,           1,           1,           1,           1,\n",
            "                  1,           1,           1,           1,           1,           1,           1,           1,           1,           1,           1,           1,           1,           1,           1,           1,           1,           1,           1,           1,           1,           1,           1,\n",
            "                  1,           1,           1,           1,           1,           1,           1,           1,           1,           1,           1,           1,           1,           1,           1,           1,           1,           1,           1,           1,           1,           1,           1,\n",
            "                  1,           1,           1,           1,           1,           1,           1,           1,           1,           1,           1,           1,           1,           1,           1,           1,           1,           1,           1,           1,           1,           1,           1,\n",
            "                  1,           1,           1,           1,           1,           1,           1,           1,           1,           1,           1,           1,           1,           1,           1,           1,           1,           1,           1,           1,           1,           1,           1,\n",
            "                  1,           1,           1,           1,           1,           1,           1,           1,           1,           1,           1,           1,           1,           1,           1,           1,           1,           1,           1,           1,           1,           1,           1,\n",
            "                  1,           1,           1,           1,           1,           1,           1,           1,           1,           1,           1,           1,           1,           1,           1,           1,           1,           1,           1,           1,           1,           1,           1,\n",
            "                  1,           1,           1,           1,           1,           1,           1,           1,           1,           1,           1,           1,           1,           1,           1,           1,           1,           1,           1,           1,           1,           1,           1,\n",
            "                  1,           1,           1,           1,           1,           1,           1,           1,           1,           1,           1,           1,           1,           1,           1,           1,           1,           1,           1,           1,           1,           1,           1,\n",
            "                  1,           1,           1,           1,           1,           1,           1,           1,           1,           1,           1,           1,           1,           1,           1,           1,           1,           1,           1,           1,           1,           1,           1,\n",
            "                  1,           1,           1,           1,           1,           1,           1,           1,           1,           1,           1,           1,           1,           1,           1,           1,           1,           1,           1,           1,           1,           1,           1,\n",
            "                  1,           1,           1,           1,           1,           1,           1,           1,           1,           1,           1,           1,           1,           1,           1,           1,           1,           1,           1,           1,           1,           1,           1,\n",
            "                  1,           1,           1,           1,           1,           1,           1,           1,           1,           1,           1,           1,           1,           1,           1,           1,           1,           1,           1,           1,           1,           1,           1,\n",
            "                  1,           1,           1,           1,           1,           1,           1,           1,           1,           1,           1,           1,           1,           1,           1,           1,           1,           1,           1,           1,           1,           1,           1,\n",
            "                  1,           1,           1,           1,           1,           1,           1,           1,           1,           1,           1,           1,           1,           1,           1,           1,           1,           1,           1,           1,           1,           1,           1,\n",
            "                  1,           1,           1,           1,           1,           1,           1,           1,           1,           1,           1,           1,           1,           1,           1,           1,           1,           1,           1,           1,           1,           1,           1,\n",
            "                  1,           1,           1,           1,           1,           1,           1,           1,           1,           1,      0.9901,      0.9901,      0.9901,      0.9901,      0.9901,      0.9901,      0.9901,      0.9901,      0.9901,      0.9901,      0.9901,      0.9901,      0.9901,\n",
            "             0.9901,      0.9901,      0.9901,      0.9901,      0.9901,      0.9901,      0.9901,      0.9901,      0.9901,      0.9901,      0.9901,      0.9901,      0.9901,      0.9901,      0.9901,      0.9901,      0.9901,      0.9901,      0.9901,      0.9901,      0.9901,      0.9901,      0.9901,\n",
            "             0.9901,      0.9901,      0.9901,      0.9901,      0.9901,      0.9901,      0.9901,      0.9901,      0.9901,      0.9901,      0.9901,      0.9901,      0.9901,      0.9901,      0.9901,      0.9901,      0.9901,      0.9901,      0.9901,      0.9901,      0.9901,      0.9901,      0.9901,\n",
            "             0.9901,      0.9901,      0.9901,      0.9901,      0.9901,      0.9901,      0.9901,      0.9901,      0.9901,      0.9901,      0.9901,      0.9901,      0.9901,      0.9901,      0.9901,      0.9901,      0.9901,      0.9901,      0.9901,      0.9901,      0.9901,      0.9901,      0.9901,\n",
            "             0.9901,      0.9901,      0.9901,      0.9901,      0.9901,      0.9901,      0.9901,      0.9901,      0.9901,     0.98058,     0.98058,     0.98058,     0.98058,     0.98058,     0.98058,     0.98058,     0.97391,     0.97391,     0.97391,     0.97391,     0.97391,     0.97391,     0.97391,\n",
            "            0.97391,     0.97391,     0.97391,     0.97391,     0.97391,     0.97391,     0.97391,     0.97391,     0.97391,     0.97391,     0.97391,     0.97391,     0.97391,     0.97391,     0.97391,     0.97391,     0.97391,     0.97391,     0.97391,     0.97391,     0.97391,     0.97391,     0.97391,\n",
            "            0.97391,     0.97391,     0.97391,     0.97391,     0.97391,     0.97391,     0.97391,     0.97391,     0.97391,     0.97391,     0.97391,     0.97391,     0.97391,     0.97391,     0.97391,     0.97391,     0.97391,     0.97391,     0.97391,     0.97391,     0.97391,     0.97391,     0.97391,\n",
            "            0.97391,     0.97391,     0.97391,     0.97391,     0.97391,     0.97391,     0.97391,     0.97391,     0.97391,     0.97391,     0.97391,     0.97391,     0.97391,     0.97391,     0.97391,     0.97391,     0.97391,     0.97391,     0.97391,     0.97391,     0.97391,     0.97391,     0.97391,\n",
            "            0.97391,      0.9661,      0.9661,      0.9661,      0.9661,      0.9661,      0.9661,      0.9661,      0.9661,      0.9661,      0.9661,      0.9661,      0.9661,      0.9661,      0.9661,     0.95868,     0.95868,     0.95868,     0.95868,     0.95868,     0.95868,     0.95868,     0.95868,\n",
            "            0.95868,     0.95868,     0.95868,     0.95868,     0.95868,     0.95868,     0.94355,     0.94355,     0.94355,     0.94355,     0.94355,     0.94355,     0.94355,     0.92913,     0.92913,     0.92913,     0.92913,     0.92913,     0.92913,     0.92913,     0.92248,     0.92248,     0.92248,\n",
            "            0.92248,     0.92248,     0.92248,     0.92248,     0.90226,     0.90226,     0.90226,     0.90226,     0.90226,     0.90226,     0.90226,      0.8662,      0.8662,      0.8662,      0.8662,      0.8662,      0.8662,      0.8662,      0.8662,      0.8662,      0.8662,      0.8662,      0.8662,\n",
            "             0.8662,      0.8662,      0.8662,      0.8662,      0.8662,      0.8662,      0.8662,      0.8662,      0.8662,     0.82667,     0.82667,     0.82667,     0.82667,     0.82667,     0.82667,     0.82667,     0.81169,     0.81169,     0.81169,     0.81169,     0.81169,     0.81169,     0.81169,\n",
            "                0.7,         0.7,         0.7,         0.7,         0.7,         0.7,         0.7,      0.6165,      0.6165,      0.6165,      0.6165,      0.6165,      0.6165,      0.6165,      0.4708,      0.4708,      0.4708,      0.4708,      0.4708,      0.4708,      0.4708,      0.4708,      0.4708,\n",
            "             0.4708,      0.4708,      0.4708,      0.4708,      0.4708,     0.33592,     0.33592,     0.33592,     0.33592,     0.33592,     0.33592,     0.33592,     0.28692,     0.28374,     0.28055,     0.27736,     0.27417,     0.27098,      0.2678,     0.26461,     0.26142,     0.25823,     0.25504,\n",
            "            0.25186,     0.24867,     0.24548,     0.24229,      0.2391,     0.23592,     0.23273,     0.22954,     0.22635,     0.22316,     0.21997,     0.21679,      0.2136,     0.21041,     0.20722,     0.20403,     0.20085,     0.19766,     0.19447,     0.19128,     0.18809,     0.18491,     0.18172,\n",
            "            0.17853,     0.17534,     0.17215,     0.16897,     0.16578,     0.16259,      0.1594,     0.15621,     0.15303,     0.14984,     0.14665,     0.14346,     0.14027,     0.13709,      0.1339,     0.13071,     0.12752,     0.12433,     0.12115,     0.11796,     0.11477,     0.11158,     0.10839,\n",
            "            0.10521,     0.10202,    0.098829,    0.095641,    0.092453,    0.089265,    0.086077,    0.082889,    0.079701,    0.076513,    0.073325,    0.070137,    0.066949,    0.063761,    0.060573,    0.057385,    0.054197,    0.051009,    0.047821,    0.044633,    0.041445,    0.038257,    0.035068,\n",
            "            0.03188,    0.028692,    0.025504,    0.022316,    0.019128,     0.01594,    0.012752,   0.0095641,   0.0063761,    0.003188,           0]])\n",
            "px: array([          0,    0.001001,    0.002002,    0.003003,    0.004004,    0.005005,    0.006006,    0.007007,    0.008008,    0.009009,     0.01001,    0.011011,    0.012012,    0.013013,    0.014014,    0.015015,    0.016016,    0.017017,    0.018018,    0.019019,     0.02002,    0.021021,    0.022022,    0.023023,\n",
            "          0.024024,    0.025025,    0.026026,    0.027027,    0.028028,    0.029029,     0.03003,    0.031031,    0.032032,    0.033033,    0.034034,    0.035035,    0.036036,    0.037037,    0.038038,    0.039039,     0.04004,    0.041041,    0.042042,    0.043043,    0.044044,    0.045045,    0.046046,    0.047047,\n",
            "          0.048048,    0.049049,     0.05005,    0.051051,    0.052052,    0.053053,    0.054054,    0.055055,    0.056056,    0.057057,    0.058058,    0.059059,     0.06006,    0.061061,    0.062062,    0.063063,    0.064064,    0.065065,    0.066066,    0.067067,    0.068068,    0.069069,     0.07007,    0.071071,\n",
            "          0.072072,    0.073073,    0.074074,    0.075075,    0.076076,    0.077077,    0.078078,    0.079079,     0.08008,    0.081081,    0.082082,    0.083083,    0.084084,    0.085085,    0.086086,    0.087087,    0.088088,    0.089089,     0.09009,    0.091091,    0.092092,    0.093093,    0.094094,    0.095095,\n",
            "          0.096096,    0.097097,    0.098098,    0.099099,      0.1001,      0.1011,      0.1021,      0.1031,      0.1041,     0.10511,     0.10611,     0.10711,     0.10811,     0.10911,     0.11011,     0.11111,     0.11211,     0.11311,     0.11411,     0.11512,     0.11612,     0.11712,     0.11812,     0.11912,\n",
            "           0.12012,     0.12112,     0.12212,     0.12312,     0.12412,     0.12513,     0.12613,     0.12713,     0.12813,     0.12913,     0.13013,     0.13113,     0.13213,     0.13313,     0.13413,     0.13514,     0.13614,     0.13714,     0.13814,     0.13914,     0.14014,     0.14114,     0.14214,     0.14314,\n",
            "           0.14414,     0.14515,     0.14615,     0.14715,     0.14815,     0.14915,     0.15015,     0.15115,     0.15215,     0.15315,     0.15415,     0.15516,     0.15616,     0.15716,     0.15816,     0.15916,     0.16016,     0.16116,     0.16216,     0.16316,     0.16416,     0.16517,     0.16617,     0.16717,\n",
            "           0.16817,     0.16917,     0.17017,     0.17117,     0.17217,     0.17317,     0.17417,     0.17518,     0.17618,     0.17718,     0.17818,     0.17918,     0.18018,     0.18118,     0.18218,     0.18318,     0.18418,     0.18519,     0.18619,     0.18719,     0.18819,     0.18919,     0.19019,     0.19119,\n",
            "           0.19219,     0.19319,     0.19419,      0.1952,      0.1962,      0.1972,      0.1982,      0.1992,      0.2002,      0.2012,      0.2022,      0.2032,      0.2042,     0.20521,     0.20621,     0.20721,     0.20821,     0.20921,     0.21021,     0.21121,     0.21221,     0.21321,     0.21421,     0.21522,\n",
            "           0.21622,     0.21722,     0.21822,     0.21922,     0.22022,     0.22122,     0.22222,     0.22322,     0.22422,     0.22523,     0.22623,     0.22723,     0.22823,     0.22923,     0.23023,     0.23123,     0.23223,     0.23323,     0.23423,     0.23524,     0.23624,     0.23724,     0.23824,     0.23924,\n",
            "           0.24024,     0.24124,     0.24224,     0.24324,     0.24424,     0.24525,     0.24625,     0.24725,     0.24825,     0.24925,     0.25025,     0.25125,     0.25225,     0.25325,     0.25425,     0.25526,     0.25626,     0.25726,     0.25826,     0.25926,     0.26026,     0.26126,     0.26226,     0.26326,\n",
            "           0.26426,     0.26527,     0.26627,     0.26727,     0.26827,     0.26927,     0.27027,     0.27127,     0.27227,     0.27327,     0.27427,     0.27528,     0.27628,     0.27728,     0.27828,     0.27928,     0.28028,     0.28128,     0.28228,     0.28328,     0.28428,     0.28529,     0.28629,     0.28729,\n",
            "           0.28829,     0.28929,     0.29029,     0.29129,     0.29229,     0.29329,     0.29429,      0.2953,      0.2963,      0.2973,      0.2983,      0.2993,      0.3003,      0.3013,      0.3023,      0.3033,      0.3043,     0.30531,     0.30631,     0.30731,     0.30831,     0.30931,     0.31031,     0.31131,\n",
            "           0.31231,     0.31331,     0.31431,     0.31532,     0.31632,     0.31732,     0.31832,     0.31932,     0.32032,     0.32132,     0.32232,     0.32332,     0.32432,     0.32533,     0.32633,     0.32733,     0.32833,     0.32933,     0.33033,     0.33133,     0.33233,     0.33333,     0.33433,     0.33534,\n",
            "           0.33634,     0.33734,     0.33834,     0.33934,     0.34034,     0.34134,     0.34234,     0.34334,     0.34434,     0.34535,     0.34635,     0.34735,     0.34835,     0.34935,     0.35035,     0.35135,     0.35235,     0.35335,     0.35435,     0.35536,     0.35636,     0.35736,     0.35836,     0.35936,\n",
            "           0.36036,     0.36136,     0.36236,     0.36336,     0.36436,     0.36537,     0.36637,     0.36737,     0.36837,     0.36937,     0.37037,     0.37137,     0.37237,     0.37337,     0.37437,     0.37538,     0.37638,     0.37738,     0.37838,     0.37938,     0.38038,     0.38138,     0.38238,     0.38338,\n",
            "           0.38438,     0.38539,     0.38639,     0.38739,     0.38839,     0.38939,     0.39039,     0.39139,     0.39239,     0.39339,     0.39439,      0.3954,      0.3964,      0.3974,      0.3984,      0.3994,      0.4004,      0.4014,      0.4024,      0.4034,      0.4044,     0.40541,     0.40641,     0.40741,\n",
            "           0.40841,     0.40941,     0.41041,     0.41141,     0.41241,     0.41341,     0.41441,     0.41542,     0.41642,     0.41742,     0.41842,     0.41942,     0.42042,     0.42142,     0.42242,     0.42342,     0.42442,     0.42543,     0.42643,     0.42743,     0.42843,     0.42943,     0.43043,     0.43143,\n",
            "           0.43243,     0.43343,     0.43443,     0.43544,     0.43644,     0.43744,     0.43844,     0.43944,     0.44044,     0.44144,     0.44244,     0.44344,     0.44444,     0.44545,     0.44645,     0.44745,     0.44845,     0.44945,     0.45045,     0.45145,     0.45245,     0.45345,     0.45445,     0.45546,\n",
            "           0.45646,     0.45746,     0.45846,     0.45946,     0.46046,     0.46146,     0.46246,     0.46346,     0.46446,     0.46547,     0.46647,     0.46747,     0.46847,     0.46947,     0.47047,     0.47147,     0.47247,     0.47347,     0.47447,     0.47548,     0.47648,     0.47748,     0.47848,     0.47948,\n",
            "           0.48048,     0.48148,     0.48248,     0.48348,     0.48448,     0.48549,     0.48649,     0.48749,     0.48849,     0.48949,     0.49049,     0.49149,     0.49249,     0.49349,     0.49449,      0.4955,      0.4965,      0.4975,      0.4985,      0.4995,      0.5005,      0.5015,      0.5025,      0.5035,\n",
            "            0.5045,     0.50551,     0.50651,     0.50751,     0.50851,     0.50951,     0.51051,     0.51151,     0.51251,     0.51351,     0.51451,     0.51552,     0.51652,     0.51752,     0.51852,     0.51952,     0.52052,     0.52152,     0.52252,     0.52352,     0.52452,     0.52553,     0.52653,     0.52753,\n",
            "           0.52853,     0.52953,     0.53053,     0.53153,     0.53253,     0.53353,     0.53453,     0.53554,     0.53654,     0.53754,     0.53854,     0.53954,     0.54054,     0.54154,     0.54254,     0.54354,     0.54454,     0.54555,     0.54655,     0.54755,     0.54855,     0.54955,     0.55055,     0.55155,\n",
            "           0.55255,     0.55355,     0.55455,     0.55556,     0.55656,     0.55756,     0.55856,     0.55956,     0.56056,     0.56156,     0.56256,     0.56356,     0.56456,     0.56557,     0.56657,     0.56757,     0.56857,     0.56957,     0.57057,     0.57157,     0.57257,     0.57357,     0.57457,     0.57558,\n",
            "           0.57658,     0.57758,     0.57858,     0.57958,     0.58058,     0.58158,     0.58258,     0.58358,     0.58458,     0.58559,     0.58659,     0.58759,     0.58859,     0.58959,     0.59059,     0.59159,     0.59259,     0.59359,     0.59459,      0.5956,      0.5966,      0.5976,      0.5986,      0.5996,\n",
            "            0.6006,      0.6016,      0.6026,      0.6036,      0.6046,     0.60561,     0.60661,     0.60761,     0.60861,     0.60961,     0.61061,     0.61161,     0.61261,     0.61361,     0.61461,     0.61562,     0.61662,     0.61762,     0.61862,     0.61962,     0.62062,     0.62162,     0.62262,     0.62362,\n",
            "           0.62462,     0.62563,     0.62663,     0.62763,     0.62863,     0.62963,     0.63063,     0.63163,     0.63263,     0.63363,     0.63463,     0.63564,     0.63664,     0.63764,     0.63864,     0.63964,     0.64064,     0.64164,     0.64264,     0.64364,     0.64464,     0.64565,     0.64665,     0.64765,\n",
            "           0.64865,     0.64965,     0.65065,     0.65165,     0.65265,     0.65365,     0.65465,     0.65566,     0.65666,     0.65766,     0.65866,     0.65966,     0.66066,     0.66166,     0.66266,     0.66366,     0.66466,     0.66567,     0.66667,     0.66767,     0.66867,     0.66967,     0.67067,     0.67167,\n",
            "           0.67267,     0.67367,     0.67467,     0.67568,     0.67668,     0.67768,     0.67868,     0.67968,     0.68068,     0.68168,     0.68268,     0.68368,     0.68468,     0.68569,     0.68669,     0.68769,     0.68869,     0.68969,     0.69069,     0.69169,     0.69269,     0.69369,     0.69469,      0.6957,\n",
            "            0.6967,      0.6977,      0.6987,      0.6997,      0.7007,      0.7017,      0.7027,      0.7037,      0.7047,     0.70571,     0.70671,     0.70771,     0.70871,     0.70971,     0.71071,     0.71171,     0.71271,     0.71371,     0.71471,     0.71572,     0.71672,     0.71772,     0.71872,     0.71972,\n",
            "           0.72072,     0.72172,     0.72272,     0.72372,     0.72472,     0.72573,     0.72673,     0.72773,     0.72873,     0.72973,     0.73073,     0.73173,     0.73273,     0.73373,     0.73473,     0.73574,     0.73674,     0.73774,     0.73874,     0.73974,     0.74074,     0.74174,     0.74274,     0.74374,\n",
            "           0.74474,     0.74575,     0.74675,     0.74775,     0.74875,     0.74975,     0.75075,     0.75175,     0.75275,     0.75375,     0.75475,     0.75576,     0.75676,     0.75776,     0.75876,     0.75976,     0.76076,     0.76176,     0.76276,     0.76376,     0.76476,     0.76577,     0.76677,     0.76777,\n",
            "           0.76877,     0.76977,     0.77077,     0.77177,     0.77277,     0.77377,     0.77477,     0.77578,     0.77678,     0.77778,     0.77878,     0.77978,     0.78078,     0.78178,     0.78278,     0.78378,     0.78478,     0.78579,     0.78679,     0.78779,     0.78879,     0.78979,     0.79079,     0.79179,\n",
            "           0.79279,     0.79379,     0.79479,      0.7958,      0.7968,      0.7978,      0.7988,      0.7998,      0.8008,      0.8018,      0.8028,      0.8038,      0.8048,     0.80581,     0.80681,     0.80781,     0.80881,     0.80981,     0.81081,     0.81181,     0.81281,     0.81381,     0.81481,     0.81582,\n",
            "           0.81682,     0.81782,     0.81882,     0.81982,     0.82082,     0.82182,     0.82282,     0.82382,     0.82482,     0.82583,     0.82683,     0.82783,     0.82883,     0.82983,     0.83083,     0.83183,     0.83283,     0.83383,     0.83483,     0.83584,     0.83684,     0.83784,     0.83884,     0.83984,\n",
            "           0.84084,     0.84184,     0.84284,     0.84384,     0.84484,     0.84585,     0.84685,     0.84785,     0.84885,     0.84985,     0.85085,     0.85185,     0.85285,     0.85385,     0.85485,     0.85586,     0.85686,     0.85786,     0.85886,     0.85986,     0.86086,     0.86186,     0.86286,     0.86386,\n",
            "           0.86486,     0.86587,     0.86687,     0.86787,     0.86887,     0.86987,     0.87087,     0.87187,     0.87287,     0.87387,     0.87487,     0.87588,     0.87688,     0.87788,     0.87888,     0.87988,     0.88088,     0.88188,     0.88288,     0.88388,     0.88488,     0.88589,     0.88689,     0.88789,\n",
            "           0.88889,     0.88989,     0.89089,     0.89189,     0.89289,     0.89389,     0.89489,      0.8959,      0.8969,      0.8979,      0.8989,      0.8999,      0.9009,      0.9019,      0.9029,      0.9039,      0.9049,     0.90591,     0.90691,     0.90791,     0.90891,     0.90991,     0.91091,     0.91191,\n",
            "           0.91291,     0.91391,     0.91491,     0.91592,     0.91692,     0.91792,     0.91892,     0.91992,     0.92092,     0.92192,     0.92292,     0.92392,     0.92492,     0.92593,     0.92693,     0.92793,     0.92893,     0.92993,     0.93093,     0.93193,     0.93293,     0.93393,     0.93493,     0.93594,\n",
            "           0.93694,     0.93794,     0.93894,     0.93994,     0.94094,     0.94194,     0.94294,     0.94394,     0.94494,     0.94595,     0.94695,     0.94795,     0.94895,     0.94995,     0.95095,     0.95195,     0.95295,     0.95395,     0.95495,     0.95596,     0.95696,     0.95796,     0.95896,     0.95996,\n",
            "           0.96096,     0.96196,     0.96296,     0.96396,     0.96496,     0.96597,     0.96697,     0.96797,     0.96897,     0.96997,     0.97097,     0.97197,     0.97297,     0.97397,     0.97497,     0.97598,     0.97698,     0.97798,     0.97898,     0.97998,     0.98098,     0.98198,     0.98298,     0.98398,\n",
            "           0.98498,     0.98599,     0.98699,     0.98799,     0.98899,     0.98999,     0.99099,     0.99199,     0.99299,     0.99399,     0.99499,       0.996,       0.997,       0.998,       0.999,           1])\n",
            "r: array([    0.82517])\n",
            "r_curve: array([[    0.90909,     0.90909,      0.9021,      0.9021,     0.88811,     0.88811,     0.88811,     0.88811,     0.88811,     0.88236,     0.88112,     0.88112,     0.88112,     0.88112,     0.88112,     0.88112,     0.88112,     0.88112,     0.88112,     0.88112,     0.88112,     0.88112,     0.88112,\n",
            "            0.88112,     0.88112,     0.87413,     0.87413,     0.87413,     0.87413,     0.87413,     0.87413,     0.87413,     0.87413,     0.87413,     0.87413,     0.87413,     0.87413,     0.87413,     0.87413,     0.87413,     0.87413,     0.87413,     0.87413,     0.87413,     0.87413,     0.87413,\n",
            "            0.87413,     0.87413,     0.87413,     0.87383,     0.87319,     0.87255,      0.8719,     0.87126,     0.87062,     0.86997,     0.86933,     0.86869,     0.86805,      0.8674,     0.86713,     0.86713,     0.86713,     0.86713,     0.86394,     0.86014,     0.86014,     0.86014,     0.86014,\n",
            "            0.86014,     0.86014,     0.86014,     0.86014,     0.86014,     0.86014,     0.86014,     0.86014,     0.86014,     0.86014,     0.86014,     0.86014,     0.86014,     0.86014,     0.86014,     0.86014,     0.86014,     0.86014,     0.86014,     0.86014,     0.86014,     0.86014,     0.86014,\n",
            "            0.86014,     0.86014,     0.86014,     0.86014,     0.86014,     0.86014,     0.86014,     0.86014,     0.86014,     0.86014,     0.86014,     0.86014,     0.86014,     0.86014,     0.86014,     0.86014,     0.86014,     0.86014,     0.86014,     0.86014,     0.86014,     0.86014,     0.86014,\n",
            "            0.86014,     0.86014,     0.86014,     0.86014,     0.86014,     0.86014,     0.86014,     0.86014,     0.86014,     0.86014,     0.86014,     0.86014,     0.86014,     0.86014,     0.86014,     0.86014,     0.86014,     0.86014,     0.86014,     0.86014,     0.86014,     0.86014,     0.86014,\n",
            "            0.86014,     0.86014,     0.86014,     0.86014,     0.86014,     0.86014,     0.86014,     0.86014,     0.86014,      0.8589,     0.85301,     0.85241,     0.85182,     0.85122,     0.85062,     0.85002,     0.84943,     0.84883,     0.84823,     0.84763,     0.84704,     0.84644,     0.84596,\n",
            "            0.84559,     0.84521,     0.84484,     0.84447,     0.84409,     0.84372,     0.84335,     0.84297,      0.8426,     0.84223,     0.84185,     0.84148,     0.84111,     0.84073,     0.84036,     0.83999,     0.83961,     0.83924,     0.83916,     0.83916,     0.83916,     0.83916,     0.83916,\n",
            "            0.83916,     0.83916,     0.83916,     0.83916,     0.83916,     0.83916,     0.83916,     0.83916,     0.83916,     0.83916,     0.83916,     0.83916,     0.83916,     0.83916,     0.83916,     0.83916,     0.83916,     0.83916,     0.83916,     0.83916,     0.83916,     0.83916,     0.83916,\n",
            "            0.83916,     0.83916,     0.83916,     0.83916,     0.83916,     0.83916,     0.83916,     0.83916,     0.83916,     0.83916,     0.83916,     0.83916,     0.83916,     0.83916,     0.83916,     0.83916,     0.83916,     0.83916,     0.83916,     0.83916,     0.83916,     0.83916,     0.83916,\n",
            "            0.83916,     0.83916,     0.83916,     0.83916,     0.83916,     0.83916,     0.83916,     0.83916,     0.83916,     0.83916,     0.83916,     0.83916,     0.83916,     0.83916,     0.83916,     0.83916,     0.83916,     0.83916,     0.83916,     0.83916,     0.83916,     0.83916,     0.83916,\n",
            "            0.83916,     0.83916,     0.83916,     0.83916,     0.83916,     0.83916,     0.83916,     0.83916,     0.83916,     0.83916,     0.83916,     0.83916,     0.83916,     0.83916,     0.83916,     0.83916,     0.83916,     0.83912,     0.83832,     0.83751,     0.83671,      0.8359,     0.83509,\n",
            "            0.83429,     0.83348,     0.83268,     0.83217,     0.83217,     0.83217,     0.83217,     0.83217,     0.83217,     0.83217,     0.83217,     0.83217,     0.83217,     0.83217,     0.83217,     0.83217,     0.83217,     0.83217,     0.83217,     0.83217,     0.83217,     0.83217,     0.83217,\n",
            "            0.83217,     0.83217,     0.83217,     0.83217,     0.83217,     0.83217,     0.83217,     0.83217,     0.83217,     0.83217,     0.83217,     0.83217,     0.83217,     0.83217,     0.83217,     0.83217,     0.83217,     0.83217,     0.83217,     0.83217,     0.83217,     0.83217,     0.83217,\n",
            "            0.83217,     0.83217,     0.83217,     0.83217,     0.83217,     0.83217,     0.83217,     0.83209,     0.83176,     0.83144,     0.83112,      0.8308,     0.83048,     0.83016,     0.82984,     0.82952,      0.8292,     0.82888,     0.82856,     0.82824,     0.82792,      0.8276,     0.82727,\n",
            "            0.82695,     0.82663,     0.82631,     0.82599,     0.82567,     0.82535,     0.82517,     0.82517,     0.82517,     0.82517,     0.82517,     0.82517,     0.82517,     0.82517,     0.82517,     0.82517,     0.82517,     0.82517,     0.82517,     0.82517,     0.82517,     0.82517,     0.82517,\n",
            "            0.82517,     0.82517,     0.82517,     0.82517,     0.82517,     0.82517,     0.82517,     0.82517,     0.82517,     0.82517,     0.82517,      0.8251,     0.82502,     0.82494,     0.82486,     0.82478,      0.8247,     0.82462,     0.82454,     0.82446,     0.82438,      0.8243,     0.82422,\n",
            "            0.82415,     0.82407,     0.82399,     0.82391,     0.82383,     0.82375,     0.82367,     0.82359,     0.82351,     0.82343,     0.82335,     0.82327,     0.82319,     0.82311,     0.82303,     0.82295,     0.82287,     0.82279,     0.82271,     0.82263,     0.82255,     0.82247,     0.82239,\n",
            "            0.82231,     0.82223,     0.82215,     0.82207,     0.82199,     0.82191,     0.82183,     0.82175,     0.82167,     0.82159,     0.82151,     0.82143,     0.82135,     0.82127,      0.8212,     0.82112,     0.82104,     0.82096,     0.82088,      0.8208,     0.82072,     0.82064,     0.82056,\n",
            "            0.82048,      0.8204,     0.82032,     0.82024,     0.82016,     0.82008,        0.82,     0.81992,     0.81984,     0.81976,     0.81968,      0.8196,     0.81952,     0.81944,     0.81936,     0.81928,      0.8192,     0.81912,     0.81904,     0.81896,     0.81888,      0.8188,     0.81872,\n",
            "            0.81864,     0.81856,     0.81848,      0.8184,     0.81833,     0.81825,     0.81818,     0.81818,     0.81818,     0.81818,     0.81818,     0.81818,     0.81818,     0.81762,     0.81666,      0.8157,     0.81474,     0.81378,     0.81281,     0.81185,     0.81119,     0.81119,     0.81119,\n",
            "            0.81119,     0.81119,     0.81119,     0.81119,     0.81119,     0.81119,     0.81119,     0.81119,     0.81119,     0.81119,     0.81119,     0.81119,     0.81119,     0.81119,     0.81119,     0.81119,     0.81055,      0.8098,     0.80905,     0.80829,     0.80754,     0.80679,     0.80604,\n",
            "            0.80529,     0.80454,     0.80379,     0.80305,     0.80231,     0.80157,     0.80083,     0.80009,     0.79935,      0.7986,     0.79786,      0.7972,      0.7972,      0.7972,      0.7972,      0.7972,      0.7972,      0.7972,      0.7972,      0.7972,      0.7972,      0.7972,      0.7972,\n",
            "             0.7972,      0.7972,      0.7972,      0.7972,     0.79712,     0.79646,     0.79581,     0.79515,      0.7945,     0.79384,     0.79319,     0.79254,     0.79188,     0.79123,     0.79057,     0.78998,     0.78946,     0.78893,     0.78841,     0.78789,     0.78737,     0.78684,     0.78632,\n",
            "             0.7858,     0.78528,     0.78475,     0.78423,     0.78371,     0.78322,     0.78322,     0.78322,     0.78322,     0.78322,     0.78322,     0.78322,     0.78322,     0.78322,     0.78322,     0.78322,     0.78322,     0.78322,     0.78322,     0.78322,     0.78322,     0.78322,     0.78322,\n",
            "            0.78322,     0.78322,     0.78322,     0.78322,     0.78322,     0.78322,     0.78322,     0.78322,     0.78322,     0.78322,     0.78322,     0.78322,     0.78322,     0.78278,     0.78197,     0.78116,     0.78036,     0.77955,     0.77874,     0.77793,     0.77713,     0.77632,     0.77604,\n",
            "            0.77583,     0.77562,     0.77542,     0.77521,       0.775,     0.77479,     0.77458,     0.77437,     0.77417,     0.77396,     0.77375,     0.77354,     0.77333,     0.77313,     0.77292,     0.77271,      0.7725,     0.77229,     0.77208,     0.77188,     0.77167,     0.77146,     0.77125,\n",
            "            0.77104,     0.77084,     0.77063,     0.77042,     0.77021,        0.77,     0.76979,     0.76959,     0.76938,       0.769,     0.76819,     0.76738,     0.76657,     0.76576,     0.76496,     0.76415,     0.76334,     0.76253,     0.75511,     0.75405,     0.75299,     0.75193,     0.75087,\n",
            "            0.74981,     0.74875,     0.74782,       0.747,     0.74618,     0.74536,     0.74454,     0.74371,     0.74289,     0.74207,     0.74125,     0.74071,     0.74018,     0.73964,      0.7391,     0.73856,     0.73802,     0.73748,     0.73694,      0.7364,     0.73586,     0.73532,     0.73478,\n",
            "             0.7342,     0.73282,     0.73143,     0.73005,     0.72866,     0.72728,     0.72572,     0.72417,     0.72262,     0.72107,     0.71869,     0.71543,      0.7132,     0.71294,     0.71268,     0.71242,     0.71216,      0.7119,     0.71164,     0.71138,     0.71112,     0.71086,      0.7106,\n",
            "            0.71034,     0.71008,     0.70982,     0.70957,     0.70931,     0.70905,     0.70879,     0.70853,     0.70827,     0.70801,     0.70775,     0.70749,     0.70723,     0.70697,     0.70671,     0.70645,     0.70629,     0.70532,     0.70246,      0.6996,      0.6993,      0.6993,     0.69685,\n",
            "            0.69384,     0.69131,     0.68926,     0.68721,     0.68507,     0.68189,     0.67871,     0.67786,     0.67733,      0.6768,     0.67628,     0.67575,     0.67522,     0.67469,     0.67416,     0.67364,     0.67311,     0.67258,     0.67205,     0.67153,     0.67069,     0.66966,     0.66864,\n",
            "            0.66762,     0.66659,     0.66557,     0.66455,     0.66344,      0.6623,     0.66117,     0.66004,     0.65891,     0.65778,     0.65571,     0.65307,     0.65042,     0.64968,     0.64899,     0.64829,      0.6476,     0.64691,     0.64622,     0.64553,     0.64484,     0.64414,     0.64345,\n",
            "            0.63892,     0.61879,     0.60983,     0.60726,     0.60031,      0.5985,     0.59669,     0.59489,     0.59187,     0.58841,     0.58622,     0.58454,     0.58286,     0.58118,     0.57916,     0.57688,      0.5746,     0.57143,     0.56732,     0.55731,     0.55178,     0.55086,     0.54994,\n",
            "            0.54902,     0.54811,     0.54719,     0.54627,     0.54508,     0.54174,     0.53807,     0.51622,     0.50953,     0.50693,     0.50433,     0.49591,     0.49237,     0.48303,     0.46044,     0.45234,     0.44619,     0.44031,      0.4357,     0.42942,     0.41941,     0.41626,     0.41312,\n",
            "            0.41121,     0.40955,     0.40788,     0.40622,     0.40503,     0.40411,      0.4032,     0.40228,     0.40137,     0.40046,     0.39954,     0.39863,     0.39248,     0.38923,     0.38646,     0.38035,     0.35857,      0.3424,     0.34063,     0.33886,     0.33709,     0.33512,     0.33229,\n",
            "            0.32947,     0.32798,     0.32701,     0.32605,     0.32508,     0.32412,     0.32315,     0.32219,     0.31934,     0.31456,      0.3125,     0.31044,     0.30837,     0.29246,      0.2892,     0.28469,       0.272,     0.26345,     0.25896,     0.25492,      0.2498,     0.23793,     0.22746,\n",
            "            0.22123,     0.21811,     0.20457,       0.187,     0.17985,     0.17384,     0.17142,     0.16899,      0.1597,     0.15687,     0.15403,     0.13978,     0.13786,     0.13594,     0.13402,     0.13057,     0.11846,     0.10803,     0.10343,     0.10162,    0.099812,    0.098002,    0.090036,\n",
            "           0.089011,    0.087986,    0.086961,    0.085937,    0.084912,     0.08384,    0.081139,    0.078437,    0.068666,    0.059887,     0.05617,    0.050433,    0.041127,    0.039241,    0.037356,     0.03547,    0.033649,    0.031851,    0.030053,    0.028256,     0.02658,    0.024928,    0.023276,\n",
            "           0.021623,    0.020414,    0.019487,    0.018561,    0.017634,    0.016707,    0.015781,    0.014854,     0.01382,    0.011176,   0.0085324,           0,           0,           0,           0,           0,           0,           0,           0,           0,           0,           0,           0,\n",
            "                  0,           0,           0,           0,           0,           0,           0,           0,           0,           0,           0,           0,           0,           0,           0,           0,           0,           0,           0,           0,           0,           0,           0,\n",
            "                  0,           0,           0,           0,           0,           0,           0,           0,           0,           0,           0,           0,           0,           0,           0,           0,           0,           0,           0,           0,           0,           0,           0,\n",
            "                  0,           0,           0,           0,           0,           0,           0,           0,           0,           0,           0,           0,           0,           0,           0,           0,           0,           0,           0,           0,           0,           0,           0,\n",
            "                  0,           0,           0,           0,           0,           0,           0,           0,           0,           0,           0]])>\n",
            "Mean average precision: 0.5115017588183784\n",
            "Mean average precision at IoU=0.50: 0.8940292006207968\n",
            "Mean average precision at IoU=0.75: 0.5341058938411131\n",
            "Mean average precision for different IoU thresholds: [     0.5115]\n",
            "Mean results for different metrics: <bound method Metric.mean_results of ultralytics.utils.metrics.Metric object with attributes:\n",
            "\n",
            "all_ap: array([[    0.89403,     0.86437,     0.85468,     0.78051,     0.61995,     0.53411,     0.33998,     0.17881,    0.048572,           0]])\n",
            "ap: array([     0.5115])\n",
            "ap50: array([    0.89403])\n",
            "ap_class_index: array([0])\n",
            "curves: []\n",
            "curves_results: [[array([          0,    0.001001,    0.002002,    0.003003,    0.004004,    0.005005,    0.006006,    0.007007,    0.008008,    0.009009,     0.01001,    0.011011,    0.012012,    0.013013,    0.014014,    0.015015,    0.016016,    0.017017,    0.018018,    0.019019,     0.02002,    0.021021,    0.022022,    0.023023,\n",
            "          0.024024,    0.025025,    0.026026,    0.027027,    0.028028,    0.029029,     0.03003,    0.031031,    0.032032,    0.033033,    0.034034,    0.035035,    0.036036,    0.037037,    0.038038,    0.039039,     0.04004,    0.041041,    0.042042,    0.043043,    0.044044,    0.045045,    0.046046,    0.047047,\n",
            "          0.048048,    0.049049,     0.05005,    0.051051,    0.052052,    0.053053,    0.054054,    0.055055,    0.056056,    0.057057,    0.058058,    0.059059,     0.06006,    0.061061,    0.062062,    0.063063,    0.064064,    0.065065,    0.066066,    0.067067,    0.068068,    0.069069,     0.07007,    0.071071,\n",
            "          0.072072,    0.073073,    0.074074,    0.075075,    0.076076,    0.077077,    0.078078,    0.079079,     0.08008,    0.081081,    0.082082,    0.083083,    0.084084,    0.085085,    0.086086,    0.087087,    0.088088,    0.089089,     0.09009,    0.091091,    0.092092,    0.093093,    0.094094,    0.095095,\n",
            "          0.096096,    0.097097,    0.098098,    0.099099,      0.1001,      0.1011,      0.1021,      0.1031,      0.1041,     0.10511,     0.10611,     0.10711,     0.10811,     0.10911,     0.11011,     0.11111,     0.11211,     0.11311,     0.11411,     0.11512,     0.11612,     0.11712,     0.11812,     0.11912,\n",
            "           0.12012,     0.12112,     0.12212,     0.12312,     0.12412,     0.12513,     0.12613,     0.12713,     0.12813,     0.12913,     0.13013,     0.13113,     0.13213,     0.13313,     0.13413,     0.13514,     0.13614,     0.13714,     0.13814,     0.13914,     0.14014,     0.14114,     0.14214,     0.14314,\n",
            "           0.14414,     0.14515,     0.14615,     0.14715,     0.14815,     0.14915,     0.15015,     0.15115,     0.15215,     0.15315,     0.15415,     0.15516,     0.15616,     0.15716,     0.15816,     0.15916,     0.16016,     0.16116,     0.16216,     0.16316,     0.16416,     0.16517,     0.16617,     0.16717,\n",
            "           0.16817,     0.16917,     0.17017,     0.17117,     0.17217,     0.17317,     0.17417,     0.17518,     0.17618,     0.17718,     0.17818,     0.17918,     0.18018,     0.18118,     0.18218,     0.18318,     0.18418,     0.18519,     0.18619,     0.18719,     0.18819,     0.18919,     0.19019,     0.19119,\n",
            "           0.19219,     0.19319,     0.19419,      0.1952,      0.1962,      0.1972,      0.1982,      0.1992,      0.2002,      0.2012,      0.2022,      0.2032,      0.2042,     0.20521,     0.20621,     0.20721,     0.20821,     0.20921,     0.21021,     0.21121,     0.21221,     0.21321,     0.21421,     0.21522,\n",
            "           0.21622,     0.21722,     0.21822,     0.21922,     0.22022,     0.22122,     0.22222,     0.22322,     0.22422,     0.22523,     0.22623,     0.22723,     0.22823,     0.22923,     0.23023,     0.23123,     0.23223,     0.23323,     0.23423,     0.23524,     0.23624,     0.23724,     0.23824,     0.23924,\n",
            "           0.24024,     0.24124,     0.24224,     0.24324,     0.24424,     0.24525,     0.24625,     0.24725,     0.24825,     0.24925,     0.25025,     0.25125,     0.25225,     0.25325,     0.25425,     0.25526,     0.25626,     0.25726,     0.25826,     0.25926,     0.26026,     0.26126,     0.26226,     0.26326,\n",
            "           0.26426,     0.26527,     0.26627,     0.26727,     0.26827,     0.26927,     0.27027,     0.27127,     0.27227,     0.27327,     0.27427,     0.27528,     0.27628,     0.27728,     0.27828,     0.27928,     0.28028,     0.28128,     0.28228,     0.28328,     0.28428,     0.28529,     0.28629,     0.28729,\n",
            "           0.28829,     0.28929,     0.29029,     0.29129,     0.29229,     0.29329,     0.29429,      0.2953,      0.2963,      0.2973,      0.2983,      0.2993,      0.3003,      0.3013,      0.3023,      0.3033,      0.3043,     0.30531,     0.30631,     0.30731,     0.30831,     0.30931,     0.31031,     0.31131,\n",
            "           0.31231,     0.31331,     0.31431,     0.31532,     0.31632,     0.31732,     0.31832,     0.31932,     0.32032,     0.32132,     0.32232,     0.32332,     0.32432,     0.32533,     0.32633,     0.32733,     0.32833,     0.32933,     0.33033,     0.33133,     0.33233,     0.33333,     0.33433,     0.33534,\n",
            "           0.33634,     0.33734,     0.33834,     0.33934,     0.34034,     0.34134,     0.34234,     0.34334,     0.34434,     0.34535,     0.34635,     0.34735,     0.34835,     0.34935,     0.35035,     0.35135,     0.35235,     0.35335,     0.35435,     0.35536,     0.35636,     0.35736,     0.35836,     0.35936,\n",
            "           0.36036,     0.36136,     0.36236,     0.36336,     0.36436,     0.36537,     0.36637,     0.36737,     0.36837,     0.36937,     0.37037,     0.37137,     0.37237,     0.37337,     0.37437,     0.37538,     0.37638,     0.37738,     0.37838,     0.37938,     0.38038,     0.38138,     0.38238,     0.38338,\n",
            "           0.38438,     0.38539,     0.38639,     0.38739,     0.38839,     0.38939,     0.39039,     0.39139,     0.39239,     0.39339,     0.39439,      0.3954,      0.3964,      0.3974,      0.3984,      0.3994,      0.4004,      0.4014,      0.4024,      0.4034,      0.4044,     0.40541,     0.40641,     0.40741,\n",
            "           0.40841,     0.40941,     0.41041,     0.41141,     0.41241,     0.41341,     0.41441,     0.41542,     0.41642,     0.41742,     0.41842,     0.41942,     0.42042,     0.42142,     0.42242,     0.42342,     0.42442,     0.42543,     0.42643,     0.42743,     0.42843,     0.42943,     0.43043,     0.43143,\n",
            "           0.43243,     0.43343,     0.43443,     0.43544,     0.43644,     0.43744,     0.43844,     0.43944,     0.44044,     0.44144,     0.44244,     0.44344,     0.44444,     0.44545,     0.44645,     0.44745,     0.44845,     0.44945,     0.45045,     0.45145,     0.45245,     0.45345,     0.45445,     0.45546,\n",
            "           0.45646,     0.45746,     0.45846,     0.45946,     0.46046,     0.46146,     0.46246,     0.46346,     0.46446,     0.46547,     0.46647,     0.46747,     0.46847,     0.46947,     0.47047,     0.47147,     0.47247,     0.47347,     0.47447,     0.47548,     0.47648,     0.47748,     0.47848,     0.47948,\n",
            "           0.48048,     0.48148,     0.48248,     0.48348,     0.48448,     0.48549,     0.48649,     0.48749,     0.48849,     0.48949,     0.49049,     0.49149,     0.49249,     0.49349,     0.49449,      0.4955,      0.4965,      0.4975,      0.4985,      0.4995,      0.5005,      0.5015,      0.5025,      0.5035,\n",
            "            0.5045,     0.50551,     0.50651,     0.50751,     0.50851,     0.50951,     0.51051,     0.51151,     0.51251,     0.51351,     0.51451,     0.51552,     0.51652,     0.51752,     0.51852,     0.51952,     0.52052,     0.52152,     0.52252,     0.52352,     0.52452,     0.52553,     0.52653,     0.52753,\n",
            "           0.52853,     0.52953,     0.53053,     0.53153,     0.53253,     0.53353,     0.53453,     0.53554,     0.53654,     0.53754,     0.53854,     0.53954,     0.54054,     0.54154,     0.54254,     0.54354,     0.54454,     0.54555,     0.54655,     0.54755,     0.54855,     0.54955,     0.55055,     0.55155,\n",
            "           0.55255,     0.55355,     0.55455,     0.55556,     0.55656,     0.55756,     0.55856,     0.55956,     0.56056,     0.56156,     0.56256,     0.56356,     0.56456,     0.56557,     0.56657,     0.56757,     0.56857,     0.56957,     0.57057,     0.57157,     0.57257,     0.57357,     0.57457,     0.57558,\n",
            "           0.57658,     0.57758,     0.57858,     0.57958,     0.58058,     0.58158,     0.58258,     0.58358,     0.58458,     0.58559,     0.58659,     0.58759,     0.58859,     0.58959,     0.59059,     0.59159,     0.59259,     0.59359,     0.59459,      0.5956,      0.5966,      0.5976,      0.5986,      0.5996,\n",
            "            0.6006,      0.6016,      0.6026,      0.6036,      0.6046,     0.60561,     0.60661,     0.60761,     0.60861,     0.60961,     0.61061,     0.61161,     0.61261,     0.61361,     0.61461,     0.61562,     0.61662,     0.61762,     0.61862,     0.61962,     0.62062,     0.62162,     0.62262,     0.62362,\n",
            "           0.62462,     0.62563,     0.62663,     0.62763,     0.62863,     0.62963,     0.63063,     0.63163,     0.63263,     0.63363,     0.63463,     0.63564,     0.63664,     0.63764,     0.63864,     0.63964,     0.64064,     0.64164,     0.64264,     0.64364,     0.64464,     0.64565,     0.64665,     0.64765,\n",
            "           0.64865,     0.64965,     0.65065,     0.65165,     0.65265,     0.65365,     0.65465,     0.65566,     0.65666,     0.65766,     0.65866,     0.65966,     0.66066,     0.66166,     0.66266,     0.66366,     0.66466,     0.66567,     0.66667,     0.66767,     0.66867,     0.66967,     0.67067,     0.67167,\n",
            "           0.67267,     0.67367,     0.67467,     0.67568,     0.67668,     0.67768,     0.67868,     0.67968,     0.68068,     0.68168,     0.68268,     0.68368,     0.68468,     0.68569,     0.68669,     0.68769,     0.68869,     0.68969,     0.69069,     0.69169,     0.69269,     0.69369,     0.69469,      0.6957,\n",
            "            0.6967,      0.6977,      0.6987,      0.6997,      0.7007,      0.7017,      0.7027,      0.7037,      0.7047,     0.70571,     0.70671,     0.70771,     0.70871,     0.70971,     0.71071,     0.71171,     0.71271,     0.71371,     0.71471,     0.71572,     0.71672,     0.71772,     0.71872,     0.71972,\n",
            "           0.72072,     0.72172,     0.72272,     0.72372,     0.72472,     0.72573,     0.72673,     0.72773,     0.72873,     0.72973,     0.73073,     0.73173,     0.73273,     0.73373,     0.73473,     0.73574,     0.73674,     0.73774,     0.73874,     0.73974,     0.74074,     0.74174,     0.74274,     0.74374,\n",
            "           0.74474,     0.74575,     0.74675,     0.74775,     0.74875,     0.74975,     0.75075,     0.75175,     0.75275,     0.75375,     0.75475,     0.75576,     0.75676,     0.75776,     0.75876,     0.75976,     0.76076,     0.76176,     0.76276,     0.76376,     0.76476,     0.76577,     0.76677,     0.76777,\n",
            "           0.76877,     0.76977,     0.77077,     0.77177,     0.77277,     0.77377,     0.77477,     0.77578,     0.77678,     0.77778,     0.77878,     0.77978,     0.78078,     0.78178,     0.78278,     0.78378,     0.78478,     0.78579,     0.78679,     0.78779,     0.78879,     0.78979,     0.79079,     0.79179,\n",
            "           0.79279,     0.79379,     0.79479,      0.7958,      0.7968,      0.7978,      0.7988,      0.7998,      0.8008,      0.8018,      0.8028,      0.8038,      0.8048,     0.80581,     0.80681,     0.80781,     0.80881,     0.80981,     0.81081,     0.81181,     0.81281,     0.81381,     0.81481,     0.81582,\n",
            "           0.81682,     0.81782,     0.81882,     0.81982,     0.82082,     0.82182,     0.82282,     0.82382,     0.82482,     0.82583,     0.82683,     0.82783,     0.82883,     0.82983,     0.83083,     0.83183,     0.83283,     0.83383,     0.83483,     0.83584,     0.83684,     0.83784,     0.83884,     0.83984,\n",
            "           0.84084,     0.84184,     0.84284,     0.84384,     0.84484,     0.84585,     0.84685,     0.84785,     0.84885,     0.84985,     0.85085,     0.85185,     0.85285,     0.85385,     0.85485,     0.85586,     0.85686,     0.85786,     0.85886,     0.85986,     0.86086,     0.86186,     0.86286,     0.86386,\n",
            "           0.86486,     0.86587,     0.86687,     0.86787,     0.86887,     0.86987,     0.87087,     0.87187,     0.87287,     0.87387,     0.87487,     0.87588,     0.87688,     0.87788,     0.87888,     0.87988,     0.88088,     0.88188,     0.88288,     0.88388,     0.88488,     0.88589,     0.88689,     0.88789,\n",
            "           0.88889,     0.88989,     0.89089,     0.89189,     0.89289,     0.89389,     0.89489,      0.8959,      0.8969,      0.8979,      0.8989,      0.8999,      0.9009,      0.9019,      0.9029,      0.9039,      0.9049,     0.90591,     0.90691,     0.90791,     0.90891,     0.90991,     0.91091,     0.91191,\n",
            "           0.91291,     0.91391,     0.91491,     0.91592,     0.91692,     0.91792,     0.91892,     0.91992,     0.92092,     0.92192,     0.92292,     0.92392,     0.92492,     0.92593,     0.92693,     0.92793,     0.92893,     0.92993,     0.93093,     0.93193,     0.93293,     0.93393,     0.93493,     0.93594,\n",
            "           0.93694,     0.93794,     0.93894,     0.93994,     0.94094,     0.94194,     0.94294,     0.94394,     0.94494,     0.94595,     0.94695,     0.94795,     0.94895,     0.94995,     0.95095,     0.95195,     0.95295,     0.95395,     0.95495,     0.95596,     0.95696,     0.95796,     0.95896,     0.95996,\n",
            "           0.96096,     0.96196,     0.96296,     0.96396,     0.96496,     0.96597,     0.96697,     0.96797,     0.96897,     0.96997,     0.97097,     0.97197,     0.97297,     0.97397,     0.97497,     0.97598,     0.97698,     0.97798,     0.97898,     0.97998,     0.98098,     0.98198,     0.98298,     0.98398,\n",
            "           0.98498,     0.98599,     0.98699,     0.98799,     0.98899,     0.98999,     0.99099,     0.99199,     0.99299,     0.99399,     0.99499,       0.996,       0.997,       0.998,       0.999,           1]), array([[          1,           1,           1,           1,           1,           1,           1,           1,           1,           1,           1,           1,           1,           1,           1,           1,           1,           1,           1,           1,           1,           1,           1,\n",
            "                  1,           1,           1,           1,           1,           1,           1,           1,           1,           1,           1,           1,           1,           1,           1,           1,           1,           1,           1,           1,           1,           1,           1,\n",
            "                  1,           1,           1,           1,           1,           1,           1,           1,           1,           1,           1,           1,           1,           1,           1,           1,           1,           1,           1,           1,           1,           1,           1,\n",
            "                  1,           1,           1,           1,           1,           1,           1,           1,           1,           1,           1,           1,           1,           1,           1,           1,           1,           1,           1,           1,           1,           1,           1,\n",
            "                  1,           1,           1,           1,           1,           1,           1,           1,           1,           1,           1,           1,           1,           1,           1,           1,           1,           1,           1,           1,           1,           1,           1,\n",
            "                  1,           1,           1,           1,           1,           1,           1,           1,           1,           1,           1,           1,           1,           1,           1,           1,           1,           1,           1,           1,           1,           1,           1,\n",
            "                  1,           1,           1,           1,           1,           1,           1,           1,           1,           1,           1,           1,           1,           1,           1,           1,           1,           1,           1,           1,           1,           1,           1,\n",
            "                  1,           1,           1,           1,           1,           1,           1,           1,           1,           1,           1,           1,           1,           1,           1,           1,           1,           1,           1,           1,           1,           1,           1,\n",
            "                  1,           1,           1,           1,           1,           1,           1,           1,           1,           1,           1,           1,           1,           1,           1,           1,           1,           1,           1,           1,           1,           1,           1,\n",
            "                  1,           1,           1,           1,           1,           1,           1,           1,           1,           1,           1,           1,           1,           1,           1,           1,           1,           1,           1,           1,           1,           1,           1,\n",
            "                  1,           1,           1,           1,           1,           1,           1,           1,           1,           1,           1,           1,           1,           1,           1,           1,           1,           1,           1,           1,           1,           1,           1,\n",
            "                  1,           1,           1,           1,           1,           1,           1,           1,           1,           1,           1,           1,           1,           1,           1,           1,           1,           1,           1,           1,           1,           1,           1,\n",
            "                  1,           1,           1,           1,           1,           1,           1,           1,           1,           1,           1,           1,           1,           1,           1,           1,           1,           1,           1,           1,           1,           1,           1,\n",
            "                  1,           1,           1,           1,           1,           1,           1,           1,           1,           1,           1,           1,           1,           1,           1,           1,           1,           1,           1,           1,           1,           1,           1,\n",
            "                  1,           1,           1,           1,           1,           1,           1,           1,           1,           1,           1,           1,           1,           1,           1,           1,           1,           1,           1,           1,           1,           1,           1,\n",
            "                  1,           1,           1,           1,           1,           1,           1,           1,           1,           1,           1,           1,           1,           1,           1,           1,           1,           1,           1,           1,           1,           1,           1,\n",
            "                  1,           1,           1,           1,           1,           1,           1,           1,           1,           1,           1,           1,           1,           1,           1,           1,           1,           1,           1,           1,           1,           1,           1,\n",
            "                  1,           1,           1,           1,           1,           1,           1,           1,           1,           1,           1,           1,           1,           1,           1,           1,           1,           1,           1,           1,           1,           1,           1,\n",
            "                  1,           1,           1,           1,           1,           1,           1,           1,           1,           1,           1,           1,           1,           1,           1,           1,           1,           1,           1,           1,           1,           1,           1,\n",
            "                  1,           1,           1,           1,           1,           1,           1,           1,           1,           1,           1,           1,           1,           1,           1,           1,           1,           1,           1,           1,           1,           1,           1,\n",
            "                  1,           1,           1,           1,           1,           1,           1,           1,           1,           1,           1,           1,           1,           1,           1,           1,           1,           1,           1,           1,           1,           1,           1,\n",
            "                  1,           1,           1,           1,           1,           1,           1,           1,           1,           1,           1,           1,           1,           1,           1,           1,           1,           1,           1,           1,           1,           1,           1,\n",
            "                  1,           1,           1,           1,           1,           1,           1,           1,           1,           1,           1,           1,           1,           1,           1,           1,           1,           1,           1,           1,           1,           1,           1,\n",
            "                  1,           1,           1,           1,           1,           1,           1,           1,           1,           1,           1,           1,           1,           1,           1,           1,           1,           1,           1,           1,           1,           1,           1,\n",
            "                  1,           1,           1,           1,           1,           1,           1,           1,           1,           1,           1,           1,           1,           1,           1,           1,           1,           1,           1,           1,           1,           1,           1,\n",
            "                  1,           1,           1,           1,           1,           1,           1,           1,           1,           1,           1,           1,           1,           1,           1,           1,           1,           1,           1,           1,           1,           1,           1,\n",
            "                  1,           1,           1,           1,           1,           1,           1,           1,           1,           1,      0.9901,      0.9901,      0.9901,      0.9901,      0.9901,      0.9901,      0.9901,      0.9901,      0.9901,      0.9901,      0.9901,      0.9901,      0.9901,\n",
            "             0.9901,      0.9901,      0.9901,      0.9901,      0.9901,      0.9901,      0.9901,      0.9901,      0.9901,      0.9901,      0.9901,      0.9901,      0.9901,      0.9901,      0.9901,      0.9901,      0.9901,      0.9901,      0.9901,      0.9901,      0.9901,      0.9901,      0.9901,\n",
            "             0.9901,      0.9901,      0.9901,      0.9901,      0.9901,      0.9901,      0.9901,      0.9901,      0.9901,      0.9901,      0.9901,      0.9901,      0.9901,      0.9901,      0.9901,      0.9901,      0.9901,      0.9901,      0.9901,      0.9901,      0.9901,      0.9901,      0.9901,\n",
            "             0.9901,      0.9901,      0.9901,      0.9901,      0.9901,      0.9901,      0.9901,      0.9901,      0.9901,      0.9901,      0.9901,      0.9901,      0.9901,      0.9901,      0.9901,      0.9901,      0.9901,      0.9901,      0.9901,      0.9901,      0.9901,      0.9901,      0.9901,\n",
            "             0.9901,      0.9901,      0.9901,      0.9901,      0.9901,      0.9901,      0.9901,      0.9901,      0.9901,     0.98058,     0.98058,     0.98058,     0.98058,     0.98058,     0.98058,     0.98058,     0.97391,     0.97391,     0.97391,     0.97391,     0.97391,     0.97391,     0.97391,\n",
            "            0.97391,     0.97391,     0.97391,     0.97391,     0.97391,     0.97391,     0.97391,     0.97391,     0.97391,     0.97391,     0.97391,     0.97391,     0.97391,     0.97391,     0.97391,     0.97391,     0.97391,     0.97391,     0.97391,     0.97391,     0.97391,     0.97391,     0.97391,\n",
            "            0.97391,     0.97391,     0.97391,     0.97391,     0.97391,     0.97391,     0.97391,     0.97391,     0.97391,     0.97391,     0.97391,     0.97391,     0.97391,     0.97391,     0.97391,     0.97391,     0.97391,     0.97391,     0.97391,     0.97391,     0.97391,     0.97391,     0.97391,\n",
            "            0.97391,     0.97391,     0.97391,     0.97391,     0.97391,     0.97391,     0.97391,     0.97391,     0.97391,     0.97391,     0.97391,     0.97391,     0.97391,     0.97391,     0.97391,     0.97391,     0.97391,     0.97391,     0.97391,     0.97391,     0.97391,     0.97391,     0.97391,\n",
            "            0.97391,      0.9661,      0.9661,      0.9661,      0.9661,      0.9661,      0.9661,      0.9661,      0.9661,      0.9661,      0.9661,      0.9661,      0.9661,      0.9661,      0.9661,     0.95868,     0.95868,     0.95868,     0.95868,     0.95868,     0.95868,     0.95868,     0.95868,\n",
            "            0.95868,     0.95868,     0.95868,     0.95868,     0.95868,     0.95868,     0.94355,     0.94355,     0.94355,     0.94355,     0.94355,     0.94355,     0.94355,     0.92913,     0.92913,     0.92913,     0.92913,     0.92913,     0.92913,     0.92913,     0.92248,     0.92248,     0.92248,\n",
            "            0.92248,     0.92248,     0.92248,     0.92248,     0.90226,     0.90226,     0.90226,     0.90226,     0.90226,     0.90226,     0.90226,      0.8662,      0.8662,      0.8662,      0.8662,      0.8662,      0.8662,      0.8662,      0.8662,      0.8662,      0.8662,      0.8662,      0.8662,\n",
            "             0.8662,      0.8662,      0.8662,      0.8662,      0.8662,      0.8662,      0.8662,      0.8662,      0.8662,     0.82667,     0.82667,     0.82667,     0.82667,     0.82667,     0.82667,     0.82667,     0.81169,     0.81169,     0.81169,     0.81169,     0.81169,     0.81169,     0.81169,\n",
            "                0.7,         0.7,         0.7,         0.7,         0.7,         0.7,         0.7,      0.6165,      0.6165,      0.6165,      0.6165,      0.6165,      0.6165,      0.6165,      0.4708,      0.4708,      0.4708,      0.4708,      0.4708,      0.4708,      0.4708,      0.4708,      0.4708,\n",
            "             0.4708,      0.4708,      0.4708,      0.4708,      0.4708,     0.33592,     0.33592,     0.33592,     0.33592,     0.33592,     0.33592,     0.33592,     0.28692,     0.28374,     0.28055,     0.27736,     0.27417,     0.27098,      0.2678,     0.26461,     0.26142,     0.25823,     0.25504,\n",
            "            0.25186,     0.24867,     0.24548,     0.24229,      0.2391,     0.23592,     0.23273,     0.22954,     0.22635,     0.22316,     0.21997,     0.21679,      0.2136,     0.21041,     0.20722,     0.20403,     0.20085,     0.19766,     0.19447,     0.19128,     0.18809,     0.18491,     0.18172,\n",
            "            0.17853,     0.17534,     0.17215,     0.16897,     0.16578,     0.16259,      0.1594,     0.15621,     0.15303,     0.14984,     0.14665,     0.14346,     0.14027,     0.13709,      0.1339,     0.13071,     0.12752,     0.12433,     0.12115,     0.11796,     0.11477,     0.11158,     0.10839,\n",
            "            0.10521,     0.10202,    0.098829,    0.095641,    0.092453,    0.089265,    0.086077,    0.082889,    0.079701,    0.076513,    0.073325,    0.070137,    0.066949,    0.063761,    0.060573,    0.057385,    0.054197,    0.051009,    0.047821,    0.044633,    0.041445,    0.038257,    0.035068,\n",
            "            0.03188,    0.028692,    0.025504,    0.022316,    0.019128,     0.01594,    0.012752,   0.0095641,   0.0063761,    0.003188,           0]]), 'Recall', 'Precision'], [array([          0,    0.001001,    0.002002,    0.003003,    0.004004,    0.005005,    0.006006,    0.007007,    0.008008,    0.009009,     0.01001,    0.011011,    0.012012,    0.013013,    0.014014,    0.015015,    0.016016,    0.017017,    0.018018,    0.019019,     0.02002,    0.021021,    0.022022,    0.023023,\n",
            "          0.024024,    0.025025,    0.026026,    0.027027,    0.028028,    0.029029,     0.03003,    0.031031,    0.032032,    0.033033,    0.034034,    0.035035,    0.036036,    0.037037,    0.038038,    0.039039,     0.04004,    0.041041,    0.042042,    0.043043,    0.044044,    0.045045,    0.046046,    0.047047,\n",
            "          0.048048,    0.049049,     0.05005,    0.051051,    0.052052,    0.053053,    0.054054,    0.055055,    0.056056,    0.057057,    0.058058,    0.059059,     0.06006,    0.061061,    0.062062,    0.063063,    0.064064,    0.065065,    0.066066,    0.067067,    0.068068,    0.069069,     0.07007,    0.071071,\n",
            "          0.072072,    0.073073,    0.074074,    0.075075,    0.076076,    0.077077,    0.078078,    0.079079,     0.08008,    0.081081,    0.082082,    0.083083,    0.084084,    0.085085,    0.086086,    0.087087,    0.088088,    0.089089,     0.09009,    0.091091,    0.092092,    0.093093,    0.094094,    0.095095,\n",
            "          0.096096,    0.097097,    0.098098,    0.099099,      0.1001,      0.1011,      0.1021,      0.1031,      0.1041,     0.10511,     0.10611,     0.10711,     0.10811,     0.10911,     0.11011,     0.11111,     0.11211,     0.11311,     0.11411,     0.11512,     0.11612,     0.11712,     0.11812,     0.11912,\n",
            "           0.12012,     0.12112,     0.12212,     0.12312,     0.12412,     0.12513,     0.12613,     0.12713,     0.12813,     0.12913,     0.13013,     0.13113,     0.13213,     0.13313,     0.13413,     0.13514,     0.13614,     0.13714,     0.13814,     0.13914,     0.14014,     0.14114,     0.14214,     0.14314,\n",
            "           0.14414,     0.14515,     0.14615,     0.14715,     0.14815,     0.14915,     0.15015,     0.15115,     0.15215,     0.15315,     0.15415,     0.15516,     0.15616,     0.15716,     0.15816,     0.15916,     0.16016,     0.16116,     0.16216,     0.16316,     0.16416,     0.16517,     0.16617,     0.16717,\n",
            "           0.16817,     0.16917,     0.17017,     0.17117,     0.17217,     0.17317,     0.17417,     0.17518,     0.17618,     0.17718,     0.17818,     0.17918,     0.18018,     0.18118,     0.18218,     0.18318,     0.18418,     0.18519,     0.18619,     0.18719,     0.18819,     0.18919,     0.19019,     0.19119,\n",
            "           0.19219,     0.19319,     0.19419,      0.1952,      0.1962,      0.1972,      0.1982,      0.1992,      0.2002,      0.2012,      0.2022,      0.2032,      0.2042,     0.20521,     0.20621,     0.20721,     0.20821,     0.20921,     0.21021,     0.21121,     0.21221,     0.21321,     0.21421,     0.21522,\n",
            "           0.21622,     0.21722,     0.21822,     0.21922,     0.22022,     0.22122,     0.22222,     0.22322,     0.22422,     0.22523,     0.22623,     0.22723,     0.22823,     0.22923,     0.23023,     0.23123,     0.23223,     0.23323,     0.23423,     0.23524,     0.23624,     0.23724,     0.23824,     0.23924,\n",
            "           0.24024,     0.24124,     0.24224,     0.24324,     0.24424,     0.24525,     0.24625,     0.24725,     0.24825,     0.24925,     0.25025,     0.25125,     0.25225,     0.25325,     0.25425,     0.25526,     0.25626,     0.25726,     0.25826,     0.25926,     0.26026,     0.26126,     0.26226,     0.26326,\n",
            "           0.26426,     0.26527,     0.26627,     0.26727,     0.26827,     0.26927,     0.27027,     0.27127,     0.27227,     0.27327,     0.27427,     0.27528,     0.27628,     0.27728,     0.27828,     0.27928,     0.28028,     0.28128,     0.28228,     0.28328,     0.28428,     0.28529,     0.28629,     0.28729,\n",
            "           0.28829,     0.28929,     0.29029,     0.29129,     0.29229,     0.29329,     0.29429,      0.2953,      0.2963,      0.2973,      0.2983,      0.2993,      0.3003,      0.3013,      0.3023,      0.3033,      0.3043,     0.30531,     0.30631,     0.30731,     0.30831,     0.30931,     0.31031,     0.31131,\n",
            "           0.31231,     0.31331,     0.31431,     0.31532,     0.31632,     0.31732,     0.31832,     0.31932,     0.32032,     0.32132,     0.32232,     0.32332,     0.32432,     0.32533,     0.32633,     0.32733,     0.32833,     0.32933,     0.33033,     0.33133,     0.33233,     0.33333,     0.33433,     0.33534,\n",
            "           0.33634,     0.33734,     0.33834,     0.33934,     0.34034,     0.34134,     0.34234,     0.34334,     0.34434,     0.34535,     0.34635,     0.34735,     0.34835,     0.34935,     0.35035,     0.35135,     0.35235,     0.35335,     0.35435,     0.35536,     0.35636,     0.35736,     0.35836,     0.35936,\n",
            "           0.36036,     0.36136,     0.36236,     0.36336,     0.36436,     0.36537,     0.36637,     0.36737,     0.36837,     0.36937,     0.37037,     0.37137,     0.37237,     0.37337,     0.37437,     0.37538,     0.37638,     0.37738,     0.37838,     0.37938,     0.38038,     0.38138,     0.38238,     0.38338,\n",
            "           0.38438,     0.38539,     0.38639,     0.38739,     0.38839,     0.38939,     0.39039,     0.39139,     0.39239,     0.39339,     0.39439,      0.3954,      0.3964,      0.3974,      0.3984,      0.3994,      0.4004,      0.4014,      0.4024,      0.4034,      0.4044,     0.40541,     0.40641,     0.40741,\n",
            "           0.40841,     0.40941,     0.41041,     0.41141,     0.41241,     0.41341,     0.41441,     0.41542,     0.41642,     0.41742,     0.41842,     0.41942,     0.42042,     0.42142,     0.42242,     0.42342,     0.42442,     0.42543,     0.42643,     0.42743,     0.42843,     0.42943,     0.43043,     0.43143,\n",
            "           0.43243,     0.43343,     0.43443,     0.43544,     0.43644,     0.43744,     0.43844,     0.43944,     0.44044,     0.44144,     0.44244,     0.44344,     0.44444,     0.44545,     0.44645,     0.44745,     0.44845,     0.44945,     0.45045,     0.45145,     0.45245,     0.45345,     0.45445,     0.45546,\n",
            "           0.45646,     0.45746,     0.45846,     0.45946,     0.46046,     0.46146,     0.46246,     0.46346,     0.46446,     0.46547,     0.46647,     0.46747,     0.46847,     0.46947,     0.47047,     0.47147,     0.47247,     0.47347,     0.47447,     0.47548,     0.47648,     0.47748,     0.47848,     0.47948,\n",
            "           0.48048,     0.48148,     0.48248,     0.48348,     0.48448,     0.48549,     0.48649,     0.48749,     0.48849,     0.48949,     0.49049,     0.49149,     0.49249,     0.49349,     0.49449,      0.4955,      0.4965,      0.4975,      0.4985,      0.4995,      0.5005,      0.5015,      0.5025,      0.5035,\n",
            "            0.5045,     0.50551,     0.50651,     0.50751,     0.50851,     0.50951,     0.51051,     0.51151,     0.51251,     0.51351,     0.51451,     0.51552,     0.51652,     0.51752,     0.51852,     0.51952,     0.52052,     0.52152,     0.52252,     0.52352,     0.52452,     0.52553,     0.52653,     0.52753,\n",
            "           0.52853,     0.52953,     0.53053,     0.53153,     0.53253,     0.53353,     0.53453,     0.53554,     0.53654,     0.53754,     0.53854,     0.53954,     0.54054,     0.54154,     0.54254,     0.54354,     0.54454,     0.54555,     0.54655,     0.54755,     0.54855,     0.54955,     0.55055,     0.55155,\n",
            "           0.55255,     0.55355,     0.55455,     0.55556,     0.55656,     0.55756,     0.55856,     0.55956,     0.56056,     0.56156,     0.56256,     0.56356,     0.56456,     0.56557,     0.56657,     0.56757,     0.56857,     0.56957,     0.57057,     0.57157,     0.57257,     0.57357,     0.57457,     0.57558,\n",
            "           0.57658,     0.57758,     0.57858,     0.57958,     0.58058,     0.58158,     0.58258,     0.58358,     0.58458,     0.58559,     0.58659,     0.58759,     0.58859,     0.58959,     0.59059,     0.59159,     0.59259,     0.59359,     0.59459,      0.5956,      0.5966,      0.5976,      0.5986,      0.5996,\n",
            "            0.6006,      0.6016,      0.6026,      0.6036,      0.6046,     0.60561,     0.60661,     0.60761,     0.60861,     0.60961,     0.61061,     0.61161,     0.61261,     0.61361,     0.61461,     0.61562,     0.61662,     0.61762,     0.61862,     0.61962,     0.62062,     0.62162,     0.62262,     0.62362,\n",
            "           0.62462,     0.62563,     0.62663,     0.62763,     0.62863,     0.62963,     0.63063,     0.63163,     0.63263,     0.63363,     0.63463,     0.63564,     0.63664,     0.63764,     0.63864,     0.63964,     0.64064,     0.64164,     0.64264,     0.64364,     0.64464,     0.64565,     0.64665,     0.64765,\n",
            "           0.64865,     0.64965,     0.65065,     0.65165,     0.65265,     0.65365,     0.65465,     0.65566,     0.65666,     0.65766,     0.65866,     0.65966,     0.66066,     0.66166,     0.66266,     0.66366,     0.66466,     0.66567,     0.66667,     0.66767,     0.66867,     0.66967,     0.67067,     0.67167,\n",
            "           0.67267,     0.67367,     0.67467,     0.67568,     0.67668,     0.67768,     0.67868,     0.67968,     0.68068,     0.68168,     0.68268,     0.68368,     0.68468,     0.68569,     0.68669,     0.68769,     0.68869,     0.68969,     0.69069,     0.69169,     0.69269,     0.69369,     0.69469,      0.6957,\n",
            "            0.6967,      0.6977,      0.6987,      0.6997,      0.7007,      0.7017,      0.7027,      0.7037,      0.7047,     0.70571,     0.70671,     0.70771,     0.70871,     0.70971,     0.71071,     0.71171,     0.71271,     0.71371,     0.71471,     0.71572,     0.71672,     0.71772,     0.71872,     0.71972,\n",
            "           0.72072,     0.72172,     0.72272,     0.72372,     0.72472,     0.72573,     0.72673,     0.72773,     0.72873,     0.72973,     0.73073,     0.73173,     0.73273,     0.73373,     0.73473,     0.73574,     0.73674,     0.73774,     0.73874,     0.73974,     0.74074,     0.74174,     0.74274,     0.74374,\n",
            "           0.74474,     0.74575,     0.74675,     0.74775,     0.74875,     0.74975,     0.75075,     0.75175,     0.75275,     0.75375,     0.75475,     0.75576,     0.75676,     0.75776,     0.75876,     0.75976,     0.76076,     0.76176,     0.76276,     0.76376,     0.76476,     0.76577,     0.76677,     0.76777,\n",
            "           0.76877,     0.76977,     0.77077,     0.77177,     0.77277,     0.77377,     0.77477,     0.77578,     0.77678,     0.77778,     0.77878,     0.77978,     0.78078,     0.78178,     0.78278,     0.78378,     0.78478,     0.78579,     0.78679,     0.78779,     0.78879,     0.78979,     0.79079,     0.79179,\n",
            "           0.79279,     0.79379,     0.79479,      0.7958,      0.7968,      0.7978,      0.7988,      0.7998,      0.8008,      0.8018,      0.8028,      0.8038,      0.8048,     0.80581,     0.80681,     0.80781,     0.80881,     0.80981,     0.81081,     0.81181,     0.81281,     0.81381,     0.81481,     0.81582,\n",
            "           0.81682,     0.81782,     0.81882,     0.81982,     0.82082,     0.82182,     0.82282,     0.82382,     0.82482,     0.82583,     0.82683,     0.82783,     0.82883,     0.82983,     0.83083,     0.83183,     0.83283,     0.83383,     0.83483,     0.83584,     0.83684,     0.83784,     0.83884,     0.83984,\n",
            "           0.84084,     0.84184,     0.84284,     0.84384,     0.84484,     0.84585,     0.84685,     0.84785,     0.84885,     0.84985,     0.85085,     0.85185,     0.85285,     0.85385,     0.85485,     0.85586,     0.85686,     0.85786,     0.85886,     0.85986,     0.86086,     0.86186,     0.86286,     0.86386,\n",
            "           0.86486,     0.86587,     0.86687,     0.86787,     0.86887,     0.86987,     0.87087,     0.87187,     0.87287,     0.87387,     0.87487,     0.87588,     0.87688,     0.87788,     0.87888,     0.87988,     0.88088,     0.88188,     0.88288,     0.88388,     0.88488,     0.88589,     0.88689,     0.88789,\n",
            "           0.88889,     0.88989,     0.89089,     0.89189,     0.89289,     0.89389,     0.89489,      0.8959,      0.8969,      0.8979,      0.8989,      0.8999,      0.9009,      0.9019,      0.9029,      0.9039,      0.9049,     0.90591,     0.90691,     0.90791,     0.90891,     0.90991,     0.91091,     0.91191,\n",
            "           0.91291,     0.91391,     0.91491,     0.91592,     0.91692,     0.91792,     0.91892,     0.91992,     0.92092,     0.92192,     0.92292,     0.92392,     0.92492,     0.92593,     0.92693,     0.92793,     0.92893,     0.92993,     0.93093,     0.93193,     0.93293,     0.93393,     0.93493,     0.93594,\n",
            "           0.93694,     0.93794,     0.93894,     0.93994,     0.94094,     0.94194,     0.94294,     0.94394,     0.94494,     0.94595,     0.94695,     0.94795,     0.94895,     0.94995,     0.95095,     0.95195,     0.95295,     0.95395,     0.95495,     0.95596,     0.95696,     0.95796,     0.95896,     0.95996,\n",
            "           0.96096,     0.96196,     0.96296,     0.96396,     0.96496,     0.96597,     0.96697,     0.96797,     0.96897,     0.96997,     0.97097,     0.97197,     0.97297,     0.97397,     0.97497,     0.97598,     0.97698,     0.97798,     0.97898,     0.97998,     0.98098,     0.98198,     0.98298,     0.98398,\n",
            "           0.98498,     0.98599,     0.98699,     0.98799,     0.98899,     0.98999,     0.99099,     0.99199,     0.99299,     0.99399,     0.99499,       0.996,       0.997,       0.998,       0.999,           1]), array([[    0.43919,     0.43919,      0.5313,     0.59711,     0.63747,     0.66686,     0.68841,     0.70388,     0.71625,     0.72479,      0.7291,     0.73507,     0.73623,     0.73855,     0.74712,     0.74901,     0.75085,     0.75455,     0.75597,     0.75826,     0.76308,     0.76644,     0.76938,\n",
            "            0.77431,     0.77972,     0.77871,     0.78653,     0.79159,     0.79538,     0.79705,     0.79803,     0.79903,     0.80006,     0.80109,     0.80468,      0.8089,     0.81173,     0.81344,     0.81503,     0.81648,     0.81947,     0.82373,     0.82673,     0.83343,     0.83483,     0.83652,\n",
            "             0.8394,     0.84033,     0.84125,     0.84159,     0.84123,     0.84087,     0.84051,     0.84015,     0.83979,     0.83943,     0.83907,     0.83871,     0.83835,     0.83799,     0.83888,     0.84067,     0.84214,     0.84387,     0.84461,     0.84252,     0.84278,     0.84305,     0.84332,\n",
            "            0.84358,     0.84385,     0.84412,     0.84438,     0.84465,     0.84491,     0.84518,     0.84556,     0.84622,     0.84687,     0.84753,     0.84818,     0.84852,     0.84881,      0.8491,     0.84939,     0.84968,     0.84996,     0.85025,     0.85054,     0.85083,     0.85111,     0.85155,\n",
            "            0.85207,     0.85258,      0.8531,     0.85361,     0.85412,     0.85447,     0.85481,     0.85514,     0.85548,     0.85581,     0.85614,     0.85648,     0.85681,     0.85714,      0.8574,     0.85765,      0.8579,     0.85815,      0.8584,     0.85866,     0.85891,     0.85916,     0.85941,\n",
            "            0.85966,     0.85991,     0.86015,     0.86025,     0.86035,     0.86045,     0.86055,     0.86065,     0.86076,     0.86086,     0.86096,     0.86106,     0.86116,     0.86126,     0.86136,     0.86146,     0.86156,     0.86166,     0.86177,     0.86187,     0.86197,     0.86207,     0.86217,\n",
            "            0.86227,     0.86237,     0.86247,     0.86257,     0.86267,     0.86277,     0.86287,     0.86297,     0.86307,     0.86245,     0.85908,     0.85873,     0.85839,     0.85805,      0.8577,     0.85736,     0.85701,     0.85667,     0.85632,     0.85598,     0.85563,     0.85529,     0.85501,\n",
            "            0.85479,     0.85458,     0.85436,     0.85415,     0.85393,     0.85371,      0.8535,     0.85328,     0.85306,     0.85285,     0.85263,     0.85241,      0.8522,     0.85198,     0.85176,     0.85154,     0.85133,     0.85111,     0.85205,     0.85329,     0.85413,     0.85422,     0.85431,\n",
            "            0.85441,      0.8545,      0.8546,     0.85469,     0.85478,     0.85488,     0.85497,     0.85507,     0.85516,     0.85525,     0.85535,     0.85544,     0.85554,     0.85563,     0.85572,     0.85582,     0.85591,       0.856,      0.8561,     0.85619,     0.85629,     0.85638,     0.85647,\n",
            "            0.85657,     0.85666,     0.85675,     0.85685,     0.85694,     0.85703,     0.85713,     0.85726,      0.8574,     0.85754,     0.85768,     0.85782,     0.85796,      0.8581,     0.85825,     0.85839,     0.85853,     0.85867,     0.85881,     0.85895,     0.85909,     0.85923,     0.85937,\n",
            "            0.85951,     0.85965,     0.85979,     0.85993,     0.86007,     0.86021,     0.86046,     0.86071,     0.86097,     0.86122,     0.86148,     0.86173,     0.86199,     0.86224,      0.8625,     0.86275,       0.863,     0.86326,     0.86355,     0.86386,     0.86416,     0.86446,     0.86477,\n",
            "            0.86507,     0.86537,     0.86568,     0.86598,     0.86628,     0.86656,     0.86681,     0.86706,     0.86732,     0.86757,     0.86782,     0.86807,     0.86832,     0.86857,     0.86882,     0.86908,     0.86933,     0.86954,     0.86907,      0.8686,     0.86812,     0.86765,     0.86718,\n",
            "             0.8667,     0.86623,     0.86575,     0.86552,     0.86569,     0.86586,     0.86603,      0.8662,     0.86637,     0.86654,     0.86671,     0.86688,     0.86705,     0.86722,     0.86739,     0.86755,     0.86772,     0.86789,     0.86806,     0.86823,      0.8684,     0.86857,     0.86888,\n",
            "            0.86925,     0.86961,     0.86998,     0.87034,      0.8707,     0.87107,     0.87143,     0.87179,     0.87194,     0.87208,     0.87222,     0.87236,      0.8725,     0.87264,     0.87278,     0.87292,     0.87307,     0.87321,     0.87335,     0.87349,     0.87363,     0.87377,     0.87391,\n",
            "            0.87405,     0.87419,     0.87433,     0.87447,     0.87461,     0.87476,      0.8749,     0.87495,     0.87476,     0.87457,     0.87438,     0.87419,       0.874,     0.87381,     0.87362,     0.87343,     0.87324,     0.87305,     0.87286,     0.87267,     0.87248,     0.87229,      0.8721,\n",
            "            0.87191,     0.87172,     0.87153,     0.87134,     0.87114,     0.87095,      0.8709,     0.87102,     0.87114,     0.87125,     0.87137,     0.87149,     0.87161,     0.87172,     0.87184,     0.87196,     0.87208,     0.87219,     0.87231,     0.87243,     0.87254,     0.87266,     0.87278,\n",
            "             0.8729,     0.87301,     0.87313,     0.87325,     0.87336,     0.87348,      0.8736,     0.87371,     0.87383,     0.87395,     0.87406,     0.87403,     0.87398,     0.87394,     0.87389,     0.87384,     0.87379,     0.87374,      0.8737,     0.87365,      0.8736,     0.87355,     0.87351,\n",
            "            0.87346,     0.87341,     0.87336,     0.87332,     0.87327,     0.87322,     0.87317,     0.87313,     0.87308,     0.87303,     0.87298,     0.87294,     0.87289,     0.87284,     0.87279,     0.87274,      0.8727,     0.87265,      0.8726,     0.87255,     0.87251,     0.87246,     0.87241,\n",
            "            0.87236,     0.87232,     0.87227,     0.87222,     0.87217,     0.87212,     0.87208,     0.87203,     0.87198,     0.87193,     0.87189,     0.87184,     0.87179,     0.87174,      0.8717,     0.87165,      0.8716,     0.87155,      0.8715,     0.87146,     0.87141,     0.87136,     0.87131,\n",
            "            0.87127,     0.87122,     0.87117,     0.87112,     0.87107,     0.87103,     0.87098,     0.87093,     0.87088,     0.87084,     0.87079,     0.87074,     0.87069,     0.87064,      0.8706,     0.87055,      0.8705,     0.87045,     0.87041,     0.87036,     0.87031,     0.87026,     0.87021,\n",
            "            0.87017,     0.87012,     0.87007,     0.87002,     0.86997,     0.86993,     0.87001,     0.87059,     0.87118,     0.87176,     0.87235,     0.87293,     0.87512,     0.87607,     0.87549,     0.87491,     0.87433,     0.87375,     0.87317,     0.87258,      0.8723,     0.87268,     0.87306,\n",
            "            0.87345,     0.87383,     0.87421,     0.87459,     0.87497,     0.87535,      0.8757,     0.87604,     0.87638,     0.87672,     0.87705,     0.87739,     0.87773,     0.87807,      0.8784,     0.87874,      0.8784,     0.87794,     0.87748,     0.87703,     0.87657,     0.87611,     0.87565,\n",
            "            0.87519,     0.87474,     0.87428,     0.87382,     0.87337,     0.87292,     0.87246,       0.872,     0.87155,     0.87109,     0.87064,     0.87025,     0.87046,     0.87067,     0.87088,     0.87109,      0.8713,     0.87151,     0.87172,     0.87193,     0.87213,     0.87234,     0.87255,\n",
            "            0.87276,     0.87297,     0.87318,     0.87338,     0.87351,     0.87311,      0.8727,      0.8723,     0.87189,     0.87149,     0.87108,     0.87068,     0.87027,     0.86986,     0.86946,     0.86909,     0.86876,     0.86844,     0.86811,     0.86778,     0.86746,     0.86713,     0.86681,\n",
            "            0.86648,     0.86615,     0.86583,      0.8655,     0.86517,     0.86487,     0.86498,     0.86509,      0.8652,     0.86531,     0.86542,     0.86553,     0.86564,     0.86575,     0.86586,     0.86597,     0.86608,     0.86619,      0.8663,     0.86641,     0.86652,     0.86663,     0.86674,\n",
            "            0.86685,     0.86696,     0.86707,     0.86718,     0.86729,      0.8674,     0.86751,     0.86762,     0.86773,     0.86784,     0.86795,     0.86806,     0.86817,     0.86794,     0.86743,     0.86693,     0.86642,     0.86591,      0.8654,     0.86489,     0.86438,     0.86387,      0.8637,\n",
            "            0.86357,     0.86343,      0.8633,     0.86317,     0.86304,     0.86291,     0.86277,     0.86264,     0.86251,     0.86238,     0.86225,     0.86212,     0.86198,     0.86185,     0.86172,     0.86159,     0.86145,     0.86132,     0.86119,     0.86106,     0.86093,     0.86079,     0.86066,\n",
            "            0.86053,      0.8604,     0.86026,     0.86013,        0.86,     0.85987,     0.85973,      0.8596,     0.85947,     0.85922,     0.85871,     0.85819,     0.85768,     0.85716,     0.85664,     0.85613,     0.85561,     0.85509,      0.8503,     0.84962,     0.84893,     0.84824,     0.84756,\n",
            "            0.84687,     0.84618,     0.84557,     0.84503,     0.84449,     0.84396,     0.84342,     0.84288,     0.84234,      0.8418,     0.84127,     0.84091,     0.84056,      0.8402,     0.83985,     0.83949,     0.83913,     0.83878,     0.83842,     0.83807,     0.83771,     0.83735,     0.83699,\n",
            "            0.83661,     0.83569,     0.83477,     0.83385,     0.83293,       0.832,     0.83096,     0.82993,     0.82888,     0.82784,     0.82623,     0.82403,     0.82252,     0.82234,     0.82217,     0.82199,     0.82182,     0.82164,     0.82146,     0.82129,     0.82111,     0.82093,     0.82076,\n",
            "            0.82058,      0.8204,     0.82023,     0.82005,     0.81987,     0.81969,     0.81952,     0.81934,     0.81916,     0.81899,     0.81881,     0.81863,     0.81845,     0.81828,      0.8181,     0.81792,     0.81906,     0.82047,     0.81851,     0.81653,     0.81777,     0.81938,     0.81797,\n",
            "            0.81588,     0.81412,     0.81268,     0.81125,     0.80974,      0.8075,     0.80525,     0.80465,     0.80428,      0.8039,     0.80353,     0.80315,     0.80278,      0.8024,     0.80202,     0.80165,     0.80127,      0.8009,     0.80052,     0.80014,     0.79954,     0.79881,     0.79807,\n",
            "            0.79734,      0.7966,     0.79587,     0.79513,     0.79433,     0.79351,     0.79269,     0.79187,     0.79105,     0.79023,     0.78873,      0.7868,     0.78486,     0.78432,     0.78381,      0.7833,     0.78279,     0.78228,     0.78177,     0.78126,     0.78075,     0.78024,     0.77973,\n",
            "            0.77637,     0.76122,     0.75436,     0.75565,     0.75024,     0.74883,     0.74741,     0.74599,     0.74362,     0.74088,     0.73914,      0.7378,     0.73646,     0.73512,     0.73351,     0.73167,     0.72983,     0.72727,     0.72393,     0.71574,     0.71116,     0.71039,     0.70963,\n",
            "            0.70886,      0.7081,     0.70733,     0.70656,     0.70556,     0.70277,     0.69967,     0.68093,     0.67509,      0.6728,     0.67051,     0.66302,     0.65985,     0.65141,     0.63055,     0.62291,     0.61705,     0.61141,     0.60695,     0.60083,     0.59096,     0.58783,     0.58469,\n",
            "            0.58277,      0.5811,     0.57943,     0.57775,     0.57654,     0.57561,     0.57468,     0.57376,     0.57283,      0.5719,     0.57096,     0.57003,     0.56371,     0.56035,     0.55748,     0.55109,     0.52786,     0.51013,     0.50817,     0.50619,     0.50422,       0.502,     0.49883,\n",
            "            0.49564,     0.49395,     0.49286,     0.49176,     0.49066,     0.48956,     0.48846,     0.48736,      0.4841,     0.47858,     0.47619,     0.47379,     0.47138,     0.45257,     0.44865,      0.4432,     0.42768,     0.41703,     0.41139,     0.40627,     0.39975,      0.3844,     0.37062,\n",
            "            0.36231,     0.35811,     0.33966,     0.31508,     0.30486,     0.29619,     0.29267,     0.28912,     0.27542,     0.27119,     0.26694,     0.24527,     0.24231,     0.23935,     0.23637,     0.23099,     0.21182,     0.19499,     0.18747,      0.1845,     0.18151,     0.17851,      0.1652,\n",
            "            0.16347,     0.16174,     0.16001,     0.15827,     0.15653,     0.15471,      0.1501,     0.14546,     0.12851,     0.11301,     0.10637,    0.096024,    0.079005,    0.075519,    0.072021,     0.06851,    0.065107,    0.061736,    0.058353,    0.054958,    0.051784,    0.048644,    0.045493,\n",
            "           0.042332,    0.040011,    0.038229,    0.036445,    0.034657,    0.032866,    0.031071,    0.029274,    0.027262,    0.022105,     0.01692,           0,           0,           0,           0,           0,           0,           0,           0,           0,           0,           0,           0,\n",
            "                  0,           0,           0,           0,           0,           0,           0,           0,           0,           0,           0,           0,           0,           0,           0,           0,           0,           0,           0,           0,           0,           0,           0,\n",
            "                  0,           0,           0,           0,           0,           0,           0,           0,           0,           0,           0,           0,           0,           0,           0,           0,           0,           0,           0,           0,           0,           0,           0,\n",
            "                  0,           0,           0,           0,           0,           0,           0,           0,           0,           0,           0,           0,           0,           0,           0,           0,           0,           0,           0,           0,           0,           0,           0,\n",
            "                  0,           0,           0,           0,           0,           0,           0,           0,           0,           0,           0]]), 'Confidence', 'F1'], [array([          0,    0.001001,    0.002002,    0.003003,    0.004004,    0.005005,    0.006006,    0.007007,    0.008008,    0.009009,     0.01001,    0.011011,    0.012012,    0.013013,    0.014014,    0.015015,    0.016016,    0.017017,    0.018018,    0.019019,     0.02002,    0.021021,    0.022022,    0.023023,\n",
            "          0.024024,    0.025025,    0.026026,    0.027027,    0.028028,    0.029029,     0.03003,    0.031031,    0.032032,    0.033033,    0.034034,    0.035035,    0.036036,    0.037037,    0.038038,    0.039039,     0.04004,    0.041041,    0.042042,    0.043043,    0.044044,    0.045045,    0.046046,    0.047047,\n",
            "          0.048048,    0.049049,     0.05005,    0.051051,    0.052052,    0.053053,    0.054054,    0.055055,    0.056056,    0.057057,    0.058058,    0.059059,     0.06006,    0.061061,    0.062062,    0.063063,    0.064064,    0.065065,    0.066066,    0.067067,    0.068068,    0.069069,     0.07007,    0.071071,\n",
            "          0.072072,    0.073073,    0.074074,    0.075075,    0.076076,    0.077077,    0.078078,    0.079079,     0.08008,    0.081081,    0.082082,    0.083083,    0.084084,    0.085085,    0.086086,    0.087087,    0.088088,    0.089089,     0.09009,    0.091091,    0.092092,    0.093093,    0.094094,    0.095095,\n",
            "          0.096096,    0.097097,    0.098098,    0.099099,      0.1001,      0.1011,      0.1021,      0.1031,      0.1041,     0.10511,     0.10611,     0.10711,     0.10811,     0.10911,     0.11011,     0.11111,     0.11211,     0.11311,     0.11411,     0.11512,     0.11612,     0.11712,     0.11812,     0.11912,\n",
            "           0.12012,     0.12112,     0.12212,     0.12312,     0.12412,     0.12513,     0.12613,     0.12713,     0.12813,     0.12913,     0.13013,     0.13113,     0.13213,     0.13313,     0.13413,     0.13514,     0.13614,     0.13714,     0.13814,     0.13914,     0.14014,     0.14114,     0.14214,     0.14314,\n",
            "           0.14414,     0.14515,     0.14615,     0.14715,     0.14815,     0.14915,     0.15015,     0.15115,     0.15215,     0.15315,     0.15415,     0.15516,     0.15616,     0.15716,     0.15816,     0.15916,     0.16016,     0.16116,     0.16216,     0.16316,     0.16416,     0.16517,     0.16617,     0.16717,\n",
            "           0.16817,     0.16917,     0.17017,     0.17117,     0.17217,     0.17317,     0.17417,     0.17518,     0.17618,     0.17718,     0.17818,     0.17918,     0.18018,     0.18118,     0.18218,     0.18318,     0.18418,     0.18519,     0.18619,     0.18719,     0.18819,     0.18919,     0.19019,     0.19119,\n",
            "           0.19219,     0.19319,     0.19419,      0.1952,      0.1962,      0.1972,      0.1982,      0.1992,      0.2002,      0.2012,      0.2022,      0.2032,      0.2042,     0.20521,     0.20621,     0.20721,     0.20821,     0.20921,     0.21021,     0.21121,     0.21221,     0.21321,     0.21421,     0.21522,\n",
            "           0.21622,     0.21722,     0.21822,     0.21922,     0.22022,     0.22122,     0.22222,     0.22322,     0.22422,     0.22523,     0.22623,     0.22723,     0.22823,     0.22923,     0.23023,     0.23123,     0.23223,     0.23323,     0.23423,     0.23524,     0.23624,     0.23724,     0.23824,     0.23924,\n",
            "           0.24024,     0.24124,     0.24224,     0.24324,     0.24424,     0.24525,     0.24625,     0.24725,     0.24825,     0.24925,     0.25025,     0.25125,     0.25225,     0.25325,     0.25425,     0.25526,     0.25626,     0.25726,     0.25826,     0.25926,     0.26026,     0.26126,     0.26226,     0.26326,\n",
            "           0.26426,     0.26527,     0.26627,     0.26727,     0.26827,     0.26927,     0.27027,     0.27127,     0.27227,     0.27327,     0.27427,     0.27528,     0.27628,     0.27728,     0.27828,     0.27928,     0.28028,     0.28128,     0.28228,     0.28328,     0.28428,     0.28529,     0.28629,     0.28729,\n",
            "           0.28829,     0.28929,     0.29029,     0.29129,     0.29229,     0.29329,     0.29429,      0.2953,      0.2963,      0.2973,      0.2983,      0.2993,      0.3003,      0.3013,      0.3023,      0.3033,      0.3043,     0.30531,     0.30631,     0.30731,     0.30831,     0.30931,     0.31031,     0.31131,\n",
            "           0.31231,     0.31331,     0.31431,     0.31532,     0.31632,     0.31732,     0.31832,     0.31932,     0.32032,     0.32132,     0.32232,     0.32332,     0.32432,     0.32533,     0.32633,     0.32733,     0.32833,     0.32933,     0.33033,     0.33133,     0.33233,     0.33333,     0.33433,     0.33534,\n",
            "           0.33634,     0.33734,     0.33834,     0.33934,     0.34034,     0.34134,     0.34234,     0.34334,     0.34434,     0.34535,     0.34635,     0.34735,     0.34835,     0.34935,     0.35035,     0.35135,     0.35235,     0.35335,     0.35435,     0.35536,     0.35636,     0.35736,     0.35836,     0.35936,\n",
            "           0.36036,     0.36136,     0.36236,     0.36336,     0.36436,     0.36537,     0.36637,     0.36737,     0.36837,     0.36937,     0.37037,     0.37137,     0.37237,     0.37337,     0.37437,     0.37538,     0.37638,     0.37738,     0.37838,     0.37938,     0.38038,     0.38138,     0.38238,     0.38338,\n",
            "           0.38438,     0.38539,     0.38639,     0.38739,     0.38839,     0.38939,     0.39039,     0.39139,     0.39239,     0.39339,     0.39439,      0.3954,      0.3964,      0.3974,      0.3984,      0.3994,      0.4004,      0.4014,      0.4024,      0.4034,      0.4044,     0.40541,     0.40641,     0.40741,\n",
            "           0.40841,     0.40941,     0.41041,     0.41141,     0.41241,     0.41341,     0.41441,     0.41542,     0.41642,     0.41742,     0.41842,     0.41942,     0.42042,     0.42142,     0.42242,     0.42342,     0.42442,     0.42543,     0.42643,     0.42743,     0.42843,     0.42943,     0.43043,     0.43143,\n",
            "           0.43243,     0.43343,     0.43443,     0.43544,     0.43644,     0.43744,     0.43844,     0.43944,     0.44044,     0.44144,     0.44244,     0.44344,     0.44444,     0.44545,     0.44645,     0.44745,     0.44845,     0.44945,     0.45045,     0.45145,     0.45245,     0.45345,     0.45445,     0.45546,\n",
            "           0.45646,     0.45746,     0.45846,     0.45946,     0.46046,     0.46146,     0.46246,     0.46346,     0.46446,     0.46547,     0.46647,     0.46747,     0.46847,     0.46947,     0.47047,     0.47147,     0.47247,     0.47347,     0.47447,     0.47548,     0.47648,     0.47748,     0.47848,     0.47948,\n",
            "           0.48048,     0.48148,     0.48248,     0.48348,     0.48448,     0.48549,     0.48649,     0.48749,     0.48849,     0.48949,     0.49049,     0.49149,     0.49249,     0.49349,     0.49449,      0.4955,      0.4965,      0.4975,      0.4985,      0.4995,      0.5005,      0.5015,      0.5025,      0.5035,\n",
            "            0.5045,     0.50551,     0.50651,     0.50751,     0.50851,     0.50951,     0.51051,     0.51151,     0.51251,     0.51351,     0.51451,     0.51552,     0.51652,     0.51752,     0.51852,     0.51952,     0.52052,     0.52152,     0.52252,     0.52352,     0.52452,     0.52553,     0.52653,     0.52753,\n",
            "           0.52853,     0.52953,     0.53053,     0.53153,     0.53253,     0.53353,     0.53453,     0.53554,     0.53654,     0.53754,     0.53854,     0.53954,     0.54054,     0.54154,     0.54254,     0.54354,     0.54454,     0.54555,     0.54655,     0.54755,     0.54855,     0.54955,     0.55055,     0.55155,\n",
            "           0.55255,     0.55355,     0.55455,     0.55556,     0.55656,     0.55756,     0.55856,     0.55956,     0.56056,     0.56156,     0.56256,     0.56356,     0.56456,     0.56557,     0.56657,     0.56757,     0.56857,     0.56957,     0.57057,     0.57157,     0.57257,     0.57357,     0.57457,     0.57558,\n",
            "           0.57658,     0.57758,     0.57858,     0.57958,     0.58058,     0.58158,     0.58258,     0.58358,     0.58458,     0.58559,     0.58659,     0.58759,     0.58859,     0.58959,     0.59059,     0.59159,     0.59259,     0.59359,     0.59459,      0.5956,      0.5966,      0.5976,      0.5986,      0.5996,\n",
            "            0.6006,      0.6016,      0.6026,      0.6036,      0.6046,     0.60561,     0.60661,     0.60761,     0.60861,     0.60961,     0.61061,     0.61161,     0.61261,     0.61361,     0.61461,     0.61562,     0.61662,     0.61762,     0.61862,     0.61962,     0.62062,     0.62162,     0.62262,     0.62362,\n",
            "           0.62462,     0.62563,     0.62663,     0.62763,     0.62863,     0.62963,     0.63063,     0.63163,     0.63263,     0.63363,     0.63463,     0.63564,     0.63664,     0.63764,     0.63864,     0.63964,     0.64064,     0.64164,     0.64264,     0.64364,     0.64464,     0.64565,     0.64665,     0.64765,\n",
            "           0.64865,     0.64965,     0.65065,     0.65165,     0.65265,     0.65365,     0.65465,     0.65566,     0.65666,     0.65766,     0.65866,     0.65966,     0.66066,     0.66166,     0.66266,     0.66366,     0.66466,     0.66567,     0.66667,     0.66767,     0.66867,     0.66967,     0.67067,     0.67167,\n",
            "           0.67267,     0.67367,     0.67467,     0.67568,     0.67668,     0.67768,     0.67868,     0.67968,     0.68068,     0.68168,     0.68268,     0.68368,     0.68468,     0.68569,     0.68669,     0.68769,     0.68869,     0.68969,     0.69069,     0.69169,     0.69269,     0.69369,     0.69469,      0.6957,\n",
            "            0.6967,      0.6977,      0.6987,      0.6997,      0.7007,      0.7017,      0.7027,      0.7037,      0.7047,     0.70571,     0.70671,     0.70771,     0.70871,     0.70971,     0.71071,     0.71171,     0.71271,     0.71371,     0.71471,     0.71572,     0.71672,     0.71772,     0.71872,     0.71972,\n",
            "           0.72072,     0.72172,     0.72272,     0.72372,     0.72472,     0.72573,     0.72673,     0.72773,     0.72873,     0.72973,     0.73073,     0.73173,     0.73273,     0.73373,     0.73473,     0.73574,     0.73674,     0.73774,     0.73874,     0.73974,     0.74074,     0.74174,     0.74274,     0.74374,\n",
            "           0.74474,     0.74575,     0.74675,     0.74775,     0.74875,     0.74975,     0.75075,     0.75175,     0.75275,     0.75375,     0.75475,     0.75576,     0.75676,     0.75776,     0.75876,     0.75976,     0.76076,     0.76176,     0.76276,     0.76376,     0.76476,     0.76577,     0.76677,     0.76777,\n",
            "           0.76877,     0.76977,     0.77077,     0.77177,     0.77277,     0.77377,     0.77477,     0.77578,     0.77678,     0.77778,     0.77878,     0.77978,     0.78078,     0.78178,     0.78278,     0.78378,     0.78478,     0.78579,     0.78679,     0.78779,     0.78879,     0.78979,     0.79079,     0.79179,\n",
            "           0.79279,     0.79379,     0.79479,      0.7958,      0.7968,      0.7978,      0.7988,      0.7998,      0.8008,      0.8018,      0.8028,      0.8038,      0.8048,     0.80581,     0.80681,     0.80781,     0.80881,     0.80981,     0.81081,     0.81181,     0.81281,     0.81381,     0.81481,     0.81582,\n",
            "           0.81682,     0.81782,     0.81882,     0.81982,     0.82082,     0.82182,     0.82282,     0.82382,     0.82482,     0.82583,     0.82683,     0.82783,     0.82883,     0.82983,     0.83083,     0.83183,     0.83283,     0.83383,     0.83483,     0.83584,     0.83684,     0.83784,     0.83884,     0.83984,\n",
            "           0.84084,     0.84184,     0.84284,     0.84384,     0.84484,     0.84585,     0.84685,     0.84785,     0.84885,     0.84985,     0.85085,     0.85185,     0.85285,     0.85385,     0.85485,     0.85586,     0.85686,     0.85786,     0.85886,     0.85986,     0.86086,     0.86186,     0.86286,     0.86386,\n",
            "           0.86486,     0.86587,     0.86687,     0.86787,     0.86887,     0.86987,     0.87087,     0.87187,     0.87287,     0.87387,     0.87487,     0.87588,     0.87688,     0.87788,     0.87888,     0.87988,     0.88088,     0.88188,     0.88288,     0.88388,     0.88488,     0.88589,     0.88689,     0.88789,\n",
            "           0.88889,     0.88989,     0.89089,     0.89189,     0.89289,     0.89389,     0.89489,      0.8959,      0.8969,      0.8979,      0.8989,      0.8999,      0.9009,      0.9019,      0.9029,      0.9039,      0.9049,     0.90591,     0.90691,     0.90791,     0.90891,     0.90991,     0.91091,     0.91191,\n",
            "           0.91291,     0.91391,     0.91491,     0.91592,     0.91692,     0.91792,     0.91892,     0.91992,     0.92092,     0.92192,     0.92292,     0.92392,     0.92492,     0.92593,     0.92693,     0.92793,     0.92893,     0.92993,     0.93093,     0.93193,     0.93293,     0.93393,     0.93493,     0.93594,\n",
            "           0.93694,     0.93794,     0.93894,     0.93994,     0.94094,     0.94194,     0.94294,     0.94394,     0.94494,     0.94595,     0.94695,     0.94795,     0.94895,     0.94995,     0.95095,     0.95195,     0.95295,     0.95395,     0.95495,     0.95596,     0.95696,     0.95796,     0.95896,     0.95996,\n",
            "           0.96096,     0.96196,     0.96296,     0.96396,     0.96496,     0.96597,     0.96697,     0.96797,     0.96897,     0.96997,     0.97097,     0.97197,     0.97297,     0.97397,     0.97497,     0.97598,     0.97698,     0.97798,     0.97898,     0.97998,     0.98098,     0.98198,     0.98298,     0.98398,\n",
            "           0.98498,     0.98599,     0.98699,     0.98799,     0.98899,     0.98999,     0.99099,     0.99199,     0.99299,     0.99399,     0.99499,       0.996,       0.997,       0.998,       0.999,           1]), array([[    0.28953,     0.28953,     0.37653,     0.44624,     0.49716,     0.53386,     0.56203,     0.58295,     0.60012,     0.61497,     0.62182,     0.63056,     0.63227,     0.63569,     0.64849,     0.65135,     0.65414,     0.65978,     0.66196,     0.66547,     0.67294,     0.67818,     0.68279,\n",
            "             0.6906,     0.69925,     0.70208,     0.71489,     0.72329,     0.72965,     0.73246,     0.73412,     0.73581,     0.73756,     0.73931,     0.74545,     0.75273,     0.75765,     0.76063,     0.76341,     0.76596,     0.77125,     0.77882,      0.7842,     0.79636,     0.79892,     0.80202,\n",
            "            0.80734,     0.80905,     0.81076,     0.81164,     0.81152,     0.81141,      0.8113,     0.81118,     0.81107,     0.81096,     0.81084,     0.81073,     0.81062,      0.8105,     0.81241,     0.81578,     0.81855,     0.82182,     0.82614,      0.8256,     0.82611,     0.82663,     0.82714,\n",
            "            0.82765,     0.82816,     0.82868,     0.82919,      0.8297,     0.83021,     0.83073,     0.83147,     0.83274,     0.83401,     0.83528,     0.83655,     0.83722,     0.83778,     0.83834,      0.8389,     0.83946,     0.84003,     0.84059,     0.84115,     0.84171,     0.84228,     0.84314,\n",
            "            0.84415,     0.84516,     0.84617,     0.84718,     0.84819,     0.84888,     0.84954,      0.8502,     0.85086,     0.85152,     0.85219,     0.85285,     0.85351,     0.85417,     0.85467,     0.85517,     0.85567,     0.85617,     0.85667,     0.85718,     0.85768,     0.85818,     0.85868,\n",
            "            0.85918,     0.85968,     0.86016,     0.86036,     0.86056,     0.86076,     0.86097,     0.86117,     0.86137,     0.86157,     0.86178,     0.86198,     0.86218,     0.86238,     0.86259,     0.86279,     0.86299,     0.86319,      0.8634,      0.8636,      0.8638,       0.864,     0.86421,\n",
            "            0.86441,     0.86461,     0.86481,     0.86502,     0.86522,     0.86542,     0.86562,     0.86583,     0.86603,     0.86603,     0.86523,     0.86515,     0.86507,     0.86498,      0.8649,     0.86482,     0.86474,     0.86465,     0.86457,     0.86449,     0.86441,     0.86433,     0.86426,\n",
            "            0.86421,     0.86415,      0.8641,     0.86405,       0.864,     0.86395,     0.86389,     0.86384,     0.86379,     0.86374,     0.86369,     0.86363,     0.86358,     0.86353,     0.86348,     0.86342,     0.86337,     0.86332,     0.86534,     0.86791,     0.86964,     0.86983,     0.87003,\n",
            "            0.87022,     0.87042,     0.87061,     0.87081,       0.871,      0.8712,     0.87139,     0.87159,     0.87178,     0.87198,     0.87217,     0.87237,     0.87256,     0.87276,     0.87295,     0.87315,     0.87334,     0.87354,     0.87373,     0.87393,     0.87412,     0.87432,     0.87451,\n",
            "            0.87471,      0.8749,      0.8751,     0.87529,     0.87549,     0.87568,     0.87588,     0.87616,     0.87645,     0.87675,     0.87704,     0.87734,     0.87763,     0.87792,     0.87822,     0.87851,     0.87881,      0.8791,      0.8794,     0.87969,     0.87999,     0.88028,     0.88057,\n",
            "            0.88087,     0.88116,     0.88146,     0.88175,     0.88205,     0.88234,     0.88287,     0.88341,     0.88394,     0.88448,     0.88502,     0.88555,     0.88609,     0.88663,     0.88717,      0.8877,     0.88824,     0.88878,      0.8894,     0.89005,     0.89069,     0.89134,     0.89199,\n",
            "            0.89263,     0.89328,     0.89392,     0.89457,     0.89522,     0.89581,     0.89635,     0.89689,     0.89743,     0.89796,      0.8985,     0.89904,     0.89958,     0.90012,     0.90066,      0.9012,     0.90174,     0.90225,     0.90217,     0.90208,       0.902,     0.90191,     0.90182,\n",
            "            0.90174,     0.90165,     0.90157,     0.90165,     0.90202,     0.90239,     0.90276,     0.90313,      0.9035,     0.90387,     0.90424,     0.90461,     0.90498,     0.90535,     0.90572,     0.90609,     0.90645,     0.90682,     0.90719,     0.90756,     0.90793,      0.9083,     0.90899,\n",
            "            0.90979,     0.91059,     0.91139,     0.91218,     0.91298,     0.91378,     0.91458,     0.91538,     0.91569,     0.91601,     0.91632,     0.91663,     0.91694,     0.91725,     0.91757,     0.91788,     0.91819,      0.9185,     0.91882,     0.91913,     0.91944,     0.91975,     0.92006,\n",
            "            0.92038,     0.92069,       0.921,     0.92131,     0.92162,     0.92194,     0.92225,     0.92247,     0.92245,     0.92242,     0.92239,     0.92236,     0.92233,     0.92231,     0.92228,     0.92225,     0.92222,      0.9222,     0.92217,     0.92214,     0.92211,     0.92208,     0.92206,\n",
            "            0.92203,       0.922,     0.92197,     0.92195,     0.92192,     0.92189,     0.92199,     0.92226,     0.92252,     0.92278,     0.92305,     0.92331,     0.92358,     0.92384,      0.9241,     0.92437,     0.92463,     0.92489,     0.92516,     0.92542,     0.92568,     0.92595,     0.92621,\n",
            "            0.92648,     0.92674,       0.927,     0.92727,     0.92753,     0.92779,     0.92806,     0.92832,     0.92858,     0.92885,     0.92911,     0.92913,     0.92912,     0.92912,     0.92911,      0.9291,      0.9291,     0.92909,     0.92908,     0.92908,     0.92907,     0.92906,     0.92906,\n",
            "            0.92905,     0.92904,     0.92904,     0.92903,     0.92903,     0.92902,     0.92901,     0.92901,       0.929,     0.92899,     0.92899,     0.92898,     0.92897,     0.92897,     0.92896,     0.92895,     0.92895,     0.92894,     0.92894,     0.92893,     0.92892,     0.92892,     0.92891,\n",
            "             0.9289,      0.9289,     0.92889,     0.92888,     0.92888,     0.92887,     0.92887,     0.92886,     0.92885,     0.92885,     0.92884,     0.92883,     0.92883,     0.92882,     0.92881,     0.92881,      0.9288,     0.92879,     0.92879,     0.92878,     0.92878,     0.92877,     0.92876,\n",
            "            0.92876,     0.92875,     0.92874,     0.92874,     0.92873,     0.92872,     0.92872,     0.92871,      0.9287,      0.9287,     0.92869,     0.92869,     0.92868,     0.92867,     0.92867,     0.92866,     0.92865,     0.92865,     0.92864,     0.92863,     0.92863,     0.92862,     0.92862,\n",
            "            0.92861,      0.9286,      0.9286,     0.92859,     0.92858,     0.92858,     0.92884,     0.93018,     0.93152,     0.93286,     0.93419,     0.93553,     0.94059,     0.94351,     0.94345,     0.94339,     0.94332,     0.94326,      0.9432,     0.94313,     0.94337,     0.94426,     0.94516,\n",
            "            0.94605,     0.94695,     0.94784,     0.94874,     0.94963,     0.95053,     0.95136,     0.95216,     0.95296,     0.95376,     0.95456,     0.95536,     0.95616,     0.95696,     0.95776,     0.95856,     0.95865,     0.95861,     0.95857,     0.95854,      0.9585,     0.95846,     0.95842,\n",
            "            0.95839,     0.95835,     0.95831,     0.95828,     0.95824,      0.9582,     0.95816,     0.95813,     0.95809,     0.95805,     0.95802,     0.95804,     0.95855,     0.95905,     0.95956,     0.96007,     0.96058,     0.96109,      0.9616,      0.9621,     0.96261,     0.96312,     0.96363,\n",
            "            0.96414,     0.96465,     0.96515,     0.96566,      0.9661,     0.96607,     0.96604,     0.96602,     0.96599,     0.96596,     0.96594,     0.96591,     0.96588,     0.96585,     0.96583,      0.9658,     0.96578,     0.96576,     0.96574,     0.96571,     0.96569,     0.96567,     0.96565,\n",
            "            0.96563,      0.9656,     0.96558,     0.96556,     0.96554,     0.96553,     0.96581,     0.96608,     0.96636,     0.96663,     0.96691,     0.96718,     0.96746,     0.96773,     0.96801,     0.96829,     0.96856,     0.96884,     0.96911,     0.96939,     0.96966,     0.96994,     0.97021,\n",
            "            0.97049,     0.97076,     0.97104,     0.97131,     0.97159,     0.97186,     0.97214,     0.97241,     0.97269,     0.97296,     0.97324,     0.97351,     0.97379,      0.9739,     0.97387,     0.97385,     0.97382,     0.97379,     0.97377,     0.97374,     0.97371,     0.97369,     0.97368,\n",
            "            0.97367,     0.97366,     0.97366,     0.97365,     0.97364,     0.97364,     0.97363,     0.97362,     0.97362,     0.97361,      0.9736,     0.97359,     0.97359,     0.97358,     0.97357,     0.97357,     0.97356,     0.97355,     0.97355,     0.97354,     0.97353,     0.97353,     0.97352,\n",
            "            0.97351,      0.9735,      0.9735,     0.97349,     0.97348,     0.97348,     0.97347,     0.97346,     0.97346,     0.97344,     0.97342,     0.97339,     0.97336,     0.97333,     0.97331,     0.97328,     0.97325,     0.97322,     0.97297,     0.97293,     0.97289,     0.97286,     0.97282,\n",
            "            0.97278,     0.97274,     0.97271,     0.97268,     0.97265,     0.97262,     0.97259,     0.97256,     0.97254,     0.97251,     0.97248,     0.97246,     0.97244,     0.97242,      0.9724,     0.97238,     0.97236,     0.97234,     0.97232,      0.9723,     0.97228,     0.97226,     0.97224,\n",
            "            0.97222,     0.97217,     0.97212,     0.97207,     0.97201,     0.97196,      0.9719,     0.97185,     0.97179,     0.97173,     0.97164,     0.97151,     0.97143,     0.97141,      0.9714,     0.97139,     0.97138,     0.97137,     0.97136,     0.97135,     0.97134,     0.97133,     0.97132,\n",
            "            0.97131,      0.9713,     0.97129,     0.97128,     0.97127,     0.97126,     0.97125,     0.97124,     0.97123,     0.97122,     0.97121,      0.9712,     0.97119,     0.97118,     0.97117,     0.97116,     0.97467,     0.98056,     0.98048,      0.9804,     0.98457,     0.98924,     0.99006,\n",
            "            0.99002,     0.98999,     0.98996,     0.98993,      0.9899,     0.98985,      0.9898,     0.98979,     0.98978,     0.98977,     0.98977,     0.98976,     0.98975,     0.98974,     0.98973,     0.98973,     0.98972,     0.98971,      0.9897,     0.98969,     0.98968,     0.98967,     0.98965,\n",
            "            0.98963,     0.98962,      0.9896,     0.98959,     0.98957,     0.98955,     0.98953,     0.98952,      0.9895,     0.98948,     0.98945,     0.98941,     0.98936,     0.98935,     0.98934,     0.98933,     0.98932,     0.98931,     0.98929,     0.98928,     0.98927,     0.98926,     0.98925,\n",
            "            0.98917,     0.98882,     0.98866,           1,           1,           1,           1,           1,           1,           1,           1,           1,           1,           1,           1,           1,           1,           1,           1,           1,           1,           1,           1,\n",
            "                  1,           1,           1,           1,           1,           1,           1,           1,           1,           1,           1,           1,           1,           1,           1,           1,           1,           1,           1,           1,           1,           1,           1,\n",
            "                  1,           1,           1,           1,           1,           1,           1,           1,           1,           1,           1,           1,           1,           1,           1,           1,           1,           1,           1,           1,           1,           1,           1,\n",
            "                  1,           1,           1,           1,           1,           1,           1,           1,           1,           1,           1,           1,           1,           1,           1,           1,           1,           1,           1,           1,           1,           1,           1,\n",
            "                  1,           1,           1,           1,           1,           1,           1,           1,           1,           1,           1,           1,           1,           1,           1,           1,           1,           1,           1,           1,           1,           1,           1,\n",
            "                  1,           1,           1,           1,           1,           1,           1,           1,           1,           1,           1,           1,           1,           1,           1,           1,           1,           1,           1,           1,           1,           1,           1,\n",
            "                  1,           1,           1,           1,           1,           1,           1,           1,           1,           1,           1,           1,           1,           1,           1,           1,           1,           1,           1,           1,           1,           1,           1,\n",
            "                  1,           1,           1,           1,           1,           1,           1,           1,           1,           1,           1,           1,           1,           1,           1,           1,           1,           1,           1,           1,           1,           1,           1,\n",
            "                  1,           1,           1,           1,           1,           1,           1,           1,           1,           1,           1,           1,           1,           1,           1,           1,           1,           1,           1,           1,           1,           1,           1,\n",
            "                  1,           1,           1,           1,           1,           1,           1,           1,           1,           1,           1,           1,           1,           1,           1,           1,           1,           1,           1,           1,           1,           1,           1,\n",
            "                  1,           1,           1,           1,           1,           1,           1,           1,           1,           1,           1]]), 'Confidence', 'Precision'], [array([          0,    0.001001,    0.002002,    0.003003,    0.004004,    0.005005,    0.006006,    0.007007,    0.008008,    0.009009,     0.01001,    0.011011,    0.012012,    0.013013,    0.014014,    0.015015,    0.016016,    0.017017,    0.018018,    0.019019,     0.02002,    0.021021,    0.022022,    0.023023,\n",
            "          0.024024,    0.025025,    0.026026,    0.027027,    0.028028,    0.029029,     0.03003,    0.031031,    0.032032,    0.033033,    0.034034,    0.035035,    0.036036,    0.037037,    0.038038,    0.039039,     0.04004,    0.041041,    0.042042,    0.043043,    0.044044,    0.045045,    0.046046,    0.047047,\n",
            "          0.048048,    0.049049,     0.05005,    0.051051,    0.052052,    0.053053,    0.054054,    0.055055,    0.056056,    0.057057,    0.058058,    0.059059,     0.06006,    0.061061,    0.062062,    0.063063,    0.064064,    0.065065,    0.066066,    0.067067,    0.068068,    0.069069,     0.07007,    0.071071,\n",
            "          0.072072,    0.073073,    0.074074,    0.075075,    0.076076,    0.077077,    0.078078,    0.079079,     0.08008,    0.081081,    0.082082,    0.083083,    0.084084,    0.085085,    0.086086,    0.087087,    0.088088,    0.089089,     0.09009,    0.091091,    0.092092,    0.093093,    0.094094,    0.095095,\n",
            "          0.096096,    0.097097,    0.098098,    0.099099,      0.1001,      0.1011,      0.1021,      0.1031,      0.1041,     0.10511,     0.10611,     0.10711,     0.10811,     0.10911,     0.11011,     0.11111,     0.11211,     0.11311,     0.11411,     0.11512,     0.11612,     0.11712,     0.11812,     0.11912,\n",
            "           0.12012,     0.12112,     0.12212,     0.12312,     0.12412,     0.12513,     0.12613,     0.12713,     0.12813,     0.12913,     0.13013,     0.13113,     0.13213,     0.13313,     0.13413,     0.13514,     0.13614,     0.13714,     0.13814,     0.13914,     0.14014,     0.14114,     0.14214,     0.14314,\n",
            "           0.14414,     0.14515,     0.14615,     0.14715,     0.14815,     0.14915,     0.15015,     0.15115,     0.15215,     0.15315,     0.15415,     0.15516,     0.15616,     0.15716,     0.15816,     0.15916,     0.16016,     0.16116,     0.16216,     0.16316,     0.16416,     0.16517,     0.16617,     0.16717,\n",
            "           0.16817,     0.16917,     0.17017,     0.17117,     0.17217,     0.17317,     0.17417,     0.17518,     0.17618,     0.17718,     0.17818,     0.17918,     0.18018,     0.18118,     0.18218,     0.18318,     0.18418,     0.18519,     0.18619,     0.18719,     0.18819,     0.18919,     0.19019,     0.19119,\n",
            "           0.19219,     0.19319,     0.19419,      0.1952,      0.1962,      0.1972,      0.1982,      0.1992,      0.2002,      0.2012,      0.2022,      0.2032,      0.2042,     0.20521,     0.20621,     0.20721,     0.20821,     0.20921,     0.21021,     0.21121,     0.21221,     0.21321,     0.21421,     0.21522,\n",
            "           0.21622,     0.21722,     0.21822,     0.21922,     0.22022,     0.22122,     0.22222,     0.22322,     0.22422,     0.22523,     0.22623,     0.22723,     0.22823,     0.22923,     0.23023,     0.23123,     0.23223,     0.23323,     0.23423,     0.23524,     0.23624,     0.23724,     0.23824,     0.23924,\n",
            "           0.24024,     0.24124,     0.24224,     0.24324,     0.24424,     0.24525,     0.24625,     0.24725,     0.24825,     0.24925,     0.25025,     0.25125,     0.25225,     0.25325,     0.25425,     0.25526,     0.25626,     0.25726,     0.25826,     0.25926,     0.26026,     0.26126,     0.26226,     0.26326,\n",
            "           0.26426,     0.26527,     0.26627,     0.26727,     0.26827,     0.26927,     0.27027,     0.27127,     0.27227,     0.27327,     0.27427,     0.27528,     0.27628,     0.27728,     0.27828,     0.27928,     0.28028,     0.28128,     0.28228,     0.28328,     0.28428,     0.28529,     0.28629,     0.28729,\n",
            "           0.28829,     0.28929,     0.29029,     0.29129,     0.29229,     0.29329,     0.29429,      0.2953,      0.2963,      0.2973,      0.2983,      0.2993,      0.3003,      0.3013,      0.3023,      0.3033,      0.3043,     0.30531,     0.30631,     0.30731,     0.30831,     0.30931,     0.31031,     0.31131,\n",
            "           0.31231,     0.31331,     0.31431,     0.31532,     0.31632,     0.31732,     0.31832,     0.31932,     0.32032,     0.32132,     0.32232,     0.32332,     0.32432,     0.32533,     0.32633,     0.32733,     0.32833,     0.32933,     0.33033,     0.33133,     0.33233,     0.33333,     0.33433,     0.33534,\n",
            "           0.33634,     0.33734,     0.33834,     0.33934,     0.34034,     0.34134,     0.34234,     0.34334,     0.34434,     0.34535,     0.34635,     0.34735,     0.34835,     0.34935,     0.35035,     0.35135,     0.35235,     0.35335,     0.35435,     0.35536,     0.35636,     0.35736,     0.35836,     0.35936,\n",
            "           0.36036,     0.36136,     0.36236,     0.36336,     0.36436,     0.36537,     0.36637,     0.36737,     0.36837,     0.36937,     0.37037,     0.37137,     0.37237,     0.37337,     0.37437,     0.37538,     0.37638,     0.37738,     0.37838,     0.37938,     0.38038,     0.38138,     0.38238,     0.38338,\n",
            "           0.38438,     0.38539,     0.38639,     0.38739,     0.38839,     0.38939,     0.39039,     0.39139,     0.39239,     0.39339,     0.39439,      0.3954,      0.3964,      0.3974,      0.3984,      0.3994,      0.4004,      0.4014,      0.4024,      0.4034,      0.4044,     0.40541,     0.40641,     0.40741,\n",
            "           0.40841,     0.40941,     0.41041,     0.41141,     0.41241,     0.41341,     0.41441,     0.41542,     0.41642,     0.41742,     0.41842,     0.41942,     0.42042,     0.42142,     0.42242,     0.42342,     0.42442,     0.42543,     0.42643,     0.42743,     0.42843,     0.42943,     0.43043,     0.43143,\n",
            "           0.43243,     0.43343,     0.43443,     0.43544,     0.43644,     0.43744,     0.43844,     0.43944,     0.44044,     0.44144,     0.44244,     0.44344,     0.44444,     0.44545,     0.44645,     0.44745,     0.44845,     0.44945,     0.45045,     0.45145,     0.45245,     0.45345,     0.45445,     0.45546,\n",
            "           0.45646,     0.45746,     0.45846,     0.45946,     0.46046,     0.46146,     0.46246,     0.46346,     0.46446,     0.46547,     0.46647,     0.46747,     0.46847,     0.46947,     0.47047,     0.47147,     0.47247,     0.47347,     0.47447,     0.47548,     0.47648,     0.47748,     0.47848,     0.47948,\n",
            "           0.48048,     0.48148,     0.48248,     0.48348,     0.48448,     0.48549,     0.48649,     0.48749,     0.48849,     0.48949,     0.49049,     0.49149,     0.49249,     0.49349,     0.49449,      0.4955,      0.4965,      0.4975,      0.4985,      0.4995,      0.5005,      0.5015,      0.5025,      0.5035,\n",
            "            0.5045,     0.50551,     0.50651,     0.50751,     0.50851,     0.50951,     0.51051,     0.51151,     0.51251,     0.51351,     0.51451,     0.51552,     0.51652,     0.51752,     0.51852,     0.51952,     0.52052,     0.52152,     0.52252,     0.52352,     0.52452,     0.52553,     0.52653,     0.52753,\n",
            "           0.52853,     0.52953,     0.53053,     0.53153,     0.53253,     0.53353,     0.53453,     0.53554,     0.53654,     0.53754,     0.53854,     0.53954,     0.54054,     0.54154,     0.54254,     0.54354,     0.54454,     0.54555,     0.54655,     0.54755,     0.54855,     0.54955,     0.55055,     0.55155,\n",
            "           0.55255,     0.55355,     0.55455,     0.55556,     0.55656,     0.55756,     0.55856,     0.55956,     0.56056,     0.56156,     0.56256,     0.56356,     0.56456,     0.56557,     0.56657,     0.56757,     0.56857,     0.56957,     0.57057,     0.57157,     0.57257,     0.57357,     0.57457,     0.57558,\n",
            "           0.57658,     0.57758,     0.57858,     0.57958,     0.58058,     0.58158,     0.58258,     0.58358,     0.58458,     0.58559,     0.58659,     0.58759,     0.58859,     0.58959,     0.59059,     0.59159,     0.59259,     0.59359,     0.59459,      0.5956,      0.5966,      0.5976,      0.5986,      0.5996,\n",
            "            0.6006,      0.6016,      0.6026,      0.6036,      0.6046,     0.60561,     0.60661,     0.60761,     0.60861,     0.60961,     0.61061,     0.61161,     0.61261,     0.61361,     0.61461,     0.61562,     0.61662,     0.61762,     0.61862,     0.61962,     0.62062,     0.62162,     0.62262,     0.62362,\n",
            "           0.62462,     0.62563,     0.62663,     0.62763,     0.62863,     0.62963,     0.63063,     0.63163,     0.63263,     0.63363,     0.63463,     0.63564,     0.63664,     0.63764,     0.63864,     0.63964,     0.64064,     0.64164,     0.64264,     0.64364,     0.64464,     0.64565,     0.64665,     0.64765,\n",
            "           0.64865,     0.64965,     0.65065,     0.65165,     0.65265,     0.65365,     0.65465,     0.65566,     0.65666,     0.65766,     0.65866,     0.65966,     0.66066,     0.66166,     0.66266,     0.66366,     0.66466,     0.66567,     0.66667,     0.66767,     0.66867,     0.66967,     0.67067,     0.67167,\n",
            "           0.67267,     0.67367,     0.67467,     0.67568,     0.67668,     0.67768,     0.67868,     0.67968,     0.68068,     0.68168,     0.68268,     0.68368,     0.68468,     0.68569,     0.68669,     0.68769,     0.68869,     0.68969,     0.69069,     0.69169,     0.69269,     0.69369,     0.69469,      0.6957,\n",
            "            0.6967,      0.6977,      0.6987,      0.6997,      0.7007,      0.7017,      0.7027,      0.7037,      0.7047,     0.70571,     0.70671,     0.70771,     0.70871,     0.70971,     0.71071,     0.71171,     0.71271,     0.71371,     0.71471,     0.71572,     0.71672,     0.71772,     0.71872,     0.71972,\n",
            "           0.72072,     0.72172,     0.72272,     0.72372,     0.72472,     0.72573,     0.72673,     0.72773,     0.72873,     0.72973,     0.73073,     0.73173,     0.73273,     0.73373,     0.73473,     0.73574,     0.73674,     0.73774,     0.73874,     0.73974,     0.74074,     0.74174,     0.74274,     0.74374,\n",
            "           0.74474,     0.74575,     0.74675,     0.74775,     0.74875,     0.74975,     0.75075,     0.75175,     0.75275,     0.75375,     0.75475,     0.75576,     0.75676,     0.75776,     0.75876,     0.75976,     0.76076,     0.76176,     0.76276,     0.76376,     0.76476,     0.76577,     0.76677,     0.76777,\n",
            "           0.76877,     0.76977,     0.77077,     0.77177,     0.77277,     0.77377,     0.77477,     0.77578,     0.77678,     0.77778,     0.77878,     0.77978,     0.78078,     0.78178,     0.78278,     0.78378,     0.78478,     0.78579,     0.78679,     0.78779,     0.78879,     0.78979,     0.79079,     0.79179,\n",
            "           0.79279,     0.79379,     0.79479,      0.7958,      0.7968,      0.7978,      0.7988,      0.7998,      0.8008,      0.8018,      0.8028,      0.8038,      0.8048,     0.80581,     0.80681,     0.80781,     0.80881,     0.80981,     0.81081,     0.81181,     0.81281,     0.81381,     0.81481,     0.81582,\n",
            "           0.81682,     0.81782,     0.81882,     0.81982,     0.82082,     0.82182,     0.82282,     0.82382,     0.82482,     0.82583,     0.82683,     0.82783,     0.82883,     0.82983,     0.83083,     0.83183,     0.83283,     0.83383,     0.83483,     0.83584,     0.83684,     0.83784,     0.83884,     0.83984,\n",
            "           0.84084,     0.84184,     0.84284,     0.84384,     0.84484,     0.84585,     0.84685,     0.84785,     0.84885,     0.84985,     0.85085,     0.85185,     0.85285,     0.85385,     0.85485,     0.85586,     0.85686,     0.85786,     0.85886,     0.85986,     0.86086,     0.86186,     0.86286,     0.86386,\n",
            "           0.86486,     0.86587,     0.86687,     0.86787,     0.86887,     0.86987,     0.87087,     0.87187,     0.87287,     0.87387,     0.87487,     0.87588,     0.87688,     0.87788,     0.87888,     0.87988,     0.88088,     0.88188,     0.88288,     0.88388,     0.88488,     0.88589,     0.88689,     0.88789,\n",
            "           0.88889,     0.88989,     0.89089,     0.89189,     0.89289,     0.89389,     0.89489,      0.8959,      0.8969,      0.8979,      0.8989,      0.8999,      0.9009,      0.9019,      0.9029,      0.9039,      0.9049,     0.90591,     0.90691,     0.90791,     0.90891,     0.90991,     0.91091,     0.91191,\n",
            "           0.91291,     0.91391,     0.91491,     0.91592,     0.91692,     0.91792,     0.91892,     0.91992,     0.92092,     0.92192,     0.92292,     0.92392,     0.92492,     0.92593,     0.92693,     0.92793,     0.92893,     0.92993,     0.93093,     0.93193,     0.93293,     0.93393,     0.93493,     0.93594,\n",
            "           0.93694,     0.93794,     0.93894,     0.93994,     0.94094,     0.94194,     0.94294,     0.94394,     0.94494,     0.94595,     0.94695,     0.94795,     0.94895,     0.94995,     0.95095,     0.95195,     0.95295,     0.95395,     0.95495,     0.95596,     0.95696,     0.95796,     0.95896,     0.95996,\n",
            "           0.96096,     0.96196,     0.96296,     0.96396,     0.96496,     0.96597,     0.96697,     0.96797,     0.96897,     0.96997,     0.97097,     0.97197,     0.97297,     0.97397,     0.97497,     0.97598,     0.97698,     0.97798,     0.97898,     0.97998,     0.98098,     0.98198,     0.98298,     0.98398,\n",
            "           0.98498,     0.98599,     0.98699,     0.98799,     0.98899,     0.98999,     0.99099,     0.99199,     0.99299,     0.99399,     0.99499,       0.996,       0.997,       0.998,       0.999,           1]), array([[    0.90909,     0.90909,      0.9021,      0.9021,     0.88811,     0.88811,     0.88811,     0.88811,     0.88811,     0.88236,     0.88112,     0.88112,     0.88112,     0.88112,     0.88112,     0.88112,     0.88112,     0.88112,     0.88112,     0.88112,     0.88112,     0.88112,     0.88112,\n",
            "            0.88112,     0.88112,     0.87413,     0.87413,     0.87413,     0.87413,     0.87413,     0.87413,     0.87413,     0.87413,     0.87413,     0.87413,     0.87413,     0.87413,     0.87413,     0.87413,     0.87413,     0.87413,     0.87413,     0.87413,     0.87413,     0.87413,     0.87413,\n",
            "            0.87413,     0.87413,     0.87413,     0.87383,     0.87319,     0.87255,      0.8719,     0.87126,     0.87062,     0.86997,     0.86933,     0.86869,     0.86805,      0.8674,     0.86713,     0.86713,     0.86713,     0.86713,     0.86394,     0.86014,     0.86014,     0.86014,     0.86014,\n",
            "            0.86014,     0.86014,     0.86014,     0.86014,     0.86014,     0.86014,     0.86014,     0.86014,     0.86014,     0.86014,     0.86014,     0.86014,     0.86014,     0.86014,     0.86014,     0.86014,     0.86014,     0.86014,     0.86014,     0.86014,     0.86014,     0.86014,     0.86014,\n",
            "            0.86014,     0.86014,     0.86014,     0.86014,     0.86014,     0.86014,     0.86014,     0.86014,     0.86014,     0.86014,     0.86014,     0.86014,     0.86014,     0.86014,     0.86014,     0.86014,     0.86014,     0.86014,     0.86014,     0.86014,     0.86014,     0.86014,     0.86014,\n",
            "            0.86014,     0.86014,     0.86014,     0.86014,     0.86014,     0.86014,     0.86014,     0.86014,     0.86014,     0.86014,     0.86014,     0.86014,     0.86014,     0.86014,     0.86014,     0.86014,     0.86014,     0.86014,     0.86014,     0.86014,     0.86014,     0.86014,     0.86014,\n",
            "            0.86014,     0.86014,     0.86014,     0.86014,     0.86014,     0.86014,     0.86014,     0.86014,     0.86014,      0.8589,     0.85301,     0.85241,     0.85182,     0.85122,     0.85062,     0.85002,     0.84943,     0.84883,     0.84823,     0.84763,     0.84704,     0.84644,     0.84596,\n",
            "            0.84559,     0.84521,     0.84484,     0.84447,     0.84409,     0.84372,     0.84335,     0.84297,      0.8426,     0.84223,     0.84185,     0.84148,     0.84111,     0.84073,     0.84036,     0.83999,     0.83961,     0.83924,     0.83916,     0.83916,     0.83916,     0.83916,     0.83916,\n",
            "            0.83916,     0.83916,     0.83916,     0.83916,     0.83916,     0.83916,     0.83916,     0.83916,     0.83916,     0.83916,     0.83916,     0.83916,     0.83916,     0.83916,     0.83916,     0.83916,     0.83916,     0.83916,     0.83916,     0.83916,     0.83916,     0.83916,     0.83916,\n",
            "            0.83916,     0.83916,     0.83916,     0.83916,     0.83916,     0.83916,     0.83916,     0.83916,     0.83916,     0.83916,     0.83916,     0.83916,     0.83916,     0.83916,     0.83916,     0.83916,     0.83916,     0.83916,     0.83916,     0.83916,     0.83916,     0.83916,     0.83916,\n",
            "            0.83916,     0.83916,     0.83916,     0.83916,     0.83916,     0.83916,     0.83916,     0.83916,     0.83916,     0.83916,     0.83916,     0.83916,     0.83916,     0.83916,     0.83916,     0.83916,     0.83916,     0.83916,     0.83916,     0.83916,     0.83916,     0.83916,     0.83916,\n",
            "            0.83916,     0.83916,     0.83916,     0.83916,     0.83916,     0.83916,     0.83916,     0.83916,     0.83916,     0.83916,     0.83916,     0.83916,     0.83916,     0.83916,     0.83916,     0.83916,     0.83916,     0.83912,     0.83832,     0.83751,     0.83671,      0.8359,     0.83509,\n",
            "            0.83429,     0.83348,     0.83268,     0.83217,     0.83217,     0.83217,     0.83217,     0.83217,     0.83217,     0.83217,     0.83217,     0.83217,     0.83217,     0.83217,     0.83217,     0.83217,     0.83217,     0.83217,     0.83217,     0.83217,     0.83217,     0.83217,     0.83217,\n",
            "            0.83217,     0.83217,     0.83217,     0.83217,     0.83217,     0.83217,     0.83217,     0.83217,     0.83217,     0.83217,     0.83217,     0.83217,     0.83217,     0.83217,     0.83217,     0.83217,     0.83217,     0.83217,     0.83217,     0.83217,     0.83217,     0.83217,     0.83217,\n",
            "            0.83217,     0.83217,     0.83217,     0.83217,     0.83217,     0.83217,     0.83217,     0.83209,     0.83176,     0.83144,     0.83112,      0.8308,     0.83048,     0.83016,     0.82984,     0.82952,      0.8292,     0.82888,     0.82856,     0.82824,     0.82792,      0.8276,     0.82727,\n",
            "            0.82695,     0.82663,     0.82631,     0.82599,     0.82567,     0.82535,     0.82517,     0.82517,     0.82517,     0.82517,     0.82517,     0.82517,     0.82517,     0.82517,     0.82517,     0.82517,     0.82517,     0.82517,     0.82517,     0.82517,     0.82517,     0.82517,     0.82517,\n",
            "            0.82517,     0.82517,     0.82517,     0.82517,     0.82517,     0.82517,     0.82517,     0.82517,     0.82517,     0.82517,     0.82517,      0.8251,     0.82502,     0.82494,     0.82486,     0.82478,      0.8247,     0.82462,     0.82454,     0.82446,     0.82438,      0.8243,     0.82422,\n",
            "            0.82415,     0.82407,     0.82399,     0.82391,     0.82383,     0.82375,     0.82367,     0.82359,     0.82351,     0.82343,     0.82335,     0.82327,     0.82319,     0.82311,     0.82303,     0.82295,     0.82287,     0.82279,     0.82271,     0.82263,     0.82255,     0.82247,     0.82239,\n",
            "            0.82231,     0.82223,     0.82215,     0.82207,     0.82199,     0.82191,     0.82183,     0.82175,     0.82167,     0.82159,     0.82151,     0.82143,     0.82135,     0.82127,      0.8212,     0.82112,     0.82104,     0.82096,     0.82088,      0.8208,     0.82072,     0.82064,     0.82056,\n",
            "            0.82048,      0.8204,     0.82032,     0.82024,     0.82016,     0.82008,        0.82,     0.81992,     0.81984,     0.81976,     0.81968,      0.8196,     0.81952,     0.81944,     0.81936,     0.81928,      0.8192,     0.81912,     0.81904,     0.81896,     0.81888,      0.8188,     0.81872,\n",
            "            0.81864,     0.81856,     0.81848,      0.8184,     0.81833,     0.81825,     0.81818,     0.81818,     0.81818,     0.81818,     0.81818,     0.81818,     0.81818,     0.81762,     0.81666,      0.8157,     0.81474,     0.81378,     0.81281,     0.81185,     0.81119,     0.81119,     0.81119,\n",
            "            0.81119,     0.81119,     0.81119,     0.81119,     0.81119,     0.81119,     0.81119,     0.81119,     0.81119,     0.81119,     0.81119,     0.81119,     0.81119,     0.81119,     0.81119,     0.81119,     0.81055,      0.8098,     0.80905,     0.80829,     0.80754,     0.80679,     0.80604,\n",
            "            0.80529,     0.80454,     0.80379,     0.80305,     0.80231,     0.80157,     0.80083,     0.80009,     0.79935,      0.7986,     0.79786,      0.7972,      0.7972,      0.7972,      0.7972,      0.7972,      0.7972,      0.7972,      0.7972,      0.7972,      0.7972,      0.7972,      0.7972,\n",
            "             0.7972,      0.7972,      0.7972,      0.7972,     0.79712,     0.79646,     0.79581,     0.79515,      0.7945,     0.79384,     0.79319,     0.79254,     0.79188,     0.79123,     0.79057,     0.78998,     0.78946,     0.78893,     0.78841,     0.78789,     0.78737,     0.78684,     0.78632,\n",
            "             0.7858,     0.78528,     0.78475,     0.78423,     0.78371,     0.78322,     0.78322,     0.78322,     0.78322,     0.78322,     0.78322,     0.78322,     0.78322,     0.78322,     0.78322,     0.78322,     0.78322,     0.78322,     0.78322,     0.78322,     0.78322,     0.78322,     0.78322,\n",
            "            0.78322,     0.78322,     0.78322,     0.78322,     0.78322,     0.78322,     0.78322,     0.78322,     0.78322,     0.78322,     0.78322,     0.78322,     0.78322,     0.78278,     0.78197,     0.78116,     0.78036,     0.77955,     0.77874,     0.77793,     0.77713,     0.77632,     0.77604,\n",
            "            0.77583,     0.77562,     0.77542,     0.77521,       0.775,     0.77479,     0.77458,     0.77437,     0.77417,     0.77396,     0.77375,     0.77354,     0.77333,     0.77313,     0.77292,     0.77271,      0.7725,     0.77229,     0.77208,     0.77188,     0.77167,     0.77146,     0.77125,\n",
            "            0.77104,     0.77084,     0.77063,     0.77042,     0.77021,        0.77,     0.76979,     0.76959,     0.76938,       0.769,     0.76819,     0.76738,     0.76657,     0.76576,     0.76496,     0.76415,     0.76334,     0.76253,     0.75511,     0.75405,     0.75299,     0.75193,     0.75087,\n",
            "            0.74981,     0.74875,     0.74782,       0.747,     0.74618,     0.74536,     0.74454,     0.74371,     0.74289,     0.74207,     0.74125,     0.74071,     0.74018,     0.73964,      0.7391,     0.73856,     0.73802,     0.73748,     0.73694,      0.7364,     0.73586,     0.73532,     0.73478,\n",
            "             0.7342,     0.73282,     0.73143,     0.73005,     0.72866,     0.72728,     0.72572,     0.72417,     0.72262,     0.72107,     0.71869,     0.71543,      0.7132,     0.71294,     0.71268,     0.71242,     0.71216,      0.7119,     0.71164,     0.71138,     0.71112,     0.71086,      0.7106,\n",
            "            0.71034,     0.71008,     0.70982,     0.70957,     0.70931,     0.70905,     0.70879,     0.70853,     0.70827,     0.70801,     0.70775,     0.70749,     0.70723,     0.70697,     0.70671,     0.70645,     0.70629,     0.70532,     0.70246,      0.6996,      0.6993,      0.6993,     0.69685,\n",
            "            0.69384,     0.69131,     0.68926,     0.68721,     0.68507,     0.68189,     0.67871,     0.67786,     0.67733,      0.6768,     0.67628,     0.67575,     0.67522,     0.67469,     0.67416,     0.67364,     0.67311,     0.67258,     0.67205,     0.67153,     0.67069,     0.66966,     0.66864,\n",
            "            0.66762,     0.66659,     0.66557,     0.66455,     0.66344,      0.6623,     0.66117,     0.66004,     0.65891,     0.65778,     0.65571,     0.65307,     0.65042,     0.64968,     0.64899,     0.64829,      0.6476,     0.64691,     0.64622,     0.64553,     0.64484,     0.64414,     0.64345,\n",
            "            0.63892,     0.61879,     0.60983,     0.60726,     0.60031,      0.5985,     0.59669,     0.59489,     0.59187,     0.58841,     0.58622,     0.58454,     0.58286,     0.58118,     0.57916,     0.57688,      0.5746,     0.57143,     0.56732,     0.55731,     0.55178,     0.55086,     0.54994,\n",
            "            0.54902,     0.54811,     0.54719,     0.54627,     0.54508,     0.54174,     0.53807,     0.51622,     0.50953,     0.50693,     0.50433,     0.49591,     0.49237,     0.48303,     0.46044,     0.45234,     0.44619,     0.44031,      0.4357,     0.42942,     0.41941,     0.41626,     0.41312,\n",
            "            0.41121,     0.40955,     0.40788,     0.40622,     0.40503,     0.40411,      0.4032,     0.40228,     0.40137,     0.40046,     0.39954,     0.39863,     0.39248,     0.38923,     0.38646,     0.38035,     0.35857,      0.3424,     0.34063,     0.33886,     0.33709,     0.33512,     0.33229,\n",
            "            0.32947,     0.32798,     0.32701,     0.32605,     0.32508,     0.32412,     0.32315,     0.32219,     0.31934,     0.31456,      0.3125,     0.31044,     0.30837,     0.29246,      0.2892,     0.28469,       0.272,     0.26345,     0.25896,     0.25492,      0.2498,     0.23793,     0.22746,\n",
            "            0.22123,     0.21811,     0.20457,       0.187,     0.17985,     0.17384,     0.17142,     0.16899,      0.1597,     0.15687,     0.15403,     0.13978,     0.13786,     0.13594,     0.13402,     0.13057,     0.11846,     0.10803,     0.10343,     0.10162,    0.099812,    0.098002,    0.090036,\n",
            "           0.089011,    0.087986,    0.086961,    0.085937,    0.084912,     0.08384,    0.081139,    0.078437,    0.068666,    0.059887,     0.05617,    0.050433,    0.041127,    0.039241,    0.037356,     0.03547,    0.033649,    0.031851,    0.030053,    0.028256,     0.02658,    0.024928,    0.023276,\n",
            "           0.021623,    0.020414,    0.019487,    0.018561,    0.017634,    0.016707,    0.015781,    0.014854,     0.01382,    0.011176,   0.0085324,           0,           0,           0,           0,           0,           0,           0,           0,           0,           0,           0,           0,\n",
            "                  0,           0,           0,           0,           0,           0,           0,           0,           0,           0,           0,           0,           0,           0,           0,           0,           0,           0,           0,           0,           0,           0,           0,\n",
            "                  0,           0,           0,           0,           0,           0,           0,           0,           0,           0,           0,           0,           0,           0,           0,           0,           0,           0,           0,           0,           0,           0,           0,\n",
            "                  0,           0,           0,           0,           0,           0,           0,           0,           0,           0,           0,           0,           0,           0,           0,           0,           0,           0,           0,           0,           0,           0,           0,\n",
            "                  0,           0,           0,           0,           0,           0,           0,           0,           0,           0,           0]]), 'Confidence', 'Recall']]\n",
            "f1: array([    0.87208])\n",
            "f1_curve: array([[    0.43919,     0.43919,      0.5313,     0.59711,     0.63747,     0.66686,     0.68841,     0.70388,     0.71625,     0.72479,      0.7291,     0.73507,     0.73623,     0.73855,     0.74712,     0.74901,     0.75085,     0.75455,     0.75597,     0.75826,     0.76308,     0.76644,     0.76938,\n",
            "            0.77431,     0.77972,     0.77871,     0.78653,     0.79159,     0.79538,     0.79705,     0.79803,     0.79903,     0.80006,     0.80109,     0.80468,      0.8089,     0.81173,     0.81344,     0.81503,     0.81648,     0.81947,     0.82373,     0.82673,     0.83343,     0.83483,     0.83652,\n",
            "             0.8394,     0.84033,     0.84125,     0.84159,     0.84123,     0.84087,     0.84051,     0.84015,     0.83979,     0.83943,     0.83907,     0.83871,     0.83835,     0.83799,     0.83888,     0.84067,     0.84214,     0.84387,     0.84461,     0.84252,     0.84278,     0.84305,     0.84332,\n",
            "            0.84358,     0.84385,     0.84412,     0.84438,     0.84465,     0.84491,     0.84518,     0.84556,     0.84622,     0.84687,     0.84753,     0.84818,     0.84852,     0.84881,      0.8491,     0.84939,     0.84968,     0.84996,     0.85025,     0.85054,     0.85083,     0.85111,     0.85155,\n",
            "            0.85207,     0.85258,      0.8531,     0.85361,     0.85412,     0.85447,     0.85481,     0.85514,     0.85548,     0.85581,     0.85614,     0.85648,     0.85681,     0.85714,      0.8574,     0.85765,      0.8579,     0.85815,      0.8584,     0.85866,     0.85891,     0.85916,     0.85941,\n",
            "            0.85966,     0.85991,     0.86015,     0.86025,     0.86035,     0.86045,     0.86055,     0.86065,     0.86076,     0.86086,     0.86096,     0.86106,     0.86116,     0.86126,     0.86136,     0.86146,     0.86156,     0.86166,     0.86177,     0.86187,     0.86197,     0.86207,     0.86217,\n",
            "            0.86227,     0.86237,     0.86247,     0.86257,     0.86267,     0.86277,     0.86287,     0.86297,     0.86307,     0.86245,     0.85908,     0.85873,     0.85839,     0.85805,      0.8577,     0.85736,     0.85701,     0.85667,     0.85632,     0.85598,     0.85563,     0.85529,     0.85501,\n",
            "            0.85479,     0.85458,     0.85436,     0.85415,     0.85393,     0.85371,      0.8535,     0.85328,     0.85306,     0.85285,     0.85263,     0.85241,      0.8522,     0.85198,     0.85176,     0.85154,     0.85133,     0.85111,     0.85205,     0.85329,     0.85413,     0.85422,     0.85431,\n",
            "            0.85441,      0.8545,      0.8546,     0.85469,     0.85478,     0.85488,     0.85497,     0.85507,     0.85516,     0.85525,     0.85535,     0.85544,     0.85554,     0.85563,     0.85572,     0.85582,     0.85591,       0.856,      0.8561,     0.85619,     0.85629,     0.85638,     0.85647,\n",
            "            0.85657,     0.85666,     0.85675,     0.85685,     0.85694,     0.85703,     0.85713,     0.85726,      0.8574,     0.85754,     0.85768,     0.85782,     0.85796,      0.8581,     0.85825,     0.85839,     0.85853,     0.85867,     0.85881,     0.85895,     0.85909,     0.85923,     0.85937,\n",
            "            0.85951,     0.85965,     0.85979,     0.85993,     0.86007,     0.86021,     0.86046,     0.86071,     0.86097,     0.86122,     0.86148,     0.86173,     0.86199,     0.86224,      0.8625,     0.86275,       0.863,     0.86326,     0.86355,     0.86386,     0.86416,     0.86446,     0.86477,\n",
            "            0.86507,     0.86537,     0.86568,     0.86598,     0.86628,     0.86656,     0.86681,     0.86706,     0.86732,     0.86757,     0.86782,     0.86807,     0.86832,     0.86857,     0.86882,     0.86908,     0.86933,     0.86954,     0.86907,      0.8686,     0.86812,     0.86765,     0.86718,\n",
            "             0.8667,     0.86623,     0.86575,     0.86552,     0.86569,     0.86586,     0.86603,      0.8662,     0.86637,     0.86654,     0.86671,     0.86688,     0.86705,     0.86722,     0.86739,     0.86755,     0.86772,     0.86789,     0.86806,     0.86823,      0.8684,     0.86857,     0.86888,\n",
            "            0.86925,     0.86961,     0.86998,     0.87034,      0.8707,     0.87107,     0.87143,     0.87179,     0.87194,     0.87208,     0.87222,     0.87236,      0.8725,     0.87264,     0.87278,     0.87292,     0.87307,     0.87321,     0.87335,     0.87349,     0.87363,     0.87377,     0.87391,\n",
            "            0.87405,     0.87419,     0.87433,     0.87447,     0.87461,     0.87476,      0.8749,     0.87495,     0.87476,     0.87457,     0.87438,     0.87419,       0.874,     0.87381,     0.87362,     0.87343,     0.87324,     0.87305,     0.87286,     0.87267,     0.87248,     0.87229,      0.8721,\n",
            "            0.87191,     0.87172,     0.87153,     0.87134,     0.87114,     0.87095,      0.8709,     0.87102,     0.87114,     0.87125,     0.87137,     0.87149,     0.87161,     0.87172,     0.87184,     0.87196,     0.87208,     0.87219,     0.87231,     0.87243,     0.87254,     0.87266,     0.87278,\n",
            "             0.8729,     0.87301,     0.87313,     0.87325,     0.87336,     0.87348,      0.8736,     0.87371,     0.87383,     0.87395,     0.87406,     0.87403,     0.87398,     0.87394,     0.87389,     0.87384,     0.87379,     0.87374,      0.8737,     0.87365,      0.8736,     0.87355,     0.87351,\n",
            "            0.87346,     0.87341,     0.87336,     0.87332,     0.87327,     0.87322,     0.87317,     0.87313,     0.87308,     0.87303,     0.87298,     0.87294,     0.87289,     0.87284,     0.87279,     0.87274,      0.8727,     0.87265,      0.8726,     0.87255,     0.87251,     0.87246,     0.87241,\n",
            "            0.87236,     0.87232,     0.87227,     0.87222,     0.87217,     0.87212,     0.87208,     0.87203,     0.87198,     0.87193,     0.87189,     0.87184,     0.87179,     0.87174,      0.8717,     0.87165,      0.8716,     0.87155,      0.8715,     0.87146,     0.87141,     0.87136,     0.87131,\n",
            "            0.87127,     0.87122,     0.87117,     0.87112,     0.87107,     0.87103,     0.87098,     0.87093,     0.87088,     0.87084,     0.87079,     0.87074,     0.87069,     0.87064,      0.8706,     0.87055,      0.8705,     0.87045,     0.87041,     0.87036,     0.87031,     0.87026,     0.87021,\n",
            "            0.87017,     0.87012,     0.87007,     0.87002,     0.86997,     0.86993,     0.87001,     0.87059,     0.87118,     0.87176,     0.87235,     0.87293,     0.87512,     0.87607,     0.87549,     0.87491,     0.87433,     0.87375,     0.87317,     0.87258,      0.8723,     0.87268,     0.87306,\n",
            "            0.87345,     0.87383,     0.87421,     0.87459,     0.87497,     0.87535,      0.8757,     0.87604,     0.87638,     0.87672,     0.87705,     0.87739,     0.87773,     0.87807,      0.8784,     0.87874,      0.8784,     0.87794,     0.87748,     0.87703,     0.87657,     0.87611,     0.87565,\n",
            "            0.87519,     0.87474,     0.87428,     0.87382,     0.87337,     0.87292,     0.87246,       0.872,     0.87155,     0.87109,     0.87064,     0.87025,     0.87046,     0.87067,     0.87088,     0.87109,      0.8713,     0.87151,     0.87172,     0.87193,     0.87213,     0.87234,     0.87255,\n",
            "            0.87276,     0.87297,     0.87318,     0.87338,     0.87351,     0.87311,      0.8727,      0.8723,     0.87189,     0.87149,     0.87108,     0.87068,     0.87027,     0.86986,     0.86946,     0.86909,     0.86876,     0.86844,     0.86811,     0.86778,     0.86746,     0.86713,     0.86681,\n",
            "            0.86648,     0.86615,     0.86583,      0.8655,     0.86517,     0.86487,     0.86498,     0.86509,      0.8652,     0.86531,     0.86542,     0.86553,     0.86564,     0.86575,     0.86586,     0.86597,     0.86608,     0.86619,      0.8663,     0.86641,     0.86652,     0.86663,     0.86674,\n",
            "            0.86685,     0.86696,     0.86707,     0.86718,     0.86729,      0.8674,     0.86751,     0.86762,     0.86773,     0.86784,     0.86795,     0.86806,     0.86817,     0.86794,     0.86743,     0.86693,     0.86642,     0.86591,      0.8654,     0.86489,     0.86438,     0.86387,      0.8637,\n",
            "            0.86357,     0.86343,      0.8633,     0.86317,     0.86304,     0.86291,     0.86277,     0.86264,     0.86251,     0.86238,     0.86225,     0.86212,     0.86198,     0.86185,     0.86172,     0.86159,     0.86145,     0.86132,     0.86119,     0.86106,     0.86093,     0.86079,     0.86066,\n",
            "            0.86053,      0.8604,     0.86026,     0.86013,        0.86,     0.85987,     0.85973,      0.8596,     0.85947,     0.85922,     0.85871,     0.85819,     0.85768,     0.85716,     0.85664,     0.85613,     0.85561,     0.85509,      0.8503,     0.84962,     0.84893,     0.84824,     0.84756,\n",
            "            0.84687,     0.84618,     0.84557,     0.84503,     0.84449,     0.84396,     0.84342,     0.84288,     0.84234,      0.8418,     0.84127,     0.84091,     0.84056,      0.8402,     0.83985,     0.83949,     0.83913,     0.83878,     0.83842,     0.83807,     0.83771,     0.83735,     0.83699,\n",
            "            0.83661,     0.83569,     0.83477,     0.83385,     0.83293,       0.832,     0.83096,     0.82993,     0.82888,     0.82784,     0.82623,     0.82403,     0.82252,     0.82234,     0.82217,     0.82199,     0.82182,     0.82164,     0.82146,     0.82129,     0.82111,     0.82093,     0.82076,\n",
            "            0.82058,      0.8204,     0.82023,     0.82005,     0.81987,     0.81969,     0.81952,     0.81934,     0.81916,     0.81899,     0.81881,     0.81863,     0.81845,     0.81828,      0.8181,     0.81792,     0.81906,     0.82047,     0.81851,     0.81653,     0.81777,     0.81938,     0.81797,\n",
            "            0.81588,     0.81412,     0.81268,     0.81125,     0.80974,      0.8075,     0.80525,     0.80465,     0.80428,      0.8039,     0.80353,     0.80315,     0.80278,      0.8024,     0.80202,     0.80165,     0.80127,      0.8009,     0.80052,     0.80014,     0.79954,     0.79881,     0.79807,\n",
            "            0.79734,      0.7966,     0.79587,     0.79513,     0.79433,     0.79351,     0.79269,     0.79187,     0.79105,     0.79023,     0.78873,      0.7868,     0.78486,     0.78432,     0.78381,      0.7833,     0.78279,     0.78228,     0.78177,     0.78126,     0.78075,     0.78024,     0.77973,\n",
            "            0.77637,     0.76122,     0.75436,     0.75565,     0.75024,     0.74883,     0.74741,     0.74599,     0.74362,     0.74088,     0.73914,      0.7378,     0.73646,     0.73512,     0.73351,     0.73167,     0.72983,     0.72727,     0.72393,     0.71574,     0.71116,     0.71039,     0.70963,\n",
            "            0.70886,      0.7081,     0.70733,     0.70656,     0.70556,     0.70277,     0.69967,     0.68093,     0.67509,      0.6728,     0.67051,     0.66302,     0.65985,     0.65141,     0.63055,     0.62291,     0.61705,     0.61141,     0.60695,     0.60083,     0.59096,     0.58783,     0.58469,\n",
            "            0.58277,      0.5811,     0.57943,     0.57775,     0.57654,     0.57561,     0.57468,     0.57376,     0.57283,      0.5719,     0.57096,     0.57003,     0.56371,     0.56035,     0.55748,     0.55109,     0.52786,     0.51013,     0.50817,     0.50619,     0.50422,       0.502,     0.49883,\n",
            "            0.49564,     0.49395,     0.49286,     0.49176,     0.49066,     0.48956,     0.48846,     0.48736,      0.4841,     0.47858,     0.47619,     0.47379,     0.47138,     0.45257,     0.44865,      0.4432,     0.42768,     0.41703,     0.41139,     0.40627,     0.39975,      0.3844,     0.37062,\n",
            "            0.36231,     0.35811,     0.33966,     0.31508,     0.30486,     0.29619,     0.29267,     0.28912,     0.27542,     0.27119,     0.26694,     0.24527,     0.24231,     0.23935,     0.23637,     0.23099,     0.21182,     0.19499,     0.18747,      0.1845,     0.18151,     0.17851,      0.1652,\n",
            "            0.16347,     0.16174,     0.16001,     0.15827,     0.15653,     0.15471,      0.1501,     0.14546,     0.12851,     0.11301,     0.10637,    0.096024,    0.079005,    0.075519,    0.072021,     0.06851,    0.065107,    0.061736,    0.058353,    0.054958,    0.051784,    0.048644,    0.045493,\n",
            "           0.042332,    0.040011,    0.038229,    0.036445,    0.034657,    0.032866,    0.031071,    0.029274,    0.027262,    0.022105,     0.01692,           0,           0,           0,           0,           0,           0,           0,           0,           0,           0,           0,           0,\n",
            "                  0,           0,           0,           0,           0,           0,           0,           0,           0,           0,           0,           0,           0,           0,           0,           0,           0,           0,           0,           0,           0,           0,           0,\n",
            "                  0,           0,           0,           0,           0,           0,           0,           0,           0,           0,           0,           0,           0,           0,           0,           0,           0,           0,           0,           0,           0,           0,           0,\n",
            "                  0,           0,           0,           0,           0,           0,           0,           0,           0,           0,           0,           0,           0,           0,           0,           0,           0,           0,           0,           0,           0,           0,           0,\n",
            "                  0,           0,           0,           0,           0,           0,           0,           0,           0,           0,           0]])\n",
            "map: 0.5115017588183784\n",
            "map50: 0.8940292006207968\n",
            "map75: 0.5341058938411131\n",
            "maps: array([     0.5115])\n",
            "mp: 0.9246302363578482\n",
            "mr: 0.8251748251748252\n",
            "nc: 1\n",
            "p: array([    0.92463])\n",
            "p_curve: array([[    0.28953,     0.28953,     0.37653,     0.44624,     0.49716,     0.53386,     0.56203,     0.58295,     0.60012,     0.61497,     0.62182,     0.63056,     0.63227,     0.63569,     0.64849,     0.65135,     0.65414,     0.65978,     0.66196,     0.66547,     0.67294,     0.67818,     0.68279,\n",
            "             0.6906,     0.69925,     0.70208,     0.71489,     0.72329,     0.72965,     0.73246,     0.73412,     0.73581,     0.73756,     0.73931,     0.74545,     0.75273,     0.75765,     0.76063,     0.76341,     0.76596,     0.77125,     0.77882,      0.7842,     0.79636,     0.79892,     0.80202,\n",
            "            0.80734,     0.80905,     0.81076,     0.81164,     0.81152,     0.81141,      0.8113,     0.81118,     0.81107,     0.81096,     0.81084,     0.81073,     0.81062,      0.8105,     0.81241,     0.81578,     0.81855,     0.82182,     0.82614,      0.8256,     0.82611,     0.82663,     0.82714,\n",
            "            0.82765,     0.82816,     0.82868,     0.82919,      0.8297,     0.83021,     0.83073,     0.83147,     0.83274,     0.83401,     0.83528,     0.83655,     0.83722,     0.83778,     0.83834,      0.8389,     0.83946,     0.84003,     0.84059,     0.84115,     0.84171,     0.84228,     0.84314,\n",
            "            0.84415,     0.84516,     0.84617,     0.84718,     0.84819,     0.84888,     0.84954,      0.8502,     0.85086,     0.85152,     0.85219,     0.85285,     0.85351,     0.85417,     0.85467,     0.85517,     0.85567,     0.85617,     0.85667,     0.85718,     0.85768,     0.85818,     0.85868,\n",
            "            0.85918,     0.85968,     0.86016,     0.86036,     0.86056,     0.86076,     0.86097,     0.86117,     0.86137,     0.86157,     0.86178,     0.86198,     0.86218,     0.86238,     0.86259,     0.86279,     0.86299,     0.86319,      0.8634,      0.8636,      0.8638,       0.864,     0.86421,\n",
            "            0.86441,     0.86461,     0.86481,     0.86502,     0.86522,     0.86542,     0.86562,     0.86583,     0.86603,     0.86603,     0.86523,     0.86515,     0.86507,     0.86498,      0.8649,     0.86482,     0.86474,     0.86465,     0.86457,     0.86449,     0.86441,     0.86433,     0.86426,\n",
            "            0.86421,     0.86415,      0.8641,     0.86405,       0.864,     0.86395,     0.86389,     0.86384,     0.86379,     0.86374,     0.86369,     0.86363,     0.86358,     0.86353,     0.86348,     0.86342,     0.86337,     0.86332,     0.86534,     0.86791,     0.86964,     0.86983,     0.87003,\n",
            "            0.87022,     0.87042,     0.87061,     0.87081,       0.871,      0.8712,     0.87139,     0.87159,     0.87178,     0.87198,     0.87217,     0.87237,     0.87256,     0.87276,     0.87295,     0.87315,     0.87334,     0.87354,     0.87373,     0.87393,     0.87412,     0.87432,     0.87451,\n",
            "            0.87471,      0.8749,      0.8751,     0.87529,     0.87549,     0.87568,     0.87588,     0.87616,     0.87645,     0.87675,     0.87704,     0.87734,     0.87763,     0.87792,     0.87822,     0.87851,     0.87881,      0.8791,      0.8794,     0.87969,     0.87999,     0.88028,     0.88057,\n",
            "            0.88087,     0.88116,     0.88146,     0.88175,     0.88205,     0.88234,     0.88287,     0.88341,     0.88394,     0.88448,     0.88502,     0.88555,     0.88609,     0.88663,     0.88717,      0.8877,     0.88824,     0.88878,      0.8894,     0.89005,     0.89069,     0.89134,     0.89199,\n",
            "            0.89263,     0.89328,     0.89392,     0.89457,     0.89522,     0.89581,     0.89635,     0.89689,     0.89743,     0.89796,      0.8985,     0.89904,     0.89958,     0.90012,     0.90066,      0.9012,     0.90174,     0.90225,     0.90217,     0.90208,       0.902,     0.90191,     0.90182,\n",
            "            0.90174,     0.90165,     0.90157,     0.90165,     0.90202,     0.90239,     0.90276,     0.90313,      0.9035,     0.90387,     0.90424,     0.90461,     0.90498,     0.90535,     0.90572,     0.90609,     0.90645,     0.90682,     0.90719,     0.90756,     0.90793,      0.9083,     0.90899,\n",
            "            0.90979,     0.91059,     0.91139,     0.91218,     0.91298,     0.91378,     0.91458,     0.91538,     0.91569,     0.91601,     0.91632,     0.91663,     0.91694,     0.91725,     0.91757,     0.91788,     0.91819,      0.9185,     0.91882,     0.91913,     0.91944,     0.91975,     0.92006,\n",
            "            0.92038,     0.92069,       0.921,     0.92131,     0.92162,     0.92194,     0.92225,     0.92247,     0.92245,     0.92242,     0.92239,     0.92236,     0.92233,     0.92231,     0.92228,     0.92225,     0.92222,      0.9222,     0.92217,     0.92214,     0.92211,     0.92208,     0.92206,\n",
            "            0.92203,       0.922,     0.92197,     0.92195,     0.92192,     0.92189,     0.92199,     0.92226,     0.92252,     0.92278,     0.92305,     0.92331,     0.92358,     0.92384,      0.9241,     0.92437,     0.92463,     0.92489,     0.92516,     0.92542,     0.92568,     0.92595,     0.92621,\n",
            "            0.92648,     0.92674,       0.927,     0.92727,     0.92753,     0.92779,     0.92806,     0.92832,     0.92858,     0.92885,     0.92911,     0.92913,     0.92912,     0.92912,     0.92911,      0.9291,      0.9291,     0.92909,     0.92908,     0.92908,     0.92907,     0.92906,     0.92906,\n",
            "            0.92905,     0.92904,     0.92904,     0.92903,     0.92903,     0.92902,     0.92901,     0.92901,       0.929,     0.92899,     0.92899,     0.92898,     0.92897,     0.92897,     0.92896,     0.92895,     0.92895,     0.92894,     0.92894,     0.92893,     0.92892,     0.92892,     0.92891,\n",
            "             0.9289,      0.9289,     0.92889,     0.92888,     0.92888,     0.92887,     0.92887,     0.92886,     0.92885,     0.92885,     0.92884,     0.92883,     0.92883,     0.92882,     0.92881,     0.92881,      0.9288,     0.92879,     0.92879,     0.92878,     0.92878,     0.92877,     0.92876,\n",
            "            0.92876,     0.92875,     0.92874,     0.92874,     0.92873,     0.92872,     0.92872,     0.92871,      0.9287,      0.9287,     0.92869,     0.92869,     0.92868,     0.92867,     0.92867,     0.92866,     0.92865,     0.92865,     0.92864,     0.92863,     0.92863,     0.92862,     0.92862,\n",
            "            0.92861,      0.9286,      0.9286,     0.92859,     0.92858,     0.92858,     0.92884,     0.93018,     0.93152,     0.93286,     0.93419,     0.93553,     0.94059,     0.94351,     0.94345,     0.94339,     0.94332,     0.94326,      0.9432,     0.94313,     0.94337,     0.94426,     0.94516,\n",
            "            0.94605,     0.94695,     0.94784,     0.94874,     0.94963,     0.95053,     0.95136,     0.95216,     0.95296,     0.95376,     0.95456,     0.95536,     0.95616,     0.95696,     0.95776,     0.95856,     0.95865,     0.95861,     0.95857,     0.95854,      0.9585,     0.95846,     0.95842,\n",
            "            0.95839,     0.95835,     0.95831,     0.95828,     0.95824,      0.9582,     0.95816,     0.95813,     0.95809,     0.95805,     0.95802,     0.95804,     0.95855,     0.95905,     0.95956,     0.96007,     0.96058,     0.96109,      0.9616,      0.9621,     0.96261,     0.96312,     0.96363,\n",
            "            0.96414,     0.96465,     0.96515,     0.96566,      0.9661,     0.96607,     0.96604,     0.96602,     0.96599,     0.96596,     0.96594,     0.96591,     0.96588,     0.96585,     0.96583,      0.9658,     0.96578,     0.96576,     0.96574,     0.96571,     0.96569,     0.96567,     0.96565,\n",
            "            0.96563,      0.9656,     0.96558,     0.96556,     0.96554,     0.96553,     0.96581,     0.96608,     0.96636,     0.96663,     0.96691,     0.96718,     0.96746,     0.96773,     0.96801,     0.96829,     0.96856,     0.96884,     0.96911,     0.96939,     0.96966,     0.96994,     0.97021,\n",
            "            0.97049,     0.97076,     0.97104,     0.97131,     0.97159,     0.97186,     0.97214,     0.97241,     0.97269,     0.97296,     0.97324,     0.97351,     0.97379,      0.9739,     0.97387,     0.97385,     0.97382,     0.97379,     0.97377,     0.97374,     0.97371,     0.97369,     0.97368,\n",
            "            0.97367,     0.97366,     0.97366,     0.97365,     0.97364,     0.97364,     0.97363,     0.97362,     0.97362,     0.97361,      0.9736,     0.97359,     0.97359,     0.97358,     0.97357,     0.97357,     0.97356,     0.97355,     0.97355,     0.97354,     0.97353,     0.97353,     0.97352,\n",
            "            0.97351,      0.9735,      0.9735,     0.97349,     0.97348,     0.97348,     0.97347,     0.97346,     0.97346,     0.97344,     0.97342,     0.97339,     0.97336,     0.97333,     0.97331,     0.97328,     0.97325,     0.97322,     0.97297,     0.97293,     0.97289,     0.97286,     0.97282,\n",
            "            0.97278,     0.97274,     0.97271,     0.97268,     0.97265,     0.97262,     0.97259,     0.97256,     0.97254,     0.97251,     0.97248,     0.97246,     0.97244,     0.97242,      0.9724,     0.97238,     0.97236,     0.97234,     0.97232,      0.9723,     0.97228,     0.97226,     0.97224,\n",
            "            0.97222,     0.97217,     0.97212,     0.97207,     0.97201,     0.97196,      0.9719,     0.97185,     0.97179,     0.97173,     0.97164,     0.97151,     0.97143,     0.97141,      0.9714,     0.97139,     0.97138,     0.97137,     0.97136,     0.97135,     0.97134,     0.97133,     0.97132,\n",
            "            0.97131,      0.9713,     0.97129,     0.97128,     0.97127,     0.97126,     0.97125,     0.97124,     0.97123,     0.97122,     0.97121,      0.9712,     0.97119,     0.97118,     0.97117,     0.97116,     0.97467,     0.98056,     0.98048,      0.9804,     0.98457,     0.98924,     0.99006,\n",
            "            0.99002,     0.98999,     0.98996,     0.98993,      0.9899,     0.98985,      0.9898,     0.98979,     0.98978,     0.98977,     0.98977,     0.98976,     0.98975,     0.98974,     0.98973,     0.98973,     0.98972,     0.98971,      0.9897,     0.98969,     0.98968,     0.98967,     0.98965,\n",
            "            0.98963,     0.98962,      0.9896,     0.98959,     0.98957,     0.98955,     0.98953,     0.98952,      0.9895,     0.98948,     0.98945,     0.98941,     0.98936,     0.98935,     0.98934,     0.98933,     0.98932,     0.98931,     0.98929,     0.98928,     0.98927,     0.98926,     0.98925,\n",
            "            0.98917,     0.98882,     0.98866,           1,           1,           1,           1,           1,           1,           1,           1,           1,           1,           1,           1,           1,           1,           1,           1,           1,           1,           1,           1,\n",
            "                  1,           1,           1,           1,           1,           1,           1,           1,           1,           1,           1,           1,           1,           1,           1,           1,           1,           1,           1,           1,           1,           1,           1,\n",
            "                  1,           1,           1,           1,           1,           1,           1,           1,           1,           1,           1,           1,           1,           1,           1,           1,           1,           1,           1,           1,           1,           1,           1,\n",
            "                  1,           1,           1,           1,           1,           1,           1,           1,           1,           1,           1,           1,           1,           1,           1,           1,           1,           1,           1,           1,           1,           1,           1,\n",
            "                  1,           1,           1,           1,           1,           1,           1,           1,           1,           1,           1,           1,           1,           1,           1,           1,           1,           1,           1,           1,           1,           1,           1,\n",
            "                  1,           1,           1,           1,           1,           1,           1,           1,           1,           1,           1,           1,           1,           1,           1,           1,           1,           1,           1,           1,           1,           1,           1,\n",
            "                  1,           1,           1,           1,           1,           1,           1,           1,           1,           1,           1,           1,           1,           1,           1,           1,           1,           1,           1,           1,           1,           1,           1,\n",
            "                  1,           1,           1,           1,           1,           1,           1,           1,           1,           1,           1,           1,           1,           1,           1,           1,           1,           1,           1,           1,           1,           1,           1,\n",
            "                  1,           1,           1,           1,           1,           1,           1,           1,           1,           1,           1,           1,           1,           1,           1,           1,           1,           1,           1,           1,           1,           1,           1,\n",
            "                  1,           1,           1,           1,           1,           1,           1,           1,           1,           1,           1,           1,           1,           1,           1,           1,           1,           1,           1,           1,           1,           1,           1,\n",
            "                  1,           1,           1,           1,           1,           1,           1,           1,           1,           1,           1]])\n",
            "prec_values: array([[          1,           1,           1,           1,           1,           1,           1,           1,           1,           1,           1,           1,           1,           1,           1,           1,           1,           1,           1,           1,           1,           1,           1,\n",
            "                  1,           1,           1,           1,           1,           1,           1,           1,           1,           1,           1,           1,           1,           1,           1,           1,           1,           1,           1,           1,           1,           1,           1,\n",
            "                  1,           1,           1,           1,           1,           1,           1,           1,           1,           1,           1,           1,           1,           1,           1,           1,           1,           1,           1,           1,           1,           1,           1,\n",
            "                  1,           1,           1,           1,           1,           1,           1,           1,           1,           1,           1,           1,           1,           1,           1,           1,           1,           1,           1,           1,           1,           1,           1,\n",
            "                  1,           1,           1,           1,           1,           1,           1,           1,           1,           1,           1,           1,           1,           1,           1,           1,           1,           1,           1,           1,           1,           1,           1,\n",
            "                  1,           1,           1,           1,           1,           1,           1,           1,           1,           1,           1,           1,           1,           1,           1,           1,           1,           1,           1,           1,           1,           1,           1,\n",
            "                  1,           1,           1,           1,           1,           1,           1,           1,           1,           1,           1,           1,           1,           1,           1,           1,           1,           1,           1,           1,           1,           1,           1,\n",
            "                  1,           1,           1,           1,           1,           1,           1,           1,           1,           1,           1,           1,           1,           1,           1,           1,           1,           1,           1,           1,           1,           1,           1,\n",
            "                  1,           1,           1,           1,           1,           1,           1,           1,           1,           1,           1,           1,           1,           1,           1,           1,           1,           1,           1,           1,           1,           1,           1,\n",
            "                  1,           1,           1,           1,           1,           1,           1,           1,           1,           1,           1,           1,           1,           1,           1,           1,           1,           1,           1,           1,           1,           1,           1,\n",
            "                  1,           1,           1,           1,           1,           1,           1,           1,           1,           1,           1,           1,           1,           1,           1,           1,           1,           1,           1,           1,           1,           1,           1,\n",
            "                  1,           1,           1,           1,           1,           1,           1,           1,           1,           1,           1,           1,           1,           1,           1,           1,           1,           1,           1,           1,           1,           1,           1,\n",
            "                  1,           1,           1,           1,           1,           1,           1,           1,           1,           1,           1,           1,           1,           1,           1,           1,           1,           1,           1,           1,           1,           1,           1,\n",
            "                  1,           1,           1,           1,           1,           1,           1,           1,           1,           1,           1,           1,           1,           1,           1,           1,           1,           1,           1,           1,           1,           1,           1,\n",
            "                  1,           1,           1,           1,           1,           1,           1,           1,           1,           1,           1,           1,           1,           1,           1,           1,           1,           1,           1,           1,           1,           1,           1,\n",
            "                  1,           1,           1,           1,           1,           1,           1,           1,           1,           1,           1,           1,           1,           1,           1,           1,           1,           1,           1,           1,           1,           1,           1,\n",
            "                  1,           1,           1,           1,           1,           1,           1,           1,           1,           1,           1,           1,           1,           1,           1,           1,           1,           1,           1,           1,           1,           1,           1,\n",
            "                  1,           1,           1,           1,           1,           1,           1,           1,           1,           1,           1,           1,           1,           1,           1,           1,           1,           1,           1,           1,           1,           1,           1,\n",
            "                  1,           1,           1,           1,           1,           1,           1,           1,           1,           1,           1,           1,           1,           1,           1,           1,           1,           1,           1,           1,           1,           1,           1,\n",
            "                  1,           1,           1,           1,           1,           1,           1,           1,           1,           1,           1,           1,           1,           1,           1,           1,           1,           1,           1,           1,           1,           1,           1,\n",
            "                  1,           1,           1,           1,           1,           1,           1,           1,           1,           1,           1,           1,           1,           1,           1,           1,           1,           1,           1,           1,           1,           1,           1,\n",
            "                  1,           1,           1,           1,           1,           1,           1,           1,           1,           1,           1,           1,           1,           1,           1,           1,           1,           1,           1,           1,           1,           1,           1,\n",
            "                  1,           1,           1,           1,           1,           1,           1,           1,           1,           1,           1,           1,           1,           1,           1,           1,           1,           1,           1,           1,           1,           1,           1,\n",
            "                  1,           1,           1,           1,           1,           1,           1,           1,           1,           1,           1,           1,           1,           1,           1,           1,           1,           1,           1,           1,           1,           1,           1,\n",
            "                  1,           1,           1,           1,           1,           1,           1,           1,           1,           1,           1,           1,           1,           1,           1,           1,           1,           1,           1,           1,           1,           1,           1,\n",
            "                  1,           1,           1,           1,           1,           1,           1,           1,           1,           1,           1,           1,           1,           1,           1,           1,           1,           1,           1,           1,           1,           1,           1,\n",
            "                  1,           1,           1,           1,           1,           1,           1,           1,           1,           1,      0.9901,      0.9901,      0.9901,      0.9901,      0.9901,      0.9901,      0.9901,      0.9901,      0.9901,      0.9901,      0.9901,      0.9901,      0.9901,\n",
            "             0.9901,      0.9901,      0.9901,      0.9901,      0.9901,      0.9901,      0.9901,      0.9901,      0.9901,      0.9901,      0.9901,      0.9901,      0.9901,      0.9901,      0.9901,      0.9901,      0.9901,      0.9901,      0.9901,      0.9901,      0.9901,      0.9901,      0.9901,\n",
            "             0.9901,      0.9901,      0.9901,      0.9901,      0.9901,      0.9901,      0.9901,      0.9901,      0.9901,      0.9901,      0.9901,      0.9901,      0.9901,      0.9901,      0.9901,      0.9901,      0.9901,      0.9901,      0.9901,      0.9901,      0.9901,      0.9901,      0.9901,\n",
            "             0.9901,      0.9901,      0.9901,      0.9901,      0.9901,      0.9901,      0.9901,      0.9901,      0.9901,      0.9901,      0.9901,      0.9901,      0.9901,      0.9901,      0.9901,      0.9901,      0.9901,      0.9901,      0.9901,      0.9901,      0.9901,      0.9901,      0.9901,\n",
            "             0.9901,      0.9901,      0.9901,      0.9901,      0.9901,      0.9901,      0.9901,      0.9901,      0.9901,     0.98058,     0.98058,     0.98058,     0.98058,     0.98058,     0.98058,     0.98058,     0.97391,     0.97391,     0.97391,     0.97391,     0.97391,     0.97391,     0.97391,\n",
            "            0.97391,     0.97391,     0.97391,     0.97391,     0.97391,     0.97391,     0.97391,     0.97391,     0.97391,     0.97391,     0.97391,     0.97391,     0.97391,     0.97391,     0.97391,     0.97391,     0.97391,     0.97391,     0.97391,     0.97391,     0.97391,     0.97391,     0.97391,\n",
            "            0.97391,     0.97391,     0.97391,     0.97391,     0.97391,     0.97391,     0.97391,     0.97391,     0.97391,     0.97391,     0.97391,     0.97391,     0.97391,     0.97391,     0.97391,     0.97391,     0.97391,     0.97391,     0.97391,     0.97391,     0.97391,     0.97391,     0.97391,\n",
            "            0.97391,     0.97391,     0.97391,     0.97391,     0.97391,     0.97391,     0.97391,     0.97391,     0.97391,     0.97391,     0.97391,     0.97391,     0.97391,     0.97391,     0.97391,     0.97391,     0.97391,     0.97391,     0.97391,     0.97391,     0.97391,     0.97391,     0.97391,\n",
            "            0.97391,      0.9661,      0.9661,      0.9661,      0.9661,      0.9661,      0.9661,      0.9661,      0.9661,      0.9661,      0.9661,      0.9661,      0.9661,      0.9661,      0.9661,     0.95868,     0.95868,     0.95868,     0.95868,     0.95868,     0.95868,     0.95868,     0.95868,\n",
            "            0.95868,     0.95868,     0.95868,     0.95868,     0.95868,     0.95868,     0.94355,     0.94355,     0.94355,     0.94355,     0.94355,     0.94355,     0.94355,     0.92913,     0.92913,     0.92913,     0.92913,     0.92913,     0.92913,     0.92913,     0.92248,     0.92248,     0.92248,\n",
            "            0.92248,     0.92248,     0.92248,     0.92248,     0.90226,     0.90226,     0.90226,     0.90226,     0.90226,     0.90226,     0.90226,      0.8662,      0.8662,      0.8662,      0.8662,      0.8662,      0.8662,      0.8662,      0.8662,      0.8662,      0.8662,      0.8662,      0.8662,\n",
            "             0.8662,      0.8662,      0.8662,      0.8662,      0.8662,      0.8662,      0.8662,      0.8662,      0.8662,     0.82667,     0.82667,     0.82667,     0.82667,     0.82667,     0.82667,     0.82667,     0.81169,     0.81169,     0.81169,     0.81169,     0.81169,     0.81169,     0.81169,\n",
            "                0.7,         0.7,         0.7,         0.7,         0.7,         0.7,         0.7,      0.6165,      0.6165,      0.6165,      0.6165,      0.6165,      0.6165,      0.6165,      0.4708,      0.4708,      0.4708,      0.4708,      0.4708,      0.4708,      0.4708,      0.4708,      0.4708,\n",
            "             0.4708,      0.4708,      0.4708,      0.4708,      0.4708,     0.33592,     0.33592,     0.33592,     0.33592,     0.33592,     0.33592,     0.33592,     0.28692,     0.28374,     0.28055,     0.27736,     0.27417,     0.27098,      0.2678,     0.26461,     0.26142,     0.25823,     0.25504,\n",
            "            0.25186,     0.24867,     0.24548,     0.24229,      0.2391,     0.23592,     0.23273,     0.22954,     0.22635,     0.22316,     0.21997,     0.21679,      0.2136,     0.21041,     0.20722,     0.20403,     0.20085,     0.19766,     0.19447,     0.19128,     0.18809,     0.18491,     0.18172,\n",
            "            0.17853,     0.17534,     0.17215,     0.16897,     0.16578,     0.16259,      0.1594,     0.15621,     0.15303,     0.14984,     0.14665,     0.14346,     0.14027,     0.13709,      0.1339,     0.13071,     0.12752,     0.12433,     0.12115,     0.11796,     0.11477,     0.11158,     0.10839,\n",
            "            0.10521,     0.10202,    0.098829,    0.095641,    0.092453,    0.089265,    0.086077,    0.082889,    0.079701,    0.076513,    0.073325,    0.070137,    0.066949,    0.063761,    0.060573,    0.057385,    0.054197,    0.051009,    0.047821,    0.044633,    0.041445,    0.038257,    0.035068,\n",
            "            0.03188,    0.028692,    0.025504,    0.022316,    0.019128,     0.01594,    0.012752,   0.0095641,   0.0063761,    0.003188,           0]])\n",
            "px: array([          0,    0.001001,    0.002002,    0.003003,    0.004004,    0.005005,    0.006006,    0.007007,    0.008008,    0.009009,     0.01001,    0.011011,    0.012012,    0.013013,    0.014014,    0.015015,    0.016016,    0.017017,    0.018018,    0.019019,     0.02002,    0.021021,    0.022022,    0.023023,\n",
            "          0.024024,    0.025025,    0.026026,    0.027027,    0.028028,    0.029029,     0.03003,    0.031031,    0.032032,    0.033033,    0.034034,    0.035035,    0.036036,    0.037037,    0.038038,    0.039039,     0.04004,    0.041041,    0.042042,    0.043043,    0.044044,    0.045045,    0.046046,    0.047047,\n",
            "          0.048048,    0.049049,     0.05005,    0.051051,    0.052052,    0.053053,    0.054054,    0.055055,    0.056056,    0.057057,    0.058058,    0.059059,     0.06006,    0.061061,    0.062062,    0.063063,    0.064064,    0.065065,    0.066066,    0.067067,    0.068068,    0.069069,     0.07007,    0.071071,\n",
            "          0.072072,    0.073073,    0.074074,    0.075075,    0.076076,    0.077077,    0.078078,    0.079079,     0.08008,    0.081081,    0.082082,    0.083083,    0.084084,    0.085085,    0.086086,    0.087087,    0.088088,    0.089089,     0.09009,    0.091091,    0.092092,    0.093093,    0.094094,    0.095095,\n",
            "          0.096096,    0.097097,    0.098098,    0.099099,      0.1001,      0.1011,      0.1021,      0.1031,      0.1041,     0.10511,     0.10611,     0.10711,     0.10811,     0.10911,     0.11011,     0.11111,     0.11211,     0.11311,     0.11411,     0.11512,     0.11612,     0.11712,     0.11812,     0.11912,\n",
            "           0.12012,     0.12112,     0.12212,     0.12312,     0.12412,     0.12513,     0.12613,     0.12713,     0.12813,     0.12913,     0.13013,     0.13113,     0.13213,     0.13313,     0.13413,     0.13514,     0.13614,     0.13714,     0.13814,     0.13914,     0.14014,     0.14114,     0.14214,     0.14314,\n",
            "           0.14414,     0.14515,     0.14615,     0.14715,     0.14815,     0.14915,     0.15015,     0.15115,     0.15215,     0.15315,     0.15415,     0.15516,     0.15616,     0.15716,     0.15816,     0.15916,     0.16016,     0.16116,     0.16216,     0.16316,     0.16416,     0.16517,     0.16617,     0.16717,\n",
            "           0.16817,     0.16917,     0.17017,     0.17117,     0.17217,     0.17317,     0.17417,     0.17518,     0.17618,     0.17718,     0.17818,     0.17918,     0.18018,     0.18118,     0.18218,     0.18318,     0.18418,     0.18519,     0.18619,     0.18719,     0.18819,     0.18919,     0.19019,     0.19119,\n",
            "           0.19219,     0.19319,     0.19419,      0.1952,      0.1962,      0.1972,      0.1982,      0.1992,      0.2002,      0.2012,      0.2022,      0.2032,      0.2042,     0.20521,     0.20621,     0.20721,     0.20821,     0.20921,     0.21021,     0.21121,     0.21221,     0.21321,     0.21421,     0.21522,\n",
            "           0.21622,     0.21722,     0.21822,     0.21922,     0.22022,     0.22122,     0.22222,     0.22322,     0.22422,     0.22523,     0.22623,     0.22723,     0.22823,     0.22923,     0.23023,     0.23123,     0.23223,     0.23323,     0.23423,     0.23524,     0.23624,     0.23724,     0.23824,     0.23924,\n",
            "           0.24024,     0.24124,     0.24224,     0.24324,     0.24424,     0.24525,     0.24625,     0.24725,     0.24825,     0.24925,     0.25025,     0.25125,     0.25225,     0.25325,     0.25425,     0.25526,     0.25626,     0.25726,     0.25826,     0.25926,     0.26026,     0.26126,     0.26226,     0.26326,\n",
            "           0.26426,     0.26527,     0.26627,     0.26727,     0.26827,     0.26927,     0.27027,     0.27127,     0.27227,     0.27327,     0.27427,     0.27528,     0.27628,     0.27728,     0.27828,     0.27928,     0.28028,     0.28128,     0.28228,     0.28328,     0.28428,     0.28529,     0.28629,     0.28729,\n",
            "           0.28829,     0.28929,     0.29029,     0.29129,     0.29229,     0.29329,     0.29429,      0.2953,      0.2963,      0.2973,      0.2983,      0.2993,      0.3003,      0.3013,      0.3023,      0.3033,      0.3043,     0.30531,     0.30631,     0.30731,     0.30831,     0.30931,     0.31031,     0.31131,\n",
            "           0.31231,     0.31331,     0.31431,     0.31532,     0.31632,     0.31732,     0.31832,     0.31932,     0.32032,     0.32132,     0.32232,     0.32332,     0.32432,     0.32533,     0.32633,     0.32733,     0.32833,     0.32933,     0.33033,     0.33133,     0.33233,     0.33333,     0.33433,     0.33534,\n",
            "           0.33634,     0.33734,     0.33834,     0.33934,     0.34034,     0.34134,     0.34234,     0.34334,     0.34434,     0.34535,     0.34635,     0.34735,     0.34835,     0.34935,     0.35035,     0.35135,     0.35235,     0.35335,     0.35435,     0.35536,     0.35636,     0.35736,     0.35836,     0.35936,\n",
            "           0.36036,     0.36136,     0.36236,     0.36336,     0.36436,     0.36537,     0.36637,     0.36737,     0.36837,     0.36937,     0.37037,     0.37137,     0.37237,     0.37337,     0.37437,     0.37538,     0.37638,     0.37738,     0.37838,     0.37938,     0.38038,     0.38138,     0.38238,     0.38338,\n",
            "           0.38438,     0.38539,     0.38639,     0.38739,     0.38839,     0.38939,     0.39039,     0.39139,     0.39239,     0.39339,     0.39439,      0.3954,      0.3964,      0.3974,      0.3984,      0.3994,      0.4004,      0.4014,      0.4024,      0.4034,      0.4044,     0.40541,     0.40641,     0.40741,\n",
            "           0.40841,     0.40941,     0.41041,     0.41141,     0.41241,     0.41341,     0.41441,     0.41542,     0.41642,     0.41742,     0.41842,     0.41942,     0.42042,     0.42142,     0.42242,     0.42342,     0.42442,     0.42543,     0.42643,     0.42743,     0.42843,     0.42943,     0.43043,     0.43143,\n",
            "           0.43243,     0.43343,     0.43443,     0.43544,     0.43644,     0.43744,     0.43844,     0.43944,     0.44044,     0.44144,     0.44244,     0.44344,     0.44444,     0.44545,     0.44645,     0.44745,     0.44845,     0.44945,     0.45045,     0.45145,     0.45245,     0.45345,     0.45445,     0.45546,\n",
            "           0.45646,     0.45746,     0.45846,     0.45946,     0.46046,     0.46146,     0.46246,     0.46346,     0.46446,     0.46547,     0.46647,     0.46747,     0.46847,     0.46947,     0.47047,     0.47147,     0.47247,     0.47347,     0.47447,     0.47548,     0.47648,     0.47748,     0.47848,     0.47948,\n",
            "           0.48048,     0.48148,     0.48248,     0.48348,     0.48448,     0.48549,     0.48649,     0.48749,     0.48849,     0.48949,     0.49049,     0.49149,     0.49249,     0.49349,     0.49449,      0.4955,      0.4965,      0.4975,      0.4985,      0.4995,      0.5005,      0.5015,      0.5025,      0.5035,\n",
            "            0.5045,     0.50551,     0.50651,     0.50751,     0.50851,     0.50951,     0.51051,     0.51151,     0.51251,     0.51351,     0.51451,     0.51552,     0.51652,     0.51752,     0.51852,     0.51952,     0.52052,     0.52152,     0.52252,     0.52352,     0.52452,     0.52553,     0.52653,     0.52753,\n",
            "           0.52853,     0.52953,     0.53053,     0.53153,     0.53253,     0.53353,     0.53453,     0.53554,     0.53654,     0.53754,     0.53854,     0.53954,     0.54054,     0.54154,     0.54254,     0.54354,     0.54454,     0.54555,     0.54655,     0.54755,     0.54855,     0.54955,     0.55055,     0.55155,\n",
            "           0.55255,     0.55355,     0.55455,     0.55556,     0.55656,     0.55756,     0.55856,     0.55956,     0.56056,     0.56156,     0.56256,     0.56356,     0.56456,     0.56557,     0.56657,     0.56757,     0.56857,     0.56957,     0.57057,     0.57157,     0.57257,     0.57357,     0.57457,     0.57558,\n",
            "           0.57658,     0.57758,     0.57858,     0.57958,     0.58058,     0.58158,     0.58258,     0.58358,     0.58458,     0.58559,     0.58659,     0.58759,     0.58859,     0.58959,     0.59059,     0.59159,     0.59259,     0.59359,     0.59459,      0.5956,      0.5966,      0.5976,      0.5986,      0.5996,\n",
            "            0.6006,      0.6016,      0.6026,      0.6036,      0.6046,     0.60561,     0.60661,     0.60761,     0.60861,     0.60961,     0.61061,     0.61161,     0.61261,     0.61361,     0.61461,     0.61562,     0.61662,     0.61762,     0.61862,     0.61962,     0.62062,     0.62162,     0.62262,     0.62362,\n",
            "           0.62462,     0.62563,     0.62663,     0.62763,     0.62863,     0.62963,     0.63063,     0.63163,     0.63263,     0.63363,     0.63463,     0.63564,     0.63664,     0.63764,     0.63864,     0.63964,     0.64064,     0.64164,     0.64264,     0.64364,     0.64464,     0.64565,     0.64665,     0.64765,\n",
            "           0.64865,     0.64965,     0.65065,     0.65165,     0.65265,     0.65365,     0.65465,     0.65566,     0.65666,     0.65766,     0.65866,     0.65966,     0.66066,     0.66166,     0.66266,     0.66366,     0.66466,     0.66567,     0.66667,     0.66767,     0.66867,     0.66967,     0.67067,     0.67167,\n",
            "           0.67267,     0.67367,     0.67467,     0.67568,     0.67668,     0.67768,     0.67868,     0.67968,     0.68068,     0.68168,     0.68268,     0.68368,     0.68468,     0.68569,     0.68669,     0.68769,     0.68869,     0.68969,     0.69069,     0.69169,     0.69269,     0.69369,     0.69469,      0.6957,\n",
            "            0.6967,      0.6977,      0.6987,      0.6997,      0.7007,      0.7017,      0.7027,      0.7037,      0.7047,     0.70571,     0.70671,     0.70771,     0.70871,     0.70971,     0.71071,     0.71171,     0.71271,     0.71371,     0.71471,     0.71572,     0.71672,     0.71772,     0.71872,     0.71972,\n",
            "           0.72072,     0.72172,     0.72272,     0.72372,     0.72472,     0.72573,     0.72673,     0.72773,     0.72873,     0.72973,     0.73073,     0.73173,     0.73273,     0.73373,     0.73473,     0.73574,     0.73674,     0.73774,     0.73874,     0.73974,     0.74074,     0.74174,     0.74274,     0.74374,\n",
            "           0.74474,     0.74575,     0.74675,     0.74775,     0.74875,     0.74975,     0.75075,     0.75175,     0.75275,     0.75375,     0.75475,     0.75576,     0.75676,     0.75776,     0.75876,     0.75976,     0.76076,     0.76176,     0.76276,     0.76376,     0.76476,     0.76577,     0.76677,     0.76777,\n",
            "           0.76877,     0.76977,     0.77077,     0.77177,     0.77277,     0.77377,     0.77477,     0.77578,     0.77678,     0.77778,     0.77878,     0.77978,     0.78078,     0.78178,     0.78278,     0.78378,     0.78478,     0.78579,     0.78679,     0.78779,     0.78879,     0.78979,     0.79079,     0.79179,\n",
            "           0.79279,     0.79379,     0.79479,      0.7958,      0.7968,      0.7978,      0.7988,      0.7998,      0.8008,      0.8018,      0.8028,      0.8038,      0.8048,     0.80581,     0.80681,     0.80781,     0.80881,     0.80981,     0.81081,     0.81181,     0.81281,     0.81381,     0.81481,     0.81582,\n",
            "           0.81682,     0.81782,     0.81882,     0.81982,     0.82082,     0.82182,     0.82282,     0.82382,     0.82482,     0.82583,     0.82683,     0.82783,     0.82883,     0.82983,     0.83083,     0.83183,     0.83283,     0.83383,     0.83483,     0.83584,     0.83684,     0.83784,     0.83884,     0.83984,\n",
            "           0.84084,     0.84184,     0.84284,     0.84384,     0.84484,     0.84585,     0.84685,     0.84785,     0.84885,     0.84985,     0.85085,     0.85185,     0.85285,     0.85385,     0.85485,     0.85586,     0.85686,     0.85786,     0.85886,     0.85986,     0.86086,     0.86186,     0.86286,     0.86386,\n",
            "           0.86486,     0.86587,     0.86687,     0.86787,     0.86887,     0.86987,     0.87087,     0.87187,     0.87287,     0.87387,     0.87487,     0.87588,     0.87688,     0.87788,     0.87888,     0.87988,     0.88088,     0.88188,     0.88288,     0.88388,     0.88488,     0.88589,     0.88689,     0.88789,\n",
            "           0.88889,     0.88989,     0.89089,     0.89189,     0.89289,     0.89389,     0.89489,      0.8959,      0.8969,      0.8979,      0.8989,      0.8999,      0.9009,      0.9019,      0.9029,      0.9039,      0.9049,     0.90591,     0.90691,     0.90791,     0.90891,     0.90991,     0.91091,     0.91191,\n",
            "           0.91291,     0.91391,     0.91491,     0.91592,     0.91692,     0.91792,     0.91892,     0.91992,     0.92092,     0.92192,     0.92292,     0.92392,     0.92492,     0.92593,     0.92693,     0.92793,     0.92893,     0.92993,     0.93093,     0.93193,     0.93293,     0.93393,     0.93493,     0.93594,\n",
            "           0.93694,     0.93794,     0.93894,     0.93994,     0.94094,     0.94194,     0.94294,     0.94394,     0.94494,     0.94595,     0.94695,     0.94795,     0.94895,     0.94995,     0.95095,     0.95195,     0.95295,     0.95395,     0.95495,     0.95596,     0.95696,     0.95796,     0.95896,     0.95996,\n",
            "           0.96096,     0.96196,     0.96296,     0.96396,     0.96496,     0.96597,     0.96697,     0.96797,     0.96897,     0.96997,     0.97097,     0.97197,     0.97297,     0.97397,     0.97497,     0.97598,     0.97698,     0.97798,     0.97898,     0.97998,     0.98098,     0.98198,     0.98298,     0.98398,\n",
            "           0.98498,     0.98599,     0.98699,     0.98799,     0.98899,     0.98999,     0.99099,     0.99199,     0.99299,     0.99399,     0.99499,       0.996,       0.997,       0.998,       0.999,           1])\n",
            "r: array([    0.82517])\n",
            "r_curve: array([[    0.90909,     0.90909,      0.9021,      0.9021,     0.88811,     0.88811,     0.88811,     0.88811,     0.88811,     0.88236,     0.88112,     0.88112,     0.88112,     0.88112,     0.88112,     0.88112,     0.88112,     0.88112,     0.88112,     0.88112,     0.88112,     0.88112,     0.88112,\n",
            "            0.88112,     0.88112,     0.87413,     0.87413,     0.87413,     0.87413,     0.87413,     0.87413,     0.87413,     0.87413,     0.87413,     0.87413,     0.87413,     0.87413,     0.87413,     0.87413,     0.87413,     0.87413,     0.87413,     0.87413,     0.87413,     0.87413,     0.87413,\n",
            "            0.87413,     0.87413,     0.87413,     0.87383,     0.87319,     0.87255,      0.8719,     0.87126,     0.87062,     0.86997,     0.86933,     0.86869,     0.86805,      0.8674,     0.86713,     0.86713,     0.86713,     0.86713,     0.86394,     0.86014,     0.86014,     0.86014,     0.86014,\n",
            "            0.86014,     0.86014,     0.86014,     0.86014,     0.86014,     0.86014,     0.86014,     0.86014,     0.86014,     0.86014,     0.86014,     0.86014,     0.86014,     0.86014,     0.86014,     0.86014,     0.86014,     0.86014,     0.86014,     0.86014,     0.86014,     0.86014,     0.86014,\n",
            "            0.86014,     0.86014,     0.86014,     0.86014,     0.86014,     0.86014,     0.86014,     0.86014,     0.86014,     0.86014,     0.86014,     0.86014,     0.86014,     0.86014,     0.86014,     0.86014,     0.86014,     0.86014,     0.86014,     0.86014,     0.86014,     0.86014,     0.86014,\n",
            "            0.86014,     0.86014,     0.86014,     0.86014,     0.86014,     0.86014,     0.86014,     0.86014,     0.86014,     0.86014,     0.86014,     0.86014,     0.86014,     0.86014,     0.86014,     0.86014,     0.86014,     0.86014,     0.86014,     0.86014,     0.86014,     0.86014,     0.86014,\n",
            "            0.86014,     0.86014,     0.86014,     0.86014,     0.86014,     0.86014,     0.86014,     0.86014,     0.86014,      0.8589,     0.85301,     0.85241,     0.85182,     0.85122,     0.85062,     0.85002,     0.84943,     0.84883,     0.84823,     0.84763,     0.84704,     0.84644,     0.84596,\n",
            "            0.84559,     0.84521,     0.84484,     0.84447,     0.84409,     0.84372,     0.84335,     0.84297,      0.8426,     0.84223,     0.84185,     0.84148,     0.84111,     0.84073,     0.84036,     0.83999,     0.83961,     0.83924,     0.83916,     0.83916,     0.83916,     0.83916,     0.83916,\n",
            "            0.83916,     0.83916,     0.83916,     0.83916,     0.83916,     0.83916,     0.83916,     0.83916,     0.83916,     0.83916,     0.83916,     0.83916,     0.83916,     0.83916,     0.83916,     0.83916,     0.83916,     0.83916,     0.83916,     0.83916,     0.83916,     0.83916,     0.83916,\n",
            "            0.83916,     0.83916,     0.83916,     0.83916,     0.83916,     0.83916,     0.83916,     0.83916,     0.83916,     0.83916,     0.83916,     0.83916,     0.83916,     0.83916,     0.83916,     0.83916,     0.83916,     0.83916,     0.83916,     0.83916,     0.83916,     0.83916,     0.83916,\n",
            "            0.83916,     0.83916,     0.83916,     0.83916,     0.83916,     0.83916,     0.83916,     0.83916,     0.83916,     0.83916,     0.83916,     0.83916,     0.83916,     0.83916,     0.83916,     0.83916,     0.83916,     0.83916,     0.83916,     0.83916,     0.83916,     0.83916,     0.83916,\n",
            "            0.83916,     0.83916,     0.83916,     0.83916,     0.83916,     0.83916,     0.83916,     0.83916,     0.83916,     0.83916,     0.83916,     0.83916,     0.83916,     0.83916,     0.83916,     0.83916,     0.83916,     0.83912,     0.83832,     0.83751,     0.83671,      0.8359,     0.83509,\n",
            "            0.83429,     0.83348,     0.83268,     0.83217,     0.83217,     0.83217,     0.83217,     0.83217,     0.83217,     0.83217,     0.83217,     0.83217,     0.83217,     0.83217,     0.83217,     0.83217,     0.83217,     0.83217,     0.83217,     0.83217,     0.83217,     0.83217,     0.83217,\n",
            "            0.83217,     0.83217,     0.83217,     0.83217,     0.83217,     0.83217,     0.83217,     0.83217,     0.83217,     0.83217,     0.83217,     0.83217,     0.83217,     0.83217,     0.83217,     0.83217,     0.83217,     0.83217,     0.83217,     0.83217,     0.83217,     0.83217,     0.83217,\n",
            "            0.83217,     0.83217,     0.83217,     0.83217,     0.83217,     0.83217,     0.83217,     0.83209,     0.83176,     0.83144,     0.83112,      0.8308,     0.83048,     0.83016,     0.82984,     0.82952,      0.8292,     0.82888,     0.82856,     0.82824,     0.82792,      0.8276,     0.82727,\n",
            "            0.82695,     0.82663,     0.82631,     0.82599,     0.82567,     0.82535,     0.82517,     0.82517,     0.82517,     0.82517,     0.82517,     0.82517,     0.82517,     0.82517,     0.82517,     0.82517,     0.82517,     0.82517,     0.82517,     0.82517,     0.82517,     0.82517,     0.82517,\n",
            "            0.82517,     0.82517,     0.82517,     0.82517,     0.82517,     0.82517,     0.82517,     0.82517,     0.82517,     0.82517,     0.82517,      0.8251,     0.82502,     0.82494,     0.82486,     0.82478,      0.8247,     0.82462,     0.82454,     0.82446,     0.82438,      0.8243,     0.82422,\n",
            "            0.82415,     0.82407,     0.82399,     0.82391,     0.82383,     0.82375,     0.82367,     0.82359,     0.82351,     0.82343,     0.82335,     0.82327,     0.82319,     0.82311,     0.82303,     0.82295,     0.82287,     0.82279,     0.82271,     0.82263,     0.82255,     0.82247,     0.82239,\n",
            "            0.82231,     0.82223,     0.82215,     0.82207,     0.82199,     0.82191,     0.82183,     0.82175,     0.82167,     0.82159,     0.82151,     0.82143,     0.82135,     0.82127,      0.8212,     0.82112,     0.82104,     0.82096,     0.82088,      0.8208,     0.82072,     0.82064,     0.82056,\n",
            "            0.82048,      0.8204,     0.82032,     0.82024,     0.82016,     0.82008,        0.82,     0.81992,     0.81984,     0.81976,     0.81968,      0.8196,     0.81952,     0.81944,     0.81936,     0.81928,      0.8192,     0.81912,     0.81904,     0.81896,     0.81888,      0.8188,     0.81872,\n",
            "            0.81864,     0.81856,     0.81848,      0.8184,     0.81833,     0.81825,     0.81818,     0.81818,     0.81818,     0.81818,     0.81818,     0.81818,     0.81818,     0.81762,     0.81666,      0.8157,     0.81474,     0.81378,     0.81281,     0.81185,     0.81119,     0.81119,     0.81119,\n",
            "            0.81119,     0.81119,     0.81119,     0.81119,     0.81119,     0.81119,     0.81119,     0.81119,     0.81119,     0.81119,     0.81119,     0.81119,     0.81119,     0.81119,     0.81119,     0.81119,     0.81055,      0.8098,     0.80905,     0.80829,     0.80754,     0.80679,     0.80604,\n",
            "            0.80529,     0.80454,     0.80379,     0.80305,     0.80231,     0.80157,     0.80083,     0.80009,     0.79935,      0.7986,     0.79786,      0.7972,      0.7972,      0.7972,      0.7972,      0.7972,      0.7972,      0.7972,      0.7972,      0.7972,      0.7972,      0.7972,      0.7972,\n",
            "             0.7972,      0.7972,      0.7972,      0.7972,     0.79712,     0.79646,     0.79581,     0.79515,      0.7945,     0.79384,     0.79319,     0.79254,     0.79188,     0.79123,     0.79057,     0.78998,     0.78946,     0.78893,     0.78841,     0.78789,     0.78737,     0.78684,     0.78632,\n",
            "             0.7858,     0.78528,     0.78475,     0.78423,     0.78371,     0.78322,     0.78322,     0.78322,     0.78322,     0.78322,     0.78322,     0.78322,     0.78322,     0.78322,     0.78322,     0.78322,     0.78322,     0.78322,     0.78322,     0.78322,     0.78322,     0.78322,     0.78322,\n",
            "            0.78322,     0.78322,     0.78322,     0.78322,     0.78322,     0.78322,     0.78322,     0.78322,     0.78322,     0.78322,     0.78322,     0.78322,     0.78322,     0.78278,     0.78197,     0.78116,     0.78036,     0.77955,     0.77874,     0.77793,     0.77713,     0.77632,     0.77604,\n",
            "            0.77583,     0.77562,     0.77542,     0.77521,       0.775,     0.77479,     0.77458,     0.77437,     0.77417,     0.77396,     0.77375,     0.77354,     0.77333,     0.77313,     0.77292,     0.77271,      0.7725,     0.77229,     0.77208,     0.77188,     0.77167,     0.77146,     0.77125,\n",
            "            0.77104,     0.77084,     0.77063,     0.77042,     0.77021,        0.77,     0.76979,     0.76959,     0.76938,       0.769,     0.76819,     0.76738,     0.76657,     0.76576,     0.76496,     0.76415,     0.76334,     0.76253,     0.75511,     0.75405,     0.75299,     0.75193,     0.75087,\n",
            "            0.74981,     0.74875,     0.74782,       0.747,     0.74618,     0.74536,     0.74454,     0.74371,     0.74289,     0.74207,     0.74125,     0.74071,     0.74018,     0.73964,      0.7391,     0.73856,     0.73802,     0.73748,     0.73694,      0.7364,     0.73586,     0.73532,     0.73478,\n",
            "             0.7342,     0.73282,     0.73143,     0.73005,     0.72866,     0.72728,     0.72572,     0.72417,     0.72262,     0.72107,     0.71869,     0.71543,      0.7132,     0.71294,     0.71268,     0.71242,     0.71216,      0.7119,     0.71164,     0.71138,     0.71112,     0.71086,      0.7106,\n",
            "            0.71034,     0.71008,     0.70982,     0.70957,     0.70931,     0.70905,     0.70879,     0.70853,     0.70827,     0.70801,     0.70775,     0.70749,     0.70723,     0.70697,     0.70671,     0.70645,     0.70629,     0.70532,     0.70246,      0.6996,      0.6993,      0.6993,     0.69685,\n",
            "            0.69384,     0.69131,     0.68926,     0.68721,     0.68507,     0.68189,     0.67871,     0.67786,     0.67733,      0.6768,     0.67628,     0.67575,     0.67522,     0.67469,     0.67416,     0.67364,     0.67311,     0.67258,     0.67205,     0.67153,     0.67069,     0.66966,     0.66864,\n",
            "            0.66762,     0.66659,     0.66557,     0.66455,     0.66344,      0.6623,     0.66117,     0.66004,     0.65891,     0.65778,     0.65571,     0.65307,     0.65042,     0.64968,     0.64899,     0.64829,      0.6476,     0.64691,     0.64622,     0.64553,     0.64484,     0.64414,     0.64345,\n",
            "            0.63892,     0.61879,     0.60983,     0.60726,     0.60031,      0.5985,     0.59669,     0.59489,     0.59187,     0.58841,     0.58622,     0.58454,     0.58286,     0.58118,     0.57916,     0.57688,      0.5746,     0.57143,     0.56732,     0.55731,     0.55178,     0.55086,     0.54994,\n",
            "            0.54902,     0.54811,     0.54719,     0.54627,     0.54508,     0.54174,     0.53807,     0.51622,     0.50953,     0.50693,     0.50433,     0.49591,     0.49237,     0.48303,     0.46044,     0.45234,     0.44619,     0.44031,      0.4357,     0.42942,     0.41941,     0.41626,     0.41312,\n",
            "            0.41121,     0.40955,     0.40788,     0.40622,     0.40503,     0.40411,      0.4032,     0.40228,     0.40137,     0.40046,     0.39954,     0.39863,     0.39248,     0.38923,     0.38646,     0.38035,     0.35857,      0.3424,     0.34063,     0.33886,     0.33709,     0.33512,     0.33229,\n",
            "            0.32947,     0.32798,     0.32701,     0.32605,     0.32508,     0.32412,     0.32315,     0.32219,     0.31934,     0.31456,      0.3125,     0.31044,     0.30837,     0.29246,      0.2892,     0.28469,       0.272,     0.26345,     0.25896,     0.25492,      0.2498,     0.23793,     0.22746,\n",
            "            0.22123,     0.21811,     0.20457,       0.187,     0.17985,     0.17384,     0.17142,     0.16899,      0.1597,     0.15687,     0.15403,     0.13978,     0.13786,     0.13594,     0.13402,     0.13057,     0.11846,     0.10803,     0.10343,     0.10162,    0.099812,    0.098002,    0.090036,\n",
            "           0.089011,    0.087986,    0.086961,    0.085937,    0.084912,     0.08384,    0.081139,    0.078437,    0.068666,    0.059887,     0.05617,    0.050433,    0.041127,    0.039241,    0.037356,     0.03547,    0.033649,    0.031851,    0.030053,    0.028256,     0.02658,    0.024928,    0.023276,\n",
            "           0.021623,    0.020414,    0.019487,    0.018561,    0.017634,    0.016707,    0.015781,    0.014854,     0.01382,    0.011176,   0.0085324,           0,           0,           0,           0,           0,           0,           0,           0,           0,           0,           0,           0,\n",
            "                  0,           0,           0,           0,           0,           0,           0,           0,           0,           0,           0,           0,           0,           0,           0,           0,           0,           0,           0,           0,           0,           0,           0,\n",
            "                  0,           0,           0,           0,           0,           0,           0,           0,           0,           0,           0,           0,           0,           0,           0,           0,           0,           0,           0,           0,           0,           0,           0,\n",
            "                  0,           0,           0,           0,           0,           0,           0,           0,           0,           0,           0,           0,           0,           0,           0,           0,           0,           0,           0,           0,           0,           0,           0,\n",
            "                  0,           0,           0,           0,           0,           0,           0,           0,           0,           0,           0]])>\n",
            "Mean precision: 0.9246302363578482\n",
            "Mean recall: 0.8251748251748252\n",
            "Precision: [    0.92463]\n",
            "Precision curve: [[    0.28953     0.28953     0.37653     0.44624     0.49716     0.53386     0.56203     0.58295     0.60012     0.61497     0.62182     0.63056     0.63227     0.63569     0.64849     0.65135     0.65414     0.65978     0.66196     0.66547     0.67294     0.67818     0.68279      0.6906     0.69925     0.70208\n",
            "      0.71489     0.72329     0.72965     0.73246     0.73412     0.73581     0.73756     0.73931     0.74545     0.75273     0.75765     0.76063     0.76341     0.76596     0.77125     0.77882      0.7842     0.79636     0.79892     0.80202     0.80734     0.80905     0.81076     0.81164     0.81152     0.81141\n",
            "       0.8113     0.81118     0.81107     0.81096     0.81084     0.81073     0.81062      0.8105     0.81241     0.81578     0.81855     0.82182     0.82614      0.8256     0.82611     0.82663     0.82714     0.82765     0.82816     0.82868     0.82919      0.8297     0.83021     0.83073     0.83147     0.83274\n",
            "      0.83401     0.83528     0.83655     0.83722     0.83778     0.83834      0.8389     0.83946     0.84003     0.84059     0.84115     0.84171     0.84228     0.84314     0.84415     0.84516     0.84617     0.84718     0.84819     0.84888     0.84954      0.8502     0.85086     0.85152     0.85219     0.85285\n",
            "      0.85351     0.85417     0.85467     0.85517     0.85567     0.85617     0.85667     0.85718     0.85768     0.85818     0.85868     0.85918     0.85968     0.86016     0.86036     0.86056     0.86076     0.86097     0.86117     0.86137     0.86157     0.86178     0.86198     0.86218     0.86238     0.86259\n",
            "      0.86279     0.86299     0.86319      0.8634      0.8636      0.8638       0.864     0.86421     0.86441     0.86461     0.86481     0.86502     0.86522     0.86542     0.86562     0.86583     0.86603     0.86603     0.86523     0.86515     0.86507     0.86498      0.8649     0.86482     0.86474     0.86465\n",
            "      0.86457     0.86449     0.86441     0.86433     0.86426     0.86421     0.86415      0.8641     0.86405       0.864     0.86395     0.86389     0.86384     0.86379     0.86374     0.86369     0.86363     0.86358     0.86353     0.86348     0.86342     0.86337     0.86332     0.86534     0.86791     0.86964\n",
            "      0.86983     0.87003     0.87022     0.87042     0.87061     0.87081       0.871      0.8712     0.87139     0.87159     0.87178     0.87198     0.87217     0.87237     0.87256     0.87276     0.87295     0.87315     0.87334     0.87354     0.87373     0.87393     0.87412     0.87432     0.87451     0.87471\n",
            "       0.8749      0.8751     0.87529     0.87549     0.87568     0.87588     0.87616     0.87645     0.87675     0.87704     0.87734     0.87763     0.87792     0.87822     0.87851     0.87881      0.8791      0.8794     0.87969     0.87999     0.88028     0.88057     0.88087     0.88116     0.88146     0.88175\n",
            "      0.88205     0.88234     0.88287     0.88341     0.88394     0.88448     0.88502     0.88555     0.88609     0.88663     0.88717      0.8877     0.88824     0.88878      0.8894     0.89005     0.89069     0.89134     0.89199     0.89263     0.89328     0.89392     0.89457     0.89522     0.89581     0.89635\n",
            "      0.89689     0.89743     0.89796      0.8985     0.89904     0.89958     0.90012     0.90066      0.9012     0.90174     0.90225     0.90217     0.90208       0.902     0.90191     0.90182     0.90174     0.90165     0.90157     0.90165     0.90202     0.90239     0.90276     0.90313      0.9035     0.90387\n",
            "      0.90424     0.90461     0.90498     0.90535     0.90572     0.90609     0.90645     0.90682     0.90719     0.90756     0.90793      0.9083     0.90899     0.90979     0.91059     0.91139     0.91218     0.91298     0.91378     0.91458     0.91538     0.91569     0.91601     0.91632     0.91663     0.91694\n",
            "      0.91725     0.91757     0.91788     0.91819      0.9185     0.91882     0.91913     0.91944     0.91975     0.92006     0.92038     0.92069       0.921     0.92131     0.92162     0.92194     0.92225     0.92247     0.92245     0.92242     0.92239     0.92236     0.92233     0.92231     0.92228     0.92225\n",
            "      0.92222      0.9222     0.92217     0.92214     0.92211     0.92208     0.92206     0.92203       0.922     0.92197     0.92195     0.92192     0.92189     0.92199     0.92226     0.92252     0.92278     0.92305     0.92331     0.92358     0.92384      0.9241     0.92437     0.92463     0.92489     0.92516\n",
            "      0.92542     0.92568     0.92595     0.92621     0.92648     0.92674       0.927     0.92727     0.92753     0.92779     0.92806     0.92832     0.92858     0.92885     0.92911     0.92913     0.92912     0.92912     0.92911      0.9291      0.9291     0.92909     0.92908     0.92908     0.92907     0.92906\n",
            "      0.92906     0.92905     0.92904     0.92904     0.92903     0.92903     0.92902     0.92901     0.92901       0.929     0.92899     0.92899     0.92898     0.92897     0.92897     0.92896     0.92895     0.92895     0.92894     0.92894     0.92893     0.92892     0.92892     0.92891      0.9289      0.9289\n",
            "      0.92889     0.92888     0.92888     0.92887     0.92887     0.92886     0.92885     0.92885     0.92884     0.92883     0.92883     0.92882     0.92881     0.92881      0.9288     0.92879     0.92879     0.92878     0.92878     0.92877     0.92876     0.92876     0.92875     0.92874     0.92874     0.92873\n",
            "      0.92872     0.92872     0.92871      0.9287      0.9287     0.92869     0.92869     0.92868     0.92867     0.92867     0.92866     0.92865     0.92865     0.92864     0.92863     0.92863     0.92862     0.92862     0.92861      0.9286      0.9286     0.92859     0.92858     0.92858     0.92884     0.93018\n",
            "      0.93152     0.93286     0.93419     0.93553     0.94059     0.94351     0.94345     0.94339     0.94332     0.94326      0.9432     0.94313     0.94337     0.94426     0.94516     0.94605     0.94695     0.94784     0.94874     0.94963     0.95053     0.95136     0.95216     0.95296     0.95376     0.95456\n",
            "      0.95536     0.95616     0.95696     0.95776     0.95856     0.95865     0.95861     0.95857     0.95854      0.9585     0.95846     0.95842     0.95839     0.95835     0.95831     0.95828     0.95824      0.9582     0.95816     0.95813     0.95809     0.95805     0.95802     0.95804     0.95855     0.95905\n",
            "      0.95956     0.96007     0.96058     0.96109      0.9616      0.9621     0.96261     0.96312     0.96363     0.96414     0.96465     0.96515     0.96566      0.9661     0.96607     0.96604     0.96602     0.96599     0.96596     0.96594     0.96591     0.96588     0.96585     0.96583      0.9658     0.96578\n",
            "      0.96576     0.96574     0.96571     0.96569     0.96567     0.96565     0.96563      0.9656     0.96558     0.96556     0.96554     0.96553     0.96581     0.96608     0.96636     0.96663     0.96691     0.96718     0.96746     0.96773     0.96801     0.96829     0.96856     0.96884     0.96911     0.96939\n",
            "      0.96966     0.96994     0.97021     0.97049     0.97076     0.97104     0.97131     0.97159     0.97186     0.97214     0.97241     0.97269     0.97296     0.97324     0.97351     0.97379      0.9739     0.97387     0.97385     0.97382     0.97379     0.97377     0.97374     0.97371     0.97369     0.97368\n",
            "      0.97367     0.97366     0.97366     0.97365     0.97364     0.97364     0.97363     0.97362     0.97362     0.97361      0.9736     0.97359     0.97359     0.97358     0.97357     0.97357     0.97356     0.97355     0.97355     0.97354     0.97353     0.97353     0.97352     0.97351      0.9735      0.9735\n",
            "      0.97349     0.97348     0.97348     0.97347     0.97346     0.97346     0.97344     0.97342     0.97339     0.97336     0.97333     0.97331     0.97328     0.97325     0.97322     0.97297     0.97293     0.97289     0.97286     0.97282     0.97278     0.97274     0.97271     0.97268     0.97265     0.97262\n",
            "      0.97259     0.97256     0.97254     0.97251     0.97248     0.97246     0.97244     0.97242      0.9724     0.97238     0.97236     0.97234     0.97232      0.9723     0.97228     0.97226     0.97224     0.97222     0.97217     0.97212     0.97207     0.97201     0.97196      0.9719     0.97185     0.97179\n",
            "      0.97173     0.97164     0.97151     0.97143     0.97141      0.9714     0.97139     0.97138     0.97137     0.97136     0.97135     0.97134     0.97133     0.97132     0.97131      0.9713     0.97129     0.97128     0.97127     0.97126     0.97125     0.97124     0.97123     0.97122     0.97121      0.9712\n",
            "      0.97119     0.97118     0.97117     0.97116     0.97467     0.98056     0.98048      0.9804     0.98457     0.98924     0.99006     0.99002     0.98999     0.98996     0.98993      0.9899     0.98985      0.9898     0.98979     0.98978     0.98977     0.98977     0.98976     0.98975     0.98974     0.98973\n",
            "      0.98973     0.98972     0.98971      0.9897     0.98969     0.98968     0.98967     0.98965     0.98963     0.98962      0.9896     0.98959     0.98957     0.98955     0.98953     0.98952      0.9895     0.98948     0.98945     0.98941     0.98936     0.98935     0.98934     0.98933     0.98932     0.98931\n",
            "      0.98929     0.98928     0.98927     0.98926     0.98925     0.98917     0.98882     0.98866           1           1           1           1           1           1           1           1           1           1           1           1           1           1           1           1           1           1\n",
            "            1           1           1           1           1           1           1           1           1           1           1           1           1           1           1           1           1           1           1           1           1           1           1           1           1           1\n",
            "            1           1           1           1           1           1           1           1           1           1           1           1           1           1           1           1           1           1           1           1           1           1           1           1           1           1\n",
            "            1           1           1           1           1           1           1           1           1           1           1           1           1           1           1           1           1           1           1           1           1           1           1           1           1           1\n",
            "            1           1           1           1           1           1           1           1           1           1           1           1           1           1           1           1           1           1           1           1           1           1           1           1           1           1\n",
            "            1           1           1           1           1           1           1           1           1           1           1           1           1           1           1           1           1           1           1           1           1           1           1           1           1           1\n",
            "            1           1           1           1           1           1           1           1           1           1           1           1           1           1           1           1           1           1           1           1           1           1           1           1           1           1\n",
            "            1           1           1           1           1           1           1           1           1           1           1           1           1           1           1           1           1           1           1           1           1           1           1           1           1           1\n",
            "            1           1           1           1           1           1           1           1           1           1           1           1           1           1           1           1           1           1           1           1           1           1           1           1           1           1\n",
            "            1           1           1           1           1           1           1           1           1           1           1           1]]\n",
            "Precision values: [[          1           1           1           1           1           1           1           1           1           1           1           1           1           1           1           1           1           1           1           1           1           1           1           1           1           1\n",
            "            1           1           1           1           1           1           1           1           1           1           1           1           1           1           1           1           1           1           1           1           1           1           1           1           1           1\n",
            "            1           1           1           1           1           1           1           1           1           1           1           1           1           1           1           1           1           1           1           1           1           1           1           1           1           1\n",
            "            1           1           1           1           1           1           1           1           1           1           1           1           1           1           1           1           1           1           1           1           1           1           1           1           1           1\n",
            "            1           1           1           1           1           1           1           1           1           1           1           1           1           1           1           1           1           1           1           1           1           1           1           1           1           1\n",
            "            1           1           1           1           1           1           1           1           1           1           1           1           1           1           1           1           1           1           1           1           1           1           1           1           1           1\n",
            "            1           1           1           1           1           1           1           1           1           1           1           1           1           1           1           1           1           1           1           1           1           1           1           1           1           1\n",
            "            1           1           1           1           1           1           1           1           1           1           1           1           1           1           1           1           1           1           1           1           1           1           1           1           1           1\n",
            "            1           1           1           1           1           1           1           1           1           1           1           1           1           1           1           1           1           1           1           1           1           1           1           1           1           1\n",
            "            1           1           1           1           1           1           1           1           1           1           1           1           1           1           1           1           1           1           1           1           1           1           1           1           1           1\n",
            "            1           1           1           1           1           1           1           1           1           1           1           1           1           1           1           1           1           1           1           1           1           1           1           1           1           1\n",
            "            1           1           1           1           1           1           1           1           1           1           1           1           1           1           1           1           1           1           1           1           1           1           1           1           1           1\n",
            "            1           1           1           1           1           1           1           1           1           1           1           1           1           1           1           1           1           1           1           1           1           1           1           1           1           1\n",
            "            1           1           1           1           1           1           1           1           1           1           1           1           1           1           1           1           1           1           1           1           1           1           1           1           1           1\n",
            "            1           1           1           1           1           1           1           1           1           1           1           1           1           1           1           1           1           1           1           1           1           1           1           1           1           1\n",
            "            1           1           1           1           1           1           1           1           1           1           1           1           1           1           1           1           1           1           1           1           1           1           1           1           1           1\n",
            "            1           1           1           1           1           1           1           1           1           1           1           1           1           1           1           1           1           1           1           1           1           1           1           1           1           1\n",
            "            1           1           1           1           1           1           1           1           1           1           1           1           1           1           1           1           1           1           1           1           1           1           1           1           1           1\n",
            "            1           1           1           1           1           1           1           1           1           1           1           1           1           1           1           1           1           1           1           1           1           1           1           1           1           1\n",
            "            1           1           1           1           1           1           1           1           1           1           1           1           1           1           1           1           1           1           1           1           1           1           1           1           1           1\n",
            "            1           1           1           1           1           1           1           1           1           1           1           1           1           1           1           1           1           1           1           1           1           1           1           1           1           1\n",
            "            1           1           1           1           1           1           1           1           1           1           1           1           1           1           1           1           1           1           1           1           1           1           1           1           1           1\n",
            "            1           1           1           1           1           1           1           1           1           1           1           1           1           1           1           1           1           1           1           1           1           1           1           1           1           1\n",
            "            1           1           1           1           1           1           1           1           1           1      0.9901      0.9901      0.9901      0.9901      0.9901      0.9901      0.9901      0.9901      0.9901      0.9901      0.9901      0.9901      0.9901      0.9901      0.9901      0.9901\n",
            "       0.9901      0.9901      0.9901      0.9901      0.9901      0.9901      0.9901      0.9901      0.9901      0.9901      0.9901      0.9901      0.9901      0.9901      0.9901      0.9901      0.9901      0.9901      0.9901      0.9901      0.9901      0.9901      0.9901      0.9901      0.9901      0.9901\n",
            "       0.9901      0.9901      0.9901      0.9901      0.9901      0.9901      0.9901      0.9901      0.9901      0.9901      0.9901      0.9901      0.9901      0.9901      0.9901      0.9901      0.9901      0.9901      0.9901      0.9901      0.9901      0.9901      0.9901      0.9901      0.9901      0.9901\n",
            "       0.9901      0.9901      0.9901      0.9901      0.9901      0.9901      0.9901      0.9901      0.9901      0.9901      0.9901      0.9901      0.9901      0.9901      0.9901      0.9901      0.9901      0.9901      0.9901      0.9901      0.9901      0.9901      0.9901     0.98058     0.98058     0.98058\n",
            "      0.98058     0.98058     0.98058     0.98058     0.97391     0.97391     0.97391     0.97391     0.97391     0.97391     0.97391     0.97391     0.97391     0.97391     0.97391     0.97391     0.97391     0.97391     0.97391     0.97391     0.97391     0.97391     0.97391     0.97391     0.97391     0.97391\n",
            "      0.97391     0.97391     0.97391     0.97391     0.97391     0.97391     0.97391     0.97391     0.97391     0.97391     0.97391     0.97391     0.97391     0.97391     0.97391     0.97391     0.97391     0.97391     0.97391     0.97391     0.97391     0.97391     0.97391     0.97391     0.97391     0.97391\n",
            "      0.97391     0.97391     0.97391     0.97391     0.97391     0.97391     0.97391     0.97391     0.97391     0.97391     0.97391     0.97391     0.97391     0.97391     0.97391     0.97391     0.97391     0.97391     0.97391     0.97391     0.97391     0.97391     0.97391     0.97391     0.97391     0.97391\n",
            "      0.97391     0.97391     0.97391      0.9661      0.9661      0.9661      0.9661      0.9661      0.9661      0.9661      0.9661      0.9661      0.9661      0.9661      0.9661      0.9661      0.9661     0.95868     0.95868     0.95868     0.95868     0.95868     0.95868     0.95868     0.95868     0.95868\n",
            "      0.95868     0.95868     0.95868     0.95868     0.95868     0.94355     0.94355     0.94355     0.94355     0.94355     0.94355     0.94355     0.92913     0.92913     0.92913     0.92913     0.92913     0.92913     0.92913     0.92248     0.92248     0.92248     0.92248     0.92248     0.92248     0.92248\n",
            "      0.90226     0.90226     0.90226     0.90226     0.90226     0.90226     0.90226      0.8662      0.8662      0.8662      0.8662      0.8662      0.8662      0.8662      0.8662      0.8662      0.8662      0.8662      0.8662      0.8662      0.8662      0.8662      0.8662      0.8662      0.8662      0.8662\n",
            "       0.8662      0.8662     0.82667     0.82667     0.82667     0.82667     0.82667     0.82667     0.82667     0.81169     0.81169     0.81169     0.81169     0.81169     0.81169     0.81169         0.7         0.7         0.7         0.7         0.7         0.7         0.7      0.6165      0.6165      0.6165\n",
            "       0.6165      0.6165      0.6165      0.6165      0.4708      0.4708      0.4708      0.4708      0.4708      0.4708      0.4708      0.4708      0.4708      0.4708      0.4708      0.4708      0.4708      0.4708     0.33592     0.33592     0.33592     0.33592     0.33592     0.33592     0.33592     0.28692\n",
            "      0.28374     0.28055     0.27736     0.27417     0.27098      0.2678     0.26461     0.26142     0.25823     0.25504     0.25186     0.24867     0.24548     0.24229      0.2391     0.23592     0.23273     0.22954     0.22635     0.22316     0.21997     0.21679      0.2136     0.21041     0.20722     0.20403\n",
            "      0.20085     0.19766     0.19447     0.19128     0.18809     0.18491     0.18172     0.17853     0.17534     0.17215     0.16897     0.16578     0.16259      0.1594     0.15621     0.15303     0.14984     0.14665     0.14346     0.14027     0.13709      0.1339     0.13071     0.12752     0.12433     0.12115\n",
            "      0.11796     0.11477     0.11158     0.10839     0.10521     0.10202    0.098829    0.095641    0.092453    0.089265    0.086077    0.082889    0.079701    0.076513    0.073325    0.070137    0.066949    0.063761    0.060573    0.057385    0.054197    0.051009    0.047821    0.044633    0.041445    0.038257\n",
            "     0.035068     0.03188    0.028692    0.025504    0.022316    0.019128     0.01594    0.012752   0.0095641   0.0063761    0.003188           0]]\n",
            "Specific precision metrics: [          0    0.001001    0.002002    0.003003    0.004004    0.005005    0.006006    0.007007    0.008008    0.009009     0.01001    0.011011    0.012012    0.013013    0.014014    0.015015    0.016016    0.017017    0.018018    0.019019     0.02002    0.021021    0.022022    0.023023    0.024024    0.025025\n",
            "    0.026026    0.027027    0.028028    0.029029     0.03003    0.031031    0.032032    0.033033    0.034034    0.035035    0.036036    0.037037    0.038038    0.039039     0.04004    0.041041    0.042042    0.043043    0.044044    0.045045    0.046046    0.047047    0.048048    0.049049     0.05005    0.051051\n",
            "    0.052052    0.053053    0.054054    0.055055    0.056056    0.057057    0.058058    0.059059     0.06006    0.061061    0.062062    0.063063    0.064064    0.065065    0.066066    0.067067    0.068068    0.069069     0.07007    0.071071    0.072072    0.073073    0.074074    0.075075    0.076076    0.077077\n",
            "    0.078078    0.079079     0.08008    0.081081    0.082082    0.083083    0.084084    0.085085    0.086086    0.087087    0.088088    0.089089     0.09009    0.091091    0.092092    0.093093    0.094094    0.095095    0.096096    0.097097    0.098098    0.099099      0.1001      0.1011      0.1021      0.1031\n",
            "      0.1041     0.10511     0.10611     0.10711     0.10811     0.10911     0.11011     0.11111     0.11211     0.11311     0.11411     0.11512     0.11612     0.11712     0.11812     0.11912     0.12012     0.12112     0.12212     0.12312     0.12412     0.12513     0.12613     0.12713     0.12813     0.12913\n",
            "     0.13013     0.13113     0.13213     0.13313     0.13413     0.13514     0.13614     0.13714     0.13814     0.13914     0.14014     0.14114     0.14214     0.14314     0.14414     0.14515     0.14615     0.14715     0.14815     0.14915     0.15015     0.15115     0.15215     0.15315     0.15415     0.15516\n",
            "     0.15616     0.15716     0.15816     0.15916     0.16016     0.16116     0.16216     0.16316     0.16416     0.16517     0.16617     0.16717     0.16817     0.16917     0.17017     0.17117     0.17217     0.17317     0.17417     0.17518     0.17618     0.17718     0.17818     0.17918     0.18018     0.18118\n",
            "     0.18218     0.18318     0.18418     0.18519     0.18619     0.18719     0.18819     0.18919     0.19019     0.19119     0.19219     0.19319     0.19419      0.1952      0.1962      0.1972      0.1982      0.1992      0.2002      0.2012      0.2022      0.2032      0.2042     0.20521     0.20621     0.20721\n",
            "     0.20821     0.20921     0.21021     0.21121     0.21221     0.21321     0.21421     0.21522     0.21622     0.21722     0.21822     0.21922     0.22022     0.22122     0.22222     0.22322     0.22422     0.22523     0.22623     0.22723     0.22823     0.22923     0.23023     0.23123     0.23223     0.23323\n",
            "     0.23423     0.23524     0.23624     0.23724     0.23824     0.23924     0.24024     0.24124     0.24224     0.24324     0.24424     0.24525     0.24625     0.24725     0.24825     0.24925     0.25025     0.25125     0.25225     0.25325     0.25425     0.25526     0.25626     0.25726     0.25826     0.25926\n",
            "     0.26026     0.26126     0.26226     0.26326     0.26426     0.26527     0.26627     0.26727     0.26827     0.26927     0.27027     0.27127     0.27227     0.27327     0.27427     0.27528     0.27628     0.27728     0.27828     0.27928     0.28028     0.28128     0.28228     0.28328     0.28428     0.28529\n",
            "     0.28629     0.28729     0.28829     0.28929     0.29029     0.29129     0.29229     0.29329     0.29429      0.2953      0.2963      0.2973      0.2983      0.2993      0.3003      0.3013      0.3023      0.3033      0.3043     0.30531     0.30631     0.30731     0.30831     0.30931     0.31031     0.31131\n",
            "     0.31231     0.31331     0.31431     0.31532     0.31632     0.31732     0.31832     0.31932     0.32032     0.32132     0.32232     0.32332     0.32432     0.32533     0.32633     0.32733     0.32833     0.32933     0.33033     0.33133     0.33233     0.33333     0.33433     0.33534     0.33634     0.33734\n",
            "     0.33834     0.33934     0.34034     0.34134     0.34234     0.34334     0.34434     0.34535     0.34635     0.34735     0.34835     0.34935     0.35035     0.35135     0.35235     0.35335     0.35435     0.35536     0.35636     0.35736     0.35836     0.35936     0.36036     0.36136     0.36236     0.36336\n",
            "     0.36436     0.36537     0.36637     0.36737     0.36837     0.36937     0.37037     0.37137     0.37237     0.37337     0.37437     0.37538     0.37638     0.37738     0.37838     0.37938     0.38038     0.38138     0.38238     0.38338     0.38438     0.38539     0.38639     0.38739     0.38839     0.38939\n",
            "     0.39039     0.39139     0.39239     0.39339     0.39439      0.3954      0.3964      0.3974      0.3984      0.3994      0.4004      0.4014      0.4024      0.4034      0.4044     0.40541     0.40641     0.40741     0.40841     0.40941     0.41041     0.41141     0.41241     0.41341     0.41441     0.41542\n",
            "     0.41642     0.41742     0.41842     0.41942     0.42042     0.42142     0.42242     0.42342     0.42442     0.42543     0.42643     0.42743     0.42843     0.42943     0.43043     0.43143     0.43243     0.43343     0.43443     0.43544     0.43644     0.43744     0.43844     0.43944     0.44044     0.44144\n",
            "     0.44244     0.44344     0.44444     0.44545     0.44645     0.44745     0.44845     0.44945     0.45045     0.45145     0.45245     0.45345     0.45445     0.45546     0.45646     0.45746     0.45846     0.45946     0.46046     0.46146     0.46246     0.46346     0.46446     0.46547     0.46647     0.46747\n",
            "     0.46847     0.46947     0.47047     0.47147     0.47247     0.47347     0.47447     0.47548     0.47648     0.47748     0.47848     0.47948     0.48048     0.48148     0.48248     0.48348     0.48448     0.48549     0.48649     0.48749     0.48849     0.48949     0.49049     0.49149     0.49249     0.49349\n",
            "     0.49449      0.4955      0.4965      0.4975      0.4985      0.4995      0.5005      0.5015      0.5025      0.5035      0.5045     0.50551     0.50651     0.50751     0.50851     0.50951     0.51051     0.51151     0.51251     0.51351     0.51451     0.51552     0.51652     0.51752     0.51852     0.51952\n",
            "     0.52052     0.52152     0.52252     0.52352     0.52452     0.52553     0.52653     0.52753     0.52853     0.52953     0.53053     0.53153     0.53253     0.53353     0.53453     0.53554     0.53654     0.53754     0.53854     0.53954     0.54054     0.54154     0.54254     0.54354     0.54454     0.54555\n",
            "     0.54655     0.54755     0.54855     0.54955     0.55055     0.55155     0.55255     0.55355     0.55455     0.55556     0.55656     0.55756     0.55856     0.55956     0.56056     0.56156     0.56256     0.56356     0.56456     0.56557     0.56657     0.56757     0.56857     0.56957     0.57057     0.57157\n",
            "     0.57257     0.57357     0.57457     0.57558     0.57658     0.57758     0.57858     0.57958     0.58058     0.58158     0.58258     0.58358     0.58458     0.58559     0.58659     0.58759     0.58859     0.58959     0.59059     0.59159     0.59259     0.59359     0.59459      0.5956      0.5966      0.5976\n",
            "      0.5986      0.5996      0.6006      0.6016      0.6026      0.6036      0.6046     0.60561     0.60661     0.60761     0.60861     0.60961     0.61061     0.61161     0.61261     0.61361     0.61461     0.61562     0.61662     0.61762     0.61862     0.61962     0.62062     0.62162     0.62262     0.62362\n",
            "     0.62462     0.62563     0.62663     0.62763     0.62863     0.62963     0.63063     0.63163     0.63263     0.63363     0.63463     0.63564     0.63664     0.63764     0.63864     0.63964     0.64064     0.64164     0.64264     0.64364     0.64464     0.64565     0.64665     0.64765     0.64865     0.64965\n",
            "     0.65065     0.65165     0.65265     0.65365     0.65465     0.65566     0.65666     0.65766     0.65866     0.65966     0.66066     0.66166     0.66266     0.66366     0.66466     0.66567     0.66667     0.66767     0.66867     0.66967     0.67067     0.67167     0.67267     0.67367     0.67467     0.67568\n",
            "     0.67668     0.67768     0.67868     0.67968     0.68068     0.68168     0.68268     0.68368     0.68468     0.68569     0.68669     0.68769     0.68869     0.68969     0.69069     0.69169     0.69269     0.69369     0.69469      0.6957      0.6967      0.6977      0.6987      0.6997      0.7007      0.7017\n",
            "      0.7027      0.7037      0.7047     0.70571     0.70671     0.70771     0.70871     0.70971     0.71071     0.71171     0.71271     0.71371     0.71471     0.71572     0.71672     0.71772     0.71872     0.71972     0.72072     0.72172     0.72272     0.72372     0.72472     0.72573     0.72673     0.72773\n",
            "     0.72873     0.72973     0.73073     0.73173     0.73273     0.73373     0.73473     0.73574     0.73674     0.73774     0.73874     0.73974     0.74074     0.74174     0.74274     0.74374     0.74474     0.74575     0.74675     0.74775     0.74875     0.74975     0.75075     0.75175     0.75275     0.75375\n",
            "     0.75475     0.75576     0.75676     0.75776     0.75876     0.75976     0.76076     0.76176     0.76276     0.76376     0.76476     0.76577     0.76677     0.76777     0.76877     0.76977     0.77077     0.77177     0.77277     0.77377     0.77477     0.77578     0.77678     0.77778     0.77878     0.77978\n",
            "     0.78078     0.78178     0.78278     0.78378     0.78478     0.78579     0.78679     0.78779     0.78879     0.78979     0.79079     0.79179     0.79279     0.79379     0.79479      0.7958      0.7968      0.7978      0.7988      0.7998      0.8008      0.8018      0.8028      0.8038      0.8048     0.80581\n",
            "     0.80681     0.80781     0.80881     0.80981     0.81081     0.81181     0.81281     0.81381     0.81481     0.81582     0.81682     0.81782     0.81882     0.81982     0.82082     0.82182     0.82282     0.82382     0.82482     0.82583     0.82683     0.82783     0.82883     0.82983     0.83083     0.83183\n",
            "     0.83283     0.83383     0.83483     0.83584     0.83684     0.83784     0.83884     0.83984     0.84084     0.84184     0.84284     0.84384     0.84484     0.84585     0.84685     0.84785     0.84885     0.84985     0.85085     0.85185     0.85285     0.85385     0.85485     0.85586     0.85686     0.85786\n",
            "     0.85886     0.85986     0.86086     0.86186     0.86286     0.86386     0.86486     0.86587     0.86687     0.86787     0.86887     0.86987     0.87087     0.87187     0.87287     0.87387     0.87487     0.87588     0.87688     0.87788     0.87888     0.87988     0.88088     0.88188     0.88288     0.88388\n",
            "     0.88488     0.88589     0.88689     0.88789     0.88889     0.88989     0.89089     0.89189     0.89289     0.89389     0.89489      0.8959      0.8969      0.8979      0.8989      0.8999      0.9009      0.9019      0.9029      0.9039      0.9049     0.90591     0.90691     0.90791     0.90891     0.90991\n",
            "     0.91091     0.91191     0.91291     0.91391     0.91491     0.91592     0.91692     0.91792     0.91892     0.91992     0.92092     0.92192     0.92292     0.92392     0.92492     0.92593     0.92693     0.92793     0.92893     0.92993     0.93093     0.93193     0.93293     0.93393     0.93493     0.93594\n",
            "     0.93694     0.93794     0.93894     0.93994     0.94094     0.94194     0.94294     0.94394     0.94494     0.94595     0.94695     0.94795     0.94895     0.94995     0.95095     0.95195     0.95295     0.95395     0.95495     0.95596     0.95696     0.95796     0.95896     0.95996     0.96096     0.96196\n",
            "     0.96296     0.96396     0.96496     0.96597     0.96697     0.96797     0.96897     0.96997     0.97097     0.97197     0.97297     0.97397     0.97497     0.97598     0.97698     0.97798     0.97898     0.97998     0.98098     0.98198     0.98298     0.98398     0.98498     0.98599     0.98699     0.98799\n",
            "     0.98899     0.98999     0.99099     0.99199     0.99299     0.99399     0.99499       0.996       0.997       0.998       0.999           1]\n",
            "Recall: [    0.82517]\n",
            "Recall curve: [[    0.90909     0.90909      0.9021      0.9021     0.88811     0.88811     0.88811     0.88811     0.88811     0.88236     0.88112     0.88112     0.88112     0.88112     0.88112     0.88112     0.88112     0.88112     0.88112     0.88112     0.88112     0.88112     0.88112     0.88112     0.88112     0.87413\n",
            "      0.87413     0.87413     0.87413     0.87413     0.87413     0.87413     0.87413     0.87413     0.87413     0.87413     0.87413     0.87413     0.87413     0.87413     0.87413     0.87413     0.87413     0.87413     0.87413     0.87413     0.87413     0.87413     0.87413     0.87383     0.87319     0.87255\n",
            "       0.8719     0.87126     0.87062     0.86997     0.86933     0.86869     0.86805      0.8674     0.86713     0.86713     0.86713     0.86713     0.86394     0.86014     0.86014     0.86014     0.86014     0.86014     0.86014     0.86014     0.86014     0.86014     0.86014     0.86014     0.86014     0.86014\n",
            "      0.86014     0.86014     0.86014     0.86014     0.86014     0.86014     0.86014     0.86014     0.86014     0.86014     0.86014     0.86014     0.86014     0.86014     0.86014     0.86014     0.86014     0.86014     0.86014     0.86014     0.86014     0.86014     0.86014     0.86014     0.86014     0.86014\n",
            "      0.86014     0.86014     0.86014     0.86014     0.86014     0.86014     0.86014     0.86014     0.86014     0.86014     0.86014     0.86014     0.86014     0.86014     0.86014     0.86014     0.86014     0.86014     0.86014     0.86014     0.86014     0.86014     0.86014     0.86014     0.86014     0.86014\n",
            "      0.86014     0.86014     0.86014     0.86014     0.86014     0.86014     0.86014     0.86014     0.86014     0.86014     0.86014     0.86014     0.86014     0.86014     0.86014     0.86014     0.86014      0.8589     0.85301     0.85241     0.85182     0.85122     0.85062     0.85002     0.84943     0.84883\n",
            "      0.84823     0.84763     0.84704     0.84644     0.84596     0.84559     0.84521     0.84484     0.84447     0.84409     0.84372     0.84335     0.84297      0.8426     0.84223     0.84185     0.84148     0.84111     0.84073     0.84036     0.83999     0.83961     0.83924     0.83916     0.83916     0.83916\n",
            "      0.83916     0.83916     0.83916     0.83916     0.83916     0.83916     0.83916     0.83916     0.83916     0.83916     0.83916     0.83916     0.83916     0.83916     0.83916     0.83916     0.83916     0.83916     0.83916     0.83916     0.83916     0.83916     0.83916     0.83916     0.83916     0.83916\n",
            "      0.83916     0.83916     0.83916     0.83916     0.83916     0.83916     0.83916     0.83916     0.83916     0.83916     0.83916     0.83916     0.83916     0.83916     0.83916     0.83916     0.83916     0.83916     0.83916     0.83916     0.83916     0.83916     0.83916     0.83916     0.83916     0.83916\n",
            "      0.83916     0.83916     0.83916     0.83916     0.83916     0.83916     0.83916     0.83916     0.83916     0.83916     0.83916     0.83916     0.83916     0.83916     0.83916     0.83916     0.83916     0.83916     0.83916     0.83916     0.83916     0.83916     0.83916     0.83916     0.83916     0.83916\n",
            "      0.83916     0.83916     0.83916     0.83916     0.83916     0.83916     0.83916     0.83916     0.83916     0.83916     0.83912     0.83832     0.83751     0.83671      0.8359     0.83509     0.83429     0.83348     0.83268     0.83217     0.83217     0.83217     0.83217     0.83217     0.83217     0.83217\n",
            "      0.83217     0.83217     0.83217     0.83217     0.83217     0.83217     0.83217     0.83217     0.83217     0.83217     0.83217     0.83217     0.83217     0.83217     0.83217     0.83217     0.83217     0.83217     0.83217     0.83217     0.83217     0.83217     0.83217     0.83217     0.83217     0.83217\n",
            "      0.83217     0.83217     0.83217     0.83217     0.83217     0.83217     0.83217     0.83217     0.83217     0.83217     0.83217     0.83217     0.83217     0.83217     0.83217     0.83217     0.83217     0.83209     0.83176     0.83144     0.83112      0.8308     0.83048     0.83016     0.82984     0.82952\n",
            "       0.8292     0.82888     0.82856     0.82824     0.82792      0.8276     0.82727     0.82695     0.82663     0.82631     0.82599     0.82567     0.82535     0.82517     0.82517     0.82517     0.82517     0.82517     0.82517     0.82517     0.82517     0.82517     0.82517     0.82517     0.82517     0.82517\n",
            "      0.82517     0.82517     0.82517     0.82517     0.82517     0.82517     0.82517     0.82517     0.82517     0.82517     0.82517     0.82517     0.82517     0.82517     0.82517      0.8251     0.82502     0.82494     0.82486     0.82478      0.8247     0.82462     0.82454     0.82446     0.82438      0.8243\n",
            "      0.82422     0.82415     0.82407     0.82399     0.82391     0.82383     0.82375     0.82367     0.82359     0.82351     0.82343     0.82335     0.82327     0.82319     0.82311     0.82303     0.82295     0.82287     0.82279     0.82271     0.82263     0.82255     0.82247     0.82239     0.82231     0.82223\n",
            "      0.82215     0.82207     0.82199     0.82191     0.82183     0.82175     0.82167     0.82159     0.82151     0.82143     0.82135     0.82127      0.8212     0.82112     0.82104     0.82096     0.82088      0.8208     0.82072     0.82064     0.82056     0.82048      0.8204     0.82032     0.82024     0.82016\n",
            "      0.82008        0.82     0.81992     0.81984     0.81976     0.81968      0.8196     0.81952     0.81944     0.81936     0.81928      0.8192     0.81912     0.81904     0.81896     0.81888      0.8188     0.81872     0.81864     0.81856     0.81848      0.8184     0.81833     0.81825     0.81818     0.81818\n",
            "      0.81818     0.81818     0.81818     0.81818     0.81818     0.81762     0.81666      0.8157     0.81474     0.81378     0.81281     0.81185     0.81119     0.81119     0.81119     0.81119     0.81119     0.81119     0.81119     0.81119     0.81119     0.81119     0.81119     0.81119     0.81119     0.81119\n",
            "      0.81119     0.81119     0.81119     0.81119     0.81119     0.81055      0.8098     0.80905     0.80829     0.80754     0.80679     0.80604     0.80529     0.80454     0.80379     0.80305     0.80231     0.80157     0.80083     0.80009     0.79935      0.7986     0.79786      0.7972      0.7972      0.7972\n",
            "       0.7972      0.7972      0.7972      0.7972      0.7972      0.7972      0.7972      0.7972      0.7972      0.7972      0.7972      0.7972      0.7972     0.79712     0.79646     0.79581     0.79515      0.7945     0.79384     0.79319     0.79254     0.79188     0.79123     0.79057     0.78998     0.78946\n",
            "      0.78893     0.78841     0.78789     0.78737     0.78684     0.78632      0.7858     0.78528     0.78475     0.78423     0.78371     0.78322     0.78322     0.78322     0.78322     0.78322     0.78322     0.78322     0.78322     0.78322     0.78322     0.78322     0.78322     0.78322     0.78322     0.78322\n",
            "      0.78322     0.78322     0.78322     0.78322     0.78322     0.78322     0.78322     0.78322     0.78322     0.78322     0.78322     0.78322     0.78322     0.78322     0.78322     0.78322     0.78278     0.78197     0.78116     0.78036     0.77955     0.77874     0.77793     0.77713     0.77632     0.77604\n",
            "      0.77583     0.77562     0.77542     0.77521       0.775     0.77479     0.77458     0.77437     0.77417     0.77396     0.77375     0.77354     0.77333     0.77313     0.77292     0.77271      0.7725     0.77229     0.77208     0.77188     0.77167     0.77146     0.77125     0.77104     0.77084     0.77063\n",
            "      0.77042     0.77021        0.77     0.76979     0.76959     0.76938       0.769     0.76819     0.76738     0.76657     0.76576     0.76496     0.76415     0.76334     0.76253     0.75511     0.75405     0.75299     0.75193     0.75087     0.74981     0.74875     0.74782       0.747     0.74618     0.74536\n",
            "      0.74454     0.74371     0.74289     0.74207     0.74125     0.74071     0.74018     0.73964      0.7391     0.73856     0.73802     0.73748     0.73694      0.7364     0.73586     0.73532     0.73478      0.7342     0.73282     0.73143     0.73005     0.72866     0.72728     0.72572     0.72417     0.72262\n",
            "      0.72107     0.71869     0.71543      0.7132     0.71294     0.71268     0.71242     0.71216      0.7119     0.71164     0.71138     0.71112     0.71086      0.7106     0.71034     0.71008     0.70982     0.70957     0.70931     0.70905     0.70879     0.70853     0.70827     0.70801     0.70775     0.70749\n",
            "      0.70723     0.70697     0.70671     0.70645     0.70629     0.70532     0.70246      0.6996      0.6993      0.6993     0.69685     0.69384     0.69131     0.68926     0.68721     0.68507     0.68189     0.67871     0.67786     0.67733      0.6768     0.67628     0.67575     0.67522     0.67469     0.67416\n",
            "      0.67364     0.67311     0.67258     0.67205     0.67153     0.67069     0.66966     0.66864     0.66762     0.66659     0.66557     0.66455     0.66344      0.6623     0.66117     0.66004     0.65891     0.65778     0.65571     0.65307     0.65042     0.64968     0.64899     0.64829      0.6476     0.64691\n",
            "      0.64622     0.64553     0.64484     0.64414     0.64345     0.63892     0.61879     0.60983     0.60726     0.60031      0.5985     0.59669     0.59489     0.59187     0.58841     0.58622     0.58454     0.58286     0.58118     0.57916     0.57688      0.5746     0.57143     0.56732     0.55731     0.55178\n",
            "      0.55086     0.54994     0.54902     0.54811     0.54719     0.54627     0.54508     0.54174     0.53807     0.51622     0.50953     0.50693     0.50433     0.49591     0.49237     0.48303     0.46044     0.45234     0.44619     0.44031      0.4357     0.42942     0.41941     0.41626     0.41312     0.41121\n",
            "      0.40955     0.40788     0.40622     0.40503     0.40411      0.4032     0.40228     0.40137     0.40046     0.39954     0.39863     0.39248     0.38923     0.38646     0.38035     0.35857      0.3424     0.34063     0.33886     0.33709     0.33512     0.33229     0.32947     0.32798     0.32701     0.32605\n",
            "      0.32508     0.32412     0.32315     0.32219     0.31934     0.31456      0.3125     0.31044     0.30837     0.29246      0.2892     0.28469       0.272     0.26345     0.25896     0.25492      0.2498     0.23793     0.22746     0.22123     0.21811     0.20457       0.187     0.17985     0.17384     0.17142\n",
            "      0.16899      0.1597     0.15687     0.15403     0.13978     0.13786     0.13594     0.13402     0.13057     0.11846     0.10803     0.10343     0.10162    0.099812    0.098002    0.090036    0.089011    0.087986    0.086961    0.085937    0.084912     0.08384    0.081139    0.078437    0.068666    0.059887\n",
            "      0.05617    0.050433    0.041127    0.039241    0.037356     0.03547    0.033649    0.031851    0.030053    0.028256     0.02658    0.024928    0.023276    0.021623    0.020414    0.019487    0.018561    0.017634    0.016707    0.015781    0.014854     0.01382    0.011176   0.0085324           0           0\n",
            "            0           0           0           0           0           0           0           0           0           0           0           0           0           0           0           0           0           0           0           0           0           0           0           0           0           0\n",
            "            0           0           0           0           0           0           0           0           0           0           0           0           0           0           0           0           0           0           0           0           0           0           0           0           0           0\n",
            "            0           0           0           0           0           0           0           0           0           0           0           0           0           0           0           0           0           0           0           0           0           0           0           0           0           0\n",
            "            0           0           0           0           0           0           0           0           0           0           0           0]]\n"
          ]
        }
      ]
    },
    {
      "cell_type": "code",
      "source": [
        "image = 'dogs.jpg'\n",
        "results = model.predict(image)"
      ],
      "metadata": {
        "id": "_yyjx7IZX_J9",
        "colab": {
          "base_uri": "https://localhost:8080/"
        },
        "outputId": "487b77bc-7df9-43df-f7f8-f7bf517e7950"
      },
      "execution_count": null,
      "outputs": [
        {
          "output_type": "stream",
          "name": "stdout",
          "text": [
            "\n",
            "image 1/1 /content/dogs.jpg: 448x640 (no detections), 56.1ms\n",
            "Speed: 10.6ms preprocess, 56.1ms inference, 11.0ms postprocess per image at shape (1, 3, 448, 640)\n"
          ]
        }
      ]
    },
    {
      "cell_type": "code",
      "source": [
        "%cd /content\n",
        "import locale\n",
        "locale.getpreferredencoding = lambda: \"UTF-8\"\n",
        "!zip -r /content/runs.zip /content/runs\n"
      ],
      "metadata": {
        "id": "lC3d2DomtVkL",
        "colab": {
          "base_uri": "https://localhost:8080/"
        },
        "outputId": "c2f53e9b-9842-4444-a637-238e8c8e98ac"
      },
      "execution_count": null,
      "outputs": [
        {
          "output_type": "stream",
          "name": "stdout",
          "text": [
            "/content\n",
            "  adding: content/runs/ (stored 0%)\n",
            "  adding: content/runs/detect/ (stored 0%)\n",
            "  adding: content/runs/detect/val2/ (stored 0%)\n",
            "  adding: content/runs/detect/val2/val_batch0_labels.jpg (deflated 6%)\n",
            "  adding: content/runs/detect/val2/val_batch2_pred.jpg (deflated 7%)\n",
            "  adding: content/runs/detect/val2/R_curve.png (deflated 18%)\n",
            "  adding: content/runs/detect/val2/val_batch2_labels.jpg (deflated 7%)\n",
            "  adding: content/runs/detect/val2/val_batch1_labels.jpg (deflated 7%)\n",
            "  adding: content/runs/detect/val2/val_batch1_pred.jpg (deflated 8%)\n",
            "  adding: content/runs/detect/val2/confusion_matrix.png (deflated 29%)\n",
            "  adding: content/runs/detect/val2/PR_curve.png (deflated 22%)\n",
            "  adding: content/runs/detect/val2/val_batch0_pred.jpg (deflated 6%)\n",
            "  adding: content/runs/detect/val2/P_curve.png (deflated 20%)\n",
            "  adding: content/runs/detect/val2/F1_curve.png (deflated 18%)\n",
            "  adding: content/runs/detect/val2/confusion_matrix_normalized.png (deflated 28%)\n",
            "  adding: content/runs/detect/val3/ (stored 0%)\n",
            "  adding: content/runs/detect/val3/val_batch0_labels.jpg (deflated 6%)\n",
            "  adding: content/runs/detect/val3/val_batch2_pred.jpg (deflated 7%)\n",
            "  adding: content/runs/detect/val3/R_curve.png (deflated 18%)\n",
            "  adding: content/runs/detect/val3/val_batch2_labels.jpg (deflated 7%)\n",
            "  adding: content/runs/detect/val3/val_batch1_labels.jpg (deflated 7%)\n",
            "  adding: content/runs/detect/val3/val_batch1_pred.jpg (deflated 8%)\n",
            "  adding: content/runs/detect/val3/confusion_matrix.png (deflated 29%)\n",
            "  adding: content/runs/detect/val3/PR_curve.png (deflated 22%)\n",
            "  adding: content/runs/detect/val3/val_batch0_pred.jpg (deflated 6%)\n",
            "  adding: content/runs/detect/val3/P_curve.png (deflated 20%)\n",
            "  adding: content/runs/detect/val3/F1_curve.png (deflated 18%)\n",
            "  adding: content/runs/detect/val3/confusion_matrix_normalized.png (deflated 28%)\n",
            "  adding: content/runs/detect/train/ (stored 0%)\n",
            "  adding: content/runs/detect/train/train_batch7052.jpg (deflated 8%)\n",
            "  adding: content/runs/detect/train/labels_correlogram.jpg (deflated 41%)\n",
            "  adding: content/runs/detect/train/val_batch0_labels.jpg (deflated 6%)\n",
            "  adding: content/runs/detect/train/val_batch2_pred.jpg (deflated 6%)\n",
            "  adding: content/runs/detect/train/train_batch1.jpg (deflated 1%)\n",
            "  adding: content/runs/detect/train/args.yaml (deflated 53%)\n",
            "  adding: content/runs/detect/train/R_curve.png (deflated 18%)\n",
            "  adding: content/runs/detect/train/train_batch7050.jpg (deflated 8%)\n",
            "  adding: content/runs/detect/train/labels.jpg (deflated 32%)\n",
            "  adding: content/runs/detect/train/val_batch2_labels.jpg (deflated 6%)\n",
            "  adding: content/runs/detect/train/val_batch1_labels.jpg (deflated 7%)\n",
            "  adding: content/runs/detect/train/train_batch2.jpg (deflated 2%)\n",
            "  adding: content/runs/detect/train/events.out.tfevents.1728090198.33a24877799d.315.0 (deflated 89%)\n",
            "  adding: content/runs/detect/train/val_batch1_pred.jpg (deflated 8%)\n",
            "  adding: content/runs/detect/train/results.csv (deflated 85%)\n",
            "  adding: content/runs/detect/train/weights/ (stored 0%)\n",
            "  adding: content/runs/detect/train/weights/last.pt (deflated 10%)\n",
            "  adding: content/runs/detect/train/weights/best.pt (deflated 10%)\n",
            "  adding: content/runs/detect/train/results.png (deflated 7%)\n",
            "  adding: content/runs/detect/train/train_batch7051.jpg (deflated 8%)\n",
            "  adding: content/runs/detect/train/train_batch0.jpg (deflated 2%)\n",
            "  adding: content/runs/detect/train/confusion_matrix.png (deflated 29%)\n",
            "  adding: content/runs/detect/train/PR_curve.png (deflated 22%)\n",
            "  adding: content/runs/detect/train/val_batch0_pred.jpg (deflated 6%)\n",
            "  adding: content/runs/detect/train/P_curve.png (deflated 20%)\n",
            "  adding: content/runs/detect/train/F1_curve.png (deflated 18%)\n",
            "  adding: content/runs/detect/train/confusion_matrix_normalized.png (deflated 28%)\n",
            "  adding: content/runs/detect/val/ (stored 0%)\n",
            "  adding: content/runs/detect/val/val_batch0_labels.jpg (deflated 6%)\n",
            "  adding: content/runs/detect/val/val_batch2_pred.jpg (deflated 7%)\n",
            "  adding: content/runs/detect/val/R_curve.png (deflated 18%)\n",
            "  adding: content/runs/detect/val/val_batch2_labels.jpg (deflated 7%)\n",
            "  adding: content/runs/detect/val/val_batch1_labels.jpg (deflated 7%)\n",
            "  adding: content/runs/detect/val/val_batch1_pred.jpg (deflated 8%)\n",
            "  adding: content/runs/detect/val/confusion_matrix.png (deflated 29%)\n",
            "  adding: content/runs/detect/val/PR_curve.png (deflated 22%)\n",
            "  adding: content/runs/detect/val/val_batch0_pred.jpg (deflated 6%)\n",
            "  adding: content/runs/detect/val/P_curve.png (deflated 20%)\n",
            "  adding: content/runs/detect/val/F1_curve.png (deflated 18%)\n",
            "  adding: content/runs/detect/val/confusion_matrix_normalized.png (deflated 28%)\n"
          ]
        }
      ]
    }
  ]
}